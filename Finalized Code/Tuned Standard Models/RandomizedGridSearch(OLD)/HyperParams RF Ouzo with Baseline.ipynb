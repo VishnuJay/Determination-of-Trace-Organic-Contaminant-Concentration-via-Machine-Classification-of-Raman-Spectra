{
 "cells": [
  {
   "cell_type": "code",
   "execution_count": 1,
   "id": "d7cc66f9",
   "metadata": {},
   "outputs": [],
   "source": [
    "import pandas as pd\n",
    "import numpy as np\n",
    "from scipy import stats as stats\n",
    "import matplotlib.pyplot as plt\n",
    "import seaborn as sb\n",
    "from sklearn.ensemble import RandomForestClassifier\n",
    "from sklearn.linear_model import Perceptron\n",
    "from sklearn.svm import LinearSVC\n",
    "from sklearn.neighbors import KNeighborsClassifier\n",
    "import KeyFunctions as me\n",
    "\n",
    "RandState = 117"
   ]
  },
  {
   "cell_type": "code",
   "execution_count": 2,
   "id": "6d3c9fbe",
   "metadata": {},
   "outputs": [],
   "source": [
    "from sklearn.model_selection import train_test_split\n",
    "\n",
    "#Import Full R6g Dataset\n",
    "df, labels = me.ConstructCombinedDataset(3)\n",
    "\n",
    "[train, test] = train_test_split(df, random_state = RandState, shuffle = True, train_size = 0.8)\n",
    "\n",
    "y_tn = train.index\n",
    "y_tt = test.index\n",
    "X_tt = test.to_numpy()\n",
    "X_tn = train.to_numpy()"
   ]
  },
  {
   "cell_type": "code",
   "execution_count": 3,
   "id": "a3299b44",
   "metadata": {},
   "outputs": [],
   "source": [
    "#Scale Dataset\n",
    "\n",
    "from sklearn.preprocessing import StandardScaler\n",
    "\n",
    "Scale = StandardScaler()\n",
    "\n",
    "X_tn = Scale.fit_transform(X_tn)\n",
    "X_tt = Scale.transform(X_tt)"
   ]
  },
  {
   "cell_type": "code",
   "execution_count": 4,
   "id": "7f3ff422",
   "metadata": {},
   "outputs": [
    {
     "data": {
      "text/plain": [
       "'Random Forest Cross Validation'"
      ]
     },
     "metadata": {},
     "output_type": "display_data"
    },
    {
     "data": {
      "text/plain": [
       "array([0.63636364, 0.81818182, 0.7       , 0.7       , 0.7       ])"
      ]
     },
     "metadata": {},
     "output_type": "display_data"
    },
    {
     "data": {
      "text/plain": [
       "0.7109090909090909"
      ]
     },
     "metadata": {},
     "output_type": "display_data"
    },
    {
     "data": {
      "text/plain": [
       "0.08010034561157227"
      ]
     },
     "metadata": {},
     "output_type": "display_data"
    }
   ],
   "source": [
    "#Calculate Cross Validation Scores\n",
    "from sklearn.model_selection import cross_val_score\n",
    "from sklearn.model_selection import cross_validate\n",
    "\n",
    "df.columns = df.columns.astype(str)\n",
    "\n",
    "RFC = RandomForestClassifier(random_state = RandState)\n",
    "\n",
    "RFCscore = cross_val_score(RFC, X_tn, y_tn)\n",
    "display(\"Random Forest Cross Validation\")\n",
    "display(RFCscore)\n",
    "display(np.mean(RFCscore))\n",
    "\n",
    "RFcv = cross_validate(RFC, X_tn, y_tn)\n",
    "display(np.mean(RFcv['fit_time']))"
   ]
  },
  {
   "cell_type": "code",
   "execution_count": 5,
   "id": "f915fff0",
   "metadata": {},
   "outputs": [
    {
     "name": "stdout",
     "output_type": "stream",
     "text": [
      "Fitting 5 folds for each of 10 candidates, totalling 50 fits\n"
     ]
    },
    {
     "data": {
      "text/plain": [
       "{'n_estimators': 70, 'max_features': 275}"
      ]
     },
     "metadata": {},
     "output_type": "display_data"
    },
    {
     "data": {
      "text/plain": [
       "0.7290909090909092"
      ]
     },
     "metadata": {},
     "output_type": "display_data"
    },
    {
     "data": {
      "text/plain": [
       "0.11272727272727273"
      ]
     },
     "metadata": {},
     "output_type": "display_data"
    },
    {
     "data": {
      "text/plain": [
       "0.12500953674316406"
      ]
     },
     "metadata": {},
     "output_type": "display_data"
    }
   ],
   "source": [
    "from sklearn.model_selection import RandomizedSearchCV\n",
    "\n",
    "estRS = [10, 30, 50, 70, 100, 125, 150, 175, 200]\n",
    "maxfeatRS = [10, 50, 90, 135, 170, 220, 275, 300, 345, 390, 450, 472]\n",
    "\n",
    "RFRS = RandomizedSearchCV(RFC, param_distributions = {'n_estimators': estRS, 'max_features': maxfeatRS}, \\\n",
    "                          cv = 5, verbose = 1, random_state = RandState)\n",
    "RFRS.fit(X_tn, y_tn)\n",
    "display(RFRS.best_params_)\n",
    "ypred = RFRS.predict(X_tt)\n",
    "display(RFRS.best_score_)\n",
    "display(RFRS.cv_results_['std_test_score'][RFRS.best_index_])\n",
    "display(RFRS.refit_time_)"
   ]
  },
  {
   "cell_type": "code",
   "execution_count": 6,
   "id": "7a731cd2",
   "metadata": {},
   "outputs": [
    {
     "name": "stdout",
     "output_type": "stream",
     "text": [
      "Fitting 5 folds for each of 72 candidates, totalling 360 fits\n"
     ]
    },
    {
     "data": {
      "text/plain": [
       "{'criterion': 'entropy', 'max_features': 69, 'n_estimators': 88}"
      ]
     },
     "metadata": {},
     "output_type": "display_data"
    },
    {
     "data": {
      "text/plain": [
       "0.7490909090909093"
      ]
     },
     "metadata": {},
     "output_type": "display_data"
    },
    {
     "data": {
      "text/plain": [
       "0.11272727272727273"
      ]
     },
     "metadata": {},
     "output_type": "display_data"
    },
    {
     "data": {
      "text/plain": [
       "0.13804984092712402"
      ]
     },
     "metadata": {},
     "output_type": "display_data"
    }
   ],
   "source": [
    "from sklearn.model_selection import GridSearchCV\n",
    "\n",
    "bestest = RFRS.best_params_.get('n_estimators')\n",
    "bestmaxfeat = RFRS.best_params_.get('max_features')\n",
    "estGS = []\n",
    "maxfeatGS = []\n",
    "\n",
    "for i in range(-3,4):\n",
    "    if (bestmaxfeat+0.25*i*bestmaxfeat < 472) and (bestmaxfeat+0.25*i*bestmaxfeat > 0):\n",
    "            estGS = np.append(estGS, bestest+0.25*i*bestest)\n",
    "            maxfeatGS = np.append(maxfeatGS, bestmaxfeat+0.25*i*bestmaxfeat)\n",
    "\n",
    "estGS = np.around(estGS).astype(int)\n",
    "maxfeatGS = np.around(maxfeatGS).astype(int)\n",
    "\n",
    "crite =['gini', 'entropy']\n",
    "\n",
    "RFGS = GridSearchCV(RFC, param_grid = {'n_estimators': estGS, 'max_features': maxfeatGS, 'criterion': crite}, \\\n",
    "                    cv = 5, verbose = 1, error_score ='raise')\n",
    "RFGS.fit(X_tn, y_tn)\n",
    "display(RFGS.best_params_)\n",
    "ypred = RFGS.predict(X_tt)\n",
    "display(RFGS.best_score_)\n",
    "display(RFRS.cv_results_['std_test_score'][RFRS.best_index_])\n",
    "display(RFGS.refit_time_)"
   ]
  },
  {
   "cell_type": "code",
   "execution_count": 7,
   "id": "223e1351",
   "metadata": {},
   "outputs": [
    {
     "data": {
      "text/plain": [
       "'Incorrect Prediction at 4, Predicted: 10-16; Actual: 10-11'"
      ]
     },
     "metadata": {},
     "output_type": "display_data"
    },
    {
     "data": {
      "text/plain": [
       "'Incorrect Prediction at 7, Predicted: 10-16; Actual: 10-14'"
      ]
     },
     "metadata": {},
     "output_type": "display_data"
    },
    {
     "data": {
      "text/plain": [
       "'Incorrect Prediction at 10, Predicted: 10-11; Actual: 10-9'"
      ]
     },
     "metadata": {},
     "output_type": "display_data"
    },
    {
     "data": {
      "text/plain": [
       "'Total Predictions: 12'"
      ]
     },
     "metadata": {},
     "output_type": "display_data"
    },
    {
     "data": {
      "text/plain": [
       "'Total Errors: 3'"
      ]
     },
     "metadata": {},
     "output_type": "display_data"
    }
   ],
   "source": [
    "from sklearn.metrics import confusion_matrix\n",
    "y_pred = RFGS.predict(X_tt)\n",
    "\n",
    "RFcounter = 0\n",
    "\n",
    "for i in range(len(y_tt)):\n",
    "    if y_pred[i] != y_tt[i]:\n",
    "        display(\"Incorrect Prediction at \" + str(i) + \", Predicted: \"+ str(y_pred[i]) + \"; Actual: \" + str(y_tt[i]))\n",
    "        RFcounter += 1\n",
    "                \n",
    "display(\"Total Predictions: \" + str(i))\n",
    "display(\"Total Errors: \" + str(RFcounter))\n",
    "\n",
    "CMNT = confusion_matrix(y_tt, y_pred, labels = labels)"
   ]
  },
  {
   "cell_type": "code",
   "execution_count": 8,
   "id": "edd47f87",
   "metadata": {},
   "outputs": [
    {
     "data": {
      "image/png": "[encoded data removed]",
      "text/plain": [
       "<Figure size 432x288 with 1 Axes>"
      ]
     },
     "metadata": {
      "needs_background": "light"
     },
     "output_type": "display_data"
    },
    {
     "data": {
      "image/png": "[encoded data removed]",
      "text/plain": [
       "<Figure size 432x288 with 1 Axes>"
      ]
     },
     "metadata": {
      "needs_background": "light"
     },
     "output_type": "display_data"
    }
   ],
   "source": [
    "#Apply Fourier Transform to Training and Testing Data\n",
    "#Fourier Transform Performs Best Without Scaling\n",
    "X_tt = test.to_numpy()\n",
    "X_tn = train.to_numpy()\n",
    "\n",
    "X_tnf = np.fft.fft(X_tn)\n",
    "X_ttf = np.fft.fft(X_tt)\n",
    "\n",
    "#Data is stored as columns of all real values followed by columns of all imaginary values.\n",
    "X_tnf = np.append(np.real(X_tnf), np.imag(X_tnf), axis = 1)\n",
    "X_ttf = np.append(np.real(X_ttf), np.imag(X_ttf), axis = 1)\n",
    "\n",
    "plt.figure()\n",
    "plt.plot(X_tnf[1, :])\n",
    "plt.figure()\n",
    "plt.plot(X_tnf[7, :]);"
   ]
  },
  {
   "cell_type": "code",
   "execution_count": 9,
   "id": "b1d8e2b0",
   "metadata": {},
   "outputs": [
    {
     "data": {
      "text/plain": [
       "'Random Forest Cross Validation'"
      ]
     },
     "metadata": {},
     "output_type": "display_data"
    },
    {
     "data": {
      "text/plain": [
       "array([0.81818182, 0.90909091, 0.9       , 0.8       , 0.9       ])"
      ]
     },
     "metadata": {},
     "output_type": "display_data"
    },
    {
     "data": {
      "text/plain": [
       "0.8654545454545456"
      ]
     },
     "metadata": {},
     "output_type": "display_data"
    },
    {
     "data": {
      "text/plain": [
       "0.07646389007568359"
      ]
     },
     "metadata": {},
     "output_type": "display_data"
    }
   ],
   "source": [
    "#Calculate Cross Validation Scores\n",
    "from sklearn.model_selection import cross_val_score\n",
    "\n",
    "df.columns = df.columns.astype(str)\n",
    "\n",
    "RFC = RandomForestClassifier(random_state = RandState)\n",
    "\n",
    "RFCscore = cross_val_score(RFC, X_tnf, y_tn)\n",
    "display(\"Random Forest Cross Validation\")\n",
    "display(RFCscore)\n",
    "display(np.mean(RFCscore))\n",
    "\n",
    "RFcv = cross_validate(RFC, X_tnf, y_tn)\n",
    "display(np.mean(RFcv['fit_time']))"
   ]
  },
  {
   "cell_type": "code",
   "execution_count": 10,
   "id": "57b8ba6f",
   "metadata": {},
   "outputs": [
    {
     "name": "stdout",
     "output_type": "stream",
     "text": [
      "Fitting 5 folds for each of 10 candidates, totalling 50 fits\n"
     ]
    },
    {
     "data": {
      "text/plain": [
       "{'n_estimators': 50, 'max_features': 240}"
      ]
     },
     "metadata": {},
     "output_type": "display_data"
    },
    {
     "data": {
      "text/plain": [
       "0.9036363636363637"
      ]
     },
     "metadata": {},
     "output_type": "display_data"
    },
    {
     "data": {
      "text/plain": [
       "0.004453617714151208"
      ]
     },
     "metadata": {},
     "output_type": "display_data"
    },
    {
     "data": {
      "text/plain": [
       "0.07810497283935547"
      ]
     },
     "metadata": {},
     "output_type": "display_data"
    }
   ],
   "source": [
    "from sklearn.model_selection import RandomizedSearchCV\n",
    "\n",
    "estRS = [10, 30, 50, 70, 100, 125, 150, 175, 200]\n",
    "maxfeatRS = [10, 50, 135, 240, 400, 490, 560, 620, 750, 850, 940]\n",
    "\n",
    "RFRS = RandomizedSearchCV(RFC, param_distributions = {'n_estimators': estRS, 'max_features': maxfeatRS},\\\n",
    "                          cv = 5, verbose = 1, random_state = RandState)\n",
    "RFRS.fit(X_tnf, y_tn)\n",
    "display(RFRS.best_params_)\n",
    "ypred = RFRS.predict(X_ttf)\n",
    "display(RFRS.best_score_)\n",
    "display(RFRS.cv_results_['std_test_score'][RFRS.best_index_])\n",
    "display(RFRS.refit_time_)"
   ]
  },
  {
   "cell_type": "code",
   "execution_count": 11,
   "id": "3b81c856",
   "metadata": {},
   "outputs": [
    {
     "name": "stdout",
     "output_type": "stream",
     "text": [
      "Fitting 5 folds for each of 98 candidates, totalling 490 fits\n"
     ]
    },
    {
     "data": {
      "text/plain": [
       "{'criterion': 'entropy', 'max_features': 180, 'n_estimators': 38}"
      ]
     },
     "metadata": {},
     "output_type": "display_data"
    },
    {
     "data": {
      "text/plain": [
       "0.9054545454545455"
      ]
     },
     "metadata": {},
     "output_type": "display_data"
    },
    {
     "data": {
      "text/plain": [
       "0.004453617714151208"
      ]
     },
     "metadata": {},
     "output_type": "display_data"
    },
    {
     "data": {
      "text/plain": [
       "0.09373164176940918"
      ]
     },
     "metadata": {},
     "output_type": "display_data"
    }
   ],
   "source": [
    "from sklearn.model_selection import GridSearchCV\n",
    "\n",
    "bestest = RFRS.best_params_.get('n_estimators')\n",
    "bestmaxfeat = RFRS.best_params_.get('max_features')\n",
    "estGS = []\n",
    "maxfeatGS = []\n",
    "\n",
    "for i in range(-3,4):\n",
    "    if (bestmaxfeat+0.25*i*bestmaxfeat < 472) and (bestmaxfeat+0.25*i*bestmaxfeat > 0):\n",
    "        estGS = np.append(estGS, bestest+0.25*i*bestest)\n",
    "        maxfeatGS = np.append(maxfeatGS, bestmaxfeat+0.25*i*bestmaxfeat)\n",
    "\n",
    "estGS = np.around(estGS).astype(int)\n",
    "maxfeatGS = np.around(maxfeatGS).astype(int)\n",
    "\n",
    "crite =['gini', 'entropy']\n",
    "\n",
    "RFGS = GridSearchCV(RFC, param_grid = {'n_estimators': estGS, 'max_features': maxfeatGS, 'criterion': crite}, \\\n",
    "                    cv = 5, verbose = 1, error_score ='raise')\n",
    "RFGS.fit(X_tnf, y_tn)\n",
    "display(RFGS.best_params_)\n",
    "ypred = RFGS.predict(X_ttf)\n",
    "display(RFGS.best_score_)\n",
    "display(RFRS.cv_results_['std_test_score'][RFRS.best_index_])\n",
    "display(RFGS.refit_time_)"
   ]
  },
  {
   "cell_type": "code",
   "execution_count": 12,
   "id": "093f3e20",
   "metadata": {},
   "outputs": [
    {
     "data": {
      "text/plain": [
       "'Incorrect Prediction at 3, Predicted: 10-16; Actual: 10-14'"
      ]
     },
     "metadata": {},
     "output_type": "display_data"
    },
    {
     "data": {
      "text/plain": [
       "'Incorrect Prediction at 4, Predicted: 10-16; Actual: 10-11'"
      ]
     },
     "metadata": {},
     "output_type": "display_data"
    },
    {
     "data": {
      "text/plain": [
       "'Incorrect Prediction at 9, Predicted: 10-16; Actual: 10-11'"
      ]
     },
     "metadata": {},
     "output_type": "display_data"
    },
    {
     "data": {
      "text/plain": [
       "'Incorrect Prediction at 10, Predicted: 10-11; Actual: 10-9'"
      ]
     },
     "metadata": {},
     "output_type": "display_data"
    },
    {
     "data": {
      "text/plain": [
       "'Total Predictions: 12'"
      ]
     },
     "metadata": {},
     "output_type": "display_data"
    },
    {
     "data": {
      "text/plain": [
       "'Total Errors: 4'"
      ]
     },
     "metadata": {},
     "output_type": "display_data"
    }
   ],
   "source": [
    "y_pred = RFGS.predict(X_ttf)\n",
    "\n",
    "RFcounter = 0\n",
    "\n",
    "for i in range(len(y_tt)):\n",
    "    if y_pred[i] != y_tt[i]:\n",
    "        display(\"Incorrect Prediction at \" + str(i) + \", Predicted: \"+ str(y_pred[i]) + \"; Actual: \" + str(y_tt[i]))\n",
    "        RFcounter += 1\n",
    "                \n",
    "display(\"Total Predictions: \" + str(i))\n",
    "display(\"Total Errors: \" + str(RFcounter))\n",
    "\n",
    "CMFT = confusion_matrix(y_tt, y_pred, labels = labels)"
   ]
  },
  {
   "cell_type": "code",
   "execution_count": 13,
   "id": "f162f5c6",
   "metadata": {},
   "outputs": [
    {
     "data": {
      "image/png": "[encoded data removed]",
      "text/plain": [
       "<Figure size 432x288 with 1 Axes>"
      ]
     },
     "metadata": {
      "needs_background": "light"
     },
     "output_type": "display_data"
    },
    {
     "data": {
      "image/png": "[encoded data removed]",
      "text/plain": [
       "<Figure size 432x288 with 1 Axes>"
      ]
     },
     "metadata": {
      "needs_background": "light"
     },
     "output_type": "display_data"
    }
   ],
   "source": [
    "#Apply Welsh-Hadamard Transform to Training and Testing Data\n",
    "from sympy.discrete.transforms import fwht, ifwht\n",
    "X_tt = test.to_numpy()\n",
    "X_tn = train.to_numpy()\n",
    "\n",
    "X_tnh = np.apply_along_axis(fwht, axis=1, arr=X_tn)\n",
    "X_tth = np.apply_along_axis(fwht, axis=1, arr=X_tt)\n",
    "\n",
    "plt.figure()\n",
    "plt.plot(X_tnh[1, :])\n",
    "plt.figure()\n",
    "plt.plot(X_tnh[7, :]);"
   ]
  },
  {
   "cell_type": "code",
   "execution_count": 14,
   "id": "ecfb146e",
   "metadata": {},
   "outputs": [
    {
     "data": {
      "text/plain": [
       "'Random Forest Cross Validation'"
      ]
     },
     "metadata": {},
     "output_type": "display_data"
    },
    {
     "data": {
      "text/plain": [
       "array([0.63636364, 0.90909091, 1.        , 0.8       , 0.9       ])"
      ]
     },
     "metadata": {},
     "output_type": "display_data"
    },
    {
     "data": {
      "text/plain": [
       "0.8490909090909092"
      ]
     },
     "metadata": {},
     "output_type": "display_data"
    },
    {
     "data": {
      "text/plain": [
       "0.10940022468566894"
      ]
     },
     "metadata": {},
     "output_type": "display_data"
    }
   ],
   "source": [
    "#Calculate Cross Validation Scores\n",
    "from sklearn.model_selection import cross_val_score\n",
    "\n",
    "df.columns = df.columns.astype(str)\n",
    "\n",
    "RFC = RandomForestClassifier(random_state = RandState)\n",
    "\n",
    "RFCscore = cross_val_score(RFC, X_tnh, y_tn)\n",
    "display(\"Random Forest Cross Validation\")\n",
    "display(RFCscore)\n",
    "display(np.mean(RFCscore))\n",
    "\n",
    "RFcv = cross_validate(RFC, X_tnh, y_tn)\n",
    "display(np.mean(RFcv['fit_time']))"
   ]
  },
  {
   "cell_type": "code",
   "execution_count": 15,
   "id": "d8bc71e8",
   "metadata": {},
   "outputs": [
    {
     "name": "stdout",
     "output_type": "stream",
     "text": [
      "Fitting 5 folds for each of 10 candidates, totalling 50 fits\n"
     ]
    },
    {
     "data": {
      "text/plain": [
       "{'n_estimators': 175, 'max_features': 300}"
      ]
     },
     "metadata": {},
     "output_type": "display_data"
    },
    {
     "data": {
      "text/plain": [
       "0.850909090909091"
      ]
     },
     "metadata": {},
     "output_type": "display_data"
    },
    {
     "data": {
      "text/plain": [
       "0.15731213379144196"
      ]
     },
     "metadata": {},
     "output_type": "display_data"
    },
    {
     "data": {
      "text/plain": [
       "0.34892892837524414"
      ]
     },
     "metadata": {},
     "output_type": "display_data"
    }
   ],
   "source": [
    "from sklearn.model_selection import RandomizedSearchCV\n",
    "\n",
    "estRS = [10, 30, 50, 70, 100, 125, 150, 175, 200]\n",
    "maxfeatRS = [10, 50, 90, 135, 170, 220, 275, 300, 390, 450, 472, 512]\n",
    "\n",
    "RFRS = RandomizedSearchCV(RFC, param_distributions = {'n_estimators': estRS, 'max_features': maxfeatRS},\\\n",
    "                          cv = 5, verbose = 1, random_state = RandState)\n",
    "RFRS.fit(X_tnh, y_tn)\n",
    "display(RFRS.best_params_)\n",
    "ypred = RFRS.predict(X_tth)\n",
    "display(RFRS.best_score_)\n",
    "display(RFRS.cv_results_['std_test_score'][RFRS.best_index_])\n",
    "display(RFRS.refit_time_)"
   ]
  },
  {
   "cell_type": "code",
   "execution_count": 16,
   "id": "999c234e",
   "metadata": {
    "scrolled": true
   },
   "outputs": [
    {
     "name": "stdout",
     "output_type": "stream",
     "text": [
      "Fitting 5 folds for each of 72 candidates, totalling 360 fits\n"
     ]
    },
    {
     "data": {
      "text/plain": [
       "{'criterion': 'gini', 'max_features': 75, 'n_estimators': 44}"
      ]
     },
     "metadata": {},
     "output_type": "display_data"
    },
    {
     "data": {
      "text/plain": [
       "0.8872727272727273"
      ]
     },
     "metadata": {},
     "output_type": "display_data"
    },
    {
     "data": {
      "text/plain": [
       "0.15731213379144196"
      ]
     },
     "metadata": {},
     "output_type": "display_data"
    },
    {
     "data": {
      "text/plain": [
       "0.09688591957092285"
      ]
     },
     "metadata": {},
     "output_type": "display_data"
    }
   ],
   "source": [
    "from sklearn.model_selection import GridSearchCV\n",
    "\n",
    "bestest = RFRS.best_params_.get('n_estimators')\n",
    "bestmaxfeat = RFRS.best_params_.get('max_features')\n",
    "estGS = []\n",
    "maxfeatGS = []\n",
    "\n",
    "for i in range(-3,4):\n",
    "    if (bestmaxfeat+0.25*i*bestmaxfeat < 472) and (bestmaxfeat+0.25*i*bestmaxfeat > 0):\n",
    "        estGS = np.append(estGS, bestest+0.25*i*bestest)\n",
    "        maxfeatGS = np.append(maxfeatGS, bestmaxfeat+0.25*i*bestmaxfeat)\n",
    "\n",
    "estGS = np.around(estGS).astype(int)\n",
    "maxfeatGS = np.around(maxfeatGS).astype(int)\n",
    "\n",
    "crite =['gini', 'entropy']\n",
    "\n",
    "RFGS = GridSearchCV(RFC, param_grid = {'n_estimators': estGS, 'max_features': maxfeatGS, 'criterion': crite}, \\\n",
    "                    cv = 5, verbose = 1, error_score ='raise')\n",
    "RFGS.fit(X_tnh, y_tn)\n",
    "display(RFGS.best_params_)\n",
    "ypred = RFGS.predict(X_tth)\n",
    "display(RFGS.best_score_)\n",
    "display(RFRS.cv_results_['std_test_score'][RFRS.best_index_])\n",
    "display(RFGS.refit_time_)"
   ]
  },
  {
   "cell_type": "code",
   "execution_count": 17,
   "id": "d552261a",
   "metadata": {},
   "outputs": [
    {
     "data": {
      "text/plain": [
       "'Incorrect Prediction at 3, Predicted: 10-16; Actual: 10-14'"
      ]
     },
     "metadata": {},
     "output_type": "display_data"
    },
    {
     "data": {
      "text/plain": [
       "'Incorrect Prediction at 4, Predicted: 10-16; Actual: 10-11'"
      ]
     },
     "metadata": {},
     "output_type": "display_data"
    },
    {
     "data": {
      "text/plain": [
       "'Incorrect Prediction at 9, Predicted: 10-16; Actual: 10-11'"
      ]
     },
     "metadata": {},
     "output_type": "display_data"
    },
    {
     "data": {
      "text/plain": [
       "'Total Predictions: 12'"
      ]
     },
     "metadata": {},
     "output_type": "display_data"
    },
    {
     "data": {
      "text/plain": [
       "'Total Errors: 3'"
      ]
     },
     "metadata": {},
     "output_type": "display_data"
    }
   ],
   "source": [
    "y_pred = RFGS.predict(X_tth)\n",
    "\n",
    "RFcounter = 0\n",
    "\n",
    "for i in range(len(y_tt)):\n",
    "    if y_pred[i] != y_tt[i]:\n",
    "        display(\"Incorrect Prediction at \" + str(i) + \", Predicted: \"+ str(y_pred[i]) + \"; Actual: \" + str(y_tt[i]))\n",
    "        RFcounter += 1\n",
    "                \n",
    "display(\"Total Predictions: \" + str(i))\n",
    "display(\"Total Errors: \" + str(RFcounter))\n",
    "\n",
    "CMHT = confusion_matrix(y_tt, y_pred, labels = labels)"
   ]
  },
  {
   "cell_type": "code",
   "execution_count": 18,
   "id": "274c8ba9",
   "metadata": {},
   "outputs": [
    {
     "data": {
      "image/png": "[encoded data removed]",
      "text/plain": [
       "<Figure size 1080x360 with 4 Axes>"
      ]
     },
     "metadata": {
      "needs_background": "light"
     },
     "output_type": "display_data"
    }
   ],
   "source": [
    "\n",
    "fig, axs = plt.subplots(1, 3, sharey = True, figsize = [15, 5])\n",
    "\n",
    "plt.rcParams['xtick.bottom'] = plt.rcParams['xtick.labelbottom'] = False\n",
    "plt.rcParams['xtick.top'] = plt.rcParams['xtick.labeltop'] = True\n",
    "\n",
    "pcm = axs[0].pcolor(CMNT, edgecolors = 'k', cmap = 'gist_heat_r')\n",
    "plt.gca().invert_yaxis()\n",
    "axs[0].set_xticks(ticks = np.linspace(0.5, len(labels)-0.5, num = len(labels)), labels = labels)\n",
    "axs[0].set_yticks(ticks = np.linspace(0.5, len(labels)-0.5, num = len(labels)), labels = labels)\n",
    "axs[0].set_ylabel(\"Actual Condition\")\n",
    "axs[0].set_xlabel(\"Predicted Condition\")\n",
    "axs[0].xaxis.set_label_position('top') \n",
    "axs[0].set_title('Raw Data');\n",
    "\n",
    "axs[1].pcolor(CMFT, edgecolors = 'k', cmap = 'gist_heat_r');\n",
    "plt.gca().invert_yaxis()\n",
    "axs[1].set_xticks(ticks = np.linspace(0.5, len(labels)-0.5, num = len(labels)), labels = labels)\n",
    "axs[1].set_title('Fourier Transform');\n",
    "axs[1].set_xlabel(\"Predicted Condition\")\n",
    "axs[1].xaxis.set_label_position('top')\n",
    "\n",
    "axs[2].pcolor(CMHT, edgecolors = 'k', cmap = 'gist_heat_r')\n",
    "plt.gca().invert_yaxis()\n",
    "axs[2].set_xticks(ticks = np.linspace(0.5, len(labels)-0.5, num = len(labels)), labels = labels);\n",
    "axs[2].set_title('Walsh Hadamard Transform');\n",
    "axs[2].set_xlabel(\"Predicted Condition\")\n",
    "axs[2].xaxis.set_label_position('top')\n",
    "\n",
    "fig.colorbar(pcm, ax = axs[:], location = 'bottom', label = 'Number of Assignments');"
   ]
  },
  {
   "cell_type": "code",
   "execution_count": 19,
   "id": "4a53e248",
   "metadata": {},
   "outputs": [
    {
     "data": {
      "text/plain": [
       "array([[5, 0, 0, 0, 0],\n",
       "       [0, 1, 0, 0, 0],\n",
       "       [0, 0, 1, 0, 2],\n",
       "       [0, 0, 0, 1, 1],\n",
       "       [0, 0, 0, 0, 2]], dtype=int64)"
      ]
     },
     "metadata": {},
     "output_type": "display_data"
    }
   ],
   "source": [
    "display(CMHT)"
   ]
  },
  {
   "cell_type": "code",
   "execution_count": null,
   "id": "e4479043",
   "metadata": {},
   "outputs": [],
   "source": []
  }
 ],
 "metadata": {
  "kernelspec": {
   "display_name": "Python 3 (ipykernel)",
   "language": "python",
   "name": "python3"
  },
  "language_info": {
   "codemirror_mode": {
    "name": "ipython",
    "version": 3
   },
   "file_extension": ".py",
   "mimetype": "text/x-python",
   "name": "python",
   "nbconvert_exporter": "python",
   "pygments_lexer": "ipython3",
   "version": "3.9.12"
  }
 },
 "nbformat": 4,
 "nbformat_minor": 5
}
