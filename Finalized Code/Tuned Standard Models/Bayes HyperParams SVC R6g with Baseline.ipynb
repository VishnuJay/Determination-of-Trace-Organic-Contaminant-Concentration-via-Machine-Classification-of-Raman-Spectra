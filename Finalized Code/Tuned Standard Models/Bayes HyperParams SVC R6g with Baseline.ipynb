{
 "cells": [
  {
   "cell_type": "raw",
   "id": "564fd76e",
   "metadata": {},
   "source": [
    "import pandas as pd\n",
    "import numpy as np\n",
    "from scipy import stats as stats\n",
    "import matplotlib.pyplot as plt\n",
    "import seaborn as sb\n",
    "from sklearn.ensemble import RandomForestClassifier\n",
    "from sklearn.linear_model import Perceptron\n",
    "from sklearn.svm import SVC\n",
    "from sklearn.neighbors import KNeighborsClassifier\n",
    "import KeyFunctions as me\n",
    "import skopt as skopt\n",
    "import warnings\n",
    "\n",
    "warnings.filterwarnings(\"ignore\", message=\"The objective has been evaluated at this point before.\")\n",
    "\n",
    "RandState = 117"
   ]
  },
  {
   "cell_type": "code",
   "execution_count": 2,
   "id": "6d3c9fbe",
   "metadata": {},
   "outputs": [
    {
     "data": {
      "text/plain": [
       "['10-5', '10-6', '10-7', '10-8', '10-9', '10-11', '10-14', '10-16']"
      ]
     },
     "metadata": {},
     "output_type": "display_data"
    }
   ],
   "source": [
    "from sklearn.model_selection import train_test_split\n",
    "\n",
    "#Import Full R6g Dataset\n",
    "df, labels = me.ConstructCombinedDataset()\n",
    "\n",
    "[train, test] = train_test_split(df, random_state = RandState, shuffle = True, train_size = 0.8)\n",
    "\n",
    "y_tn = train.index\n",
    "y_tt = test.index\n",
    "X_tt = test.to_numpy()\n",
    "\n",
    "X_tn = train.to_numpy()\n",
    "display(labels)"
   ]
  },
  {
   "cell_type": "code",
   "execution_count": 3,
   "id": "a3299b44",
   "metadata": {},
   "outputs": [],
   "source": [
    "#Scale Dataset\n",
    "\n",
    "from sklearn.preprocessing import StandardScaler\n",
    "\n",
    "Scale = StandardScaler()\n",
    "\n",
    "X_tn = Scale.fit_transform(X_tn)\n",
    "X_tt = Scale.transform(X_tt)"
   ]
  },
  {
   "cell_type": "code",
   "execution_count": 4,
   "id": "7f3ff422",
   "metadata": {},
   "outputs": [
    {
     "data": {
      "text/plain": [
       "'Support Vector Cross Validation'"
      ]
     },
     "metadata": {},
     "output_type": "display_data"
    },
    {
     "data": {
      "text/plain": [
       "array([0.26315789, 0.36842105, 0.27777778, 0.38888889, 0.33333333])"
      ]
     },
     "metadata": {},
     "output_type": "display_data"
    },
    {
     "data": {
      "text/plain": [
       "0.3263157894736842"
      ]
     },
     "metadata": {},
     "output_type": "display_data"
    },
    {
     "data": {
      "text/plain": [
       "0.001595783233642578"
      ]
     },
     "metadata": {},
     "output_type": "display_data"
    }
   ],
   "source": [
    "#Calculate Cross Validation Scores\n",
    "from sklearn.model_selection import cross_val_score\n",
    "from sklearn.model_selection import cross_validate\n",
    "\n",
    "df.columns = df.columns.astype(str)\n",
    "\n",
    "SV = SVC(random_state = RandState)\n",
    "\n",
    "SVscore = cross_val_score(SV, X_tn, y_tn)\n",
    "display(\"Support Vector Cross Validation\")\n",
    "display(SVscore)\n",
    "display(np.mean(SVscore))\n",
    "\n",
    "SVcv = cross_validate(SV, X_tn, y_tn)\n",
    "display(np.mean(SVcv['fit_time']))"
   ]
  },
  {
   "cell_type": "code",
   "execution_count": 5,
   "id": "7a731cd2",
   "metadata": {},
   "outputs": [
    {
     "data": {
      "text/plain": [
       "OrderedDict([('C', 100.0), ('degree', 6), ('kernel', 'linear')])"
      ]
     },
     "metadata": {},
     "output_type": "display_data"
    },
    {
     "data": {
      "text/plain": [
       "0.7842105263157895"
      ]
     },
     "metadata": {},
     "output_type": "display_data"
    },
    {
     "data": {
      "text/plain": [
       "0.07163205612997688"
      ]
     },
     "metadata": {},
     "output_type": "display_data"
    },
    {
     "data": {
      "text/plain": [
       "0.0"
      ]
     },
     "metadata": {},
     "output_type": "display_data"
    }
   ],
   "source": [
    "\n",
    "params = dict()\n",
    "params['kernel'] = ['linear', 'poly', 'rbf', 'sigmoid']\n",
    "params['C'] = (0.01, 100.00, 'log-uniform')\n",
    "params['degree'] = [2, 3, 4, 5, 6]\n",
    "\n",
    "\n",
    "Bayes = skopt.BayesSearchCV(SV, search_spaces = params, n_jobs = 6,\n",
    "                      return_train_score = True, random_state = RandState, cv = 5)\n",
    "SVBS = Bayes.fit(X_tn, y_tn)\n",
    "display()\n",
    "\n",
    "display(SVBS.best_params_)\n",
    "ypred = SVBS.predict(X_tt)\n",
    "display(SVBS.best_score_)\n",
    "display(SVBS.cv_results_['std_test_score'][SVBS.best_index_])\n",
    "display(SVBS.refit_time_)"
   ]
  },
  {
   "cell_type": "code",
   "execution_count": 6,
   "id": "223e1351",
   "metadata": {},
   "outputs": [
    {
     "data": {
      "text/plain": [
       "'Incorrect Prediction at 11, Predicted: 10-5; Actual: 10-11'"
      ]
     },
     "metadata": {},
     "output_type": "display_data"
    },
    {
     "data": {
      "text/plain": [
       "'Incorrect Prediction at 16, Predicted: 10-9; Actual: 10-16'"
      ]
     },
     "metadata": {},
     "output_type": "display_data"
    },
    {
     "data": {
      "text/plain": [
       "'Incorrect Prediction at 17, Predicted: 10-16; Actual: 10-14'"
      ]
     },
     "metadata": {},
     "output_type": "display_data"
    },
    {
     "data": {
      "text/plain": [
       "'Incorrect Prediction at 18, Predicted: 10-9; Actual: 10-11'"
      ]
     },
     "metadata": {},
     "output_type": "display_data"
    },
    {
     "data": {
      "text/plain": [
       "'Incorrect Prediction at 20, Predicted: 10-9; Actual: 10-11'"
      ]
     },
     "metadata": {},
     "output_type": "display_data"
    },
    {
     "data": {
      "text/plain": [
       "'Total Predictions: 22'"
      ]
     },
     "metadata": {},
     "output_type": "display_data"
    },
    {
     "data": {
      "text/plain": [
       "'Total Errors: 5'"
      ]
     },
     "metadata": {},
     "output_type": "display_data"
    }
   ],
   "source": [
    "from sklearn.metrics import confusion_matrix\n",
    "y_pred = SVBS.predict(X_tt)\n",
    "\n",
    "SVcounter = 0\n",
    "\n",
    "for i in range(len(y_tt)):\n",
    "    if y_pred[i] != y_tt[i]:\n",
    "        display(\"Incorrect Prediction at \" + str(i) + \", Predicted: \"+ str(y_pred[i]) + \"; Actual: \" + str(y_tt[i]))\n",
    "        SVcounter += 1\n",
    "                \n",
    "display(\"Total Predictions: \" + str(i))\n",
    "display(\"Total Errors: \" + str(SVcounter))\n",
    "\n",
    "CMNT = confusion_matrix(y_tt, y_pred, labels = labels)"
   ]
  },
  {
   "cell_type": "code",
   "execution_count": 7,
   "id": "edd47f87",
   "metadata": {},
   "outputs": [
    {
     "data": {
      "image/png": "[encoded data removed]",
      "text/plain": [
       "<Figure size 432x288 with 1 Axes>"
      ]
     },
     "metadata": {
      "needs_background": "light"
     },
     "output_type": "display_data"
    },
    {
     "data": {
      "image/png": "[encoded data removed]",
      "text/plain": [
       "<Figure size 432x288 with 1 Axes>"
      ]
     },
     "metadata": {
      "needs_background": "light"
     },
     "output_type": "display_data"
    }
   ],
   "source": [
    "#Apply Fourier Transform to Training and Testing Data\n",
    "#Fourier Transform Performs Best Without Scaling\n",
    "X_tt = test.to_numpy()\n",
    "X_tn = train.to_numpy()\n",
    "\n",
    "X_tnf = np.fft.fft(X_tn)\n",
    "X_ttf = np.fft.fft(X_tt)\n",
    "\n",
    "#Data is stored as columns of all real values followed by columns of all imaginary values.\n",
    "X_tnf = np.append(np.real(X_tnf), np.imag(X_tnf), axis = 1)\n",
    "X_ttf = np.append(np.real(X_ttf), np.imag(X_ttf), axis = 1)\n",
    "\n",
    "plt.figure()\n",
    "plt.plot(X_tnf[1, :])\n",
    "plt.figure()\n",
    "plt.plot(X_tnf[7, :]);"
   ]
  },
  {
   "cell_type": "code",
   "execution_count": 8,
   "id": "b1d8e2b0",
   "metadata": {},
   "outputs": [
    {
     "data": {
      "text/plain": [
       "'Support Vector Cross Validation'"
      ]
     },
     "metadata": {},
     "output_type": "display_data"
    },
    {
     "data": {
      "text/plain": [
       "array([0.26315789, 0.36842105, 0.27777778, 0.38888889, 0.33333333])"
      ]
     },
     "metadata": {},
     "output_type": "display_data"
    },
    {
     "data": {
      "text/plain": [
       "0.3263157894736842"
      ]
     },
     "metadata": {},
     "output_type": "display_data"
    },
    {
     "data": {
      "text/plain": [
       "0.0021871089935302734"
      ]
     },
     "metadata": {},
     "output_type": "display_data"
    }
   ],
   "source": [
    "#Calculate Cross Validation Scores\n",
    "SV = SVC(random_state = RandState)\n",
    "\n",
    "SVscore = cross_val_score(SV, X_tnf, y_tn)\n",
    "display(\"Support Vector Cross Validation\")\n",
    "display(SVscore)\n",
    "display(np.mean(SVscore))\n",
    "\n",
    "SVcv = cross_validate(SV, X_tnf, y_tn)\n",
    "display(np.mean(SVcv['fit_time']))"
   ]
  },
  {
   "cell_type": "code",
   "execution_count": 9,
   "id": "3b81c856",
   "metadata": {},
   "outputs": [
    {
     "data": {
      "text/plain": [
       "OrderedDict([('C', 0.017266841458788713), ('degree', 3), ('kernel', 'linear')])"
      ]
     },
     "metadata": {},
     "output_type": "display_data"
    },
    {
     "data": {
      "text/plain": [
       "0.8473684210526317"
      ]
     },
     "metadata": {},
     "output_type": "display_data"
    },
    {
     "data": {
      "text/plain": [
       "0.04250943121727776"
      ]
     },
     "metadata": {},
     "output_type": "display_data"
    },
    {
     "data": {
      "text/plain": [
       "0.0"
      ]
     },
     "metadata": {},
     "output_type": "display_data"
    }
   ],
   "source": [
    "params = dict()\n",
    "params['kernel'] = ['linear', 'poly', 'rbf', 'sigmoid']\n",
    "params['C'] = (0.01, 100.00, 'log-uniform')\n",
    "params['degree'] = [2, 3, 4, 5, 6]\n",
    "\n",
    "\n",
    "Bayes = skopt.BayesSearchCV(SV, search_spaces = params, n_jobs = 6,\n",
    "                      return_train_score = True, random_state = RandState, cv = 5)\n",
    "SVBS = Bayes.fit(X_tnf, y_tn)\n",
    "display()\n",
    "\n",
    "display(SVBS.best_params_)\n",
    "ypred = SVBS.predict(X_ttf)\n",
    "display(SVBS.best_score_)\n",
    "display(SVBS.cv_results_['std_test_score'][SVBS.best_index_])\n",
    "display(SVBS.refit_time_)"
   ]
  },
  {
   "cell_type": "code",
   "execution_count": 10,
   "id": "093f3e20",
   "metadata": {},
   "outputs": [
    {
     "data": {
      "text/plain": [
       "'Incorrect Prediction at 11, Predicted: 10-5; Actual: 10-11'"
      ]
     },
     "metadata": {},
     "output_type": "display_data"
    },
    {
     "data": {
      "text/plain": [
       "'Incorrect Prediction at 17, Predicted: 10-16; Actual: 10-14'"
      ]
     },
     "metadata": {},
     "output_type": "display_data"
    },
    {
     "data": {
      "text/plain": [
       "'Incorrect Prediction at 21, Predicted: 10-11; Actual: 10-9'"
      ]
     },
     "metadata": {},
     "output_type": "display_data"
    },
    {
     "data": {
      "text/plain": [
       "'Total Predictions: 22'"
      ]
     },
     "metadata": {},
     "output_type": "display_data"
    },
    {
     "data": {
      "text/plain": [
       "'Total Errors: 3'"
      ]
     },
     "metadata": {},
     "output_type": "display_data"
    }
   ],
   "source": [
    "y_pred = SVBS.predict(X_ttf)\n",
    "\n",
    "SVcounter = 0\n",
    "\n",
    "for i in range(len(y_tt)):\n",
    "    if y_pred[i] != y_tt[i]:\n",
    "        display(\"Incorrect Prediction at \" + str(i) + \", Predicted: \"+ str(y_pred[i]) + \"; Actual: \" + str(y_tt[i]))\n",
    "        SVcounter += 1\n",
    "                \n",
    "display(\"Total Predictions: \" + str(i))\n",
    "display(\"Total Errors: \" + str(SVcounter))\n",
    "\n",
    "CMFT = confusion_matrix(y_tt, y_pred, labels = labels)"
   ]
  },
  {
   "cell_type": "code",
   "execution_count": 11,
   "id": "f162f5c6",
   "metadata": {},
   "outputs": [
    {
     "data": {
      "image/png": "[encoded data removed]",
      "text/plain": [
       "<Figure size 432x288 with 1 Axes>"
      ]
     },
     "metadata": {
      "needs_background": "light"
     },
     "output_type": "display_data"
    },
    {
     "data": {
      "image/png": "[encoded data removed]",
      "text/plain": [
       "<Figure size 432x288 with 1 Axes>"
      ]
     },
     "metadata": {
      "needs_background": "light"
     },
     "output_type": "display_data"
    }
   ],
   "source": [
    "#Apply Welsh-Hadamard Transform to Training and Testing Data\n",
    "from sympy.discrete.transforms import fwht, ifwht\n",
    "X_tt = test.to_numpy()\n",
    "X_tn = train.to_numpy()\n",
    "\n",
    "X_tnh = np.apply_along_axis(fwht, axis=1, arr=X_tn)\n",
    "X_tth = np.apply_along_axis(fwht, axis=1, arr=X_tt)\n",
    "\n",
    "plt.figure()\n",
    "plt.plot(X_tnh[1, :])\n",
    "plt.figure()\n",
    "plt.plot(X_tnh[7, :]);"
   ]
  },
  {
   "cell_type": "code",
   "execution_count": 12,
   "id": "ecfb146e",
   "metadata": {},
   "outputs": [
    {
     "data": {
      "text/plain": [
       "'Support Vector Cross Validation'"
      ]
     },
     "metadata": {},
     "output_type": "display_data"
    },
    {
     "data": {
      "text/plain": [
       "array([0.26315789, 0.36842105, 0.27777778, 0.38888889, 0.33333333])"
      ]
     },
     "metadata": {},
     "output_type": "display_data"
    },
    {
     "data": {
      "text/plain": [
       "0.3263157894736842"
      ]
     },
     "metadata": {},
     "output_type": "display_data"
    },
    {
     "data": {
      "text/plain": [
       "0.05771150588989258"
      ]
     },
     "metadata": {},
     "output_type": "display_data"
    }
   ],
   "source": [
    "#Calculate Cross Validation Scores\n",
    "SV = SVC(random_state = RandState)\n",
    "\n",
    "SVscore = cross_val_score(SV, X_tnh, y_tn)\n",
    "display(\"Support Vector Cross Validation\")\n",
    "display(SVscore)\n",
    "display(np.mean(SVscore))\n",
    "\n",
    "SVcv = cross_validate(SV, X_tnh, y_tn)\n",
    "display(np.mean(SVcv['fit_time']))"
   ]
  },
  {
   "cell_type": "code",
   "execution_count": 13,
   "id": "999c234e",
   "metadata": {},
   "outputs": [
    {
     "data": {
      "text/plain": [
       "OrderedDict([('C', 0.017266841458788713), ('degree', 3), ('kernel', 'linear')])"
      ]
     },
     "metadata": {},
     "output_type": "display_data"
    },
    {
     "data": {
      "text/plain": [
       "0.8473684210526317"
      ]
     },
     "metadata": {},
     "output_type": "display_data"
    },
    {
     "data": {
      "text/plain": [
       "0.04250943121727776"
      ]
     },
     "metadata": {},
     "output_type": "display_data"
    },
    {
     "data": {
      "text/plain": [
       "0.0862884521484375"
      ]
     },
     "metadata": {},
     "output_type": "display_data"
    }
   ],
   "source": [
    "params = dict()\n",
    "params['kernel'] = ['linear', 'poly', 'rbf', 'sigmoid']\n",
    "params['C'] = (0.01, 100.00, 'log-uniform')\n",
    "params['degree'] = [2, 3, 4, 5, 6]\n",
    "\n",
    "\n",
    "Bayes = skopt.BayesSearchCV(SV, search_spaces = params, n_jobs = 6,\n",
    "                      return_train_score = True, random_state = RandState, cv = 5)\n",
    "SVBS = Bayes.fit(X_tnh, y_tn)\n",
    "display()\n",
    "\n",
    "display(SVBS.best_params_)\n",
    "ypred = SVBS.predict(X_tth)\n",
    "display(SVBS.best_score_)\n",
    "display(SVBS.cv_results_['std_test_score'][SVBS.best_index_])\n",
    "display(SVBS.refit_time_)"
   ]
  },
  {
   "cell_type": "code",
   "execution_count": 14,
   "id": "d552261a",
   "metadata": {},
   "outputs": [
    {
     "data": {
      "text/plain": [
       "'Incorrect Prediction at 11, Predicted: 10-5; Actual: 10-11'"
      ]
     },
     "metadata": {},
     "output_type": "display_data"
    },
    {
     "data": {
      "text/plain": [
       "'Incorrect Prediction at 17, Predicted: 10-16; Actual: 10-14'"
      ]
     },
     "metadata": {},
     "output_type": "display_data"
    },
    {
     "data": {
      "text/plain": [
       "'Incorrect Prediction at 21, Predicted: 10-11; Actual: 10-9'"
      ]
     },
     "metadata": {},
     "output_type": "display_data"
    },
    {
     "data": {
      "text/plain": [
       "'Total Predictions: 22'"
      ]
     },
     "metadata": {},
     "output_type": "display_data"
    },
    {
     "data": {
      "text/plain": [
       "'Total Errors: 3'"
      ]
     },
     "metadata": {},
     "output_type": "display_data"
    }
   ],
   "source": [
    "y_pred = SVBS.predict(X_tth)\n",
    "\n",
    "SVcounter = 0\n",
    "\n",
    "for i in range(len(y_tt)):\n",
    "    if y_pred[i] != y_tt[i]:\n",
    "        display(\"Incorrect Prediction at \" + str(i) + \", Predicted: \"+ str(y_pred[i]) + \"; Actual: \" + str(y_tt[i]))\n",
    "        SVcounter += 1\n",
    "                \n",
    "display(\"Total Predictions: \" + str(i))\n",
    "display(\"Total Errors: \" + str(SVcounter))\n",
    "\n",
    "CMHT = confusion_matrix(y_tt, y_pred, labels = labels)"
   ]
  },
  {
   "cell_type": "code",
   "execution_count": 15,
   "id": "274c8ba9",
   "metadata": {},
   "outputs": [
    {
     "data": {
      "image/png": "[encoded data removed]",
      "text/plain": [
       "<Figure size 1080x360 with 4 Axes>"
      ]
     },
     "metadata": {
      "needs_background": "light"
     },
     "output_type": "display_data"
    }
   ],
   "source": [
    "\n",
    "fig, axs = plt.subplots(1, 3, sharey = True, figsize = [15, 5])\n",
    "\n",
    "plt.rcParams['xtick.bottom'] = plt.rcParams['xtick.labelbottom'] = False\n",
    "plt.rcParams['xtick.top'] = plt.rcParams['xtick.labeltop'] = True\n",
    "\n",
    "pcm = axs[0].pcolor(CMNT, edgecolors = 'k', cmap = 'gist_heat_r')\n",
    "plt.gca().invert_yaxis()\n",
    "axs[0].set_xticks(ticks = np.linspace(0.5, len(labels)-0.5, num = len(labels)), labels = labels)\n",
    "axs[0].set_yticks(ticks = np.linspace(0.5, len(labels)-0.5, num = len(labels)), labels = labels)\n",
    "axs[0].set_ylabel(\"Actual Condition\")\n",
    "axs[0].set_xlabel(\"Predicted Condition\")\n",
    "axs[0].xaxis.set_label_position('top') \n",
    "axs[0].set_title('Raw Data');\n",
    "\n",
    "axs[1].pcolor(CMFT, edgecolors = 'k', cmap = 'gist_heat_r');\n",
    "plt.gca().invert_yaxis()\n",
    "axs[1].set_xticks(ticks = np.linspace(0.5, len(labels)-0.5, num = len(labels)), labels = labels)\n",
    "axs[1].set_title('Fourier Transform');\n",
    "axs[1].set_xlabel(\"Predicted Condition\")\n",
    "axs[1].xaxis.set_label_position('top')\n",
    "\n",
    "axs[2].pcolor(CMHT, edgecolors = 'k', cmap = 'gist_heat_r')\n",
    "plt.gca().invert_yaxis()\n",
    "axs[2].set_xticks(ticks = np.linspace(0.5, len(labels)-0.5, num = len(labels)), labels = labels);\n",
    "axs[2].set_title('Walsh Hadamard Transform');\n",
    "axs[2].set_xlabel(\"Predicted Condition\")\n",
    "axs[2].xaxis.set_label_position('top')\n",
    "\n",
    "fig.colorbar(pcm, ax = axs[:], location = 'bottom', label = 'Number of Assignments');"
   ]
  },
  {
   "cell_type": "code",
   "execution_count": null,
   "id": "c58aae49",
   "metadata": {},
   "outputs": [],
   "source": []
  }
 ],
 "metadata": {
  "kernelspec": {
   "display_name": "Python 3 (ipykernel)",
   "language": "python",
   "name": "python3"
  },
  "language_info": {
   "codemirror_mode": {
    "name": "ipython",
    "version": 3
   },
   "file_extension": ".py",
   "mimetype": "text/x-python",
   "name": "python",
   "nbconvert_exporter": "python",
   "pygments_lexer": "ipython3",
   "version": "3.9.12"
  }
 },
 "nbformat": 4,
 "nbformat_minor": 5
}
