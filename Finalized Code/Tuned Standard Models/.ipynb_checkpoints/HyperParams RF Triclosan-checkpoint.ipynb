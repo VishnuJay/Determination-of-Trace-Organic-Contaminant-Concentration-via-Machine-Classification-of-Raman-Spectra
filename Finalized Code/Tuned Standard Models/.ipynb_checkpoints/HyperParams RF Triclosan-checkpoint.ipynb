{
 "cells": [
  {
   "cell_type": "code",
   "execution_count": 1,
   "id": "d7cc66f9",
   "metadata": {},
   "outputs": [],
   "source": [
    "import pandas as pd\n",
    "import numpy as np\n",
    "from scipy import stats as stats\n",
    "import matplotlib.pyplot as plt\n",
    "import seaborn as sb\n",
    "from sklearn.ensemble import RandomForestClassifier\n",
    "from sklearn.linear_model import Perceptron\n",
    "from sklearn.svm import LinearSVC\n",
    "from sklearn.neighbors import KNeighborsClassifier\n",
    "import KeyFunctions as me\n",
    "\n",
    "RandState = 117"
   ]
  },
  {
   "cell_type": "code",
   "execution_count": 2,
   "id": "a35f1685",
   "metadata": {},
   "outputs": [],
   "source": [
    "#Get Evaporating Ouzo Data\n",
    "concs = ['10-5', '10-9', '10-11', '10-14', '10-16']\n",
    "dfO = me.GetFolderSpectra(\"ESMA\", \"r6g(Evap Ouzo)\", concs)\n",
    "col_names = np.array(dfO.columns)\n"
   ]
  },
  {
   "cell_type": "code",
   "execution_count": 3,
   "id": "5110c959",
   "metadata": {},
   "outputs": [],
   "source": [
    "#Get and Process Ag Rings Data\n",
    "from scipy import signal\n",
    "\n",
    "Source = \"ESMA\"\n",
    "Chemical = \"r6g(Ag Nano Rings)\"\n",
    "\n",
    "dfA1 = pd.DataFrame()\n",
    "for j in [6,9]:\n",
    "    Concentration = \"10-\" + str(j)\n",
    "    for i in [1, 2, 3, 4, 5]:\n",
    "        temp = me.GetSpectra(Source, Chemical, Concentration, str(i))\n",
    "        temp.set_index(\"#Wave\", inplace = True)\n",
    "        targ_len = len(temp)\n",
    "        temp = temp.transpose()\n",
    "        temp = temp.rename({'#Intensity':Concentration}, axis = 0)\n",
    "        temp.set_axis(np.array(range(targ_len)), axis =1, inplace = True)\n",
    "        dfA1 = pd.concat([dfA1, temp], axis = 0)  \n",
    "        \n",
    "for j in [5,7,8]:\n",
    "    Concentration = \"10-\" + str(j)\n",
    "    for i in [1, 2, 3, 4, 5]:\n",
    "        temp = me.GetSpectra(Source, Chemical, Concentration, str(i))\n",
    "        temp.set_index(\"#Wave\", inplace = True)\n",
    "        temp = np.flip(signal.resample(temp, targ_len))\n",
    "        temp = np.reshape(temp, [targ_len])\n",
    "        temp = pd.DataFrame(temp)\n",
    "        temp = temp.transpose()\n",
    "        temp = temp.rename({0:Concentration}, axis = 0)\n",
    "        temp.set_axis(np.array(range(targ_len)), axis =1, inplace = True)\n",
    "        dfA1 = pd.concat([dfA1, temp], axis = 0) \n",
    "        \n",
    "dfA1.set_axis(col_names, axis =1, inplace = True)"
   ]
  },
  {
   "cell_type": "code",
   "execution_count": 4,
   "id": "37d5df14",
   "metadata": {},
   "outputs": [],
   "source": [
    "#Get and Process Ag Rings Data Second Set\n",
    "from scipy import signal\n",
    "\n",
    "Source = \"ESMA\"\n",
    "Chemical = \"r6g(Ag Nano Rings 2)\"\n",
    "\n",
    "dfA2 = pd.DataFrame()\n",
    "for j in [6,9]:\n",
    "    Concentration = \"10-\" + str(j)\n",
    "    for i in [1, 2, 3, 4, 5]:\n",
    "        temp = me.GetSpectra(Source, Chemical, Concentration, str(i))\n",
    "        temp.set_index(\"#Wave\", inplace = True)\n",
    "        targ_len = len(temp)\n",
    "        temp = temp.transpose()\n",
    "        temp = temp.rename({'#Intensity':Concentration}, axis = 0)\n",
    "        temp.set_axis(np.array(range(targ_len)), axis =1, inplace = True)\n",
    "        dfA2 = pd.concat([dfA2, temp], axis = 0)  \n",
    "        \n",
    "for j in [5,7,8]:\n",
    "    Concentration = \"10-\" + str(j)\n",
    "    for i in [1, 2, 3, 4, 5]:\n",
    "        temp = me.GetSpectra(Source, Chemical, Concentration, str(i))\n",
    "        temp.set_index(\"#Wave\", inplace = True)\n",
    "        temp = np.flip(signal.resample(temp, targ_len))\n",
    "        temp = np.reshape(temp, [targ_len])\n",
    "        temp = pd.DataFrame(temp)\n",
    "        temp = temp.transpose()\n",
    "        temp = temp.rename({0:Concentration}, axis = 0)\n",
    "        temp.set_axis(np.array(range(targ_len)), axis =1, inplace = True)\n",
    "        dfA2 = pd.concat([dfA2, temp], axis = 0) \n",
    "        \n",
    "dfA2.set_axis(col_names, axis =1, inplace = True)"
   ]
  },
  {
   "cell_type": "code",
   "execution_count": 5,
   "id": "d1ef97db",
   "metadata": {},
   "outputs": [],
   "source": [
    "#Combine Datasets\n",
    "df = pd.concat([dfO, dfA1, dfA2], axis = 0)\n",
    "df = df.fillna(0)\n",
    "np.shape(df)\n",
    "\n",
    "labels = df.index.unique().values.tolist()"
   ]
  },
  {
   "cell_type": "code",
   "execution_count": 6,
   "id": "6d3c9fbe",
   "metadata": {},
   "outputs": [],
   "source": [
    "#Perform Train Test Split\n",
    "\n",
    "from sklearn.model_selection import train_test_split\n",
    "\n",
    "[train, test] = train_test_split(df, random_state = RandState, shuffle = True, train_size = 0.8)\n",
    "\n",
    "y_tn = train.index\n",
    "y_tt = test.index\n",
    "X_tt = test.to_numpy()\n",
    "X_tn = train.to_numpy()\n"
   ]
  },
  {
   "cell_type": "code",
   "execution_count": 7,
   "id": "a3299b44",
   "metadata": {},
   "outputs": [],
   "source": [
    "#Scale Dataset\n",
    "\n",
    "from sklearn.preprocessing import StandardScaler\n",
    "\n",
    "Scale = StandardScaler()\n",
    "\n",
    "X_tn = Scale.fit_transform(X_tn)\n",
    "X_tt = Scale.transform(X_tt)"
   ]
  },
  {
   "cell_type": "code",
   "execution_count": 8,
   "id": "7f3ff422",
   "metadata": {},
   "outputs": [
    {
     "data": {
      "text/plain": [
       "'Random Forest Cross Validation'"
      ]
     },
     "metadata": {},
     "output_type": "display_data"
    },
    {
     "data": {
      "text/plain": [
       "array([0.78947368, 0.89473684, 0.77777778, 0.77777778, 0.66666667])"
      ]
     },
     "metadata": {},
     "output_type": "display_data"
    },
    {
     "data": {
      "text/plain": [
       "0.7812865497076023"
      ]
     },
     "metadata": {},
     "output_type": "display_data"
    },
    {
     "data": {
      "text/plain": [
       "0.09584646224975586"
      ]
     },
     "metadata": {},
     "output_type": "display_data"
    }
   ],
   "source": [
    "#Calculate Cross Validation Scores\n",
    "from sklearn.model_selection import cross_val_score\n",
    "from sklearn.model_selection import cross_validate\n",
    "\n",
    "df.columns = df.columns.astype(str)\n",
    "\n",
    "RFC = RandomForestClassifier(random_state = RandState)\n",
    "\n",
    "RFCscore = cross_val_score(RFC, X_tn, y_tn)\n",
    "display(\"Random Forest Cross Validation\")\n",
    "display(RFCscore)\n",
    "display(np.mean(RFCscore))\n",
    "\n",
    "RFcv = cross_validate(RFC, X_tn, y_tn)\n",
    "display(np.mean(RFcv['fit_time']))"
   ]
  },
  {
   "cell_type": "code",
   "execution_count": 9,
   "id": "f915fff0",
   "metadata": {},
   "outputs": [
    {
     "name": "stdout",
     "output_type": "stream",
     "text": [
      "Fitting 5 folds for each of 10 candidates, totalling 50 fits\n"
     ]
    },
    {
     "data": {
      "text/plain": [
       "{'n_estimators': 175, 'max_features': 50}"
      ]
     },
     "metadata": {},
     "output_type": "display_data"
    },
    {
     "data": {
      "text/plain": [
       "0.7818713450292398"
      ]
     },
     "metadata": {},
     "output_type": "display_data"
    },
    {
     "data": {
      "text/plain": [
       "0.23432087898254395"
      ]
     },
     "metadata": {},
     "output_type": "display_data"
    }
   ],
   "source": [
    "from sklearn.model_selection import RandomizedSearchCV\n",
    "\n",
    "estRS = [10, 30, 50, 70, 100, 125, 150, 175, 200]\n",
    "maxfeatRS = [10, 50, 90, 135, 170, 220, 275, 300, 345, 390, 450, 472]\n",
    "\n",
    "RFRS = RandomizedSearchCV(RFC, param_distributions = {'n_estimators': estRS, 'max_features': maxfeatRS}, \\\n",
    "                          cv = 5, verbose = 1, random_state = RandState)\n",
    "RFRS.fit(X_tn, y_tn)\n",
    "display(RFRS.best_params_)\n",
    "ypred = RFRS.predict(X_tt)\n",
    "display(RFRS.best_score_)\n",
    "display(RFRS.refit_time_)"
   ]
  },
  {
   "cell_type": "code",
   "execution_count": 10,
   "id": "7a731cd2",
   "metadata": {},
   "outputs": [
    {
     "name": "stdout",
     "output_type": "stream",
     "text": [
      "Fitting 5 folds for each of 98 candidates, totalling 490 fits\n"
     ]
    },
    {
     "data": {
      "text/plain": [
       "{'criterion': 'entropy', 'max_features': 50, 'n_estimators': 131}"
      ]
     },
     "metadata": {},
     "output_type": "display_data"
    },
    {
     "data": {
      "text/plain": [
       "0.8146198830409357"
      ]
     },
     "metadata": {},
     "output_type": "display_data"
    },
    {
     "data": {
      "text/plain": [
       "0.2655622959136963"
      ]
     },
     "metadata": {},
     "output_type": "display_data"
    }
   ],
   "source": [
    "from sklearn.model_selection import GridSearchCV\n",
    "\n",
    "bestest = RFRS.best_params_.get('n_estimators')\n",
    "bestmaxfeat = RFRS.best_params_.get('max_features')\n",
    "estGS = []\n",
    "maxfeatGS = []\n",
    "\n",
    "for i in range(-3,4):\n",
    "     if (bestmaxfeat+0.25*i*bestmaxfeat < 472) and (bestmaxfeat+0.25*i*bestmaxfeat > 0):\n",
    "            estGS = np.append(estGS, bestest+0.25*i*bestest)\n",
    "            maxfeatGS = np.append(maxfeatGS, bestmaxfeat+0.25*i*bestmaxfeat)\n",
    "\n",
    "estGS = np.around(estGS).astype(int)\n",
    "maxfeatGS = np.around(maxfeatGS).astype(int)\n",
    "\n",
    "crite =['gini', 'entropy']\n",
    "\n",
    "RFGS = GridSearchCV(RFC, param_grid = {'n_estimators': estGS, 'max_features': maxfeatGS, 'criterion': crite}, \\\n",
    "                    cv = 5, verbose = 1, error_score ='raise')\n",
    "RFGS.fit(X_tn, y_tn)\n",
    "display(RFGS.best_params_)\n",
    "ypred = RFGS.predict(X_tt)\n",
    "display(RFGS.best_score_)\n",
    "display(RFGS.refit_time_)"
   ]
  },
  {
   "cell_type": "code",
   "execution_count": 11,
   "id": "223e1351",
   "metadata": {},
   "outputs": [
    {
     "data": {
      "text/plain": [
       "'Incorrect Prediction at 11, Predicted: 10-5; Actual: 10-11'"
      ]
     },
     "metadata": {},
     "output_type": "display_data"
    },
    {
     "data": {
      "text/plain": [
       "'Incorrect Prediction at 18, Predicted: 10-8; Actual: 10-11'"
      ]
     },
     "metadata": {},
     "output_type": "display_data"
    },
    {
     "data": {
      "text/plain": [
       "'Incorrect Prediction at 21, Predicted: 10-11; Actual: 10-9'"
      ]
     },
     "metadata": {},
     "output_type": "display_data"
    },
    {
     "data": {
      "text/plain": [
       "'Total Predictions: 22'"
      ]
     },
     "metadata": {},
     "output_type": "display_data"
    },
    {
     "data": {
      "text/plain": [
       "'Total Errors: 3'"
      ]
     },
     "metadata": {},
     "output_type": "display_data"
    }
   ],
   "source": [
    "from sklearn.metrics import confusion_matrix\n",
    "y_pred = RFGS.predict(X_tt)\n",
    "\n",
    "RFcounter = 0\n",
    "\n",
    "for i in range(len(y_tt)):\n",
    "    if y_pred[i] != y_tt[i]:\n",
    "        display(\"Incorrect Prediction at \" + str(i) + \", Predicted: \"+ str(y_pred[i]) + \"; Actual: \" + str(y_tt[i]))\n",
    "        RFcounter += 1\n",
    "                \n",
    "display(\"Total Predictions: \" + str(i))\n",
    "display(\"Total Errors: \" + str(RFcounter))\n",
    "\n",
    "CMNT = confusion_matrix(y_tt, y_pred, labels = labels)"
   ]
  },
  {
   "cell_type": "code",
   "execution_count": 12,
   "id": "edd47f87",
   "metadata": {},
   "outputs": [
    {
     "data": {
      "image/png": "[encoded data removed]",
      "text/plain": [
       "<Figure size 432x288 with 1 Axes>"
      ]
     },
     "metadata": {
      "needs_background": "light"
     },
     "output_type": "display_data"
    },
    {
     "data": {
      "image/png": "[encoded data removed]",
      "text/plain": [
       "<Figure size 432x288 with 1 Axes>"
      ]
     },
     "metadata": {
      "needs_background": "light"
     },
     "output_type": "display_data"
    }
   ],
   "source": [
    "#Apply Fourier Transform to Training and Testing Data\n",
    "#Fourier Transform Performs Best Without Scaling\n",
    "X_tt = test.to_numpy()\n",
    "X_tn = train.to_numpy()\n",
    "\n",
    "X_tnf = np.fft.fft(X_tn)\n",
    "X_ttf = np.fft.fft(X_tt)\n",
    "\n",
    "#Data is stored as columns of all real values followed by columns of all imaginary values.\n",
    "X_tnf = np.append(np.real(X_tnf), np.imag(X_tnf), axis = 1)\n",
    "X_ttf = np.append(np.real(X_ttf), np.imag(X_ttf), axis = 1)\n",
    "\n",
    "plt.figure()\n",
    "plt.plot(X_tnf[1, :])\n",
    "plt.figure()\n",
    "plt.plot(X_tnf[7, :]);"
   ]
  },
  {
   "cell_type": "code",
   "execution_count": 13,
   "id": "b1d8e2b0",
   "metadata": {},
   "outputs": [
    {
     "data": {
      "text/plain": [
       "'Random Forest Cross Validation'"
      ]
     },
     "metadata": {},
     "output_type": "display_data"
    },
    {
     "data": {
      "text/plain": [
       "array([0.84210526, 0.89473684, 0.94444444, 0.88888889, 0.72222222])"
      ]
     },
     "metadata": {},
     "output_type": "display_data"
    },
    {
     "data": {
      "text/plain": [
       "0.8584795321637426"
      ]
     },
     "metadata": {},
     "output_type": "display_data"
    },
    {
     "data": {
      "text/plain": [
       "0.09735779762268067"
      ]
     },
     "metadata": {},
     "output_type": "display_data"
    }
   ],
   "source": [
    "#Calculate Cross Validation Scores\n",
    "from sklearn.model_selection import cross_val_score\n",
    "\n",
    "df.columns = df.columns.astype(str)\n",
    "\n",
    "RFC = RandomForestClassifier(random_state = RandState)\n",
    "\n",
    "RFCscore = cross_val_score(RFC, X_tnf, y_tn)\n",
    "display(\"Random Forest Cross Validation\")\n",
    "display(RFCscore)\n",
    "display(np.mean(RFCscore))\n",
    "\n",
    "RFcv = cross_validate(RFC, X_tnf, y_tn)\n",
    "display(np.mean(RFcv['fit_time']))"
   ]
  },
  {
   "cell_type": "code",
   "execution_count": 14,
   "id": "57b8ba6f",
   "metadata": {},
   "outputs": [
    {
     "name": "stdout",
     "output_type": "stream",
     "text": [
      "Fitting 5 folds for each of 10 candidates, totalling 50 fits\n"
     ]
    },
    {
     "data": {
      "text/plain": [
       "{'n_estimators': 50, 'max_features': 135}"
      ]
     },
     "metadata": {},
     "output_type": "display_data"
    },
    {
     "data": {
      "text/plain": [
       "0.8807017543859649"
      ]
     },
     "metadata": {},
     "output_type": "display_data"
    },
    {
     "data": {
      "text/plain": [
       "0.12497234344482422"
      ]
     },
     "metadata": {},
     "output_type": "display_data"
    }
   ],
   "source": [
    "from sklearn.model_selection import RandomizedSearchCV\n",
    "\n",
    "estRS = [10, 30, 50, 70, 100, 125, 150, 175, 200]\n",
    "maxfeatRS = [10, 50, 90, 135, 170, 220, 275, 300, 345, 390, 450, 472]\n",
    "\n",
    "RFRS = RandomizedSearchCV(RFC, param_distributions = {'n_estimators': estRS, 'max_features': maxfeatRS},\\\n",
    "                          cv = 5, verbose = 1, random_state = RandState)\n",
    "RFRS.fit(X_tnf, y_tn)\n",
    "display(RFRS.best_params_)\n",
    "ypred = RFRS.predict(X_ttf)\n",
    "display(RFRS.best_score_)\n",
    "display(RFRS.refit_time_)"
   ]
  },
  {
   "cell_type": "code",
   "execution_count": 15,
   "id": "3b81c856",
   "metadata": {},
   "outputs": [
    {
     "name": "stdout",
     "output_type": "stream",
     "text": [
      "Fitting 5 folds for each of 98 candidates, totalling 490 fits\n"
     ]
    },
    {
     "data": {
      "text/plain": [
       "{'criterion': 'gini', 'max_features': 34, 'n_estimators': 38}"
      ]
     },
     "metadata": {},
     "output_type": "display_data"
    },
    {
     "data": {
      "text/plain": [
       "0.9023391812865498"
      ]
     },
     "metadata": {},
     "output_type": "display_data"
    },
    {
     "data": {
      "text/plain": [
       "0.04686307907104492"
      ]
     },
     "metadata": {},
     "output_type": "display_data"
    }
   ],
   "source": [
    "from sklearn.model_selection import GridSearchCV\n",
    "\n",
    "bestest = RFRS.best_params_.get('n_estimators')\n",
    "bestmaxfeat = RFRS.best_params_.get('max_features')\n",
    "estGS = []\n",
    "maxfeatGS = []\n",
    "\n",
    "for i in range(-3,4):\n",
    "    if (bestmaxfeat+0.25*i*bestmaxfeat < 472) and (bestmaxfeat+0.25*i*bestmaxfeat > 0):\n",
    "        estGS = np.append(estGS, bestest+0.25*i*bestest)\n",
    "        maxfeatGS = np.append(maxfeatGS, bestmaxfeat+0.25*i*bestmaxfeat)\n",
    "\n",
    "estGS = np.around(estGS).astype(int)\n",
    "maxfeatGS = np.around(maxfeatGS).astype(int)\n",
    "\n",
    "crite =['gini', 'entropy']\n",
    "\n",
    "RFGS = GridSearchCV(RFC, param_grid = {'n_estimators': estGS, 'max_features': maxfeatGS, 'criterion': crite}, \\\n",
    "                    cv = 5, verbose = 1, error_score ='raise')\n",
    "RFGS.fit(X_tnf, y_tn)\n",
    "display(RFGS.best_params_)\n",
    "ypred = RFGS.predict(X_ttf)\n",
    "display(RFGS.best_score_)\n",
    "display(RFGS.refit_time_)"
   ]
  },
  {
   "cell_type": "code",
   "execution_count": 16,
   "id": "093f3e20",
   "metadata": {},
   "outputs": [
    {
     "data": {
      "text/plain": [
       "'Incorrect Prediction at 17, Predicted: 10-16; Actual: 10-14'"
      ]
     },
     "metadata": {},
     "output_type": "display_data"
    },
    {
     "data": {
      "text/plain": [
       "'Incorrect Prediction at 21, Predicted: 10-11; Actual: 10-9'"
      ]
     },
     "metadata": {},
     "output_type": "display_data"
    },
    {
     "data": {
      "text/plain": [
       "'Total Predictions: 22'"
      ]
     },
     "metadata": {},
     "output_type": "display_data"
    },
    {
     "data": {
      "text/plain": [
       "'Total Errors: 2'"
      ]
     },
     "metadata": {},
     "output_type": "display_data"
    }
   ],
   "source": [
    "y_pred = RFGS.predict(X_ttf)\n",
    "\n",
    "RFcounter = 0\n",
    "\n",
    "for i in range(len(y_tt)):\n",
    "    if y_pred[i] != y_tt[i]:\n",
    "        display(\"Incorrect Prediction at \" + str(i) + \", Predicted: \"+ str(y_pred[i]) + \"; Actual: \" + str(y_tt[i]))\n",
    "        RFcounter += 1\n",
    "                \n",
    "display(\"Total Predictions: \" + str(i))\n",
    "display(\"Total Errors: \" + str(RFcounter))\n",
    "\n",
    "CMFT = confusion_matrix(y_tt, y_pred, labels = labels)"
   ]
  },
  {
   "cell_type": "code",
   "execution_count": 17,
   "id": "f162f5c6",
   "metadata": {},
   "outputs": [
    {
     "data": {
      "image/png": "[encoded data removed]",
      "text/plain": [
       "<Figure size 432x288 with 1 Axes>"
      ]
     },
     "metadata": {
      "needs_background": "light"
     },
     "output_type": "display_data"
    },
    {
     "data": {
      "image/png": "[encoded data removed]",
      "text/plain": [
       "<Figure size 432x288 with 1 Axes>"
      ]
     },
     "metadata": {
      "needs_background": "light"
     },
     "output_type": "display_data"
    }
   ],
   "source": [
    "#Apply Welsh-Hadamard Transform to Training and Testing Data\n",
    "from sympy.discrete.transforms import fwht, ifwht\n",
    "X_tt = test.to_numpy()\n",
    "X_tn = train.to_numpy()\n",
    "\n",
    "X_tnh = np.apply_along_axis(fwht, axis=1, arr=X_tn)\n",
    "X_tth = np.apply_along_axis(fwht, axis=1, arr=X_tt)\n",
    "\n",
    "plt.figure()\n",
    "plt.plot(X_tnh[1, :])\n",
    "plt.figure()\n",
    "plt.plot(X_tnh[7, :]);"
   ]
  },
  {
   "cell_type": "code",
   "execution_count": 18,
   "id": "ecfb146e",
   "metadata": {},
   "outputs": [
    {
     "data": {
      "text/plain": [
       "'Random Forest Cross Validation'"
      ]
     },
     "metadata": {},
     "output_type": "display_data"
    },
    {
     "data": {
      "text/plain": [
       "array([0.89473684, 0.89473684, 0.94444444, 0.88888889, 0.77777778])"
      ]
     },
     "metadata": {},
     "output_type": "display_data"
    },
    {
     "data": {
      "text/plain": [
       "0.8801169590643274"
      ]
     },
     "metadata": {},
     "output_type": "display_data"
    },
    {
     "data": {
      "text/plain": [
       "0.14607458114624022"
      ]
     },
     "metadata": {},
     "output_type": "display_data"
    }
   ],
   "source": [
    "#Calculate Cross Validation Scores\n",
    "from sklearn.model_selection import cross_val_score\n",
    "\n",
    "df.columns = df.columns.astype(str)\n",
    "\n",
    "RFC = RandomForestClassifier(random_state = RandState)\n",
    "\n",
    "RFCscore = cross_val_score(RFC, X_tnh, y_tn)\n",
    "display(\"Random Forest Cross Validation\")\n",
    "display(RFCscore)\n",
    "display(np.mean(RFCscore))\n",
    "\n",
    "RFcv = cross_validate(RFC, X_tnh, y_tn)\n",
    "display(np.mean(RFcv['fit_time']))"
   ]
  },
  {
   "cell_type": "code",
   "execution_count": 19,
   "id": "d8bc71e8",
   "metadata": {},
   "outputs": [
    {
     "name": "stdout",
     "output_type": "stream",
     "text": [
      "Fitting 5 folds for each of 10 candidates, totalling 50 fits\n"
     ]
    },
    {
     "data": {
      "text/plain": [
       "{'n_estimators': 50, 'max_features': 135}"
      ]
     },
     "metadata": {},
     "output_type": "display_data"
    },
    {
     "data": {
      "text/plain": [
       "0.8707602339181285"
      ]
     },
     "metadata": {},
     "output_type": "display_data"
    },
    {
     "data": {
      "text/plain": [
       "0.17183566093444824"
      ]
     },
     "metadata": {},
     "output_type": "display_data"
    }
   ],
   "source": [
    "from sklearn.model_selection import RandomizedSearchCV\n",
    "\n",
    "estRS = [10, 30, 50, 70, 100, 125, 150, 175, 200]\n",
    "maxfeatRS = [10, 50, 90, 135, 170, 220, 275, 300, 345, 390, 450, 472]\n",
    "\n",
    "RFRS = RandomizedSearchCV(RFC, param_distributions = {'n_estimators': estRS, 'max_features': maxfeatRS},\\\n",
    "                          cv = 5, verbose = 1, random_state = RandState)\n",
    "RFRS.fit(X_tnh, y_tn)\n",
    "display(RFRS.best_params_)\n",
    "ypred = RFRS.predict(X_tth)\n",
    "display(RFRS.best_score_)\n",
    "display(RFRS.refit_time_)"
   ]
  },
  {
   "cell_type": "code",
   "execution_count": 20,
   "id": "999c234e",
   "metadata": {},
   "outputs": [
    {
     "name": "stdout",
     "output_type": "stream",
     "text": [
      "Fitting 5 folds for each of 98 candidates, totalling 490 fits\n"
     ]
    },
    {
     "data": {
      "text/plain": [
       "{'criterion': 'entropy', 'max_features': 34, 'n_estimators': 50}"
      ]
     },
     "metadata": {},
     "output_type": "display_data"
    },
    {
     "data": {
      "text/plain": [
       "0.9128654970760234"
      ]
     },
     "metadata": {},
     "output_type": "display_data"
    },
    {
     "data": {
      "text/plain": [
       "0.15621185302734375"
      ]
     },
     "metadata": {},
     "output_type": "display_data"
    }
   ],
   "source": [
    "from sklearn.model_selection import GridSearchCV\n",
    "\n",
    "bestest = RFRS.best_params_.get('n_estimators')\n",
    "bestmaxfeat = RFRS.best_params_.get('max_features')\n",
    "estGS = []\n",
    "maxfeatGS = []\n",
    "\n",
    "for i in range(-3,4):\n",
    "    if (bestmaxfeat+0.25*i*bestmaxfeat < 472) and (bestmaxfeat+0.25*i*bestmaxfeat > 0):\n",
    "        estGS = np.append(estGS, bestest+0.25*i*bestest)\n",
    "        maxfeatGS = np.append(maxfeatGS, bestmaxfeat+0.25*i*bestmaxfeat)\n",
    "\n",
    "estGS = np.around(estGS).astype(int)\n",
    "maxfeatGS = np.around(maxfeatGS).astype(int)\n",
    "\n",
    "crite =['gini', 'entropy']\n",
    "\n",
    "RFGS = GridSearchCV(RFC, param_grid = {'n_estimators': estGS, 'max_features': maxfeatGS, 'criterion': crite}, \\\n",
    "                    cv = 5, verbose = 1, error_score ='raise')\n",
    "RFGS.fit(X_tnh, y_tn)\n",
    "display(RFGS.best_params_)\n",
    "ypred = RFGS.predict(X_tth)\n",
    "display(RFGS.best_score_)\n",
    "display(RFGS.refit_time_)"
   ]
  },
  {
   "cell_type": "code",
   "execution_count": 21,
   "id": "d552261a",
   "metadata": {},
   "outputs": [
    {
     "data": {
      "text/plain": [
       "'Incorrect Prediction at 17, Predicted: 10-16; Actual: 10-14'"
      ]
     },
     "metadata": {},
     "output_type": "display_data"
    },
    {
     "data": {
      "text/plain": [
       "'Total Predictions: 22'"
      ]
     },
     "metadata": {},
     "output_type": "display_data"
    },
    {
     "data": {
      "text/plain": [
       "'Total Errors: 1'"
      ]
     },
     "metadata": {},
     "output_type": "display_data"
    }
   ],
   "source": [
    "y_pred = RFGS.predict(X_tth)\n",
    "\n",
    "RFcounter = 0\n",
    "\n",
    "for i in range(len(y_tt)):\n",
    "    if y_pred[i] != y_tt[i]:\n",
    "        display(\"Incorrect Prediction at \" + str(i) + \", Predicted: \"+ str(y_pred[i]) + \"; Actual: \" + str(y_tt[i]))\n",
    "        RFcounter += 1\n",
    "                \n",
    "display(\"Total Predictions: \" + str(i))\n",
    "display(\"Total Errors: \" + str(RFcounter))\n",
    "\n",
    "CMHT = confusion_matrix(y_tt, y_pred, labels = labels)"
   ]
  },
  {
   "cell_type": "code",
   "execution_count": 22,
   "id": "274c8ba9",
   "metadata": {},
   "outputs": [
    {
     "data": {
      "image/png": "[encoded data removed]",
      "text/plain": [
       "<Figure size 1080x360 with 4 Axes>"
      ]
     },
     "metadata": {
      "needs_background": "light"
     },
     "output_type": "display_data"
    }
   ],
   "source": [
    "\n",
    "fig, axs = plt.subplots(1, 3, sharey = True, figsize = [15, 5])\n",
    "\n",
    "plt.rcParams['xtick.bottom'] = plt.rcParams['xtick.labelbottom'] = False\n",
    "plt.rcParams['xtick.top'] = plt.rcParams['xtick.labeltop'] = True\n",
    "\n",
    "pcm = axs[0].pcolor(CMNT, edgecolors = 'k', cmap = 'gist_heat_r')\n",
    "plt.gca().invert_yaxis()\n",
    "axs[0].set_xticks(ticks = np.linspace(0.5, len(labels)-0.5, num = len(labels)), labels = labels)\n",
    "axs[0].set_yticks(ticks = np.linspace(0.5, len(labels)-0.5, num = len(labels)), labels = labels)\n",
    "axs[0].set_ylabel(\"Actual Condition\")\n",
    "axs[0].set_xlabel(\"Predicted Condition\")\n",
    "axs[0].xaxis.set_label_position('top') \n",
    "axs[0].set_title('Raw Data');\n",
    "\n",
    "axs[1].pcolor(CMFT, edgecolors = 'k', cmap = 'gist_heat_r');\n",
    "plt.gca().invert_yaxis()\n",
    "axs[1].set_xticks(ticks = np.linspace(0.5, len(labels)-0.5, num = len(labels)), labels = labels)\n",
    "axs[1].set_title('ourier Transform');\n",
    "axs[1].set_xlabel(\"Predicted Condition\")\n",
    "axs[1].xaxis.set_label_position('top')\n",
    "\n",
    "axs[2].pcolor(CMHT, edgecolors = 'k', cmap = 'gist_heat_r')\n",
    "plt.gca().invert_yaxis()\n",
    "axs[2].set_xticks(ticks = np.linspace(0.5, len(labels)-0.5, num = len(labels)), labels = labels);\n",
    "axs[2].set_title('Walsh Hadamard Transform');\n",
    "axs[2].set_xlabel(\"Predicted Condition\")\n",
    "axs[2].xaxis.set_label_position('top')\n",
    "\n",
    "fig.colorbar(pcm, ax = axs[:], location = 'bottom', label = 'Number of Assignments');"
   ]
  },
  {
   "cell_type": "code",
   "execution_count": 23,
   "id": "717a0820",
   "metadata": {},
   "outputs": [
    {
     "data": {
      "text/plain": [
       "array([[9, 0, 0, 0, 0, 0, 0, 0],\n",
       "       [0, 4, 0, 0, 0, 0, 0, 0],\n",
       "       [0, 0, 3, 0, 0, 0, 0, 0],\n",
       "       [0, 0, 0, 0, 1, 0, 0, 0],\n",
       "       [0, 0, 0, 0, 2, 0, 0, 0],\n",
       "       [0, 0, 0, 0, 0, 0, 0, 0],\n",
       "       [0, 0, 0, 0, 0, 0, 3, 0],\n",
       "       [0, 0, 0, 0, 0, 0, 0, 1]], dtype=int64)"
      ]
     },
     "metadata": {},
     "output_type": "display_data"
    }
   ],
   "source": [
    "display(CMHT)"
   ]
  },
  {
   "cell_type": "code",
   "execution_count": null,
   "id": "ee0ca2a0",
   "metadata": {},
   "outputs": [],
   "source": []
  }
 ],
 "metadata": {
  "kernelspec": {
   "display_name": "Python 3 (ipykernel)",
   "language": "python",
   "name": "python3"
  },
  "language_info": {
   "codemirror_mode": {
    "name": "ipython",
    "version": 3
   },
   "file_extension": ".py",
   "mimetype": "text/x-python",
   "name": "python",
   "nbconvert_exporter": "python",
   "pygments_lexer": "ipython3",
   "version": "3.9.12"
  }
 },
 "nbformat": 4,
 "nbformat_minor": 5
}
