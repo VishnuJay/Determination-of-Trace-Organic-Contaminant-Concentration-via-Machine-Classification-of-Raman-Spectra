{
 "cells": [
  {
   "cell_type": "code",
   "execution_count": 1,
   "id": "d5953c12",
   "metadata": {},
   "outputs": [],
   "source": [
    "import pandas as pd\n",
    "import numpy as np\n",
    "from scipy import stats as stats\n",
    "import matplotlib.pyplot as plt\n",
    "import seaborn as sb\n",
    "import KeyFunctions as me\n",
    "import tensorflow as tf\n",
    "RandState = 117\n",
    "\n",
    "from keras.models import Sequential\n",
    "from keras.layers import Dense, Dropout, Conv1D, MaxPooling1D, Flatten, MaxPooling2D, LSTM, TimeDistributed, Reshape\n",
    "from keras.backend import reshape\n",
    "from keras.wrappers.scikit_learn import KerasClassifier\n",
    "from keras.utils import np_utils\n",
    "from sklearn.model_selection import cross_val_score\n",
    "from sklearn.preprocessing import LabelEncoder\n",
    "from sklearn.model_selection import StratifiedKFold\n",
    "\n",
    "n = 20"
   ]
  },
  {
   "cell_type": "code",
   "execution_count": 2,
   "id": "22b201c0",
   "metadata": {},
   "outputs": [],
   "source": [
    "from sklearn.model_selection import train_test_split\n",
    "\n",
    "#Import Full R6g Dataset\n",
    "df, labels = me.ConstructCombinedDataset()\n",
    "\n",
    "[train, test] = train_test_split(df, random_state = RandState, shuffle = True, train_size = 0.8)\n",
    "\n",
    "y_tn = train.index\n",
    "y_tt = test.index\n",
    "X_tt = test.to_numpy()\n",
    "X_tn = train.to_numpy()\n",
    "\n",
    "#Augment Data to 4000 Spectra\n",
    "X_tnAu, y_tnAu = me.AugmentData(X_tn, y_tn, 4000, df.columns.to_numpy(), False)"
   ]
  },
  {
   "cell_type": "code",
   "execution_count": 3,
   "id": "fdef8ef0",
   "metadata": {},
   "outputs": [],
   "source": [
    "#Set Training Parameters\n",
    "verbose = 1\n",
    "epochsvec = [5, 20, 50]\n",
    "batch_sizevec = [10, 50, 100]\n",
    "epochs = epochsvec[1]\n",
    "batch_size = batch_sizevec[1]"
   ]
  },
  {
   "cell_type": "code",
   "execution_count": 4,
   "id": "479b91a1",
   "metadata": {},
   "outputs": [
    {
     "data": {
      "text/plain": [
       "TensorShape([4000, 8, 59, 1])"
      ]
     },
     "metadata": {},
     "output_type": "display_data"
    },
    {
     "data": {
      "text/plain": [
       "TensorShape([4000, 8])"
      ]
     },
     "metadata": {},
     "output_type": "display_data"
    },
    {
     "data": {
      "text/plain": [
       "TensorShape([23, 8, 59, 1])"
      ]
     },
     "metadata": {},
     "output_type": "display_data"
    },
    {
     "data": {
      "text/plain": [
       "TensorShape([23, 8])"
      ]
     },
     "metadata": {},
     "output_type": "display_data"
    }
   ],
   "source": [
    "from sklearn.preprocessing import LabelEncoder\n",
    "from sklearn.preprocessing import StandardScaler\n",
    "\n",
    "#Scale X-Data with Training Xs\n",
    "scaler = StandardScaler()\n",
    "scaler.fit(X_tnAu)\n",
    "X_tnS = scaler.transform(X_tnAu)\n",
    "X_ttS = scaler.transform(X_tt)\n",
    "\n",
    "#Encode y-Data with Training ys\n",
    "encoder = LabelEncoder()\n",
    "encoder.fit(y_tnAu)\n",
    "y_tn_e = encoder.transform(y_tnAu)\n",
    "y_tn_p = np_utils.to_categorical(y_tn_e, num_classes = len(labels))\n",
    "y_tt_e = encoder.transform(y_tt)\n",
    "y_tt_p = np_utils.to_categorical(y_tt_e, num_classes = len(labels))\n",
    "\n",
    "\n",
    "#Reshape All Data to a 3D Tensor of Shape [Number of Spectra, Number of Timesteps(1), Number of Wavelengths]\n",
    "\n",
    "X_tn_p = X_tnS.reshape(X_tnS.shape[0], 1, 472, 1)\n",
    "X_tt_p = X_ttS.reshape(X_ttS.shape[0], 1, 472, 1)\n",
    "\n",
    "y_tnT = tf.convert_to_tensor(y_tn_p)\n",
    "y_ttT = tf.convert_to_tensor(y_tt_p)\n",
    "X_tnT = tf.convert_to_tensor(X_tn_p)\n",
    "X_ttT = tf.convert_to_tensor(X_tt_p)\n",
    "\n",
    "display(X_tnT.shape)\n",
    "display(y_tnT.shape)\n",
    "display(X_ttT.shape)\n",
    "display(y_ttT.shape)\n",
    "\n",
    "ytruth = tf.argmax(input = y_ttT, axis = 1).numpy()\n",
    "ytruth = encoder.inverse_transform(ytruth)"
   ]
  },
  {
   "cell_type": "code",
   "execution_count": 5,
   "id": "374fecab",
   "metadata": {},
   "outputs": [
    {
     "name": "stdout",
     "output_type": "stream",
     "text": [
      "Epoch 1/20\n",
      "64/64 [==============================] - 6s 62ms/step - loss: 1.6685 - accuracy: 0.3444 - val_loss: 1.4235 - val_accuracy: 0.4412\n",
      "Epoch 2/20\n",
      "64/64 [==============================] - 3s 52ms/step - loss: 1.2236 - accuracy: 0.4809 - val_loss: 0.9615 - val_accuracy: 0.6338\n",
      "Epoch 3/20\n",
      "64/64 [==============================] - 3s 52ms/step - loss: 0.9351 - accuracy: 0.5931 - val_loss: 0.7967 - val_accuracy: 0.6787\n",
      "Epoch 4/20\n",
      "64/64 [==============================] - 4s 64ms/step - loss: 0.8305 - accuracy: 0.6278 - val_loss: 0.7763 - val_accuracy: 0.6363\n",
      "Epoch 5/20\n",
      "64/64 [==============================] - 4s 70ms/step - loss: 0.8396 - accuracy: 0.6328 - val_loss: 0.7774 - val_accuracy: 0.6800\n",
      "Epoch 6/20\n",
      "64/64 [==============================] - 5s 76ms/step - loss: 0.7916 - accuracy: 0.6513 - val_loss: 0.7322 - val_accuracy: 0.6900\n",
      "Epoch 7/20\n",
      "64/64 [==============================] - 4s 60ms/step - loss: 0.7894 - accuracy: 0.6616 - val_loss: 0.7447 - val_accuracy: 0.6938\n",
      "Epoch 8/20\n",
      "64/64 [==============================] - 4s 67ms/step - loss: 0.7454 - accuracy: 0.6800 - val_loss: 0.7430 - val_accuracy: 0.6725\n",
      "Epoch 9/20\n",
      "64/64 [==============================] - 4s 58ms/step - loss: 0.7496 - accuracy: 0.6787 - val_loss: 0.7580 - val_accuracy: 0.7387\n",
      "1/1 [==============================] - 1s 608ms/step - loss: 0.7267 - accuracy: 0.6087\n"
     ]
    },
    {
     "data": {
      "text/plain": [
       "0.6086956262588501"
      ]
     },
     "metadata": {},
     "output_type": "display_data"
    }
   ],
   "source": [
    "#Multi-class Classification with Keras\n",
    " \n",
    "n_length, n_features, n_outputs = X_tn_p.shape[2], X_tn_p.shape[3], y_tn_p.shape[1]\n",
    "\n",
    "#Define Sequential Model - 1 Convolution Layer, 1 Dropout Layer, 1 Flatten Layer, 2 Dense Layers\n",
    "model = Sequential()\n",
    "model.add(TimeDistributed(Conv1D(filters = 64, kernel_size = 3, activation='relu'), input_shape=(None, n_length,n_features)))\n",
    "model.add(TimeDistributed(Conv1D(filters = 64, kernel_size = 3, activation='relu')))\n",
    "model.add(TimeDistributed(Dropout(0.5)))\n",
    "model.add(TimeDistributed(MaxPooling1D(pool_size=2)))\n",
    "model.add(TimeDistributed(Flatten()))\n",
    "model.add(LSTM(100))\n",
    "model.add(Dropout(0.5))\n",
    "model.add(Dense(100, activation='relu'))\n",
    "model.add(Dense(n_outputs, activation='softmax'))\n",
    "model.compile(loss='categorical_crossentropy', optimizer='adam', metrics=['accuracy'])\n",
    "\n",
    "#Implement EarlyStopping\n",
    "stopper = tf.keras.callbacks.EarlyStopping(monitor = \"val_loss\",patience = 3,verbose = 0, restore_best_weights = True)\n",
    "\n",
    "#Fit Model\n",
    "history_sc = model.fit(X_tnT, y_tnT, epochs=epochs, batch_size=batch_size, verbose=verbose, validation_split = 0.2, callbacks = stopper)\n",
    "\n",
    "#Evaluate Model\n",
    "_, SCaccuracy = model.evaluate(X_ttT, y_ttT, batch_size=batch_size, verbose=verbose)\n",
    "display(SCaccuracy)"
   ]
  },
  {
   "cell_type": "code",
   "execution_count": 6,
   "id": "e5ccf0ab",
   "metadata": {},
   "outputs": [],
   "source": [
    "#Make Prediction\n",
    "SCypred = model.predict(X_ttT)\n",
    "SCypred = tf.argmax(input = SCypred, axis = 1).numpy()\n",
    "SCypred = encoder.inverse_transform(SCypred)\n"
   ]
  },
  {
   "cell_type": "code",
   "execution_count": 7,
   "id": "d53fd3fd",
   "metadata": {},
   "outputs": [
    {
     "data": {
      "text/plain": [
       "TensorShape([4000, 8, 118, 1])"
      ]
     },
     "metadata": {},
     "output_type": "display_data"
    },
    {
     "data": {
      "text/plain": [
       "TensorShape([4000, 8])"
      ]
     },
     "metadata": {},
     "output_type": "display_data"
    },
    {
     "data": {
      "text/plain": [
       "TensorShape([23, 8, 118, 1])"
      ]
     },
     "metadata": {},
     "output_type": "display_data"
    },
    {
     "data": {
      "text/plain": [
       "TensorShape([23, 8])"
      ]
     },
     "metadata": {},
     "output_type": "display_data"
    }
   ],
   "source": [
    "#Apply Fourier Transform to Training and Testing Data\n",
    "X_tnf = np.apply_along_axis(np.fft.fft, axis=1, arr=X_tnAu)\n",
    "X_ttf = np.apply_along_axis(np.fft.fft, axis=1, arr=X_tt)\n",
    "\n",
    "#Combine Real and Imaginary Part of FT in form [real, imaginary]\n",
    "X_tnf = np.append(X_tnf.real, X_tnf.imag, axis = 1)\n",
    "X_ttf = np.append(X_ttf.real, X_ttf.imag, axis = 1)\n",
    "X_tnf= X_tnf.astype('float32')\n",
    "X_ttf= X_ttf.astype('float32')\n",
    "\n",
    "#Scale X-Data with Training Xs\n",
    "scaler = StandardScaler()\n",
    "scaler.fit(X_tnf)\n",
    "X_tnf = scaler.transform(X_tnf)\n",
    "X_ttf = scaler.transform(X_ttf)\n",
    "\n",
    "#Encode y-Data with Training ys\n",
    "encoder = LabelEncoder()\n",
    "encoder.fit(y_tnAu)\n",
    "y_tn_e = encoder.transform(y_tnAu)\n",
    "y_tn_p = np_utils.to_categorical(y_tn_e, num_classes = len(labels))\n",
    "y_tt_e = encoder.transform(y_tt)\n",
    "y_tt_p = np_utils.to_categorical(y_tt_e, num_classes = len(labels))\n",
    "\n",
    "#Reshape All Data to a 3D Tensor of Shape [Number of Spectra, Number of Timesteps(1), Number of Wavelengths]\n",
    "X_tn_p = X_tnf.reshape(X_tnf.shape[0], 1, 944, 1)\n",
    "X_tt_p = X_ttf.reshape(X_ttf.shape[0], 1, 944, 1)\n",
    "\n",
    "y_tnT = tf.convert_to_tensor(y_tn_p)\n",
    "y_ttT = tf.convert_to_tensor(y_tt_p)\n",
    "X_tnT = tf.convert_to_tensor(X_tn_p)\n",
    "X_ttT = tf.convert_to_tensor(X_tt_p)\n",
    "\n",
    "\n",
    "display(X_tnT.shape)\n",
    "display(y_tnT.shape)\n",
    "display(X_ttT.shape)\n",
    "display(y_ttT.shape)"
   ]
  },
  {
   "cell_type": "code",
   "execution_count": 8,
   "id": "18e552db",
   "metadata": {},
   "outputs": [
    {
     "name": "stdout",
     "output_type": "stream",
     "text": [
      "Epoch 1/20\n",
      "64/64 [==============================] - 11s 147ms/step - loss: 1.2310 - accuracy: 0.4972 - val_loss: 0.8976 - val_accuracy: 0.5975\n",
      "Epoch 2/20\n",
      "64/64 [==============================] - 8s 121ms/step - loss: 0.8963 - accuracy: 0.6109 - val_loss: 0.8123 - val_accuracy: 0.6538\n",
      "Epoch 3/20\n",
      "64/64 [==============================] - 9s 134ms/step - loss: 0.8145 - accuracy: 0.6484 - val_loss: 0.7353 - val_accuracy: 0.6837\n",
      "Epoch 4/20\n",
      "64/64 [==============================] - 7s 116ms/step - loss: 0.7291 - accuracy: 0.6913 - val_loss: 0.6591 - val_accuracy: 0.6862\n",
      "Epoch 5/20\n",
      "64/64 [==============================] - 8s 131ms/step - loss: 0.6378 - accuracy: 0.7175 - val_loss: 0.5028 - val_accuracy: 0.7638\n",
      "Epoch 6/20\n",
      "64/64 [==============================] - 7s 116ms/step - loss: 0.5440 - accuracy: 0.7531 - val_loss: 0.4880 - val_accuracy: 0.7513\n",
      "Epoch 7/20\n",
      "64/64 [==============================] - 8s 133ms/step - loss: 0.4542 - accuracy: 0.7875 - val_loss: 0.4356 - val_accuracy: 0.8612\n",
      "Epoch 8/20\n",
      "64/64 [==============================] - 8s 118ms/step - loss: 0.3992 - accuracy: 0.8209 - val_loss: 0.3700 - val_accuracy: 0.8537\n",
      "Epoch 9/20\n",
      "64/64 [==============================] - 8s 132ms/step - loss: 0.3398 - accuracy: 0.8556 - val_loss: 0.1934 - val_accuracy: 0.9375\n",
      "Epoch 10/20\n",
      "64/64 [==============================] - 7s 117ms/step - loss: 0.2040 - accuracy: 0.9156 - val_loss: 0.0693 - val_accuracy: 0.9837\n",
      "Epoch 11/20\n",
      "64/64 [==============================] - 8s 131ms/step - loss: 0.1161 - accuracy: 0.9606 - val_loss: 0.0585 - val_accuracy: 0.9800\n",
      "Epoch 12/20\n",
      "64/64 [==============================] - 7s 116ms/step - loss: 0.0877 - accuracy: 0.9722 - val_loss: 0.0181 - val_accuracy: 0.9912\n",
      "Epoch 13/20\n",
      "64/64 [==============================] - 8s 131ms/step - loss: 0.0657 - accuracy: 0.9759 - val_loss: 0.1233 - val_accuracy: 0.9287\n",
      "Epoch 14/20\n",
      "64/64 [==============================] - 7s 117ms/step - loss: 0.0554 - accuracy: 0.9803 - val_loss: 0.0142 - val_accuracy: 0.9975\n",
      "Epoch 15/20\n",
      "64/64 [==============================] - 8s 130ms/step - loss: 0.0324 - accuracy: 0.9903 - val_loss: 0.0017 - val_accuracy: 1.0000\n",
      "Epoch 16/20\n",
      "64/64 [==============================] - 7s 117ms/step - loss: 0.0164 - accuracy: 0.9966 - val_loss: 3.6329e-04 - val_accuracy: 1.0000\n",
      "Epoch 17/20\n",
      "64/64 [==============================] - 8s 132ms/step - loss: 0.0123 - accuracy: 0.9969 - val_loss: 1.2483e-04 - val_accuracy: 1.0000\n",
      "Epoch 18/20\n",
      "64/64 [==============================] - 7s 116ms/step - loss: 0.0138 - accuracy: 0.9962 - val_loss: 0.0118 - val_accuracy: 0.9975\n",
      "Epoch 19/20\n",
      "64/64 [==============================] - 8s 130ms/step - loss: 0.0231 - accuracy: 0.9909 - val_loss: 3.3337e-04 - val_accuracy: 1.0000\n",
      "Epoch 20/20\n",
      "64/64 [==============================] - 7s 116ms/step - loss: 0.0284 - accuracy: 0.9906 - val_loss: 2.2430e-04 - val_accuracy: 1.0000\n",
      "1/1 [==============================] - 1s 625ms/step - loss: 0.8316 - accuracy: 0.8261\n"
     ]
    },
    {
     "data": {
      "text/plain": [
       "0.8260869383811951"
      ]
     },
     "metadata": {},
     "output_type": "display_data"
    }
   ],
   "source": [
    "#Multi-class Classification with Keras\n",
    " \n",
    "n_length, n_features, n_outputs = X_tn_p.shape[2], X_tn_p.shape[3], y_tn_p.shape[1]\n",
    "\n",
    "#Define Sequential Model - 1 Convolution Layer, 1 Dropout Layer, 1 Flatten Layer, 2 Dense Layers\n",
    "model = Sequential()\n",
    "model.add(TimeDistributed(Conv1D(filters = 64, kernel_size = 3, activation='relu'), input_shape=(None, n_length,n_features)))\n",
    "model.add(TimeDistributed(Conv1D(filters = 64, kernel_size = 3, activation='relu')))\n",
    "model.add(TimeDistributed(Dropout(0.5)))\n",
    "model.add(TimeDistributed(MaxPooling1D(pool_size=2)))\n",
    "model.add(TimeDistributed(Flatten()))\n",
    "model.add(LSTM(100))\n",
    "model.add(Dropout(0.5))\n",
    "model.add(Dense(100, activation='relu'))\n",
    "model.add(Dense(n_outputs, activation='softmax'))\n",
    "model.compile(loss='categorical_crossentropy', optimizer='adam', metrics=['accuracy'])\n",
    "\n",
    "#Implement EarlyStopping\n",
    "stopper = tf.keras.callbacks.EarlyStopping(monitor = \"val_loss\",patience = 3,verbose = 0, restore_best_weights = True)\n",
    "\n",
    "#Fit Model\n",
    "history_ft = model.fit(X_tnT, y_tnT, epochs=epochs, batch_size=batch_size, verbose=verbose,  validation_split=0.2, callbacks = stopper)\n",
    "\n",
    "#Evaluate Model\n",
    "_, FTaccuracy = model.evaluate(X_ttT, y_ttT, batch_size=batch_size, verbose=verbose)\n",
    "display(FTaccuracy)"
   ]
  },
  {
   "cell_type": "code",
   "execution_count": 9,
   "id": "54173aea",
   "metadata": {},
   "outputs": [],
   "source": [
    "#Make Prediction\n",
    "FTypred = model.predict(X_ttT)\n",
    "FTypred = tf.argmax(input = FTypred, axis = 1).numpy()\n",
    "FTypred = encoder.inverse_transform(FTypred)"
   ]
  },
  {
   "cell_type": "code",
   "execution_count": 10,
   "id": "756a0320",
   "metadata": {},
   "outputs": [
    {
     "data": {
      "text/plain": [
       "TensorShape([4000, 8, 64, 1])"
      ]
     },
     "metadata": {},
     "output_type": "display_data"
    },
    {
     "data": {
      "text/plain": [
       "TensorShape([4000, 8])"
      ]
     },
     "metadata": {},
     "output_type": "display_data"
    },
    {
     "data": {
      "text/plain": [
       "TensorShape([23, 8, 64, 1])"
      ]
     },
     "metadata": {},
     "output_type": "display_data"
    },
    {
     "data": {
      "text/plain": [
       "TensorShape([23, 8])"
      ]
     },
     "metadata": {},
     "output_type": "display_data"
    }
   ],
   "source": [
    "#Apply Welsh-Hadamard Transform to Training and Testing Data\n",
    "from sympy.discrete.transforms import fwht, ifwht\n",
    "X_tnh = np.apply_along_axis(fwht, axis=1, arr=X_tnAu)\n",
    "X_tth = np.apply_along_axis(fwht, axis=1, arr=X_tt)\n",
    "X_tnh = X_tnh.astype('float32')\n",
    "X_tth = X_tth.astype('float32')\n",
    "\n",
    "#Scale X-Data with Training Xs\n",
    "scaler = StandardScaler()\n",
    "scaler.fit(X_tnh)\n",
    "X_tnh = scaler.transform(X_tnh)\n",
    "X_tth = scaler.transform(X_tth)\n",
    "\n",
    "#Encode y-Data with Training ys\n",
    "encoder = LabelEncoder()\n",
    "encoder.fit(y_tnAu)\n",
    "y_tn_e = encoder.transform(y_tnAu)\n",
    "y_tn_p = np_utils.to_categorical(y_tn_e, num_classes = len(labels))\n",
    "y_tt_e = encoder.transform(y_tt)\n",
    "y_tt_p = np_utils.to_categorical(y_tt_e, num_classes = len(labels))\n",
    "\n",
    "#Reshape All Data to a 3D Tensor of Shape [Number of Spectra, Number of Timesteps(1), Number of Wavelengths]\n",
    "X_tn_p = X_tnh.reshape(X_tnh.shape[0], 1, 512, 1)\n",
    "X_tt_p = X_tth.reshape(X_tth.shape[0], 1, 512, 1)\n",
    "\n",
    "y_tnT = tf.convert_to_tensor(y_tn_p)\n",
    "y_ttT = tf.convert_to_tensor(y_tt_p)\n",
    "X_tnT = tf.convert_to_tensor(X_tn_p)\n",
    "X_ttT = tf.convert_to_tensor(X_tt_p)\n",
    "\n",
    "\n",
    "display(X_tnT.shape)\n",
    "display(y_tnT.shape)\n",
    "display(X_ttT.shape)\n",
    "display(y_ttT.shape)"
   ]
  },
  {
   "cell_type": "code",
   "execution_count": 11,
   "id": "b4e029d8",
   "metadata": {},
   "outputs": [
    {
     "name": "stdout",
     "output_type": "stream",
     "text": [
      "Epoch 1/20\n",
      "64/64 [==============================] - 7s 74ms/step - loss: 1.3089 - accuracy: 0.4484 - val_loss: 0.9229 - val_accuracy: 0.5700\n",
      "Epoch 2/20\n",
      "64/64 [==============================] - 5s 71ms/step - loss: 0.9119 - accuracy: 0.5881 - val_loss: 0.8434 - val_accuracy: 0.6587\n",
      "Epoch 3/20\n",
      "64/64 [==============================] - 4s 61ms/step - loss: 0.8451 - accuracy: 0.6169 - val_loss: 0.7716 - val_accuracy: 0.6762\n",
      "Epoch 4/20\n",
      "64/64 [==============================] - 4s 61ms/step - loss: 0.8100 - accuracy: 0.6384 - val_loss: 0.7521 - val_accuracy: 0.6750\n",
      "Epoch 5/20\n",
      "64/64 [==============================] - 4s 69ms/step - loss: 0.7683 - accuracy: 0.6572 - val_loss: 0.6807 - val_accuracy: 0.7300\n",
      "Epoch 6/20\n",
      "64/64 [==============================] - 4s 68ms/step - loss: 0.7436 - accuracy: 0.6750 - val_loss: 0.6490 - val_accuracy: 0.6913\n",
      "Epoch 7/20\n",
      "64/64 [==============================] - 4s 66ms/step - loss: 0.6528 - accuracy: 0.7063 - val_loss: 0.6277 - val_accuracy: 0.7575\n",
      "Epoch 8/20\n",
      "64/64 [==============================] - 5s 80ms/step - loss: 0.6056 - accuracy: 0.7191 - val_loss: 0.6013 - val_accuracy: 0.6612\n",
      "Epoch 9/20\n",
      "64/64 [==============================] - 5s 74ms/step - loss: 0.5574 - accuracy: 0.7425 - val_loss: 0.4616 - val_accuracy: 0.8712\n",
      "Epoch 10/20\n",
      "64/64 [==============================] - 4s 63ms/step - loss: 0.5304 - accuracy: 0.7525 - val_loss: 0.4243 - val_accuracy: 0.8150\n",
      "Epoch 11/20\n",
      "64/64 [==============================] - 4s 62ms/step - loss: 0.4928 - accuracy: 0.7734 - val_loss: 0.3868 - val_accuracy: 0.8750\n",
      "Epoch 12/20\n",
      "64/64 [==============================] - 4s 66ms/step - loss: 0.4668 - accuracy: 0.7837 - val_loss: 0.3793 - val_accuracy: 0.8675\n",
      "Epoch 13/20\n",
      "64/64 [==============================] - 5s 71ms/step - loss: 0.4281 - accuracy: 0.8072 - val_loss: 0.3763 - val_accuracy: 0.8250\n",
      "Epoch 14/20\n",
      "64/64 [==============================] - 4s 61ms/step - loss: 0.4010 - accuracy: 0.8181 - val_loss: 0.2643 - val_accuracy: 0.8712\n",
      "Epoch 15/20\n",
      "64/64 [==============================] - 4s 61ms/step - loss: 0.3765 - accuracy: 0.8253 - val_loss: 0.3848 - val_accuracy: 0.7800\n",
      "Epoch 16/20\n",
      "64/64 [==============================] - 4s 68ms/step - loss: 0.3279 - accuracy: 0.8569 - val_loss: 0.2899 - val_accuracy: 0.8388\n",
      "Epoch 17/20\n",
      "64/64 [==============================] - 4s 69ms/step - loss: 0.2899 - accuracy: 0.8625 - val_loss: 0.3605 - val_accuracy: 0.8112\n",
      "Restoring model weights from the end of the best epoch.\n",
      "Epoch 00017: early stopping\n",
      "1/1 [==============================] - 1s 620ms/step - loss: 0.3417 - accuracy: 0.8261\n"
     ]
    },
    {
     "data": {
      "text/plain": [
       "0.8260869383811951"
      ]
     },
     "metadata": {},
     "output_type": "display_data"
    }
   ],
   "source": [
    "#Multi-class Classification with Keras\n",
    " \n",
    "n_length, n_features, n_outputs = X_tn_p.shape[2], X_tn_p.shape[3], y_tn_p.shape[1]\n",
    "\n",
    "#Define Sequential Model - 1 Convolution Layer, 1 Dropout Layer, 1 Flatten Layer, 2 Dense Layers\n",
    "model = Sequential()\n",
    "model.add(TimeDistributed(Conv1D(filters = 64, kernel_size = 3, activation='relu'), input_shape=(None, n_length,n_features)))\n",
    "model.add(TimeDistributed(Conv1D(filters = 64, kernel_size = 3, activation='relu')))\n",
    "model.add(TimeDistributed(Dropout(0.5)))\n",
    "model.add(TimeDistributed(MaxPooling1D(pool_size=2)))\n",
    "model.add(TimeDistributed(Flatten()))\n",
    "model.add(LSTM(100))\n",
    "model.add(Dropout(0.5))\n",
    "model.add(Dense(100, activation='relu'))\n",
    "model.add(Dense(n_outputs, activation='softmax'))\n",
    "model.compile(loss='categorical_crossentropy', optimizer='adam', metrics=['accuracy'])\n",
    "\n",
    "#Implement EarlyStopping\n",
    "stopper = tf.keras.callbacks.EarlyStopping(monitor = \"val_loss\", mode = 'min',\\\n",
    "                                           patience = 3, verbose = 1, restore_best_weights = True)\n",
    "\n",
    "#Fit Model\n",
    "history_ht = model.fit(X_tnT, y_tnT, epochs=epochs, batch_size=batch_size, verbose=verbose,  validation_split=0.2, callbacks = stopper)\n",
    "\n",
    "#Evaluate Model\n",
    "_, HTaccuracy = model.evaluate(X_ttT, y_ttT, batch_size=batch_size, verbose=verbose)\n",
    "display(HTaccuracy)"
   ]
  },
  {
   "cell_type": "code",
   "execution_count": 12,
   "id": "5d0d1b2b",
   "metadata": {},
   "outputs": [],
   "source": [
    "#Make Prediction\n",
    "HTypred = model.predict(X_ttT)\n",
    "HTypred = tf.argmax(input = HTypred, axis = 1).numpy()\n",
    "HTypred = encoder.inverse_transform(HTypred)"
   ]
  },
  {
   "cell_type": "code",
   "execution_count": 13,
   "id": "0107edb5",
   "metadata": {},
   "outputs": [
    {
     "data": {
      "text/plain": [
       "array(['10-16', '10-5', '10-16', '10-16', '10-16', '10-5', '10-7', '10-5',\n",
       "       '10-5', '10-5', '10-7', '10-11', '10-11', '10-5', '10-5', '10-16',\n",
       "       '10-16', '10-16', '10-16', '10-5', '10-16', '10-11', '10-7'],\n",
       "      dtype=object)"
      ]
     },
     "metadata": {},
     "output_type": "display_data"
    },
    {
     "data": {
      "text/plain": [
       "0.6086956262588501"
      ]
     },
     "metadata": {},
     "output_type": "display_data"
    },
    {
     "data": {
      "text/plain": [
       "0.8260869383811951"
      ]
     },
     "metadata": {},
     "output_type": "display_data"
    },
    {
     "data": {
      "text/plain": [
       "0.8260869383811951"
      ]
     },
     "metadata": {},
     "output_type": "display_data"
    }
   ],
   "source": [
    "from sklearn.metrics import confusion_matrix\n",
    "display(SCypred)\n",
    "CMSC = confusion_matrix(ytruth, SCypred, labels = labels)\n",
    "CMFT = confusion_matrix(ytruth, FTypred, labels = labels)\n",
    "CMHT = confusion_matrix(ytruth, HTypred, labels = labels)\n",
    "display(SCaccuracy, FTaccuracy, HTaccuracy)"
   ]
  },
  {
   "cell_type": "code",
   "execution_count": 14,
   "id": "79c1b1a0",
   "metadata": {},
   "outputs": [
    {
     "data": {
      "image/png": "[encoded data removed]",
      "text/plain": [
       "<Figure size 1080x360 with 4 Axes>"
      ]
     },
     "metadata": {
      "needs_background": "light"
     },
     "output_type": "display_data"
    }
   ],
   "source": [
    "fig, axs = plt.subplots(1, 3, sharey = True, figsize = [15, 5])\n",
    "\n",
    "plt.rcParams['xtick.bottom'] = plt.rcParams['xtick.labelbottom'] = False\n",
    "plt.rcParams['xtick.top'] = plt.rcParams['xtick.labeltop'] = True\n",
    "\n",
    "pcm = axs[0].pcolor(CMSC, edgecolors = 'k', cmap = 'gist_heat_r')\n",
    "plt.gca().invert_yaxis()\n",
    "axs[0].set_xticks(ticks = np.linspace(0.5, len(labels)-0.5, num = len(labels)), labels = labels)\n",
    "axs[0].set_yticks(ticks = np.linspace(0.5, len(labels)-0.5, num = len(labels)), labels = labels)\n",
    "axs[0].set_ylabel(\"Actual Condition\")\n",
    "axs[0].set_xlabel(\"Predicted Condition\")\n",
    "axs[0].xaxis.set_label_position('top') \n",
    "axs[0].set_title('Raw Data');\n",
    "\n",
    "axs[1].pcolor(CMFT, edgecolors = 'k', cmap = 'gist_heat_r');\n",
    "plt.gca().invert_yaxis()\n",
    "axs[1].set_xticks(ticks = np.linspace(0.5, len(labels)-0.5, num = len(labels)), labels = labels)\n",
    "axs[1].set_title('Fourier Transform');\n",
    "axs[1].set_xlabel(\"Predicted Condition\")\n",
    "axs[1].xaxis.set_label_position('top')\n",
    "\n",
    "axs[2].pcolor(CMHT, edgecolors = 'k', cmap = 'gist_heat_r')\n",
    "plt.gca().invert_yaxis()\n",
    "axs[2].set_xticks(ticks = np.linspace(0.5, len(labels)-0.5, num = len(labels)), labels = labels);\n",
    "axs[2].set_title('Walsh Hadamard Transform');\n",
    "axs[2].set_xlabel(\"Predicted Condition\")\n",
    "axs[2].xaxis.set_label_position('top')\n",
    "\n",
    "fig.colorbar(pcm, ax = axs[:], location = 'bottom', label = 'Number of Assignments');"
   ]
  },
  {
   "cell_type": "code",
   "execution_count": 15,
   "id": "d8d30a8d",
   "metadata": {},
   "outputs": [
    {
     "data": {
      "image/png": "[encoded data removed]",
      "text/plain": [
       "<Figure size 1008x432 with 2 Axes>"
      ]
     },
     "metadata": {
      "needs_background": "light"
     },
     "output_type": "display_data"
    }
   ],
   "source": [
    "hist_dict = history_sc.history\n",
    "train_loss = hist_dict['loss']\n",
    "val_loss = hist_dict['val_loss']\n",
    "train_acc = hist_dict['accuracy']\n",
    "val_acc = hist_dict['val_accuracy']\n",
    "epochs_vec = range(1, len(train_loss) + 1)\n",
    "\n",
    "\n",
    "fig, ax = plt.subplots(1, 2, figsize=(14, 6))\n",
    "#\n",
    "# Plot the model accuracy vs Epochs\n",
    "#\n",
    "ax[0].plot(epochs_vec, train_acc, 'bo')\n",
    "ax[0].plot(epochs_vec, val_acc, 'b')\n",
    "#\n",
    "# Plot the loss vs Epochs\n",
    "#\n",
    "ax[1].plot(epochs_vec, train_loss, 'bo')\n",
    "ax[1].plot(epochs_vec, val_loss, 'b')\n",
    "\n",
    "hist_dict = history_ft.history\n",
    "train_loss = hist_dict['loss']\n",
    "val_loss = hist_dict['val_loss']\n",
    "train_acc = hist_dict['accuracy']\n",
    "val_acc = hist_dict['val_accuracy']\n",
    "epochs_vec = range(1, len(train_loss) + 1)\n",
    "\n",
    "#\n",
    "# Plot the model accuracy vs Epochs\n",
    "#\n",
    "ax[0].plot(epochs_vec, train_acc, 'ko')\n",
    "ax[0].plot(epochs_vec, val_acc, 'k')\n",
    "\n",
    "#\n",
    "# Plot the loss vs Epochs\n",
    "#\n",
    "ax[1].plot(epochs_vec, train_loss, 'ko')\n",
    "ax[1].plot(epochs_vec, val_loss, 'k')\n",
    "\n",
    "hist_dict = history_ht.history\n",
    "train_loss = hist_dict['loss']\n",
    "val_loss = hist_dict['val_loss']\n",
    "train_acc = hist_dict['accuracy']\n",
    "val_acc = hist_dict['val_accuracy']\n",
    "epochs_vec = range(1, len(train_loss) + 1)\n",
    "\n",
    "#\n",
    "# Plot the model accuracy vs Epochs\n",
    "#\n",
    "ax[0].plot(epochs_vec, train_acc, 'ro')\n",
    "ax[0].plot(epochs_vec, val_acc, 'r')\n",
    "ax[0].set_title('Training & Validation Accuracy', fontsize=16)\n",
    "ax[0].set_xlabel('Epochs')\n",
    "ax[0].set_ylabel('Accuracy')\n",
    "ax[0].legend(['Scaled Training', 'Scaled Validation', 'Fourier Training', 'Fourier Validation', 'Hadamard Training', 'Hadamard Validation'])\n",
    "#\n",
    "# Plot the loss vs Epochs\n",
    "#\n",
    "ax[1].plot(epochs_vec, train_loss, 'ro')\n",
    "ax[1].plot(epochs_vec, val_loss, 'r')\n",
    "ax[1].set_title('Training & Validation Loss', fontsize=16)\n",
    "ax[1].set_xlabel('Epochs')\n",
    "ax[1].set_ylabel('Loss')\n",
    "ax[1].legend(['Scaled Training', 'Scaled Validation', 'Fourier Training', 'Fourier Validation', 'Hadamard Training', 'Hadamard Validation']);\n",
    "\n",
    "plt.savefig(\"Tables and Figures\\SVG Files\\CNN Learning Curve.svg\", format = \"svg\", bbox_inches='tight')\n",
    "plt.savefig(\"Tables and Figures\\PNG Files\\CNN Learning Curve.png\", format = \"png\", bbox_inches='tight')"
   ]
  },
  {
   "cell_type": "code",
   "execution_count": null,
   "id": "cfc768e3",
   "metadata": {},
   "outputs": [],
   "source": []
  }
 ],
 "metadata": {
  "kernelspec": {
   "display_name": "Python 3 (ipykernel)",
   "language": "python",
   "name": "python3"
  },
  "language_info": {
   "codemirror_mode": {
    "name": "ipython",
    "version": 3
   },
   "file_extension": ".py",
   "mimetype": "text/x-python",
   "name": "python",
   "nbconvert_exporter": "python",
   "pygments_lexer": "ipython3",
   "version": "3.9.12"
  }
 },
 "nbformat": 4,
 "nbformat_minor": 5
}
