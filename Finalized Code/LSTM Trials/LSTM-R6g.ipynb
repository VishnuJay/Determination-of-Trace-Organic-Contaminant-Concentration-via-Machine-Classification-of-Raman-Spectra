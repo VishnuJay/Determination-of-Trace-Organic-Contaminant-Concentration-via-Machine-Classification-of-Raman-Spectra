{
 "cells": [
  {
   "cell_type": "code",
   "execution_count": 1,
   "id": "d5953c12",
   "metadata": {},
   "outputs": [],
   "source": [
    "import pandas as pd\n",
    "import numpy as np\n",
    "from scipy import stats as stats\n",
    "import matplotlib.pyplot as plt\n",
    "import seaborn as sb\n",
    "import KeyFunctions as me\n",
    "import tensorflow as tf\n",
    "RandState = 117\n",
    "\n",
    "from keras.models import Sequential\n",
    "from keras.layers import Dense, Dropout, Conv1D, MaxPooling1D, Flatten, MaxPooling2D, LSTM\n",
    "from keras.wrappers.scikit_learn import KerasClassifier\n",
    "from keras.utils import np_utils\n",
    "from sklearn.model_selection import cross_val_score\n",
    "from sklearn.preprocessing import LabelEncoder\n",
    "from sklearn.model_selection import StratifiedKFold\n",
    "\n",
    "n = 20"
   ]
  },
  {
   "cell_type": "code",
   "execution_count": 2,
   "id": "22b201c0",
   "metadata": {},
   "outputs": [],
   "source": [
    "from sklearn.model_selection import train_test_split\n",
    "\n",
    "#Import Full R6g Dataset\n",
    "df, labels = me.ConstructCombinedDataset()\n",
    "\n",
    "[train, test] = train_test_split(df, random_state = RandState, shuffle = True, train_size = 0.8)\n",
    "\n",
    "y_tn = train.index\n",
    "y_tt = test.index\n",
    "X_tt = test.to_numpy()\n",
    "X_tn = train.to_numpy()\n",
    "\n",
    "#Augment Data to 4000 Spectra\n",
    "X_tnAu, y_tnAu = me.AugmentData(X_tn, y_tn, 4000, df.columns.to_numpy(), False)"
   ]
  },
  {
   "cell_type": "code",
   "execution_count": 3,
   "id": "fdef8ef0",
   "metadata": {},
   "outputs": [],
   "source": [
    "#Set Training Parameters\n",
    "verbose = 1\n",
    "epochsvec = [5, 20, 50]\n",
    "batch_sizevec = [10, 50, 100]\n",
    "epochs = epochsvec[1]\n",
    "batch_size = batch_sizevec[1]"
   ]
  },
  {
   "cell_type": "code",
   "execution_count": 4,
   "id": "479b91a1",
   "metadata": {},
   "outputs": [
    {
     "data": {
      "text/plain": [
       "TensorShape([4000, 472, 1])"
      ]
     },
     "metadata": {},
     "output_type": "display_data"
    },
    {
     "data": {
      "text/plain": [
       "TensorShape([4000, 8])"
      ]
     },
     "metadata": {},
     "output_type": "display_data"
    },
    {
     "data": {
      "text/plain": [
       "TensorShape([23, 472, 1])"
      ]
     },
     "metadata": {},
     "output_type": "display_data"
    },
    {
     "data": {
      "text/plain": [
       "TensorShape([23, 8])"
      ]
     },
     "metadata": {},
     "output_type": "display_data"
    }
   ],
   "source": [
    "from sklearn.preprocessing import LabelEncoder\n",
    "from sklearn.preprocessing import StandardScaler\n",
    "\n",
    "#Scale X-Data with Training Xs\n",
    "scaler = StandardScaler()\n",
    "scaler.fit(X_tnAu)\n",
    "X_tnS = scaler.transform(X_tnAu)\n",
    "X_ttS = scaler.transform(X_tt)\n",
    "\n",
    "#Encode y-Data with Training ys\n",
    "encoder = LabelEncoder()\n",
    "encoder.fit(y_tnAu)\n",
    "y_tn_e = encoder.transform(y_tnAu)\n",
    "y_tn_p = np_utils.to_categorical(y_tn_e, num_classes = len(labels))\n",
    "y_tt_e = encoder.transform(y_tt)\n",
    "y_tt_p = np_utils.to_categorical(y_tt_e, num_classes = len(labels))\n",
    "\n",
    "\n",
    "#Reshape All Data to a 3D Tensor of Shape [Number of Spectra, Number of Timesteps(1), Number of Wavelengths]\n",
    "X_tn_p = X_tnS.reshape(X_tnS.shape[0], X_tnS.shape[1], 1)\n",
    "X_tt_p = X_ttS.reshape(X_ttS.shape[0], X_ttS.shape[1], 1)\n",
    "\n",
    "y_tnT = tf.convert_to_tensor(y_tn_p)\n",
    "y_ttT = tf.convert_to_tensor(y_tt_p)\n",
    "X_tnT = tf.convert_to_tensor(X_tn_p)\n",
    "X_ttT = tf.convert_to_tensor(X_tt_p)\n",
    "\n",
    "display(X_tnT.shape)\n",
    "display(y_tnT.shape)\n",
    "display(X_ttT.shape)\n",
    "display(y_ttT.shape)\n",
    "\n",
    "ytruth = tf.argmax(input = y_ttT, axis = 1).numpy()\n",
    "ytruth = encoder.inverse_transform(ytruth)"
   ]
  },
  {
   "cell_type": "code",
   "execution_count": 5,
   "id": "374fecab",
   "metadata": {},
   "outputs": [
    {
     "name": "stdout",
     "output_type": "stream",
     "text": [
      "Epoch 1/20\n",
      "64/64 [==============================] - 14s 189ms/step - loss: 1.8644 - accuracy: 0.2659 - val_loss: 1.7969 - val_accuracy: 0.3175\n",
      "Epoch 2/20\n",
      "64/64 [==============================] - 12s 192ms/step - loss: 1.8250 - accuracy: 0.2822 - val_loss: 1.7466 - val_accuracy: 0.3175\n",
      "Epoch 3/20\n",
      "64/64 [==============================] - 10s 151ms/step - loss: 1.8420 - accuracy: 0.2672 - val_loss: 1.7672 - val_accuracy: 0.2912\n",
      "Epoch 4/20\n",
      "64/64 [==============================] - 10s 154ms/step - loss: 1.7614 - accuracy: 0.2912 - val_loss: 1.6922 - val_accuracy: 0.3175\n",
      "Epoch 5/20\n",
      "64/64 [==============================] - 9s 147ms/step - loss: 1.7304 - accuracy: 0.3038 - val_loss: 1.7172 - val_accuracy: 0.3150\n",
      "Epoch 6/20\n",
      "64/64 [==============================] - 10s 152ms/step - loss: 1.7307 - accuracy: 0.3006 - val_loss: 1.6930 - val_accuracy: 0.3325\n",
      "Epoch 7/20\n",
      "64/64 [==============================] - 9s 149ms/step - loss: 1.7256 - accuracy: 0.3041 - val_loss: 1.6907 - val_accuracy: 0.3375\n",
      "Epoch 8/20\n",
      "64/64 [==============================] - 10s 152ms/step - loss: 1.7282 - accuracy: 0.3016 - val_loss: 1.7410 - val_accuracy: 0.3275\n",
      "Epoch 9/20\n",
      "64/64 [==============================] - 10s 151ms/step - loss: 1.7592 - accuracy: 0.3000 - val_loss: 1.6929 - val_accuracy: 0.3275\n",
      "Epoch 10/20\n",
      "64/64 [==============================] - 9s 147ms/step - loss: 1.7207 - accuracy: 0.3084 - val_loss: 1.6876 - val_accuracy: 0.3275\n",
      "Epoch 11/20\n",
      "64/64 [==============================] - 10s 152ms/step - loss: 1.7429 - accuracy: 0.3150 - val_loss: 1.7123 - val_accuracy: 0.3450\n",
      "Epoch 12/20\n",
      "64/64 [==============================] - 10s 149ms/step - loss: 1.7362 - accuracy: 0.3106 - val_loss: 1.6857 - val_accuracy: 0.3325\n",
      "Epoch 13/20\n",
      "64/64 [==============================] - 10s 153ms/step - loss: 1.8649 - accuracy: 0.2594 - val_loss: 1.9460 - val_accuracy: 0.2212\n",
      "Epoch 14/20\n",
      "64/64 [==============================] - 10s 155ms/step - loss: 1.9127 - accuracy: 0.2516 - val_loss: 1.9156 - val_accuracy: 0.2900\n",
      "Epoch 15/20\n",
      "64/64 [==============================] - 9s 148ms/step - loss: 1.8990 - accuracy: 0.2784 - val_loss: 1.8938 - val_accuracy: 0.2500\n",
      "Epoch 16/20\n",
      "64/64 [==============================] - 10s 153ms/step - loss: 1.9024 - accuracy: 0.2353 - val_loss: 1.8924 - val_accuracy: 0.3300\n",
      "1/1 [==============================] - 1s 570ms/step - loss: 1.3316 - accuracy: 0.4783\n"
     ]
    },
    {
     "data": {
      "text/plain": [
       "0.47826087474823"
      ]
     },
     "metadata": {},
     "output_type": "display_data"
    }
   ],
   "source": [
    "#Multi-class Classification with Keras\n",
    " \n",
    "n_timesteps, n_features, n_outputs = X_tn_p.shape[1], X_tn_p.shape[2], y_tn_p.shape[1]\n",
    "\n",
    "#Define Sequential Model - 1 Convolution Layer, 1 Dropout Layer, 1 Flatten Layer, 2 Dense Layers\n",
    "model = Sequential()\n",
    "model.add(LSTM(100 ,input_shape=(n_timesteps,n_features)))\n",
    "model.add(Dropout(0.5))\n",
    "model.add(Dense(100, activation='relu'))\n",
    "model.add(Dense(n_outputs, activation='softmax'))\n",
    "model.compile(loss='categorical_crossentropy', optimizer='adam', metrics=['accuracy'])\n",
    "\n",
    "#Implement EarlyStopping\n",
    "stopper = tf.keras.callbacks.EarlyStopping(monitor = \"val_loss\",patience = 4,verbose = 0, restore_best_weights = True)\n",
    "\n",
    "#Fit Model\n",
    "history_sc = model.fit(X_tnT, y_tnT, epochs=epochs, batch_size=batch_size, verbose=verbose, validation_split = 0.2, callbacks = stopper)\n",
    "\n",
    "#Evaluate Model\n",
    "_, SCaccuracy = model.evaluate(X_ttT, y_ttT, batch_size=batch_size, verbose=verbose)\n",
    "display(SCaccuracy)"
   ]
  },
  {
   "cell_type": "code",
   "execution_count": 6,
   "id": "e5ccf0ab",
   "metadata": {},
   "outputs": [],
   "source": [
    "#Make Prediction\n",
    "SCypred = model.predict(X_ttT)\n",
    "SCypred = tf.argmax(input = SCypred, axis = 1).numpy()\n",
    "SCypred = encoder.inverse_transform(SCypred)\n"
   ]
  },
  {
   "cell_type": "code",
   "execution_count": 7,
   "id": "50b7e0be",
   "metadata": {},
   "outputs": [
    {
     "data": {
      "text/plain": [
       "array([[-0.06934094, -0.04568164, -0.02448903,  0.02914456,  0.08187588,\n",
       "        -0.03522462,  0.07279321,  0.0018662 , -0.08324973,  0.03393687,\n",
       "        -0.02345295,  0.02857039,  0.04293058,  0.03027898,  0.04078862,\n",
       "        -0.00317495, -0.10949314,  0.07712725,  0.02098852,  0.06896655,\n",
       "        -0.05457757, -0.00042751,  0.05581718,  0.03542165, -0.0193221 ,\n",
       "        -0.06314343, -0.04634826, -0.03754557, -0.07556656,  0.05857   ,\n",
       "        -0.03473919, -0.07424548,  0.00337759, -0.07780289,  0.07389589,\n",
       "         0.07393703, -0.05992082, -0.0133984 , -0.08163378, -0.07730187,\n",
       "        -0.1322496 ,  0.07921546, -0.03311779, -0.0434295 ,  0.0579382 ,\n",
       "        -0.05420648, -0.07511345,  0.05538918, -0.0570353 ,  0.0911311 ,\n",
       "        -0.04414877, -0.06644144, -0.04874471, -0.04764149,  0.07737766,\n",
       "         0.02134402,  0.05941137, -0.03313393,  0.03240867,  0.06677222,\n",
       "        -0.04423384, -0.03262516,  0.01929553, -0.08753755, -0.10068137,\n",
       "        -0.06642341, -0.00577987, -0.01344777,  0.06363405, -0.02783671,\n",
       "        -0.06268901,  0.05628855,  0.06316882, -0.04146682,  0.03622498,\n",
       "         0.04596423,  0.12631607, -0.00608627, -0.0442937 , -0.09154692,\n",
       "         0.02738579, -0.04091262,  0.07517072,  0.03792164, -0.04651082,\n",
       "        -0.07512728, -0.04065362, -0.06390965, -0.00853994,  0.07200088,\n",
       "         0.05010087,  0.02326437, -0.05450336,  0.03022493, -0.06593031,\n",
       "         0.05708133, -0.08220468,  0.06479007, -0.06425291,  0.07454495]],\n",
       "      dtype=float32)"
      ]
     },
     "metadata": {},
     "output_type": "display_data"
    }
   ],
   "source": [
    "#Extract Convolution Feature Maps\n",
    "convlayer = tf.keras.Model(inputs=model.inputs, outputs=model.layers[0].output)\n",
    "\n",
    "spectra = X_ttT[n, :, 0]\n",
    "specvec = list()\n",
    "specvec.append(spectra)\n",
    "spectra = tf.reshape(spectra, (1, len(spectra), 1))\n",
    "\n",
    "SCfeature_maps = convlayer.predict(spectra)\n",
    "display(SCfeature_maps)"
   ]
  },
  {
   "cell_type": "code",
   "execution_count": 8,
   "id": "d53fd3fd",
   "metadata": {},
   "outputs": [
    {
     "data": {
      "text/plain": [
       "TensorShape([4000, 944, 1])"
      ]
     },
     "metadata": {},
     "output_type": "display_data"
    },
    {
     "data": {
      "text/plain": [
       "TensorShape([4000, 8])"
      ]
     },
     "metadata": {},
     "output_type": "display_data"
    },
    {
     "data": {
      "text/plain": [
       "TensorShape([23, 944, 1])"
      ]
     },
     "metadata": {},
     "output_type": "display_data"
    },
    {
     "data": {
      "text/plain": [
       "TensorShape([23, 8])"
      ]
     },
     "metadata": {},
     "output_type": "display_data"
    }
   ],
   "source": [
    "#Apply Fourier Transform to Training and Testing Data\n",
    "X_tnf = np.apply_along_axis(np.fft.fft, axis=1, arr=X_tnAu)\n",
    "X_ttf = np.apply_along_axis(np.fft.fft, axis=1, arr=X_tt)\n",
    "\n",
    "#Combine Real and Imaginary Part of FT in form [real, imaginary]\n",
    "X_tnf = np.append(X_tnf.real, X_tnf.imag, axis = 1)\n",
    "X_ttf = np.append(X_ttf.real, X_ttf.imag, axis = 1)\n",
    "X_tnf= X_tnf.astype('float32')\n",
    "X_ttf= X_ttf.astype('float32')\n",
    "\n",
    "#Scale X-Data with Training Xs\n",
    "scaler = StandardScaler()\n",
    "scaler.fit(X_tnf)\n",
    "X_tnf = scaler.transform(X_tnf)\n",
    "X_ttf = scaler.transform(X_ttf)\n",
    "\n",
    "#Encode y-Data with Training ys\n",
    "encoder = LabelEncoder()\n",
    "encoder.fit(y_tnAu)\n",
    "y_tn_e = encoder.transform(y_tnAu)\n",
    "y_tn_p = np_utils.to_categorical(y_tn_e, num_classes = len(labels))\n",
    "y_tt_e = encoder.transform(y_tt)\n",
    "y_tt_p = np_utils.to_categorical(y_tt_e, num_classes = len(labels))\n",
    "\n",
    "#Reshape All Data to a 3D Tensor of Shape [Number of Spectra, Number of Timesteps(1), Number of Wavelengths]\n",
    "X_tn_p = X_tnf.reshape(X_tnf.shape[0], X_tnf.shape[1], 1)\n",
    "X_tt_p = X_ttf.reshape(X_ttf.shape[0], X_ttf.shape[1], 1)\n",
    "\n",
    "y_tnT = tf.convert_to_tensor(y_tn_p)\n",
    "y_ttT = tf.convert_to_tensor(y_tt_p)\n",
    "X_tnT = tf.convert_to_tensor(X_tn_p)\n",
    "X_ttT = tf.convert_to_tensor(X_tt_p)\n",
    "\n",
    "\n",
    "display(X_tnT.shape)\n",
    "display(y_tnT.shape)\n",
    "display(X_ttT.shape)\n",
    "display(y_ttT.shape)"
   ]
  },
  {
   "cell_type": "code",
   "execution_count": 9,
   "id": "18e552db",
   "metadata": {},
   "outputs": [
    {
     "name": "stdout",
     "output_type": "stream",
     "text": [
      "Epoch 1/20\n",
      "64/64 [==============================] - 21s 303ms/step - loss: 1.8640 - accuracy: 0.2859 - val_loss: 1.6491 - val_accuracy: 0.4137\n",
      "Epoch 2/20\n",
      "64/64 [==============================] - 19s 292ms/step - loss: 1.4454 - accuracy: 0.4153 - val_loss: 1.2171 - val_accuracy: 0.4450\n",
      "Epoch 3/20\n",
      "64/64 [==============================] - 19s 293ms/step - loss: 1.1151 - accuracy: 0.5281 - val_loss: 0.9998 - val_accuracy: 0.5813\n",
      "Epoch 4/20\n",
      "64/64 [==============================] - 19s 291ms/step - loss: 1.0157 - accuracy: 0.5759 - val_loss: 0.9313 - val_accuracy: 0.6112\n",
      "Epoch 5/20\n",
      "64/64 [==============================] - 19s 297ms/step - loss: 0.9118 - accuracy: 0.5972 - val_loss: 0.8625 - val_accuracy: 0.6263\n",
      "Epoch 6/20\n",
      "64/64 [==============================] - 19s 297ms/step - loss: 0.8843 - accuracy: 0.6050 - val_loss: 0.8884 - val_accuracy: 0.5938\n",
      "Epoch 7/20\n",
      "64/64 [==============================] - 19s 294ms/step - loss: 0.8510 - accuracy: 0.6162 - val_loss: 1.0206 - val_accuracy: 0.5575\n",
      "1/1 [==============================] - 1s 939ms/step - loss: 0.8343 - accuracy: 0.5217\n"
     ]
    },
    {
     "data": {
      "text/plain": [
       "0.52173912525177"
      ]
     },
     "metadata": {},
     "output_type": "display_data"
    }
   ],
   "source": [
    "#Multi-class Classification with Keras\n",
    " \n",
    "n_timesteps, n_features, n_outputs = X_tn_p.shape[1], X_tn_p.shape[2], y_tn_p.shape[1]\n",
    "\n",
    "#Define Sequential Model - 1 Convolution Layer, 1 Dropout Layer, 1 Flatten Layer, 2 Dense Layers\n",
    "model = Sequential()\n",
    "model.add(LSTM(100 ,input_shape=(n_timesteps,n_features)))\n",
    "model.add(Dropout(0.5))\n",
    "model.add(Dense(100, activation='relu'))\n",
    "model.add(Dense(n_outputs, activation='softmax'))\n",
    "model.compile(loss='categorical_crossentropy', optimizer='adam', metrics=['accuracy'])\n",
    "\n",
    "#Implement EarlyStopping\n",
    "stopper = tf.keras.callbacks.EarlyStopping(monitor = \"val_loss\",patience = 2,verbose = 0, restore_best_weights = True)\n",
    "\n",
    "#Fit Model\n",
    "history_ft = model.fit(X_tnT, y_tnT, epochs=epochs, batch_size=batch_size, verbose=verbose,  validation_split=0.2, callbacks = stopper)\n",
    "\n",
    "#Evaluate Model\n",
    "_, FTaccuracy = model.evaluate(X_ttT, y_ttT, batch_size=batch_size, verbose=verbose)\n",
    "display(FTaccuracy)"
   ]
  },
  {
   "cell_type": "code",
   "execution_count": 10,
   "id": "54173aea",
   "metadata": {},
   "outputs": [],
   "source": [
    "#Make Prediction\n",
    "FTypred = model.predict(X_ttT)\n",
    "FTypred = tf.argmax(input = FTypred, axis = 1).numpy()\n",
    "FTypred = encoder.inverse_transform(FTypred)"
   ]
  },
  {
   "cell_type": "code",
   "execution_count": 11,
   "id": "f0580f92",
   "metadata": {},
   "outputs": [
    {
     "name": "stdout",
     "output_type": "stream",
     "text": [
      "Model: \"model_1\"\n",
      "_________________________________________________________________\n",
      "Layer (type)                 Output Shape              Param #   \n",
      "=================================================================\n",
      "lstm_1_input (InputLayer)    [(None, 944, 1)]          0         \n",
      "_________________________________________________________________\n",
      "lstm_1 (LSTM)                (None, 100)               40800     \n",
      "=================================================================\n",
      "Total params: 40,800\n",
      "Trainable params: 40,800\n",
      "Non-trainable params: 0\n",
      "_________________________________________________________________\n"
     ]
    },
    {
     "data": {
      "text/plain": [
       "array([[ 0.10944735,  0.01659597, -0.0954067 ,  0.07048382,  0.03905797,\n",
       "        -0.05093683,  0.05544046, -0.00530042,  0.09328555, -0.10861853,\n",
       "         0.00828061, -0.01113954, -0.06981295,  0.03200042,  0.13451782,\n",
       "         0.08588584,  0.04496095,  0.09118361, -0.10217663,  0.12208646,\n",
       "         0.06451358,  0.08480964, -0.01542988,  0.00108573,  0.01247848,\n",
       "         0.08451456,  0.28435895,  0.00808161, -0.04458497, -0.05382335,\n",
       "        -0.07374054, -0.03432702,  0.02149615, -0.01949558,  0.09943249,\n",
       "         0.00162627, -0.03145202, -0.11393613,  0.03542631,  0.13731432,\n",
       "        -0.0277319 ,  0.11614409,  0.10880762, -0.0312061 , -0.17306942,\n",
       "         0.00462288,  0.15080002, -0.0364857 , -0.05017813, -0.0008733 ,\n",
       "         0.11037017,  0.06930392, -0.08671992, -0.10978242, -0.02187668,\n",
       "         0.06255905,  0.08397657, -0.12390617, -0.05252945,  0.13591902,\n",
       "        -0.06414518, -0.12791035, -0.03709048,  0.12320895,  0.0082421 ,\n",
       "         0.09783673,  0.07521028,  0.04129048, -0.0652271 ,  0.12547298,\n",
       "        -0.04066338, -0.06125106, -0.168399  , -0.13279727,  0.00587514,\n",
       "         0.00230399, -0.00303886,  0.07544599,  0.00913849, -0.09179188,\n",
       "         0.06035595, -0.07322223, -0.00806633, -0.01284276, -0.09243888,\n",
       "         0.11001068, -0.04752134, -0.00690965, -0.01953623, -0.008319  ,\n",
       "        -0.22553614, -0.01452033,  0.0767722 ,  0.05546944,  0.07596883,\n",
       "         0.00442817, -0.03688669,  0.00057595, -0.08636291, -0.04880438]],\n",
       "      dtype=float32)"
      ]
     },
     "metadata": {},
     "output_type": "display_data"
    }
   ],
   "source": [
    "convlayer = tf.keras.Model(inputs=model.inputs, outputs=model.layers[0].output)\n",
    "convlayer.summary()\n",
    "\n",
    "spectra = X_ttT[n, :, 0]\n",
    "specvec.append(spectra)\n",
    "spectra = tf.reshape(spectra, (1, len(spectra), 1))\n",
    "\n",
    "FTfeature_maps = convlayer.predict(spectra)\n",
    "display(FTfeature_maps)"
   ]
  },
  {
   "cell_type": "code",
   "execution_count": 12,
   "id": "756a0320",
   "metadata": {},
   "outputs": [
    {
     "data": {
      "text/plain": [
       "TensorShape([4000, 512, 1])"
      ]
     },
     "metadata": {},
     "output_type": "display_data"
    },
    {
     "data": {
      "text/plain": [
       "TensorShape([4000, 8])"
      ]
     },
     "metadata": {},
     "output_type": "display_data"
    },
    {
     "data": {
      "text/plain": [
       "TensorShape([23, 512, 1])"
      ]
     },
     "metadata": {},
     "output_type": "display_data"
    },
    {
     "data": {
      "text/plain": [
       "TensorShape([23, 8])"
      ]
     },
     "metadata": {},
     "output_type": "display_data"
    }
   ],
   "source": [
    "#Apply Welsh-Hadamard Transform to Training and Testing Data\n",
    "from sympy.discrete.transforms import fwht, ifwht\n",
    "X_tnh = np.apply_along_axis(fwht, axis=1, arr=X_tnAu)\n",
    "X_tth = np.apply_along_axis(fwht, axis=1, arr=X_tt)\n",
    "X_tnh = X_tnh.astype('float32')\n",
    "X_tth = X_tth.astype('float32')\n",
    "\n",
    "#Scale X-Data with Training Xs\n",
    "scaler = StandardScaler()\n",
    "scaler.fit(X_tnh)\n",
    "X_tnh = scaler.transform(X_tnh)\n",
    "X_tth = scaler.transform(X_tth)\n",
    "\n",
    "#Encode y-Data with Training ys\n",
    "encoder = LabelEncoder()\n",
    "encoder.fit(y_tnAu)\n",
    "y_tn_e = encoder.transform(y_tnAu)\n",
    "y_tn_p = np_utils.to_categorical(y_tn_e, num_classes = len(labels))\n",
    "y_tt_e = encoder.transform(y_tt)\n",
    "y_tt_p = np_utils.to_categorical(y_tt_e, num_classes = len(labels))\n",
    "\n",
    "#Reshape All Data to a 3D Tensor of Shape [Number of Spectra, Number of Timesteps(1), Number of Wavelengths]\n",
    "X_tn_p = X_tnh.reshape(X_tnh.shape[0], X_tnh.shape[1], 1)\n",
    "X_tt_p = X_tth.reshape(X_tth.shape[0], X_tth.shape[1], 1)\n",
    "\n",
    "y_tnT = tf.convert_to_tensor(y_tn_p)\n",
    "y_ttT = tf.convert_to_tensor(y_tt_p)\n",
    "X_tnT = tf.convert_to_tensor(X_tn_p)\n",
    "X_ttT = tf.convert_to_tensor(X_tt_p)\n",
    "\n",
    "\n",
    "display(X_tnT.shape)\n",
    "display(y_tnT.shape)\n",
    "display(X_ttT.shape)\n",
    "display(y_ttT.shape)"
   ]
  },
  {
   "cell_type": "code",
   "execution_count": 13,
   "id": "b4e029d8",
   "metadata": {},
   "outputs": [
    {
     "name": "stdout",
     "output_type": "stream",
     "text": [
      "Epoch 1/20\n",
      "64/64 [==============================] - 13s 176ms/step - loss: 1.7108 - accuracy: 0.3372 - val_loss: 1.3846 - val_accuracy: 0.4462\n",
      "Epoch 2/20\n",
      "64/64 [==============================] - 11s 172ms/step - loss: 1.3017 - accuracy: 0.4462 - val_loss: 1.2346 - val_accuracy: 0.5875\n",
      "Epoch 3/20\n",
      "64/64 [==============================] - 11s 165ms/step - loss: 1.2467 - accuracy: 0.4669 - val_loss: 1.1535 - val_accuracy: 0.6050\n",
      "Epoch 4/20\n",
      "64/64 [==============================] - 11s 168ms/step - loss: 1.0981 - accuracy: 0.5431 - val_loss: 0.9886 - val_accuracy: 0.6112\n",
      "Epoch 5/20\n",
      "64/64 [==============================] - 11s 169ms/step - loss: 1.0538 - accuracy: 0.5597 - val_loss: 0.9869 - val_accuracy: 0.5450\n",
      "Epoch 6/20\n",
      "64/64 [==============================] - 11s 165ms/step - loss: 0.9740 - accuracy: 0.5831 - val_loss: 0.9293 - val_accuracy: 0.5575\n",
      "Epoch 7/20\n",
      "64/64 [==============================] - 11s 169ms/step - loss: 0.9185 - accuracy: 0.6034 - val_loss: 0.9541 - val_accuracy: 0.5400\n",
      "Epoch 8/20\n",
      "64/64 [==============================] - 11s 169ms/step - loss: 0.8904 - accuracy: 0.6316 - val_loss: 0.8304 - val_accuracy: 0.6963\n",
      "Epoch 9/20\n",
      "64/64 [==============================] - 11s 166ms/step - loss: 0.8618 - accuracy: 0.6478 - val_loss: 0.8008 - val_accuracy: 0.6963\n",
      "Epoch 10/20\n",
      "64/64 [==============================] - 11s 169ms/step - loss: 0.8230 - accuracy: 0.6628 - val_loss: 0.7740 - val_accuracy: 0.7312\n",
      "Epoch 11/20\n",
      "64/64 [==============================] - 11s 169ms/step - loss: 0.7992 - accuracy: 0.6744 - val_loss: 0.7346 - val_accuracy: 0.7100\n",
      "Epoch 12/20\n",
      "64/64 [==============================] - 11s 165ms/step - loss: 0.7359 - accuracy: 0.6903 - val_loss: 0.7473 - val_accuracy: 0.7000\n",
      "Epoch 13/20\n",
      "64/64 [==============================] - 11s 173ms/step - loss: 0.7465 - accuracy: 0.6919 - val_loss: 0.7193 - val_accuracy: 0.6725\n",
      "Epoch 14/20\n",
      "64/64 [==============================] - 11s 174ms/step - loss: 0.6881 - accuracy: 0.7034 - val_loss: 0.8824 - val_accuracy: 0.6388\n",
      "Epoch 15/20\n",
      "64/64 [==============================] - 10s 162ms/step - loss: 0.7359 - accuracy: 0.6881 - val_loss: 0.6772 - val_accuracy: 0.6737\n",
      "Epoch 16/20\n",
      "64/64 [==============================] - 11s 167ms/step - loss: 0.6977 - accuracy: 0.7063 - val_loss: 0.7763 - val_accuracy: 0.6700\n",
      "Epoch 17/20\n",
      "64/64 [==============================] - 10s 163ms/step - loss: 0.6913 - accuracy: 0.7066 - val_loss: 0.6732 - val_accuracy: 0.6837\n",
      "Epoch 18/20\n",
      "64/64 [==============================] - 10s 160ms/step - loss: 0.6697 - accuracy: 0.7097 - val_loss: 0.6631 - val_accuracy: 0.7275\n",
      "Epoch 19/20\n",
      "64/64 [==============================] - 10s 164ms/step - loss: 0.6596 - accuracy: 0.7184 - val_loss: 0.6113 - val_accuracy: 0.7163\n",
      "Epoch 20/20\n",
      "64/64 [==============================] - 10s 163ms/step - loss: 0.6418 - accuracy: 0.7225 - val_loss: 0.6190 - val_accuracy: 0.7450\n",
      "1/1 [==============================] - 1s 703ms/step - loss: 0.5048 - accuracy: 0.8261\n"
     ]
    },
    {
     "data": {
      "text/plain": [
       "0.8260869383811951"
      ]
     },
     "metadata": {},
     "output_type": "display_data"
    }
   ],
   "source": [
    "#Multi-class Classification with Keras\n",
    " \n",
    "n_timesteps, n_features, n_outputs = X_tn_p.shape[1], X_tn_p.shape[2], y_tn_p.shape[1]\n",
    "\n",
    "#Define Sequential Model - 1 Convolution Layer, 1 Dropout Layer, 1 Flatten Layer, 2 Dense Layers\n",
    "model = Sequential()\n",
    "model.add(LSTM(100 ,input_shape=(n_timesteps,n_features)))\n",
    "model.add(Dropout(0.5))\n",
    "model.add(Dense(100, activation='relu'))\n",
    "model.add(Dense(n_outputs, activation='softmax'))\n",
    "model.compile(loss='categorical_crossentropy', optimizer='adam', metrics=['accuracy'])\n",
    "\n",
    "#Implement EarlyStopping\n",
    "stopper = tf.keras.callbacks.EarlyStopping(monitor = \"val_loss\", mode = 'min',\\\n",
    "                                           patience = 2, verbose = 1, restore_best_weights = True)\n",
    "\n",
    "#Fit Model\n",
    "history_ht = model.fit(X_tnT, y_tnT, epochs=epochs, batch_size=batch_size, verbose=verbose,  validation_split=0.2, callbacks = stopper)\n",
    "\n",
    "#Evaluate Model\n",
    "_, HTaccuracy = model.evaluate(X_ttT, y_ttT, batch_size=batch_size, verbose=verbose)\n",
    "display(HTaccuracy)"
   ]
  },
  {
   "cell_type": "code",
   "execution_count": 14,
   "id": "5d0d1b2b",
   "metadata": {},
   "outputs": [
    {
     "name": "stdout",
     "output_type": "stream",
     "text": [
      "WARNING:tensorflow:5 out of the last 5 calls to <function Model.make_predict_function.<locals>.predict_function at 0x000001B88348F670> triggered tf.function retracing. Tracing is expensive and the excessive number of tracings could be due to (1) creating @tf.function repeatedly in a loop, (2) passing tensors with different shapes, (3) passing Python objects instead of tensors. For (1), please define your @tf.function outside of the loop. For (2), @tf.function has experimental_relax_shapes=True option that relaxes argument shapes that can avoid unnecessary retracing. For (3), please refer to https://www.tensorflow.org/guide/function#controlling_retracing and https://www.tensorflow.org/api_docs/python/tf/function for  more details.\n"
     ]
    }
   ],
   "source": [
    "#Make Prediction\n",
    "HTypred = model.predict(X_ttT)\n",
    "HTypred = tf.argmax(input = HTypred, axis = 1).numpy()\n",
    "HTypred = encoder.inverse_transform(HTypred)"
   ]
  },
  {
   "cell_type": "code",
   "execution_count": 15,
   "id": "d13ca327",
   "metadata": {},
   "outputs": [
    {
     "name": "stdout",
     "output_type": "stream",
     "text": [
      "Model: \"model_2\"\n",
      "_________________________________________________________________\n",
      "Layer (type)                 Output Shape              Param #   \n",
      "=================================================================\n",
      "lstm_2_input (InputLayer)    [(None, 512, 1)]          0         \n",
      "_________________________________________________________________\n",
      "lstm_2 (LSTM)                (None, 100)               40800     \n",
      "=================================================================\n",
      "Total params: 40,800\n",
      "Trainable params: 40,800\n",
      "Non-trainable params: 0\n",
      "_________________________________________________________________\n",
      "WARNING:tensorflow:6 out of the last 6 calls to <function Model.make_predict_function.<locals>.predict_function at 0x000001B8847F3160> triggered tf.function retracing. Tracing is expensive and the excessive number of tracings could be due to (1) creating @tf.function repeatedly in a loop, (2) passing tensors with different shapes, (3) passing Python objects instead of tensors. For (1), please define your @tf.function outside of the loop. For (2), @tf.function has experimental_relax_shapes=True option that relaxes argument shapes that can avoid unnecessary retracing. For (3), please refer to https://www.tensorflow.org/guide/function#controlling_retracing and https://www.tensorflow.org/api_docs/python/tf/function for  more details.\n"
     ]
    },
    {
     "data": {
      "text/plain": [
       "array([[-0.07325096,  0.01034697,  0.05381091,  0.01525669,  0.0013684 ,\n",
       "         0.0606374 , -0.00742786, -0.15211248, -0.03783296,  0.01588406,\n",
       "         0.04935615,  0.01907581,  0.01007414,  0.06187576,  0.05593679,\n",
       "        -0.05433226,  0.2822511 ,  0.10268252,  0.01393051, -0.06651434,\n",
       "        -0.01241601,  0.06746568,  0.11231443,  0.07420155,  0.14134385,\n",
       "         0.01575163,  0.05726044, -0.01932065,  0.02435036,  0.05945622,\n",
       "        -0.06727175,  0.16941227, -0.1668006 ,  0.02644109,  0.05470397,\n",
       "         0.21805255,  0.2095954 , -0.13018821,  0.07053401,  0.17094535,\n",
       "         0.02429958,  0.2350603 ,  0.04156049,  0.02945205, -0.08304751,\n",
       "         0.00860765,  0.2144875 , -0.0470582 ,  0.10560615,  0.06289276,\n",
       "        -0.01483875,  0.00921466, -0.04499137,  0.08191981, -0.1721647 ,\n",
       "        -0.00091136, -0.01728143,  0.019643  ,  0.17565316,  0.20165733,\n",
       "        -0.01732964, -0.00029348,  0.03025482, -0.03746515, -0.02243086,\n",
       "         0.0194276 , -0.21206418, -0.05022572, -0.21514198, -0.01216285,\n",
       "        -0.01098873, -0.02956036, -0.10275115,  0.04785014, -0.09430791,\n",
       "        -0.219551  ,  0.16016628,  0.09495378,  0.10554821,  0.02960973,\n",
       "         0.06031218, -0.00894826, -0.00570025,  0.04761797,  0.07912993,\n",
       "         0.08344781, -0.00742853,  0.00607698, -0.09008818,  0.05820886,\n",
       "         0.19433753,  0.08806113, -0.17930827, -0.10430549,  0.02873041,\n",
       "         0.09226771,  0.00460528, -0.16016763, -0.05797185, -0.11298355]],\n",
       "      dtype=float32)"
      ]
     },
     "metadata": {},
     "output_type": "display_data"
    }
   ],
   "source": [
    "convlayer = tf.keras.Model(inputs=model.inputs, outputs=model.layers[0].output)\n",
    "convlayer.summary()\n",
    "\n",
    "spectra = X_ttT[n, :, 0]\n",
    "specvec.append(spectra)\n",
    "spectra = tf.reshape(spectra, (1, len(spectra), 1))\n",
    "\n",
    "HTfeature_maps = convlayer.predict(spectra)\n",
    "display(HTfeature_maps)"
   ]
  },
  {
   "cell_type": "code",
   "execution_count": 16,
   "id": "0107edb5",
   "metadata": {},
   "outputs": [
    {
     "data": {
      "text/plain": [
       "array(['10-16', '10-5', '10-16', '10-16', '10-16', '10-5', '10-16',\n",
       "       '10-5', '10-5', '10-5', '10-16', '10-16', '10-5', '10-5', '10-16',\n",
       "       '10-16', '10-16', '10-16', '10-16', '10-5', '10-16', '10-9',\n",
       "       '10-16'], dtype=object)"
      ]
     },
     "metadata": {},
     "output_type": "display_data"
    },
    {
     "data": {
      "text/plain": [
       "0.47826087474823"
      ]
     },
     "metadata": {},
     "output_type": "display_data"
    },
    {
     "data": {
      "text/plain": [
       "0.52173912525177"
      ]
     },
     "metadata": {},
     "output_type": "display_data"
    },
    {
     "data": {
      "text/plain": [
       "0.8260869383811951"
      ]
     },
     "metadata": {},
     "output_type": "display_data"
    }
   ],
   "source": [
    "from sklearn.metrics import confusion_matrix\n",
    "display(SCypred)\n",
    "CMSC = confusion_matrix(ytruth, SCypred, labels = labels)\n",
    "CMFT = confusion_matrix(ytruth, FTypred, labels = labels)\n",
    "CMHT = confusion_matrix(ytruth, HTypred, labels = labels)\n",
    "display(SCaccuracy, FTaccuracy, HTaccuracy)"
   ]
  },
  {
   "cell_type": "code",
   "execution_count": 17,
   "id": "79c1b1a0",
   "metadata": {},
   "outputs": [
    {
     "data": {
      "image/png": "[encoded data removed]",
      "text/plain": [
       "<Figure size 1080x360 with 4 Axes>"
      ]
     },
     "metadata": {
      "needs_background": "light"
     },
     "output_type": "display_data"
    }
   ],
   "source": [
    "fig, axs = plt.subplots(1, 3, sharey = True, figsize = [15, 5])\n",
    "\n",
    "plt.rcParams['xtick.bottom'] = plt.rcParams['xtick.labelbottom'] = False\n",
    "plt.rcParams['xtick.top'] = plt.rcParams['xtick.labeltop'] = True\n",
    "\n",
    "pcm = axs[0].pcolor(CMSC, edgecolors = 'k', cmap = 'gist_heat_r')\n",
    "plt.gca().invert_yaxis()\n",
    "axs[0].set_xticks(ticks = np.linspace(0.5, len(labels)-0.5, num = len(labels)), labels = labels)\n",
    "axs[0].set_yticks(ticks = np.linspace(0.5, len(labels)-0.5, num = len(labels)), labels = labels)\n",
    "axs[0].set_ylabel(\"Actual Condition\")\n",
    "axs[0].set_xlabel(\"Predicted Condition\")\n",
    "axs[0].xaxis.set_label_position('top') \n",
    "axs[0].set_title('Raw Data');\n",
    "\n",
    "axs[1].pcolor(CMFT, edgecolors = 'k', cmap = 'gist_heat_r');\n",
    "plt.gca().invert_yaxis()\n",
    "axs[1].set_xticks(ticks = np.linspace(0.5, len(labels)-0.5, num = len(labels)), labels = labels)\n",
    "axs[1].set_title('Fourier Transform');\n",
    "axs[1].set_xlabel(\"Predicted Condition\")\n",
    "axs[1].xaxis.set_label_position('top')\n",
    "\n",
    "axs[2].pcolor(CMHT, edgecolors = 'k', cmap = 'gist_heat_r')\n",
    "plt.gca().invert_yaxis()\n",
    "axs[2].set_xticks(ticks = np.linspace(0.5, len(labels)-0.5, num = len(labels)), labels = labels);\n",
    "axs[2].set_title('Walsh Hadamard Transform');\n",
    "axs[2].set_xlabel(\"Predicted Condition\")\n",
    "axs[2].xaxis.set_label_position('top')\n",
    "\n",
    "fig.colorbar(pcm, ax = axs[:], location = 'bottom', label = 'Number of Assignments');"
   ]
  },
  {
   "cell_type": "code",
   "execution_count": 18,
   "id": "d8d30a8d",
   "metadata": {},
   "outputs": [
    {
     "data": {
      "image/png": "[encoded data removed]",
      "text/plain": [
       "<Figure size 1008x432 with 2 Axes>"
      ]
     },
     "metadata": {
      "needs_background": "light"
     },
     "output_type": "display_data"
    }
   ],
   "source": [
    "hist_dict = history_sc.history\n",
    "train_loss = hist_dict['loss']\n",
    "val_loss = hist_dict['val_loss']\n",
    "train_acc = hist_dict['accuracy']\n",
    "val_acc = hist_dict['val_accuracy']\n",
    "epochs_vec = range(1, len(train_loss) + 1)\n",
    "\n",
    "\n",
    "fig, ax = plt.subplots(1, 2, figsize=(14, 6))\n",
    "#\n",
    "# Plot the model accuracy vs Epochs\n",
    "#\n",
    "ax[0].plot(epochs_vec, train_acc, 'bo')\n",
    "ax[0].plot(epochs_vec, val_acc, 'b')\n",
    "#\n",
    "# Plot the loss vs Epochs\n",
    "#\n",
    "ax[1].plot(epochs_vec, train_loss, 'bo')\n",
    "ax[1].plot(epochs_vec, val_loss, 'b')\n",
    "\n",
    "hist_dict = history_ft.history\n",
    "train_loss = hist_dict['loss']\n",
    "val_loss = hist_dict['val_loss']\n",
    "train_acc = hist_dict['accuracy']\n",
    "val_acc = hist_dict['val_accuracy']\n",
    "epochs_vec = range(1, len(train_loss) + 1)\n",
    "\n",
    "#\n",
    "# Plot the model accuracy vs Epochs\n",
    "#\n",
    "ax[0].plot(epochs_vec, train_acc, 'ko')\n",
    "ax[0].plot(epochs_vec, val_acc, 'k')\n",
    "\n",
    "#\n",
    "# Plot the loss vs Epochs\n",
    "#\n",
    "ax[1].plot(epochs_vec, train_loss, 'ko')\n",
    "ax[1].plot(epochs_vec, val_loss, 'k')\n",
    "\n",
    "hist_dict = history_ht.history\n",
    "train_loss = hist_dict['loss']\n",
    "val_loss = hist_dict['val_loss']\n",
    "train_acc = hist_dict['accuracy']\n",
    "val_acc = hist_dict['val_accuracy']\n",
    "epochs_vec = range(1, len(train_loss) + 1)\n",
    "\n",
    "#\n",
    "# Plot the model accuracy vs Epochs\n",
    "#\n",
    "ax[0].plot(epochs_vec, train_acc, 'ro')\n",
    "ax[0].plot(epochs_vec, val_acc, 'r')\n",
    "ax[0].set_title('Training & Validation Accuracy', fontsize=16)\n",
    "ax[0].set_xlabel('Epochs')\n",
    "ax[0].set_ylabel('Accuracy')\n",
    "ax[0].legend(['Scaled Training', 'Scaled Validation', 'Fourier Training', 'Fourier Validation', 'Hadamard Training', 'Hadamard Validation'])\n",
    "#\n",
    "# Plot the loss vs Epochs\n",
    "#\n",
    "ax[1].plot(epochs_vec, train_loss, 'ro')\n",
    "ax[1].plot(epochs_vec, val_loss, 'r')\n",
    "ax[1].set_title('Training & Validation Loss', fontsize=16)\n",
    "ax[1].set_xlabel('Epochs')\n",
    "ax[1].set_ylabel('Loss')\n",
    "ax[1].legend(['Scaled Training', 'Scaled Validation', 'Fourier Training', 'Fourier Validation', 'Hadamard Training', 'Hadamard Validation']);\n",
    "\n",
    "plt.savefig(\"Tables and Figures\\SVG Files\\CNN Learning Curve.svg\", format = \"svg\", bbox_inches='tight')\n",
    "plt.savefig(\"Tables and Figures\\PNG Files\\CNN Learning Curve.png\", format = \"png\", bbox_inches='tight')"
   ]
  },
  {
   "cell_type": "code",
   "execution_count": null,
   "id": "cfc768e3",
   "metadata": {},
   "outputs": [],
   "source": []
  }
 ],
 "metadata": {
  "kernelspec": {
   "display_name": "Python 3 (ipykernel)",
   "language": "python",
   "name": "python3"
  },
  "language_info": {
   "codemirror_mode": {
    "name": "ipython",
    "version": 3
   },
   "file_extension": ".py",
   "mimetype": "text/x-python",
   "name": "python",
   "nbconvert_exporter": "python",
   "pygments_lexer": "ipython3",
   "version": "3.9.12"
  }
 },
 "nbformat": 4,
 "nbformat_minor": 5
}
