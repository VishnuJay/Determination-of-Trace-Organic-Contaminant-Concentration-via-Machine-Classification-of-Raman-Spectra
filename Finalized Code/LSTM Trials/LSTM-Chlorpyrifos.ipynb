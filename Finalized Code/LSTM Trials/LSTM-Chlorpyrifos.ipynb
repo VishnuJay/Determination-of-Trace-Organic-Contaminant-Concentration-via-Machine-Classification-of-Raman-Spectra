{
 "cells": [
  {
   "cell_type": "code",
   "execution_count": 1,
   "id": "d5953c12",
   "metadata": {},
   "outputs": [],
   "source": [
    "import pandas as pd\n",
    "import numpy as np\n",
    "from scipy import stats as stats\n",
    "import matplotlib.pyplot as plt\n",
    "import seaborn as sb\n",
    "import KeyFunctions as me\n",
    "import tensorflow as tf\n",
    "RandState = 92\n",
    "\n",
    "from keras.models import Sequential\n",
    "from keras.layers import Dense, Dropout, Conv1D, MaxPooling1D, Flatten, MaxPooling2D, LSTM\n",
    "from keras.wrappers.scikit_learn import KerasClassifier\n",
    "from keras.utils import np_utils\n",
    "from sklearn.model_selection import cross_val_score\n",
    "from sklearn.preprocessing import LabelEncoder\n",
    "from sklearn.model_selection import StratifiedKFold\n",
    "\n",
    "n = 4"
   ]
  },
  {
   "cell_type": "code",
   "execution_count": 2,
   "id": "22b201c0",
   "metadata": {},
   "outputs": [],
   "source": [
    "from sklearn.model_selection import train_test_split\n",
    "\n",
    "#Import Full Triclosan Dataset\n",
    "df, labels = me.ConstructCombinedChlorDataset()\n",
    "\n",
    "[train, test] = train_test_split(df, random_state = RandState, shuffle = True, train_size = 0.8)\n",
    "\n",
    "y_tn = train.index\n",
    "y_tt = test.index\n",
    "X_tt = test.to_numpy()\n",
    "X_tn = train.to_numpy()\n",
    "\n",
    "#Augment Data to 4000 Spectra\n",
    "X_tnAu, y_tnAu = me.AugmentData(X_tn, y_tn, 4000, df.columns.to_numpy(), False)"
   ]
  },
  {
   "cell_type": "code",
   "execution_count": 3,
   "id": "fdef8ef0",
   "metadata": {},
   "outputs": [],
   "source": [
    "#Set Training Parameters\n",
    "verbose = 1\n",
    "epochsvec = [5, 20, 50]\n",
    "batch_sizevec = [10, 50, 100]\n",
    "epochs = epochsvec[1]\n",
    "batch_size = batch_sizevec[1]"
   ]
  },
  {
   "cell_type": "code",
   "execution_count": 4,
   "id": "479b91a1",
   "metadata": {},
   "outputs": [
    {
     "data": {
      "text/plain": [
       "TensorShape([4000, 618, 1])"
      ]
     },
     "metadata": {},
     "output_type": "display_data"
    },
    {
     "data": {
      "text/plain": [
       "TensorShape([4000, 5])"
      ]
     },
     "metadata": {},
     "output_type": "display_data"
    },
    {
     "data": {
      "text/plain": [
       "TensorShape([10, 618, 1])"
      ]
     },
     "metadata": {},
     "output_type": "display_data"
    },
    {
     "data": {
      "text/plain": [
       "TensorShape([10, 5])"
      ]
     },
     "metadata": {},
     "output_type": "display_data"
    }
   ],
   "source": [
    "from sklearn.preprocessing import LabelEncoder\n",
    "from sklearn.preprocessing import StandardScaler\n",
    "\n",
    "#Scale X-Data with Training Xs\n",
    "scaler = StandardScaler()\n",
    "scaler.fit(X_tnAu)\n",
    "X_tnS = scaler.transform(X_tnAu)\n",
    "X_ttS = scaler.transform(X_tt)\n",
    "\n",
    "#Encode y-Data with Training ys\n",
    "encoder = LabelEncoder()\n",
    "encoder.fit(y_tnAu)\n",
    "y_tn_e = encoder.transform(y_tnAu)\n",
    "y_tn_p = np_utils.to_categorical(y_tn_e, num_classes = len(labels))\n",
    "y_tt_e = encoder.transform(y_tt)\n",
    "y_tt_p = np_utils.to_categorical(y_tt_e, num_classes = len(labels))\n",
    "\n",
    "\n",
    "#Reshape All Data to a 3D Tensor of Shape [Number of Spectra, Number of Timesteps(1), Number of Wavelengths]\n",
    "X_tn_p = X_tnS.reshape(X_tnS.shape[0], X_tnS.shape[1], 1)\n",
    "X_tt_p = X_ttS.reshape(X_ttS.shape[0], X_ttS.shape[1], 1)\n",
    "\n",
    "y_tnT = tf.convert_to_tensor(y_tn_p)\n",
    "y_ttT = tf.convert_to_tensor(y_tt_p)\n",
    "X_tnT = tf.convert_to_tensor(X_tn_p)\n",
    "X_ttT = tf.convert_to_tensor(X_tt_p)\n",
    "\n",
    "display(X_tnT.shape)\n",
    "display(y_tnT.shape)\n",
    "display(X_ttT.shape)\n",
    "display(y_ttT.shape)\n",
    "\n",
    "ytruth = tf.argmax(input = y_ttT, axis = 1).numpy()\n",
    "ytruth = encoder.inverse_transform(ytruth)"
   ]
  },
  {
   "cell_type": "code",
   "execution_count": 5,
   "id": "374fecab",
   "metadata": {},
   "outputs": [
    {
     "name": "stdout",
     "output_type": "stream",
     "text": [
      "Epoch 1/20\n",
      "64/64 [==============================] - 15s 208ms/step - loss: 1.0321 - accuracy: 0.5128 - val_loss: 0.5703 - val_accuracy: 0.7500\n",
      "Epoch 2/20\n",
      "64/64 [==============================] - 13s 199ms/step - loss: 0.5257 - accuracy: 0.8134 - val_loss: 0.3213 - val_accuracy: 0.8625\n",
      "Epoch 3/20\n",
      "64/64 [==============================] - 13s 200ms/step - loss: 0.3573 - accuracy: 0.8706 - val_loss: 0.1580 - val_accuracy: 0.9600\n",
      "Epoch 4/20\n",
      "64/64 [==============================] - 12s 195ms/step - loss: 0.2107 - accuracy: 0.9184 - val_loss: 0.0507 - val_accuracy: 0.9887\n",
      "Epoch 5/20\n",
      "64/64 [==============================] - 13s 198ms/step - loss: 0.0727 - accuracy: 0.9825 - val_loss: 0.0076 - val_accuracy: 1.0000\n",
      "Epoch 6/20\n",
      "64/64 [==============================] - 13s 203ms/step - loss: 1.4075 - accuracy: 0.6459 - val_loss: 1.4320 - val_accuracy: 0.4162\n",
      "Epoch 7/20\n",
      "64/64 [==============================] - 13s 199ms/step - loss: 0.9493 - accuracy: 0.5663 - val_loss: 0.7214 - val_accuracy: 0.7113\n",
      "1/1 [==============================] - 1s 570ms/step - loss: 0.4407 - accuracy: 0.9000\n"
     ]
    },
    {
     "data": {
      "text/plain": [
       "0.8999999761581421"
      ]
     },
     "metadata": {},
     "output_type": "display_data"
    }
   ],
   "source": [
    "#Multi-class Classification with Keras\n",
    " \n",
    "n_timesteps, n_features, n_outputs = X_tn_p.shape[1], X_tn_p.shape[2], y_tn_p.shape[1]\n",
    "\n",
    "#Define Sequential Model - 1 Convolution Layer, 1 Dropout Layer, 1 Flatten Layer, 2 Dense Layers\n",
    "model = Sequential()\n",
    "model.add(LSTM(100 ,input_shape=(n_timesteps,n_features)))\n",
    "model.add(Dropout(0.5))\n",
    "model.add(Dense(100, activation='relu'))\n",
    "model.add(Dense(n_outputs, activation='softmax'))\n",
    "model.compile(loss='categorical_crossentropy', optimizer='adam', metrics=['accuracy'])\n",
    "\n",
    "#Implement EarlyStopping\n",
    "stopper = tf.keras.callbacks.EarlyStopping(monitor = \"val_loss\",patience = 2,verbose = 0, restore_best_weights = True)\n",
    "\n",
    "#Fit Model\n",
    "model.fit(X_tnT, y_tnT, epochs=epochs, batch_size=batch_size, verbose=verbose, validation_split = 0.2, callbacks = stopper)\n",
    "\n",
    "#Evaluate Model\n",
    "_, SCaccuracy = model.evaluate(X_ttT, y_ttT, batch_size=batch_size, verbose=verbose)\n",
    "display(SCaccuracy)"
   ]
  },
  {
   "cell_type": "code",
   "execution_count": 6,
   "id": "e5ccf0ab",
   "metadata": {},
   "outputs": [],
   "source": [
    "#Make Prediction\n",
    "SCypred = model.predict(X_ttT)\n",
    "SCypred = tf.argmax(input = SCypred, axis = 1).numpy()\n",
    "SCypred = encoder.inverse_transform(SCypred)\n"
   ]
  },
  {
   "cell_type": "code",
   "execution_count": 7,
   "id": "50b7e0be",
   "metadata": {},
   "outputs": [
    {
     "data": {
      "text/plain": [
       "array([[-1.65276781e-01, -1.53252080e-01, -2.38166258e-01,\n",
       "        -2.40163028e-01, -2.48533040e-01, -2.10931107e-01,\n",
       "        -4.00275439e-02,  3.59446734e-01,  3.89233440e-01,\n",
       "        -8.03895965e-02,  6.61663041e-02,  2.24283244e-02,\n",
       "         2.45834161e-02,  5.87311864e-01,  4.58715111e-02,\n",
       "        -3.47208321e-01, -2.11884558e-01,  7.27094039e-02,\n",
       "         1.07905284e-01,  1.85271055e-01,  4.36625451e-01,\n",
       "         2.39184901e-01,  4.64593977e-01, -3.96063505e-03,\n",
       "         8.28803405e-02, -1.27142027e-01, -2.88863868e-01,\n",
       "        -2.84596831e-01,  2.60387421e-01,  7.36975446e-02,\n",
       "        -1.10140488e-01,  2.96321549e-02, -2.93844253e-01,\n",
       "         1.33324414e-01, -3.78717035e-01,  1.06996670e-01,\n",
       "        -6.34086726e-04,  9.19287205e-02,  6.96696877e-01,\n",
       "         3.20415527e-01, -4.20117080e-01, -1.11371353e-01,\n",
       "         1.12547204e-01,  3.04387033e-01, -7.04885349e-02,\n",
       "        -2.87801176e-01, -4.20978397e-01,  9.55018960e-03,\n",
       "        -3.63112301e-01,  1.46847397e-01, -1.77345991e-01,\n",
       "        -2.60745496e-01,  3.43006432e-01,  5.09512722e-01,\n",
       "         2.50546094e-02,  1.31719500e-01,  1.35501996e-01,\n",
       "        -6.79683089e-02,  4.49716538e-01,  6.09649777e-01,\n",
       "         1.49072602e-01, -9.57180038e-02,  7.33933076e-02,\n",
       "         5.79007149e-01,  4.50968713e-01,  3.13050568e-01,\n",
       "        -2.11165801e-01,  2.39223540e-01, -5.60925305e-01,\n",
       "         5.61478734e-01,  3.58231455e-01, -2.84584370e-02,\n",
       "         7.62264356e-02,  4.61471267e-02, -1.07246950e-01,\n",
       "        -3.76877338e-01, -1.77619413e-01,  3.44350301e-02,\n",
       "        -3.13478947e-01,  2.11935446e-01,  4.12265301e-01,\n",
       "         1.33062735e-01,  2.26163551e-01, -1.91117764e-01,\n",
       "         1.41036406e-01,  9.98306274e-02, -4.39997204e-02,\n",
       "         1.26495376e-01,  1.83394194e-01,  3.98894176e-02,\n",
       "         2.34892994e-01,  5.14352322e-02,  1.58192679e-01,\n",
       "        -2.27005467e-01, -2.00120240e-01,  4.29564774e-01,\n",
       "        -2.57420335e-02, -4.84974869e-02,  1.99804585e-02,\n",
       "         2.06977621e-01]], dtype=float32)"
      ]
     },
     "metadata": {},
     "output_type": "display_data"
    }
   ],
   "source": [
    "#Extract Convolution Feature Maps\n",
    "convlayer = tf.keras.Model(inputs=model.inputs, outputs=model.layers[0].output)\n",
    "\n",
    "spectra = X_ttT[n, :, 0]\n",
    "specvec = list()\n",
    "specvec.append(spectra)\n",
    "spectra = tf.reshape(spectra, (1, len(spectra), 1))\n",
    "\n",
    "SCfeature_maps = convlayer.predict(spectra)\n",
    "display(SCfeature_maps)"
   ]
  },
  {
   "cell_type": "code",
   "execution_count": 8,
   "id": "d53fd3fd",
   "metadata": {},
   "outputs": [
    {
     "data": {
      "text/plain": [
       "TensorShape([4000, 1236, 1])"
      ]
     },
     "metadata": {},
     "output_type": "display_data"
    },
    {
     "data": {
      "text/plain": [
       "TensorShape([4000, 5])"
      ]
     },
     "metadata": {},
     "output_type": "display_data"
    },
    {
     "data": {
      "text/plain": [
       "TensorShape([10, 1236, 1])"
      ]
     },
     "metadata": {},
     "output_type": "display_data"
    },
    {
     "data": {
      "text/plain": [
       "TensorShape([10, 5])"
      ]
     },
     "metadata": {},
     "output_type": "display_data"
    }
   ],
   "source": [
    "scaler = StandardScaler()\n",
    "scaler.fit(X_tnAu)\n",
    "X_tnAu = scaler.transform(X_tnAu)\n",
    "X_tt = scaler.transform(X_tt)\n",
    "\n",
    "#Apply Fourier Transform to Training and Testing Data\n",
    "X_tnf = np.apply_along_axis(np.fft.fft, axis=1, arr=X_tnAu)\n",
    "X_ttf = np.apply_along_axis(np.fft.fft, axis=1, arr=X_tt)\n",
    "\n",
    "#Combine Real and Imaginary Part of FT in form [real, imaginary]\n",
    "X_tnf = np.append(X_tnf.real, X_tnf.imag, axis = 1)\n",
    "X_ttf = np.append(X_ttf.real, X_ttf.imag, axis = 1)\n",
    "X_tnf= X_tnf.astype('float32')\n",
    "X_ttf= X_ttf.astype('float32')\n",
    "\n",
    "#Scale X-Data with Training Xs\n",
    "#scaler = StandardScaler()\n",
    "#scaler.fit(X_tnf)\n",
    "#X_tnf = scaler.transform(X_tnf)\n",
    "#X_ttf = scaler.transform(X_ttf)\n",
    "\n",
    "#Encode y-Data with Training ys\n",
    "encoder = LabelEncoder()\n",
    "encoder.fit(y_tnAu)\n",
    "y_tn_e = encoder.transform(y_tnAu)\n",
    "y_tn_p = np_utils.to_categorical(y_tn_e, num_classes = len(labels))\n",
    "y_tt_e = encoder.transform(y_tt)\n",
    "y_tt_p = np_utils.to_categorical(y_tt_e, num_classes = len(labels))\n",
    "\n",
    "#Reshape All Data to a 3D Tensor of Shape [Number of Spectra, Number of Timesteps(1), Number of Wavelengths]\n",
    "X_tn_p = X_tnf.reshape(X_tnf.shape[0], X_tnf.shape[1], 1)\n",
    "X_tt_p = X_ttf.reshape(X_ttf.shape[0], X_ttf.shape[1], 1)\n",
    "\n",
    "y_tnT = tf.convert_to_tensor(y_tn_p)\n",
    "y_ttT = tf.convert_to_tensor(y_tt_p)\n",
    "X_tnT = tf.convert_to_tensor(X_tn_p)\n",
    "X_ttT = tf.convert_to_tensor(X_tt_p)\n",
    "\n",
    "\n",
    "display(X_tnT.shape)\n",
    "display(y_tnT.shape)\n",
    "display(X_ttT.shape)\n",
    "display(y_ttT.shape)"
   ]
  },
  {
   "cell_type": "code",
   "execution_count": 9,
   "id": "18e552db",
   "metadata": {
    "scrolled": true
   },
   "outputs": [
    {
     "name": "stdout",
     "output_type": "stream",
     "text": [
      "Epoch 1/20\n",
      "64/64 [==============================] - 29s 424ms/step - loss: 1.1614 - accuracy: 0.5700 - val_loss: 0.5177 - val_accuracy: 0.8575\n",
      "Epoch 2/20\n",
      "64/64 [==============================] - 26s 403ms/step - loss: 0.3255 - accuracy: 0.9106 - val_loss: 0.0676 - val_accuracy: 1.0000\n",
      "Epoch 3/20\n",
      "64/64 [==============================] - 26s 409ms/step - loss: 0.0819 - accuracy: 0.9834 - val_loss: 0.0110 - val_accuracy: 1.0000\n",
      "Epoch 4/20\n",
      "64/64 [==============================] - 26s 411ms/step - loss: 0.0325 - accuracy: 0.9947 - val_loss: 0.0027 - val_accuracy: 1.0000\n",
      "Epoch 5/20\n",
      "64/64 [==============================] - 26s 404ms/step - loss: 0.0207 - accuracy: 0.9966 - val_loss: 0.0012 - val_accuracy: 1.0000\n",
      "Epoch 6/20\n",
      "64/64 [==============================] - 26s 408ms/step - loss: 0.0121 - accuracy: 0.9984 - val_loss: 4.7284e-04 - val_accuracy: 1.0000\n",
      "Epoch 7/20\n",
      "64/64 [==============================] - 26s 410ms/step - loss: 0.0105 - accuracy: 0.9981 - val_loss: 2.7825e-04 - val_accuracy: 1.0000\n",
      "Epoch 8/20\n",
      "64/64 [==============================] - 26s 406ms/step - loss: 0.0098 - accuracy: 0.9981 - val_loss: 3.4817e-04 - val_accuracy: 1.0000\n",
      "Epoch 9/20\n",
      "64/64 [==============================] - 26s 412ms/step - loss: 0.0072 - accuracy: 0.9981 - val_loss: 1.3321e-04 - val_accuracy: 1.0000\n",
      "Epoch 10/20\n",
      "64/64 [==============================] - 26s 406ms/step - loss: 0.0052 - accuracy: 0.9994 - val_loss: 1.2898e-04 - val_accuracy: 1.0000\n",
      "Epoch 11/20\n",
      "64/64 [==============================] - 26s 405ms/step - loss: 0.0037 - accuracy: 1.0000 - val_loss: 5.4670e-05 - val_accuracy: 1.0000\n",
      "Epoch 12/20\n",
      "64/64 [==============================] - 26s 409ms/step - loss: 0.0040 - accuracy: 0.9987 - val_loss: 4.3281e-05 - val_accuracy: 1.0000\n",
      "Epoch 13/20\n",
      "64/64 [==============================] - 26s 405ms/step - loss: 0.0032 - accuracy: 0.9994 - val_loss: 4.1103e-05 - val_accuracy: 1.0000\n",
      "Epoch 14/20\n",
      "64/64 [==============================] - 26s 412ms/step - loss: 0.0030 - accuracy: 0.9991 - val_loss: 2.7627e-05 - val_accuracy: 1.0000\n",
      "Epoch 15/20\n",
      "64/64 [==============================] - 26s 408ms/step - loss: 0.0024 - accuracy: 0.9997 - val_loss: 1.6299e-05 - val_accuracy: 1.0000\n",
      "Epoch 16/20\n",
      "64/64 [==============================] - 26s 404ms/step - loss: 0.0020 - accuracy: 0.9997 - val_loss: 1.3278e-05 - val_accuracy: 1.0000\n",
      "Epoch 17/20\n",
      "64/64 [==============================] - 26s 406ms/step - loss: 0.0019 - accuracy: 0.9994 - val_loss: 9.2360e-06 - val_accuracy: 1.0000\n",
      "Epoch 18/20\n",
      "64/64 [==============================] - 25s 384ms/step - loss: 0.0020 - accuracy: 0.9994 - val_loss: 1.5649e-05 - val_accuracy: 1.0000\n",
      "Epoch 19/20\n",
      "64/64 [==============================] - 25s 387ms/step - loss: 0.0041 - accuracy: 0.9987 - val_loss: 1.3549e-05 - val_accuracy: 1.0000\n",
      "Epoch 20/20\n",
      "64/64 [==============================] - 25s 384ms/step - loss: 0.0013 - accuracy: 1.0000 - val_loss: 6.5888e-06 - val_accuracy: 1.0000\n",
      "1/1 [==============================] - 1s 1s/step - loss: 3.4270 - accuracy: 0.6000\n"
     ]
    },
    {
     "data": {
      "text/plain": [
       "0.6000000238418579"
      ]
     },
     "metadata": {},
     "output_type": "display_data"
    }
   ],
   "source": [
    "#Multi-class Classification with Keras\n",
    " \n",
    "n_timesteps, n_features, n_outputs = X_tn_p.shape[1], X_tn_p.shape[2], y_tn_p.shape[1]\n",
    "\n",
    "#Define Sequential Model - 1 Convolution Layer, 1 Dropout Layer, 1 Flatten Layer, 2 Dense Layers\n",
    "model = Sequential()\n",
    "model.add(LSTM(100 ,input_shape=(n_timesteps,n_features)))\n",
    "model.add(Dropout(0.5))\n",
    "model.add(Dense(100, activation='relu'))\n",
    "model.add(Dense(n_outputs, activation='softmax'))\n",
    "model.compile(loss='categorical_crossentropy', optimizer='adam', metrics=['accuracy'])\n",
    "\n",
    "#Implement EarlyStopping\n",
    "stopper = tf.keras.callbacks.EarlyStopping(monitor = \"val_loss\",patience = 3,verbose = 0, restore_best_weights = True)\n",
    "\n",
    "#Fit Model\n",
    "model.fit(X_tnT, y_tnT, epochs=epochs, batch_size=batch_size, verbose=verbose,  validation_split=0.2, callbacks = stopper)\n",
    "\n",
    "#Evaluate Model\n",
    "_, FTaccuracy = model.evaluate(X_ttT, y_ttT, batch_size=batch_size, verbose=verbose)\n",
    "display(FTaccuracy)"
   ]
  },
  {
   "cell_type": "code",
   "execution_count": 10,
   "id": "54173aea",
   "metadata": {},
   "outputs": [],
   "source": [
    "#Make Prediction\n",
    "FTypred = model.predict(X_ttT)\n",
    "FTypred = tf.argmax(input = FTypred, axis = 1).numpy()\n",
    "FTypred = encoder.inverse_transform(FTypred)"
   ]
  },
  {
   "cell_type": "code",
   "execution_count": 11,
   "id": "f0580f92",
   "metadata": {},
   "outputs": [
    {
     "name": "stdout",
     "output_type": "stream",
     "text": [
      "Model: \"model_1\"\n",
      "_________________________________________________________________\n",
      "Layer (type)                 Output Shape              Param #   \n",
      "=================================================================\n",
      "lstm_1_input (InputLayer)    [(None, 1236, 1)]         0         \n",
      "_________________________________________________________________\n",
      "lstm_1 (LSTM)                (None, 100)               40800     \n",
      "=================================================================\n",
      "Total params: 40,800\n",
      "Trainable params: 40,800\n",
      "Non-trainable params: 0\n",
      "_________________________________________________________________\n"
     ]
    },
    {
     "data": {
      "text/plain": [
       "array([[-9.77664173e-01, -5.49174488e-01,  5.42899594e-03,\n",
       "        -4.90118452e-07, -3.03509235e-01, -3.30201983e-02,\n",
       "         2.98233926e-01, -4.42051828e-01,  9.99975204e-01,\n",
       "        -3.54715894e-06,  9.97323096e-01,  1.23253586e-02,\n",
       "        -9.24764425e-02,  2.16065440e-02, -1.05916476e-03,\n",
       "        -2.73406622e-03,  5.58944943e-04, -5.75670123e-01,\n",
       "        -7.58354247e-01, -4.09328431e-01,  5.86289400e-03,\n",
       "        -1.15512181e-02,  8.45666766e-01, -8.53298724e-01,\n",
       "        -9.75132763e-01,  2.33501837e-01, -2.27872297e-01,\n",
       "         6.08087838e-01, -1.22055913e-04,  4.92720082e-02,\n",
       "         4.35074493e-02,  7.46550620e-01, -1.39393774e-06,\n",
       "        -9.43882823e-01, -4.89304874e-10, -4.90143783e-02,\n",
       "        -8.08172882e-01,  7.82629371e-01, -9.99993503e-01,\n",
       "        -2.96809454e-03, -7.30073850e-07,  1.33721669e-05,\n",
       "        -1.46442831e-01, -7.79328585e-01, -1.19287055e-02,\n",
       "        -9.93099451e-01, -6.57591328e-04,  2.57290989e-08,\n",
       "        -2.49803260e-01, -5.81365079e-03,  9.39225912e-01,\n",
       "         9.99934435e-01, -3.21052164e-01, -1.23702466e-01,\n",
       "         2.41248429e-01, -9.99699712e-01,  9.92011011e-01,\n",
       "        -3.24343711e-01, -5.18022418e-01,  8.91195238e-02,\n",
       "         9.99487698e-01, -8.08716536e-01, -1.67759567e-01,\n",
       "        -2.97778577e-01, -9.28650260e-01,  8.81490558e-02,\n",
       "         3.63296044e-06,  9.82946157e-01,  8.84678006e-01,\n",
       "         8.40612408e-03,  1.64214894e-01, -7.20592618e-01,\n",
       "        -5.87970138e-01, -1.04373232e-01, -5.99473715e-04,\n",
       "         1.55489847e-01, -1.68781644e-05, -1.69783802e-04,\n",
       "         2.64310353e-02, -4.15563583e-04, -6.04371846e-01,\n",
       "         3.86495218e-02, -9.85124052e-01,  3.85404587e-01,\n",
       "        -6.08463943e-01, -5.09507954e-01, -2.39407588e-02,\n",
       "        -4.59792512e-03,  6.89188614e-02,  1.39804035e-01,\n",
       "        -6.49452507e-01, -9.87051606e-01,  4.12380427e-01,\n",
       "        -1.31319286e-02, -7.96119217e-03, -1.08047193e-02,\n",
       "        -1.93492923e-07,  3.24129534e-04, -7.60528922e-01,\n",
       "         9.60366845e-01]], dtype=float32)"
      ]
     },
     "metadata": {},
     "output_type": "display_data"
    }
   ],
   "source": [
    "convlayer = tf.keras.Model(inputs=model.inputs, outputs=model.layers[0].output)\n",
    "convlayer.summary()\n",
    "\n",
    "spectra = X_ttT[n, :, 0]\n",
    "specvec.append(spectra)\n",
    "spectra = tf.reshape(spectra, (1, len(spectra), 1))\n",
    "\n",
    "FTfeature_maps = convlayer.predict(spectra)\n",
    "display(FTfeature_maps)"
   ]
  },
  {
   "cell_type": "code",
   "execution_count": 18,
   "id": "756a0320",
   "metadata": {},
   "outputs": [
    {
     "data": {
      "text/plain": [
       "TensorShape([4000, 1024, 1])"
      ]
     },
     "metadata": {},
     "output_type": "display_data"
    },
    {
     "data": {
      "text/plain": [
       "TensorShape([4000, 5])"
      ]
     },
     "metadata": {},
     "output_type": "display_data"
    },
    {
     "data": {
      "text/plain": [
       "TensorShape([10, 1024, 1])"
      ]
     },
     "metadata": {},
     "output_type": "display_data"
    },
    {
     "data": {
      "text/plain": [
       "TensorShape([10, 5])"
      ]
     },
     "metadata": {},
     "output_type": "display_data"
    }
   ],
   "source": [
    "#Apply Welsh-Hadamard Transform to Training and Testing Data\n",
    "from sympy.discrete.transforms import fwht, ifwht\n",
    "\n",
    "scaler = StandardScaler()\n",
    "scaler.fit(X_tnAu)\n",
    "X_tnAu = scaler.transform(X_tnAu)\n",
    "X_tt = scaler.transform(X_tt)\n",
    "\n",
    "X_tnh = np.apply_along_axis(fwht, axis=1, arr=X_tnAu)\n",
    "X_tth = np.apply_along_axis(fwht, axis=1, arr=X_tt)\n",
    "X_tnh = X_tnh.astype('float32')\n",
    "X_tth = X_tth.astype('float32')\n",
    "\n",
    "#Encode y-Data with Training ys\n",
    "encoder = LabelEncoder()\n",
    "encoder.fit(y_tnAu)\n",
    "y_tn_e = encoder.transform(y_tnAu)\n",
    "y_tn_p = np_utils.to_categorical(y_tn_e, num_classes = len(labels))\n",
    "y_tt_e = encoder.transform(y_tt)\n",
    "y_tt_p = np_utils.to_categorical(y_tt_e, num_classes = len(labels))\n",
    "\n",
    "#Reshape All Data to a 3D Tensor of Shape [Number of Spectra, Number of Timesteps(1), Number of Wavelengths]\n",
    "X_tn_p = X_tnh.reshape(X_tnh.shape[0], X_tnh.shape[1], 1)\n",
    "X_tt_p = X_tth.reshape(X_tth.shape[0], X_tth.shape[1], 1)\n",
    "\n",
    "y_tnT = tf.convert_to_tensor(y_tn_p)\n",
    "y_ttT = tf.convert_to_tensor(y_tt_p)\n",
    "X_tnT = tf.convert_to_tensor(X_tn_p)\n",
    "X_ttT = tf.convert_to_tensor(X_tt_p)\n",
    "\n",
    "\n",
    "display(X_tnT.shape)\n",
    "display(y_tnT.shape)\n",
    "display(X_ttT.shape)\n",
    "display(y_ttT.shape)"
   ]
  },
  {
   "cell_type": "code",
   "execution_count": 19,
   "id": "b4e029d8",
   "metadata": {},
   "outputs": [
    {
     "name": "stdout",
     "output_type": "stream",
     "text": [
      "Epoch 1/20\n",
      "64/64 [==============================] - 25s 366ms/step - loss: 1.1500 - accuracy: 0.5016 - val_loss: 0.5531 - val_accuracy: 0.7337\n",
      "Epoch 2/20\n",
      "64/64 [==============================] - 23s 355ms/step - loss: 0.3527 - accuracy: 0.8637 - val_loss: 0.1393 - val_accuracy: 0.9800\n",
      "Epoch 3/20\n",
      "64/64 [==============================] - 23s 360ms/step - loss: 0.0782 - accuracy: 0.9841 - val_loss: 0.0112 - val_accuracy: 1.0000\n",
      "Epoch 4/20\n",
      "64/64 [==============================] - 23s 356ms/step - loss: 0.1079 - accuracy: 0.9622 - val_loss: 0.0305 - val_accuracy: 1.0000\n",
      "Epoch 5/20\n",
      "64/64 [==============================] - 23s 366ms/step - loss: 0.0228 - accuracy: 0.9969 - val_loss: 0.0021 - val_accuracy: 1.0000\n",
      "Epoch 6/20\n",
      "64/64 [==============================] - 23s 353ms/step - loss: 0.0073 - accuracy: 0.9994 - val_loss: 9.7287e-04 - val_accuracy: 1.0000\n",
      "Epoch 7/20\n",
      "64/64 [==============================] - 22s 351ms/step - loss: 0.0048 - accuracy: 1.0000 - val_loss: 5.0576e-04 - val_accuracy: 1.0000\n",
      "Epoch 8/20\n",
      "64/64 [==============================] - 23s 362ms/step - loss: 0.0033 - accuracy: 1.0000 - val_loss: 3.2245e-04 - val_accuracy: 1.0000\n",
      "Epoch 9/20\n",
      "64/64 [==============================] - 23s 353ms/step - loss: 0.0033 - accuracy: 0.9997 - val_loss: 2.4214e-04 - val_accuracy: 1.0000\n",
      "Epoch 10/20\n",
      "64/64 [==============================] - 24s 375ms/step - loss: 0.0023 - accuracy: 1.0000 - val_loss: 1.5126e-04 - val_accuracy: 1.0000\n",
      "Epoch 11/20\n",
      "64/64 [==============================] - 23s 355ms/step - loss: 0.0020 - accuracy: 1.0000 - val_loss: 1.1674e-04 - val_accuracy: 1.0000\n",
      "Epoch 12/20\n",
      "64/64 [==============================] - 23s 357ms/step - loss: 0.0014 - accuracy: 1.0000 - val_loss: 7.6011e-05 - val_accuracy: 1.0000\n",
      "Epoch 13/20\n",
      "64/64 [==============================] - 23s 353ms/step - loss: 0.0012 - accuracy: 1.0000 - val_loss: 7.1841e-05 - val_accuracy: 1.0000\n",
      "Epoch 14/20\n",
      "64/64 [==============================] - 23s 359ms/step - loss: 0.0012 - accuracy: 1.0000 - val_loss: 4.4958e-05 - val_accuracy: 1.0000\n",
      "Epoch 15/20\n",
      "64/64 [==============================] - 24s 367ms/step - loss: 7.1633e-04 - accuracy: 1.0000 - val_loss: 3.4143e-05 - val_accuracy: 1.0000\n",
      "Epoch 16/20\n",
      "64/64 [==============================] - 24s 368ms/step - loss: 0.0012 - accuracy: 0.9997 - val_loss: 2.7114e-05 - val_accuracy: 1.0000\n",
      "Epoch 17/20\n",
      "64/64 [==============================] - 23s 357ms/step - loss: 5.6279e-04 - accuracy: 1.0000 - val_loss: 2.2457e-05 - val_accuracy: 1.0000\n",
      "Epoch 18/20\n",
      "64/64 [==============================] - 22s 350ms/step - loss: 6.8715e-04 - accuracy: 1.0000 - val_loss: 2.2414e-05 - val_accuracy: 1.0000\n",
      "Epoch 19/20\n",
      "64/64 [==============================] - 23s 359ms/step - loss: 4.8197e-04 - accuracy: 1.0000 - val_loss: 1.8409e-05 - val_accuracy: 1.0000\n",
      "Epoch 20/20\n",
      "64/64 [==============================] - 23s 355ms/step - loss: 3.9412e-04 - accuracy: 1.0000 - val_loss: 1.3960e-05 - val_accuracy: 1.0000\n",
      "1/1 [==============================] - 1s 678ms/step - loss: 9.5799 - accuracy: 0.2000\n"
     ]
    },
    {
     "data": {
      "text/plain": [
       "0.20000000298023224"
      ]
     },
     "metadata": {},
     "output_type": "display_data"
    }
   ],
   "source": [
    "#Multi-class Classification with Keras\n",
    " \n",
    "n_timesteps, n_features, n_outputs = X_tn_p.shape[1], X_tn_p.shape[2], y_tn_p.shape[1]\n",
    "\n",
    "#Define Sequential Model - 1 Convolution Layer, 1 Dropout Layer, 1 Flatten Layer, 2 Dense Layers\n",
    "model = Sequential()\n",
    "model.add(LSTM(100 ,input_shape=(n_timesteps,n_features)))\n",
    "model.add(Dropout(0.5))\n",
    "model.add(Dense(100, activation='relu'))\n",
    "model.add(Dense(n_outputs, activation='softmax'))\n",
    "model.compile(loss='categorical_crossentropy', optimizer='adam', metrics=['accuracy'])\n",
    "\n",
    "#Implement EarlyStopping\n",
    "stopper = tf.keras.callbacks.EarlyStopping(monitor = \"val_loss\", mode = 'min',\\\n",
    "                                           patience = 3, verbose = 1, restore_best_weights = True)\n",
    "\n",
    "#Fit Model\n",
    "model.fit(X_tnT, y_tnT, epochs=epochs, batch_size=batch_size, verbose=verbose,  validation_split=0.2, callbacks = stopper)\n",
    "\n",
    "#Evaluate Model\n",
    "_, HTaccuracy = model.evaluate(X_ttT, y_ttT, batch_size=batch_size, verbose=verbose)\n",
    "display(HTaccuracy)"
   ]
  },
  {
   "cell_type": "code",
   "execution_count": 14,
   "id": "5d0d1b2b",
   "metadata": {},
   "outputs": [
    {
     "name": "stdout",
     "output_type": "stream",
     "text": [
      "WARNING:tensorflow:5 out of the last 5 calls to <function Model.make_predict_function.<locals>.predict_function at 0x000002A48FD43790> triggered tf.function retracing. Tracing is expensive and the excessive number of tracings could be due to (1) creating @tf.function repeatedly in a loop, (2) passing tensors with different shapes, (3) passing Python objects instead of tensors. For (1), please define your @tf.function outside of the loop. For (2), @tf.function has experimental_relax_shapes=True option that relaxes argument shapes that can avoid unnecessary retracing. For (3), please refer to https://www.tensorflow.org/guide/function#controlling_retracing and https://www.tensorflow.org/api_docs/python/tf/function for  more details.\n"
     ]
    }
   ],
   "source": [
    "#Make Prediction\n",
    "HTypred = model.predict(X_ttT)\n",
    "HTypred = tf.argmax(input = HTypred, axis = 1).numpy()\n",
    "HTypred = encoder.inverse_transform(HTypred)"
   ]
  },
  {
   "cell_type": "code",
   "execution_count": 15,
   "id": "d13ca327",
   "metadata": {},
   "outputs": [
    {
     "name": "stdout",
     "output_type": "stream",
     "text": [
      "Model: \"model_2\"\n",
      "_________________________________________________________________\n",
      "Layer (type)                 Output Shape              Param #   \n",
      "=================================================================\n",
      "lstm_2_input (InputLayer)    [(None, 1024, 1)]         0         \n",
      "_________________________________________________________________\n",
      "lstm_2 (LSTM)                (None, 100)               40800     \n",
      "=================================================================\n",
      "Total params: 40,800\n",
      "Trainable params: 40,800\n",
      "Non-trainable params: 0\n",
      "_________________________________________________________________\n",
      "WARNING:tensorflow:6 out of the last 6 calls to <function Model.make_predict_function.<locals>.predict_function at 0x000002A4AA8A8430> triggered tf.function retracing. Tracing is expensive and the excessive number of tracings could be due to (1) creating @tf.function repeatedly in a loop, (2) passing tensors with different shapes, (3) passing Python objects instead of tensors. For (1), please define your @tf.function outside of the loop. For (2), @tf.function has experimental_relax_shapes=True option that relaxes argument shapes that can avoid unnecessary retracing. For (3), please refer to https://www.tensorflow.org/guide/function#controlling_retracing and https://www.tensorflow.org/api_docs/python/tf/function for  more details.\n"
     ]
    },
    {
     "data": {
      "text/plain": [
       "array([[ 0.01274807,  0.19044362, -0.07452521, -0.446113  ,  0.44652647,\n",
       "        -0.26214504, -0.03176278,  0.4629086 , -0.45299742, -0.09409791,\n",
       "         0.33223376, -0.17287397, -0.37630644,  0.47125298, -0.12499189,\n",
       "        -0.033601  ,  0.4021436 ,  0.15646656, -0.06739801,  0.25530332,\n",
       "         0.02898117, -0.5389621 , -0.6869321 , -0.7417064 , -0.57725704,\n",
       "        -0.32479483, -0.15225527,  0.11103939, -0.01692522, -0.04953971,\n",
       "        -0.47131923,  0.13657671, -0.10829187,  0.27663654,  0.8589099 ,\n",
       "        -0.34064725, -0.5078458 ,  0.00718418, -0.74638814, -0.3387687 ,\n",
       "         0.18229797, -0.01558028, -0.3978289 , -0.46831924, -0.21703838,\n",
       "         0.18554422, -0.48355672,  0.04676195,  0.13926847,  0.5152574 ,\n",
       "        -0.17458393,  0.37573904,  0.12632236, -0.09540264, -0.31644553,\n",
       "         0.6043547 , -0.14564122,  0.00524325, -0.22665152, -0.3479148 ,\n",
       "        -0.21876983, -0.29953438, -0.06969064, -0.8986668 ,  0.04659162,\n",
       "        -0.35528445, -0.10511722, -0.08271766,  0.10024074,  0.4978491 ,\n",
       "        -0.0701801 , -0.4210711 , -0.20060888, -0.7597951 , -0.16273466,\n",
       "        -0.34568363, -0.00258595,  0.5789298 , -0.4389811 ,  0.01898475,\n",
       "        -0.01246453, -0.59820294, -0.00614177, -0.7185906 , -0.17723723,\n",
       "         0.13722351,  0.00567065, -0.4761467 ,  0.17343664, -0.39721552,\n",
       "        -0.4111531 ,  0.15960121, -0.26579767, -0.6740449 , -0.37161154,\n",
       "        -0.00801686,  0.06102882, -0.25972354, -0.43445054,  0.77792245]],\n",
       "      dtype=float32)"
      ]
     },
     "metadata": {},
     "output_type": "display_data"
    }
   ],
   "source": [
    "convlayer = tf.keras.Model(inputs=model.inputs, outputs=model.layers[0].output)\n",
    "convlayer.summary()\n",
    "\n",
    "spectra = X_ttT[n, :, 0]\n",
    "specvec.append(spectra)\n",
    "spectra = tf.reshape(spectra, (1, len(spectra), 1))\n",
    "\n",
    "HTfeature_maps = convlayer.predict(spectra)\n",
    "display(HTfeature_maps)"
   ]
  },
  {
   "cell_type": "code",
   "execution_count": 16,
   "id": "0107edb5",
   "metadata": {},
   "outputs": [
    {
     "data": {
      "text/plain": [
       "array(['10-3', '10-7', '10-7', '10-4', '10-5', '10-7', '10-5', '10-6',\n",
       "       '10-3', '10-4'], dtype=object)"
      ]
     },
     "metadata": {},
     "output_type": "display_data"
    },
    {
     "data": {
      "text/plain": [
       "0.8999999761581421"
      ]
     },
     "metadata": {},
     "output_type": "display_data"
    },
    {
     "data": {
      "text/plain": [
       "0.6000000238418579"
      ]
     },
     "metadata": {},
     "output_type": "display_data"
    },
    {
     "data": {
      "text/plain": [
       "0.30000001192092896"
      ]
     },
     "metadata": {},
     "output_type": "display_data"
    }
   ],
   "source": [
    "from sklearn.metrics import confusion_matrix\n",
    "display(SCypred)\n",
    "CMSC = confusion_matrix(ytruth, SCypred, labels = labels)\n",
    "CMFT = confusion_matrix(ytruth, FTypred, labels = labels)\n",
    "CMHT = confusion_matrix(ytruth, HTypred, labels = labels)\n",
    "display(SCaccuracy, FTaccuracy, HTaccuracy)"
   ]
  },
  {
   "cell_type": "code",
   "execution_count": 17,
   "id": "79c1b1a0",
   "metadata": {},
   "outputs": [
    {
     "data": {
      "image/png": "[encoded data removed]",
      "text/plain": [
       "<Figure size 1080x360 with 4 Axes>"
      ]
     },
     "metadata": {
      "needs_background": "light"
     },
     "output_type": "display_data"
    }
   ],
   "source": [
    "fig, axs = plt.subplots(1, 3, sharey = True, figsize = [15, 5])\n",
    "\n",
    "plt.rcParams['xtick.bottom'] = plt.rcParams['xtick.labelbottom'] = False\n",
    "plt.rcParams['xtick.top'] = plt.rcParams['xtick.labeltop'] = True\n",
    "\n",
    "pcm = axs[0].pcolor(CMSC, edgecolors = 'k', cmap = 'gist_heat_r')\n",
    "plt.gca().invert_yaxis()\n",
    "axs[0].set_xticks(ticks = np.linspace(0.5, len(labels)-0.5, num = len(labels)), labels = labels)\n",
    "axs[0].set_yticks(ticks = np.linspace(0.5, len(labels)-0.5, num = len(labels)), labels = labels)\n",
    "axs[0].set_ylabel(\"Actual Condition\")\n",
    "axs[0].set_xlabel(\"Predicted Condition\")\n",
    "axs[0].xaxis.set_label_position('top') \n",
    "axs[0].set_title('Raw Data');\n",
    "\n",
    "axs[1].pcolor(CMFT, edgecolors = 'k', cmap = 'gist_heat_r');\n",
    "plt.gca().invert_yaxis()\n",
    "axs[1].set_xticks(ticks = np.linspace(0.5, len(labels)-0.5, num = len(labels)), labels = labels)\n",
    "axs[1].set_title('Fourier Transform');\n",
    "axs[1].set_xlabel(\"Predicted Condition\")\n",
    "axs[1].xaxis.set_label_position('top')\n",
    "\n",
    "axs[2].pcolor(CMHT, edgecolors = 'k', cmap = 'gist_heat_r')\n",
    "plt.gca().invert_yaxis()\n",
    "axs[2].set_xticks(ticks = np.linspace(0.5, len(labels)-0.5, num = len(labels)), labels = labels);\n",
    "axs[2].set_title('Walsh Hadamard Transform');\n",
    "axs[2].set_xlabel(\"Predicted Condition\")\n",
    "axs[2].xaxis.set_label_position('top')\n",
    "\n",
    "fig.colorbar(pcm, ax = axs[:], location = 'bottom', label = 'Number of Assignments');"
   ]
  },
  {
   "cell_type": "code",
   "execution_count": null,
   "id": "d8d30a8d",
   "metadata": {},
   "outputs": [],
   "source": []
  }
 ],
 "metadata": {
  "kernelspec": {
   "display_name": "Python 3 (ipykernel)",
   "language": "python",
   "name": "python3"
  },
  "language_info": {
   "codemirror_mode": {
    "name": "ipython",
    "version": 3
   },
   "file_extension": ".py",
   "mimetype": "text/x-python",
   "name": "python",
   "nbconvert_exporter": "python",
   "pygments_lexer": "ipython3",
   "version": "3.9.12"
  }
 },
 "nbformat": 4,
 "nbformat_minor": 5
}
