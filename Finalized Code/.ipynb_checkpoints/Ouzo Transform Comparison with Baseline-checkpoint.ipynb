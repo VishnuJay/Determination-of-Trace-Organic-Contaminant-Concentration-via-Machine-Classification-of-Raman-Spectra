{
 "cells": [
  {
   "cell_type": "code",
   "execution_count": 1,
   "id": "d7cc66f9",
   "metadata": {},
   "outputs": [],
   "source": [
    "import pandas as pd\n",
    "import numpy as np\n",
    "from scipy import stats as stats\n",
    "import matplotlib.pyplot as plt\n",
    "import seaborn as sb\n",
    "from sklearn.ensemble import RandomForestClassifier\n",
    "from sklearn.linear_model import Perceptron\n",
    "from sklearn.svm import LinearSVC\n",
    "from sklearn.neighbors import KNeighborsClassifier\n",
    "import KeyFunctions as me"
   ]
  },
  {
   "cell_type": "code",
   "execution_count": 13,
   "id": "a35f1685",
   "metadata": {},
   "outputs": [
    {
     "data": {
      "text/html": [
       "<div>\n",
       "<style scoped>\n",
       "    .dataframe tbody tr th:only-of-type {\n",
       "        vertical-align: middle;\n",
       "    }\n",
       "\n",
       "    .dataframe tbody tr th {\n",
       "        vertical-align: top;\n",
       "    }\n",
       "\n",
       "    .dataframe thead th {\n",
       "        text-align: right;\n",
       "    }\n",
       "</style>\n",
       "<table border=\"1\" class=\"dataframe\">\n",
       "  <thead>\n",
       "    <tr style=\"text-align: right;\">\n",
       "      <th>#Wave</th>\n",
       "      <th>1800.529297</th>\n",
       "      <th>1798.058594</th>\n",
       "      <th>1795.587891</th>\n",
       "      <th>1793.115234</th>\n",
       "      <th>1790.642578</th>\n",
       "      <th>1788.169922</th>\n",
       "      <th>1785.697266</th>\n",
       "      <th>1783.222656</th>\n",
       "      <th>1780.746094</th>\n",
       "      <th>1778.269531</th>\n",
       "      <th>...</th>\n",
       "      <th>574.373047</th>\n",
       "      <th>571.517578</th>\n",
       "      <th>568.662109</th>\n",
       "      <th>565.804688</th>\n",
       "      <th>562.947266</th>\n",
       "      <th>560.089844</th>\n",
       "      <th>557.230469</th>\n",
       "      <th>554.369141</th>\n",
       "      <th>551.507813</th>\n",
       "      <th>548.646484</th>\n",
       "    </tr>\n",
       "  </thead>\n",
       "  <tbody>\n",
       "    <tr>\n",
       "      <th>10-5</th>\n",
       "      <td>-884.945862</td>\n",
       "      <td>365.106628</td>\n",
       "      <td>681.141541</td>\n",
       "      <td>2663.393066</td>\n",
       "      <td>817.380920</td>\n",
       "      <td>2274.744385</td>\n",
       "      <td>1716.629883</td>\n",
       "      <td>-32.507095</td>\n",
       "      <td>-628.821655</td>\n",
       "      <td>-685.840515</td>\n",
       "      <td>...</td>\n",
       "      <td>-34.193291</td>\n",
       "      <td>-988.104797</td>\n",
       "      <td>2480.307617</td>\n",
       "      <td>-549.141663</td>\n",
       "      <td>-2419.559570</td>\n",
       "      <td>-195.405609</td>\n",
       "      <td>1759.250610</td>\n",
       "      <td>2871.759521</td>\n",
       "      <td>1091.386353</td>\n",
       "      <td>563.062012</td>\n",
       "    </tr>\n",
       "    <tr>\n",
       "      <th>10-5</th>\n",
       "      <td>97127.101563</td>\n",
       "      <td>97258.140625</td>\n",
       "      <td>97564.726563</td>\n",
       "      <td>97469.171875</td>\n",
       "      <td>97303.156250</td>\n",
       "      <td>97887.296875</td>\n",
       "      <td>97884.289063</td>\n",
       "      <td>97125.609375</td>\n",
       "      <td>97648.882813</td>\n",
       "      <td>97589.593750</td>\n",
       "      <td>...</td>\n",
       "      <td>119377.078125</td>\n",
       "      <td>118732.335938</td>\n",
       "      <td>119136.078125</td>\n",
       "      <td>117133.742188</td>\n",
       "      <td>116621.890625</td>\n",
       "      <td>116781.093750</td>\n",
       "      <td>116271.398438</td>\n",
       "      <td>116797.921875</td>\n",
       "      <td>115540.117188</td>\n",
       "      <td>114741.585938</td>\n",
       "    </tr>\n",
       "    <tr>\n",
       "      <th>10-5</th>\n",
       "      <td>219578.250000</td>\n",
       "      <td>220830.187500</td>\n",
       "      <td>220771.453125</td>\n",
       "      <td>221762.437500</td>\n",
       "      <td>221469.750000</td>\n",
       "      <td>221243.656250</td>\n",
       "      <td>221607.484375</td>\n",
       "      <td>220400.375000</td>\n",
       "      <td>221391.859375</td>\n",
       "      <td>220945.718750</td>\n",
       "      <td>...</td>\n",
       "      <td>250665.859375</td>\n",
       "      <td>249202.359375</td>\n",
       "      <td>249615.328125</td>\n",
       "      <td>246175.250000</td>\n",
       "      <td>243489.390625</td>\n",
       "      <td>244255.625000</td>\n",
       "      <td>244473.578125</td>\n",
       "      <td>244691.343750</td>\n",
       "      <td>242163.375000</td>\n",
       "      <td>240281.656250</td>\n",
       "    </tr>\n",
       "    <tr>\n",
       "      <th>10-5</th>\n",
       "      <td>385339.218750</td>\n",
       "      <td>386385.531250</td>\n",
       "      <td>386615.062500</td>\n",
       "      <td>388616.406250</td>\n",
       "      <td>386884.218750</td>\n",
       "      <td>388539.875000</td>\n",
       "      <td>388254.937500</td>\n",
       "      <td>386845.218750</td>\n",
       "      <td>386646.375000</td>\n",
       "      <td>387036.875000</td>\n",
       "      <td>...</td>\n",
       "      <td>361945.906250</td>\n",
       "      <td>359957.218750</td>\n",
       "      <td>362346.062500</td>\n",
       "      <td>358185.375000</td>\n",
       "      <td>355126.156250</td>\n",
       "      <td>356096.781250</td>\n",
       "      <td>356724.500000</td>\n",
       "      <td>356428.125000</td>\n",
       "      <td>353148.750000</td>\n",
       "      <td>351021.562500</td>\n",
       "    </tr>\n",
       "    <tr>\n",
       "      <th>10-5</th>\n",
       "      <td>-935.085388</td>\n",
       "      <td>377.237488</td>\n",
       "      <td>314.292084</td>\n",
       "      <td>1242.235718</td>\n",
       "      <td>833.153870</td>\n",
       "      <td>442.470734</td>\n",
       "      <td>598.348572</td>\n",
       "      <td>-855.757202</td>\n",
       "      <td>-146.164642</td>\n",
       "      <td>-904.948914</td>\n",
       "      <td>...</td>\n",
       "      <td>1377.255127</td>\n",
       "      <td>771.141846</td>\n",
       "      <td>2071.363525</td>\n",
       "      <td>-448.195099</td>\n",
       "      <td>-2177.897949</td>\n",
       "      <td>-416.690399</td>\n",
       "      <td>839.180298</td>\n",
       "      <td>2141.546143</td>\n",
       "      <td>748.072327</td>\n",
       "      <td>54.912479</td>\n",
       "    </tr>\n",
       "    <tr>\n",
       "      <th>...</th>\n",
       "      <td>...</td>\n",
       "      <td>...</td>\n",
       "      <td>...</td>\n",
       "      <td>...</td>\n",
       "      <td>...</td>\n",
       "      <td>...</td>\n",
       "      <td>...</td>\n",
       "      <td>...</td>\n",
       "      <td>...</td>\n",
       "      <td>...</td>\n",
       "      <td>...</td>\n",
       "      <td>...</td>\n",
       "      <td>...</td>\n",
       "      <td>...</td>\n",
       "      <td>...</td>\n",
       "      <td>...</td>\n",
       "      <td>...</td>\n",
       "      <td>...</td>\n",
       "      <td>...</td>\n",
       "      <td>...</td>\n",
       "      <td>...</td>\n",
       "    </tr>\n",
       "    <tr>\n",
       "      <th>10-16</th>\n",
       "      <td>1.967078</td>\n",
       "      <td>-12.555948</td>\n",
       "      <td>36.688572</td>\n",
       "      <td>-48.831333</td>\n",
       "      <td>17.125116</td>\n",
       "      <td>41.215912</td>\n",
       "      <td>107.109932</td>\n",
       "      <td>-16.575123</td>\n",
       "      <td>36.552021</td>\n",
       "      <td>-27.233526</td>\n",
       "      <td>...</td>\n",
       "      <td>106.215317</td>\n",
       "      <td>-2.616327</td>\n",
       "      <td>-7.360904</td>\n",
       "      <td>-2.412675</td>\n",
       "      <td>6.049850</td>\n",
       "      <td>6.693320</td>\n",
       "      <td>20.503700</td>\n",
       "      <td>-27.228056</td>\n",
       "      <td>7.384184</td>\n",
       "      <td>-1.549209</td>\n",
       "    </tr>\n",
       "    <tr>\n",
       "      <th>10-16</th>\n",
       "      <td>-171.033752</td>\n",
       "      <td>-34.110569</td>\n",
       "      <td>54.883327</td>\n",
       "      <td>72.430870</td>\n",
       "      <td>48.438362</td>\n",
       "      <td>118.502975</td>\n",
       "      <td>73.801674</td>\n",
       "      <td>143.436600</td>\n",
       "      <td>163.877151</td>\n",
       "      <td>175.893814</td>\n",
       "      <td>...</td>\n",
       "      <td>-60.469582</td>\n",
       "      <td>-12.187128</td>\n",
       "      <td>33.704266</td>\n",
       "      <td>15.710059</td>\n",
       "      <td>10.881565</td>\n",
       "      <td>-31.039162</td>\n",
       "      <td>18.227861</td>\n",
       "      <td>-6.642657</td>\n",
       "      <td>-1.051608</td>\n",
       "      <td>-4.995205</td>\n",
       "    </tr>\n",
       "    <tr>\n",
       "      <th>10-16</th>\n",
       "      <td>-54.453468</td>\n",
       "      <td>-55.354725</td>\n",
       "      <td>39.838894</td>\n",
       "      <td>-2.653300</td>\n",
       "      <td>43.845318</td>\n",
       "      <td>32.227077</td>\n",
       "      <td>15.858061</td>\n",
       "      <td>-27.418959</td>\n",
       "      <td>84.465172</td>\n",
       "      <td>37.605629</td>\n",
       "      <td>...</td>\n",
       "      <td>33.955193</td>\n",
       "      <td>25.385023</td>\n",
       "      <td>38.613754</td>\n",
       "      <td>27.246105</td>\n",
       "      <td>-12.382129</td>\n",
       "      <td>-14.256031</td>\n",
       "      <td>-67.468140</td>\n",
       "      <td>11.449564</td>\n",
       "      <td>31.507744</td>\n",
       "      <td>-29.285139</td>\n",
       "    </tr>\n",
       "    <tr>\n",
       "      <th>10-16</th>\n",
       "      <td>-28.515684</td>\n",
       "      <td>-24.338871</td>\n",
       "      <td>43.386528</td>\n",
       "      <td>15.715405</td>\n",
       "      <td>-49.855354</td>\n",
       "      <td>20.908520</td>\n",
       "      <td>2.452895</td>\n",
       "      <td>47.831200</td>\n",
       "      <td>120.800232</td>\n",
       "      <td>-24.004854</td>\n",
       "      <td>...</td>\n",
       "      <td>12.379992</td>\n",
       "      <td>-21.388491</td>\n",
       "      <td>19.753670</td>\n",
       "      <td>-9.222724</td>\n",
       "      <td>-22.285759</td>\n",
       "      <td>98.695221</td>\n",
       "      <td>-12.494920</td>\n",
       "      <td>19.175562</td>\n",
       "      <td>-30.503279</td>\n",
       "      <td>13.824081</td>\n",
       "    </tr>\n",
       "    <tr>\n",
       "      <th>10-16</th>\n",
       "      <td>-18.612278</td>\n",
       "      <td>-3.087871</td>\n",
       "      <td>-1.980019</td>\n",
       "      <td>37.213417</td>\n",
       "      <td>79.334549</td>\n",
       "      <td>-16.443537</td>\n",
       "      <td>-21.401554</td>\n",
       "      <td>-19.020617</td>\n",
       "      <td>24.997248</td>\n",
       "      <td>37.306274</td>\n",
       "      <td>...</td>\n",
       "      <td>-8.047587</td>\n",
       "      <td>-6.621614</td>\n",
       "      <td>13.383329</td>\n",
       "      <td>-15.570125</td>\n",
       "      <td>21.213516</td>\n",
       "      <td>75.427628</td>\n",
       "      <td>13.551352</td>\n",
       "      <td>21.754448</td>\n",
       "      <td>-43.830803</td>\n",
       "      <td>10.714086</td>\n",
       "    </tr>\n",
       "  </tbody>\n",
       "</table>\n",
       "<p>65 rows × 472 columns</p>\n",
       "</div>"
      ],
      "text/plain": [
       "#Wave    1800.529297    1798.058594    1795.587891    1793.115234  \\\n",
       "10-5     -884.945862     365.106628     681.141541    2663.393066   \n",
       "10-5    97127.101563   97258.140625   97564.726563   97469.171875   \n",
       "10-5   219578.250000  220830.187500  220771.453125  221762.437500   \n",
       "10-5   385339.218750  386385.531250  386615.062500  388616.406250   \n",
       "10-5     -935.085388     377.237488     314.292084    1242.235718   \n",
       "...              ...            ...            ...            ...   \n",
       "10-16       1.967078     -12.555948      36.688572     -48.831333   \n",
       "10-16    -171.033752     -34.110569      54.883327      72.430870   \n",
       "10-16     -54.453468     -55.354725      39.838894      -2.653300   \n",
       "10-16     -28.515684     -24.338871      43.386528      15.715405   \n",
       "10-16     -18.612278      -3.087871      -1.980019      37.213417   \n",
       "\n",
       "#Wave    1790.642578    1788.169922    1785.697266    1783.222656  \\\n",
       "10-5      817.380920    2274.744385    1716.629883     -32.507095   \n",
       "10-5    97303.156250   97887.296875   97884.289063   97125.609375   \n",
       "10-5   221469.750000  221243.656250  221607.484375  220400.375000   \n",
       "10-5   386884.218750  388539.875000  388254.937500  386845.218750   \n",
       "10-5      833.153870     442.470734     598.348572    -855.757202   \n",
       "...              ...            ...            ...            ...   \n",
       "10-16      17.125116      41.215912     107.109932     -16.575123   \n",
       "10-16      48.438362     118.502975      73.801674     143.436600   \n",
       "10-16      43.845318      32.227077      15.858061     -27.418959   \n",
       "10-16     -49.855354      20.908520       2.452895      47.831200   \n",
       "10-16      79.334549     -16.443537     -21.401554     -19.020617   \n",
       "\n",
       "#Wave    1780.746094    1778.269531  ...    574.373047     571.517578   \\\n",
       "10-5     -628.821655    -685.840515  ...     -34.193291    -988.104797   \n",
       "10-5    97648.882813   97589.593750  ...  119377.078125  118732.335938   \n",
       "10-5   221391.859375  220945.718750  ...  250665.859375  249202.359375   \n",
       "10-5   386646.375000  387036.875000  ...  361945.906250  359957.218750   \n",
       "10-5     -146.164642    -904.948914  ...    1377.255127     771.141846   \n",
       "...              ...            ...  ...            ...            ...   \n",
       "10-16      36.552021     -27.233526  ...     106.215317      -2.616327   \n",
       "10-16     163.877151     175.893814  ...     -60.469582     -12.187128   \n",
       "10-16      84.465172      37.605629  ...      33.955193      25.385023   \n",
       "10-16     120.800232     -24.004854  ...      12.379992     -21.388491   \n",
       "10-16      24.997248      37.306274  ...      -8.047587      -6.621614   \n",
       "\n",
       "#Wave    568.662109     565.804688     562.947266     560.089844   \\\n",
       "10-5     2480.307617    -549.141663   -2419.559570    -195.405609   \n",
       "10-5   119136.078125  117133.742188  116621.890625  116781.093750   \n",
       "10-5   249615.328125  246175.250000  243489.390625  244255.625000   \n",
       "10-5   362346.062500  358185.375000  355126.156250  356096.781250   \n",
       "10-5     2071.363525    -448.195099   -2177.897949    -416.690399   \n",
       "...              ...            ...            ...            ...   \n",
       "10-16      -7.360904      -2.412675       6.049850       6.693320   \n",
       "10-16      33.704266      15.710059      10.881565     -31.039162   \n",
       "10-16      38.613754      27.246105     -12.382129     -14.256031   \n",
       "10-16      19.753670      -9.222724     -22.285759      98.695221   \n",
       "10-16      13.383329     -15.570125      21.213516      75.427628   \n",
       "\n",
       "#Wave    557.230469     554.369141     551.507813     548.646484   \n",
       "10-5     1759.250610    2871.759521    1091.386353     563.062012  \n",
       "10-5   116271.398438  116797.921875  115540.117188  114741.585938  \n",
       "10-5   244473.578125  244691.343750  242163.375000  240281.656250  \n",
       "10-5   356724.500000  356428.125000  353148.750000  351021.562500  \n",
       "10-5      839.180298    2141.546143     748.072327      54.912479  \n",
       "...              ...            ...            ...            ...  \n",
       "10-16      20.503700     -27.228056       7.384184      -1.549209  \n",
       "10-16      18.227861      -6.642657      -1.051608      -4.995205  \n",
       "10-16     -67.468140      11.449564      31.507744     -29.285139  \n",
       "10-16     -12.494920      19.175562     -30.503279      13.824081  \n",
       "10-16      13.551352      21.754448     -43.830803      10.714086  \n",
       "\n",
       "[65 rows x 472 columns]"
      ]
     },
     "execution_count": 13,
     "metadata": {},
     "output_type": "execute_result"
    }
   ],
   "source": [
    "#Get Evaporating Ouzo Data\n",
    "concs = ['10-5', '10-9', '10-11', '10-14', '10-16']\n",
    "df = me.GetFolderSpectra(\"ESMA\", \"r6g(Evap Ouzo)\", concs)\n",
    "col_names = np.array(df.columns)\n",
    "df"
   ]
  },
  {
   "cell_type": "code",
   "execution_count": 3,
   "id": "6d3c9fbe",
   "metadata": {},
   "outputs": [],
   "source": [
    "#Perform Train Test Split\n",
    "\n",
    "from sklearn.model_selection import train_test_split\n",
    "\n",
    "[train, test] = train_test_split(df, random_state = 42, shuffle = True, train_size = 0.8)\n",
    "\n",
    "y_tn = train.index\n",
    "y_tt = test.index\n",
    "X_tt = test.to_numpy()\n",
    "X_tn = train.to_numpy()"
   ]
  },
  {
   "cell_type": "code",
   "execution_count": 4,
   "id": "a3299b44",
   "metadata": {},
   "outputs": [],
   "source": [
    "#Scale Dataset\n",
    "\n",
    "from sklearn.preprocessing import StandardScaler\n",
    "\n",
    "Scale = StandardScaler()\n",
    "\n",
    "X_tn = Scale.fit_transform(X_tn)\n",
    "X_tt = Scale.transform(X_tt)"
   ]
  },
  {
   "cell_type": "code",
   "execution_count": 5,
   "id": "4185eabf",
   "metadata": {},
   "outputs": [],
   "source": [
    "#Fit Classifiers and Predict Test Values.\n",
    "\n",
    "LinClass = Perceptron()\n",
    "LinClass.fit(X_tn, y_tn)\n",
    "ypred = LinClass.predict(X_tt)\n",
    "\n",
    "RFC = RandomForestClassifier(random_state = 42)\n",
    "RFC.fit(X_tn, y_tn)\n",
    "ypred = RFC.predict(X_tt)\n",
    "\n",
    "SVC = LinearSVC(max_iter = 10000, random_state = 42)\n",
    "SVC.fit(X_tn, y_tn)\n",
    "ypred = SVC.predict(X_tt)\n",
    "\n",
    "KNN = KNeighborsClassifier()\n",
    "KNN.fit(X_tn, y_tn)\n",
    "ypred = KNN.predict(X_tt)"
   ]
  },
  {
   "cell_type": "code",
   "execution_count": 6,
   "id": "7f3ff422",
   "metadata": {},
   "outputs": [
    {
     "data": {
      "text/plain": [
       "'Random Forest Cross Validation'"
      ]
     },
     "metadata": {},
     "output_type": "display_data"
    },
    {
     "data": {
      "text/plain": [
       "array([0.69230769, 0.84615385, 0.92307692, 0.76923077, 0.69230769])"
      ]
     },
     "metadata": {},
     "output_type": "display_data"
    },
    {
     "data": {
      "text/plain": [
       "0.7846153846153847"
      ]
     },
     "metadata": {},
     "output_type": "display_data"
    },
    {
     "data": {
      "text/plain": [
       "'Support Vector Cross Validation'"
      ]
     },
     "metadata": {},
     "output_type": "display_data"
    },
    {
     "data": {
      "text/plain": [
       "array([0.61538462, 0.53846154, 0.53846154, 0.46153846, 0.61538462])"
      ]
     },
     "metadata": {},
     "output_type": "display_data"
    },
    {
     "data": {
      "text/plain": [
       "0.5538461538461539"
      ]
     },
     "metadata": {},
     "output_type": "display_data"
    },
    {
     "data": {
      "text/plain": [
       "'K-Neighbors Cross Validation'"
      ]
     },
     "metadata": {},
     "output_type": "display_data"
    },
    {
     "data": {
      "text/plain": [
       "array([0.53846154, 0.84615385, 0.76923077, 0.61538462, 0.69230769])"
      ]
     },
     "metadata": {},
     "output_type": "display_data"
    },
    {
     "data": {
      "text/plain": [
       "0.6923076923076923"
      ]
     },
     "metadata": {},
     "output_type": "display_data"
    }
   ],
   "source": [
    "#Calculate Cross Validation Scores\n",
    "from sklearn.model_selection import cross_val_score\n",
    "\n",
    "df.columns = df.columns.astype(str)\n",
    "\n",
    "X_ = np.append(X_tn, X_tt, axis = 0)\n",
    "y = np.append(y_tn, y_tt)\n",
    "\n",
    "RFCscore = cross_val_score(RFC, X_, y)\n",
    "display(\"Random Forest Cross Validation\")\n",
    "display(RFCscore)\n",
    "display(np.mean(RFCscore))\n",
    "\n",
    "SVCscore = cross_val_score(SVC, X_, y)\n",
    "display(\"Support Vector Cross Validation\")\n",
    "display(SVCscore)\n",
    "display(np.mean(SVCscore))\n",
    "\n",
    "KNCscore = cross_val_score(KNN, X_, y)\n",
    "display(\"K-Neighbors Cross Validation\")\n",
    "display(KNCscore)\n",
    "display(np.mean(KNCscore))"
   ]
  },
  {
   "cell_type": "code",
   "execution_count": 17,
   "id": "1e36f82e",
   "metadata": {},
   "outputs": [
    {
     "data": {
      "image/png": "[encoded data removed]",
      "text/plain": [
       "<Figure size 432x288 with 1 Axes>"
      ]
     },
     "metadata": {
      "needs_background": "light"
     },
     "output_type": "display_data"
    },
    {
     "data": {
      "image/png": "[encoded data removed]",
      "text/plain": [
       "<Figure size 432x288 with 1 Axes>"
      ]
     },
     "metadata": {
      "needs_background": "light"
     },
     "output_type": "display_data"
    }
   ],
   "source": [
    "#Apply Fourier Transform to Training and Testing Data\n",
    "#Fourier Transform Performs Best Without Scaling\n",
    "X_tt = test.to_numpy()\n",
    "X_tn = train.to_numpy()\n",
    "\n",
    "X_tnf = np.fft.fft(X_tn)\n",
    "X_ttf = np.fft.fft(X_tt)\n",
    "\n",
    "#Data is stored as columns of all real values followed by columns of all imaginary values.\n",
    "X_tnf = np.append(np.real(X_tnf), np.imag(X_tnf), axis = 1)\n",
    "X_ttf = np.append(np.real(X_ttf), np.imag(X_ttf), axis = 1)\n",
    "\n",
    "plt.figure()\n",
    "plt.plot(X_tnf[1, :])\n",
    "plt.figure()\n",
    "plt.plot(X_tnf[7, :]);"
   ]
  },
  {
   "cell_type": "code",
   "execution_count": 18,
   "id": "d99aca11",
   "metadata": {},
   "outputs": [],
   "source": [
    "#Fit Classifiers and Predict Test Values.\n",
    "\n",
    "LinClass = Perceptron()\n",
    "LinClass.fit(X_tnf, y_tn)\n",
    "ypred = LinClass.predict(X_ttf)\n",
    "\n",
    "RFC = RandomForestClassifier(random_state = 42)\n",
    "RFC.fit(X_tnf, y_tn)\n",
    "ypred = RFC.predict(X_ttf)\n",
    "\n",
    "SVC = LinearSVC(max_iter = 10000, random_state = 42)\n",
    "SVC.fit(X_tnf, y_tn)\n",
    "ypred = SVC.predict(X_ttf)\n",
    "\n",
    "KNN = KNeighborsClassifier()\n",
    "KNN.fit(X_tnf, y_tn)\n",
    "ypred = KNN.predict(X_ttf)"
   ]
  },
  {
   "cell_type": "code",
   "execution_count": 19,
   "id": "e562e842",
   "metadata": {},
   "outputs": [
    {
     "data": {
      "text/plain": [
       "'Random Forest Cross Validation'"
      ]
     },
     "metadata": {},
     "output_type": "display_data"
    },
    {
     "data": {
      "text/plain": [
       "array([0.84615385, 0.84615385, 0.76923077, 0.76923077, 0.84615385])"
      ]
     },
     "metadata": {},
     "output_type": "display_data"
    },
    {
     "data": {
      "text/plain": [
       "0.8153846153846154"
      ]
     },
     "metadata": {},
     "output_type": "display_data"
    },
    {
     "data": {
      "text/plain": [
       "'Support Vector Cross Validation'"
      ]
     },
     "metadata": {},
     "output_type": "display_data"
    },
    {
     "data": {
      "text/plain": [
       "array([0.46153846, 0.92307692, 0.53846154, 0.69230769, 0.76923077])"
      ]
     },
     "metadata": {},
     "output_type": "display_data"
    },
    {
     "data": {
      "text/plain": [
       "0.6769230769230768"
      ]
     },
     "metadata": {},
     "output_type": "display_data"
    },
    {
     "data": {
      "text/plain": [
       "'K-Neighbors Cross Validation'"
      ]
     },
     "metadata": {},
     "output_type": "display_data"
    },
    {
     "data": {
      "text/plain": [
       "array([0.53846154, 0.53846154, 0.46153846, 0.23076923, 0.38461538])"
      ]
     },
     "metadata": {},
     "output_type": "display_data"
    },
    {
     "data": {
      "text/plain": [
       "0.43076923076923074"
      ]
     },
     "metadata": {},
     "output_type": "display_data"
    }
   ],
   "source": [
    "#Calculate Cross Validation Scores\n",
    "from sklearn.model_selection import cross_val_score\n",
    "\n",
    "df.columns = df.columns.astype(str)\n",
    "\n",
    "X_f = np.append(X_tnf, X_ttf, axis = 0)\n",
    "y = np.append(y_tn, y_tt)\n",
    "\n",
    "RFCscore = cross_val_score(RFC, X_f, y)\n",
    "display(\"Random Forest Cross Validation\")\n",
    "display(RFCscore)\n",
    "display(np.mean(RFCscore))\n",
    "\n",
    "SVCscore = cross_val_score(SVC, X_f, y)\n",
    "display(\"Support Vector Cross Validation\")\n",
    "display(SVCscore)\n",
    "display(np.mean(SVCscore))\n",
    "\n",
    "KNCscore = cross_val_score(KNN, X_f, y)\n",
    "display(\"K-Neighbors Cross Validation\")\n",
    "display(KNCscore)\n",
    "display(np.mean(KNCscore))"
   ]
  },
  {
   "cell_type": "code",
   "execution_count": 26,
   "id": "f162f5c6",
   "metadata": {},
   "outputs": [
    {
     "data": {
      "image/png": "[encoded data removed]",
      "text/plain": [
       "<Figure size 432x288 with 1 Axes>"
      ]
     },
     "metadata": {
      "needs_background": "light"
     },
     "output_type": "display_data"
    },
    {
     "data": {
      "image/png": "[encoded data removed]",
      "text/plain": [
       "<Figure size 432x288 with 1 Axes>"
      ]
     },
     "metadata": {
      "needs_background": "light"
     },
     "output_type": "display_data"
    }
   ],
   "source": [
    "#Apply Welsh-Hadamard Transform to Training and Testing Data\n",
    "from sympy.discrete.transforms import fwht, ifwht\n",
    "X_tt = test.to_numpy()\n",
    "X_tn = train.to_numpy()\n",
    "\n",
    "X_tnh = np.apply_along_axis(fwht, axis=1, arr=X_tn)\n",
    "X_tth = np.apply_along_axis(fwht, axis=1, arr=X_tt)\n",
    "\n",
    "plt.figure()\n",
    "plt.plot(X_tnh[1, :])\n",
    "plt.figure()\n",
    "plt.plot(X_tnh[7, :]);"
   ]
  },
  {
   "cell_type": "code",
   "execution_count": 27,
   "id": "614a5cf2",
   "metadata": {},
   "outputs": [
    {
     "name": "stderr",
     "output_type": "stream",
     "text": [
      "C:\\Users\\KNU-LIFE\\anaconda3\\lib\\site-packages\\sklearn\\svm\\_base.py:1206: ConvergenceWarning: Liblinear failed to converge, increase the number of iterations.\n",
      "  warnings.warn(\n"
     ]
    }
   ],
   "source": [
    "#Fit Classifiers and Predict Test Values.\n",
    "\n",
    "LinClass = Perceptron()\n",
    "LinClass.fit(X_tnh, y_tn)\n",
    "ypred = LinClass.predict(X_tth)\n",
    "\n",
    "RFC = RandomForestClassifier(random_state = 42)\n",
    "RFC.fit(X_tnh, y_tn)\n",
    "ypred = RFC.predict(X_tth)\n",
    "\n",
    "SVC = LinearSVC(max_iter = 10000, random_state = 42)\n",
    "SVC.fit(X_tnh, y_tn)\n",
    "ypred = SVC.predict(X_tth)\n",
    "\n",
    "KNN = KNeighborsClassifier()\n",
    "KNN.fit(X_tnh, y_tn)\n",
    "ypred = KNN.predict(X_tth)"
   ]
  },
  {
   "cell_type": "code",
   "execution_count": null,
   "id": "ecfb146e",
   "metadata": {},
   "outputs": [],
   "source": [
    "#Calculate Cross Validation Scores\n",
    "from sklearn.model_selection import cross_val_score\n",
    "\n",
    "df.columns = df.columns.astype(str)\n",
    "\n",
    "X_h = np.append(X_tnh, X_tth, axis = 0)\n",
    "y = np.append(y_tn, y_tt)\n",
    "\n",
    "RFCscore = cross_val_score(RFC, X_h,y)\n",
    "display(\"Random Forest Cross Validation\")\n",
    "display(RFCscore)\n",
    "display(np.mean(RFCscore))\n",
    "\n",
    "SVCscore = cross_val_score(SVC, X_h, y)\n",
    "display(\"Support Vector Cross Validation\")\n",
    "display(SVCscore)\n",
    "display(np.mean(SVCscore))\n",
    "\n",
    "KNCscore = cross_val_score(KNN, X_h, y)\n",
    "display(\"K-Neighbors Cross Validation\")\n",
    "display(KNCscore)\n",
    "display(np.mean(KNCscore))"
   ]
  },
  {
   "cell_type": "code",
   "execution_count": null,
   "id": "d8bc71e8",
   "metadata": {},
   "outputs": [],
   "source": []
  },
  {
   "cell_type": "code",
   "execution_count": null,
   "id": "0c45f86a",
   "metadata": {},
   "outputs": [],
   "source": []
  }
 ],
 "metadata": {
  "kernelspec": {
   "display_name": "Python 3 (ipykernel)",
   "language": "python",
   "name": "python3"
  },
  "language_info": {
   "codemirror_mode": {
    "name": "ipython",
    "version": 3
   },
   "file_extension": ".py",
   "mimetype": "text/x-python",
   "name": "python",
   "nbconvert_exporter": "python",
   "pygments_lexer": "ipython3",
   "version": "3.9.12"
  }
 },
 "nbformat": 4,
 "nbformat_minor": 5
}
