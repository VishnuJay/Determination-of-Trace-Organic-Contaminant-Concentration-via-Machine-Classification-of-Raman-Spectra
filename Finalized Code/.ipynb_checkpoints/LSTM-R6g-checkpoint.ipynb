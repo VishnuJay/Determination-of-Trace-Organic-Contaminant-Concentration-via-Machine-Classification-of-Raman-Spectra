{
 "cells": [
  {
   "cell_type": "code",
   "execution_count": 1,
   "id": "d5953c12",
   "metadata": {},
   "outputs": [],
   "source": [
    "import pandas as pd\n",
    "import numpy as np\n",
    "from scipy import stats as stats\n",
    "import matplotlib.pyplot as plt\n",
    "import seaborn as sb\n",
    "import KeyFunctions as me\n",
    "import tensorflow as tf\n",
    "RandState = 117\n",
    "\n",
    "from keras.models import Sequential\n",
    "from keras.layers import Dense, Dropout, Conv1D, MaxPooling1D, Flatten, MaxPooling2D, LSTM\n",
    "from keras.wrappers.scikit_learn import KerasClassifier\n",
    "from keras.utils import np_utils\n",
    "from sklearn.model_selection import cross_val_score\n",
    "from sklearn.preprocessing import LabelEncoder\n",
    "from sklearn.model_selection import StratifiedKFold\n",
    "\n",
    "n = 20"
   ]
  },
  {
   "cell_type": "code",
   "execution_count": 2,
   "id": "22b201c0",
   "metadata": {},
   "outputs": [],
   "source": [
    "from sklearn.model_selection import train_test_split\n",
    "\n",
    "#Import Full R6g Dataset\n",
    "df, labels = me.ConstructCombinedDataset()\n",
    "\n",
    "[train, test] = train_test_split(df, random_state = RandState, shuffle = True, train_size = 0.8)\n",
    "\n",
    "y_tn = train.index\n",
    "y_tt = test.index\n",
    "X_tt = test.to_numpy()\n",
    "X_tn = train.to_numpy()\n",
    "\n",
    "#Augment Data to 4000 Spectra\n",
    "X_tnAu, y_tnAu = me.AugmentData(X_tn, y_tn, 4000, df.columns.to_numpy(), False)"
   ]
  },
  {
   "cell_type": "code",
   "execution_count": 3,
   "id": "fdef8ef0",
   "metadata": {},
   "outputs": [],
   "source": [
    "#Set Training Parameters\n",
    "verbose = 1\n",
    "epochsvec = [5, 20, 50]\n",
    "batch_sizevec = [10, 50, 100]\n",
    "epochs = epochsvec[1]\n",
    "batch_size = batch_sizevec[1]"
   ]
  },
  {
   "cell_type": "code",
   "execution_count": 4,
   "id": "479b91a1",
   "metadata": {},
   "outputs": [
    {
     "data": {
      "text/plain": [
       "TensorShape([4000, 472, 1])"
      ]
     },
     "metadata": {},
     "output_type": "display_data"
    },
    {
     "data": {
      "text/plain": [
       "TensorShape([4000, 8])"
      ]
     },
     "metadata": {},
     "output_type": "display_data"
    },
    {
     "data": {
      "text/plain": [
       "TensorShape([23, 472, 1])"
      ]
     },
     "metadata": {},
     "output_type": "display_data"
    },
    {
     "data": {
      "text/plain": [
       "TensorShape([23, 8])"
      ]
     },
     "metadata": {},
     "output_type": "display_data"
    }
   ],
   "source": [
    "from sklearn.preprocessing import LabelEncoder\n",
    "from sklearn.preprocessing import StandardScaler\n",
    "\n",
    "#Scale X-Data with Training Xs\n",
    "scaler = StandardScaler()\n",
    "scaler.fit(X_tnAu)\n",
    "X_tnS = scaler.transform(X_tnAu)\n",
    "X_ttS = scaler.transform(X_tt)\n",
    "\n",
    "#Encode y-Data with Training ys\n",
    "encoder = LabelEncoder()\n",
    "encoder.fit(y_tnAu)\n",
    "y_tn_e = encoder.transform(y_tnAu)\n",
    "y_tn_p = np_utils.to_categorical(y_tn_e, num_classes = len(labels))\n",
    "y_tt_e = encoder.transform(y_tt)\n",
    "y_tt_p = np_utils.to_categorical(y_tt_e, num_classes = len(labels))\n",
    "\n",
    "\n",
    "#Reshape All Data to a 3D Tensor of Shape [Number of Spectra, Number of Timesteps(1), Number of Wavelengths]\n",
    "X_tn_p = X_tnS.reshape(X_tnS.shape[0], X_tnS.shape[1], 1)\n",
    "X_tt_p = X_ttS.reshape(X_ttS.shape[0], X_ttS.shape[1], 1)\n",
    "\n",
    "y_tnT = tf.convert_to_tensor(y_tn_p)\n",
    "y_ttT = tf.convert_to_tensor(y_tt_p)\n",
    "X_tnT = tf.convert_to_tensor(X_tn_p)\n",
    "X_ttT = tf.convert_to_tensor(X_tt_p)\n",
    "\n",
    "display(X_tnT.shape)\n",
    "display(y_tnT.shape)\n",
    "display(X_ttT.shape)\n",
    "display(y_ttT.shape)\n",
    "\n",
    "ytruth = tf.argmax(input = y_ttT, axis = 1).numpy()\n",
    "ytruth = encoder.inverse_transform(ytruth)"
   ]
  },
  {
   "cell_type": "code",
   "execution_count": 5,
   "id": "374fecab",
   "metadata": {},
   "outputs": [
    {
     "name": "stdout",
     "output_type": "stream",
     "text": [
      "Epoch 1/20\n",
      "64/64 [==============================] - 12s 155ms/step - loss: 1.8877 - accuracy: 0.2713 - val_loss: 1.7242 - val_accuracy: 0.3625\n",
      "Epoch 2/20\n",
      "64/64 [==============================] - 10s 151ms/step - loss: 1.7961 - accuracy: 0.3106 - val_loss: 1.7373 - val_accuracy: 0.3338\n",
      "Epoch 3/20\n",
      "64/64 [==============================] - 10s 149ms/step - loss: 1.7319 - accuracy: 0.3209 - val_loss: 1.8217 - val_accuracy: 0.3738\n",
      "Epoch 4/20\n",
      "64/64 [==============================] - 9s 146ms/step - loss: 2.0424 - accuracy: 0.2959 - val_loss: 2.1067 - val_accuracy: 0.1400\n",
      "Epoch 5/20\n",
      "64/64 [==============================] - 10s 153ms/step - loss: 2.0535 - accuracy: 0.1906 - val_loss: 1.9975 - val_accuracy: 0.2075\n",
      "1/1 [==============================] - 1s 552ms/step - loss: 1.5366 - accuracy: 0.4783\n"
     ]
    },
    {
     "data": {
      "text/plain": [
       "0.47826087474823"
      ]
     },
     "metadata": {},
     "output_type": "display_data"
    }
   ],
   "source": [
    "#Multi-class Classification with Keras\n",
    " \n",
    "n_timesteps, n_features, n_outputs = X_tn_p.shape[1], X_tn_p.shape[2], y_tn_p.shape[1]\n",
    "\n",
    "#Define Sequential Model - 1 Convolution Layer, 1 Dropout Layer, 1 Flatten Layer, 2 Dense Layers\n",
    "model = Sequential()\n",
    "model.add(LSTM(100 ,input_shape=(n_timesteps,n_features)))\n",
    "model.add(Dropout(0.5))\n",
    "model.add(Dense(100, activation='relu'))\n",
    "model.add(Dense(n_outputs, activation='softmax'))\n",
    "model.compile(loss='categorical_crossentropy', optimizer='adam', metrics=['accuracy'])\n",
    "\n",
    "#Implement EarlyStopping\n",
    "stopper = tf.keras.callbacks.EarlyStopping(monitor = \"val_loss\",patience = 4,verbose = 0, restore_best_weights = True)\n",
    "\n",
    "#Fit Model\n",
    "history_sc = model.fit(X_tnT, y_tnT, epochs=epochs, batch_size=batch_size, verbose=verbose, validation_split = 0.2, callbacks = stopper)\n",
    "\n",
    "#Evaluate Model\n",
    "_, SCaccuracy = model.evaluate(X_ttT, y_ttT, batch_size=batch_size, verbose=verbose)\n",
    "display(SCaccuracy)"
   ]
  },
  {
   "cell_type": "code",
   "execution_count": 6,
   "id": "e5ccf0ab",
   "metadata": {},
   "outputs": [],
   "source": [
    "#Make Prediction\n",
    "SCypred = model.predict(X_ttT)\n",
    "SCypred = tf.argmax(input = SCypred, axis = 1).numpy()\n",
    "SCypred = encoder.inverse_transform(SCypred)\n"
   ]
  },
  {
   "cell_type": "code",
   "execution_count": 7,
   "id": "50b7e0be",
   "metadata": {},
   "outputs": [
    {
     "data": {
      "text/plain": [
       "array([[ 0.09543707, -0.04727387,  0.1052237 ,  0.08713856,  0.08979579,\n",
       "        -0.16415031, -0.01900424, -0.08890188, -0.06153629,  0.08938381,\n",
       "        -0.0990108 ,  0.01100603,  0.1233132 ,  0.00864991,  0.02158992,\n",
       "        -0.03442707, -0.12511419, -0.00991981, -0.02071118, -0.0784192 ,\n",
       "         0.14227234,  0.00627099,  0.12110764, -0.1038906 , -0.02422068,\n",
       "        -0.07222831,  0.12291766, -0.04205119,  0.04461841,  0.09173581,\n",
       "         0.09880625,  0.08686946,  0.12321122,  0.06348186, -0.00458973,\n",
       "        -0.08040253,  0.06750669, -0.13602878,  0.03315216,  0.04883987,\n",
       "         0.08828621,  0.03047843, -0.02015553,  0.00538551,  0.12014037,\n",
       "         0.08024192, -0.16440678,  0.02817874,  0.00497264,  0.13025947,\n",
       "         0.00299514,  0.13902757, -0.00753462, -0.02528164, -0.09839626,\n",
       "        -0.00204648, -0.04660665,  0.12001818, -0.0378547 , -0.04623849,\n",
       "        -0.09937665,  0.07632598, -0.19153789, -0.09251038, -0.21843268,\n",
       "        -0.07302306, -0.01345255, -0.17861108, -0.14328592, -0.08447031,\n",
       "        -0.08969514, -0.07955473,  0.07907844, -0.01448878,  0.08842523,\n",
       "         0.00087775, -0.01635318,  0.144505  , -0.02076627,  0.26595804,\n",
       "         0.12566714,  0.04723389,  0.06788591, -0.0308656 ,  0.15701173,\n",
       "        -0.01269263,  0.02629143,  0.00860406,  0.13943465,  0.12010346,\n",
       "        -0.06612785,  0.1303891 , -0.01364282,  0.00449328, -0.07745717,\n",
       "        -0.01832216, -0.03442365,  0.06458009,  0.04491935, -0.14650342]],\n",
       "      dtype=float32)"
      ]
     },
     "metadata": {},
     "output_type": "display_data"
    }
   ],
   "source": [
    "#Extract Convolution Feature Maps\n",
    "convlayer = tf.keras.Model(inputs=model.inputs, outputs=model.layers[0].output)\n",
    "\n",
    "spectra = X_ttT[n, :, 0]\n",
    "specvec = list()\n",
    "specvec.append(spectra)\n",
    "spectra = tf.reshape(spectra, (1, len(spectra), 1))\n",
    "\n",
    "SCfeature_maps = convlayer.predict(spectra)\n",
    "display(SCfeature_maps)"
   ]
  },
  {
   "cell_type": "code",
   "execution_count": 8,
   "id": "d53fd3fd",
   "metadata": {},
   "outputs": [
    {
     "data": {
      "text/plain": [
       "TensorShape([4000, 944, 1])"
      ]
     },
     "metadata": {},
     "output_type": "display_data"
    },
    {
     "data": {
      "text/plain": [
       "TensorShape([4000, 8])"
      ]
     },
     "metadata": {},
     "output_type": "display_data"
    },
    {
     "data": {
      "text/plain": [
       "TensorShape([23, 944, 1])"
      ]
     },
     "metadata": {},
     "output_type": "display_data"
    },
    {
     "data": {
      "text/plain": [
       "TensorShape([23, 8])"
      ]
     },
     "metadata": {},
     "output_type": "display_data"
    }
   ],
   "source": [
    "#Apply Fourier Transform to Training and Testing Data\n",
    "X_tnf = np.apply_along_axis(np.fft.fft, axis=1, arr=X_tnAu)\n",
    "X_ttf = np.apply_along_axis(np.fft.fft, axis=1, arr=X_tt)\n",
    "\n",
    "#Combine Real and Imaginary Part of FT in form [real, imaginary]\n",
    "X_tnf = np.append(X_tnf.real, X_tnf.imag, axis = 1)\n",
    "X_ttf = np.append(X_ttf.real, X_ttf.imag, axis = 1)\n",
    "X_tnf= X_tnf.astype('float32')\n",
    "X_ttf= X_ttf.astype('float32')\n",
    "\n",
    "#Scale X-Data with Training Xs\n",
    "scaler = StandardScaler()\n",
    "scaler.fit(X_tnf)\n",
    "X_tnf = scaler.transform(X_tnf)\n",
    "X_ttf = scaler.transform(X_ttf)\n",
    "\n",
    "#Encode y-Data with Training ys\n",
    "encoder = LabelEncoder()\n",
    "encoder.fit(y_tnAu)\n",
    "y_tn_e = encoder.transform(y_tnAu)\n",
    "y_tn_p = np_utils.to_categorical(y_tn_e, num_classes = len(labels))\n",
    "y_tt_e = encoder.transform(y_tt)\n",
    "y_tt_p = np_utils.to_categorical(y_tt_e, num_classes = len(labels))\n",
    "\n",
    "#Reshape All Data to a 3D Tensor of Shape [Number of Spectra, Number of Timesteps(1), Number of Wavelengths]\n",
    "X_tn_p = X_tnf.reshape(X_tnf.shape[0], X_tnf.shape[1], 1)\n",
    "X_tt_p = X_ttf.reshape(X_ttf.shape[0], X_ttf.shape[1], 1)\n",
    "\n",
    "y_tnT = tf.convert_to_tensor(y_tn_p)\n",
    "y_ttT = tf.convert_to_tensor(y_tt_p)\n",
    "X_tnT = tf.convert_to_tensor(X_tn_p)\n",
    "X_ttT = tf.convert_to_tensor(X_tt_p)\n",
    "\n",
    "\n",
    "display(X_tnT.shape)\n",
    "display(y_tnT.shape)\n",
    "display(X_ttT.shape)\n",
    "display(y_ttT.shape)"
   ]
  },
  {
   "cell_type": "code",
   "execution_count": 9,
   "id": "18e552db",
   "metadata": {},
   "outputs": [
    {
     "name": "stdout",
     "output_type": "stream",
     "text": [
      "Epoch 1/20\n",
      "64/64 [==============================] - 23s 323ms/step - loss: 1.8882 - accuracy: 0.2678 - val_loss: 1.6061 - val_accuracy: 0.3975\n",
      "Epoch 2/20\n",
      "64/64 [==============================] - 20s 311ms/step - loss: 1.5036 - accuracy: 0.4216 - val_loss: 1.2660 - val_accuracy: 0.4988\n",
      "Epoch 3/20\n",
      "64/64 [==============================] - 21s 322ms/step - loss: 1.1533 - accuracy: 0.5341 - val_loss: 1.0019 - val_accuracy: 0.5562\n",
      "Epoch 4/20\n",
      "64/64 [==============================] - 20s 315ms/step - loss: 0.9608 - accuracy: 0.5850 - val_loss: 0.9212 - val_accuracy: 0.5125\n",
      "Epoch 5/20\n",
      "64/64 [==============================] - 20s 313ms/step - loss: 0.9112 - accuracy: 0.6084 - val_loss: 0.8187 - val_accuracy: 0.6675\n",
      "Epoch 6/20\n",
      "64/64 [==============================] - 20s 317ms/step - loss: 0.8757 - accuracy: 0.6062 - val_loss: 0.8070 - val_accuracy: 0.6825\n",
      "Epoch 7/20\n",
      "64/64 [==============================] - 21s 323ms/step - loss: 0.8364 - accuracy: 0.6434 - val_loss: 0.7980 - val_accuracy: 0.6550\n",
      "Epoch 8/20\n",
      "64/64 [==============================] - 20s 309ms/step - loss: 0.7912 - accuracy: 0.6547 - val_loss: 0.7204 - val_accuracy: 0.6488\n",
      "Epoch 9/20\n",
      "64/64 [==============================] - 20s 312ms/step - loss: 0.7426 - accuracy: 0.6712 - val_loss: 0.6735 - val_accuracy: 0.6775\n",
      "Epoch 10/20\n",
      "64/64 [==============================] - 20s 314ms/step - loss: 0.7015 - accuracy: 0.6881 - val_loss: 0.6682 - val_accuracy: 0.6938\n",
      "Epoch 11/20\n",
      "64/64 [==============================] - 20s 307ms/step - loss: 0.6965 - accuracy: 0.6900 - val_loss: 0.6390 - val_accuracy: 0.7013\n",
      "Epoch 12/20\n",
      "64/64 [==============================] - 20s 310ms/step - loss: 0.6856 - accuracy: 0.7038 - val_loss: 0.6293 - val_accuracy: 0.7625\n",
      "Epoch 13/20\n",
      "64/64 [==============================] - 20s 311ms/step - loss: 0.6599 - accuracy: 0.7100 - val_loss: 0.6667 - val_accuracy: 0.7013\n",
      "Epoch 14/20\n",
      "64/64 [==============================] - 20s 313ms/step - loss: 0.6701 - accuracy: 0.7016 - val_loss: 0.7653 - val_accuracy: 0.6288\n",
      "1/1 [==============================] - 1s 914ms/step - loss: 0.6695 - accuracy: 0.6957\n"
     ]
    },
    {
     "data": {
      "text/plain": [
       "0.695652186870575"
      ]
     },
     "metadata": {},
     "output_type": "display_data"
    }
   ],
   "source": [
    "#Multi-class Classification with Keras\n",
    " \n",
    "n_timesteps, n_features, n_outputs = X_tn_p.shape[1], X_tn_p.shape[2], y_tn_p.shape[1]\n",
    "\n",
    "#Define Sequential Model - 1 Convolution Layer, 1 Dropout Layer, 1 Flatten Layer, 2 Dense Layers\n",
    "model = Sequential()\n",
    "model.add(LSTM(100 ,input_shape=(n_timesteps,n_features)))\n",
    "model.add(Dropout(0.5))\n",
    "model.add(Dense(100, activation='relu'))\n",
    "model.add(Dense(n_outputs, activation='softmax'))\n",
    "model.compile(loss='categorical_crossentropy', optimizer='adam', metrics=['accuracy'])\n",
    "\n",
    "#Implement EarlyStopping\n",
    "stopper = tf.keras.callbacks.EarlyStopping(monitor = \"val_loss\",patience = 2,verbose = 0, restore_best_weights = True)\n",
    "\n",
    "#Fit Model\n",
    "history_ft = model.fit(X_tnT, y_tnT, epochs=epochs, batch_size=batch_size, verbose=verbose,  validation_split=0.2, callbacks = stopper)\n",
    "\n",
    "#Evaluate Model\n",
    "_, FTaccuracy = model.evaluate(X_ttT, y_ttT, batch_size=batch_size, verbose=verbose)\n",
    "display(FTaccuracy)"
   ]
  },
  {
   "cell_type": "code",
   "execution_count": 10,
   "id": "54173aea",
   "metadata": {},
   "outputs": [],
   "source": [
    "#Make Prediction\n",
    "FTypred = model.predict(X_ttT)\n",
    "FTypred = tf.argmax(input = FTypred, axis = 1).numpy()\n",
    "FTypred = encoder.inverse_transform(FTypred)"
   ]
  },
  {
   "cell_type": "code",
   "execution_count": 11,
   "id": "f0580f92",
   "metadata": {},
   "outputs": [
    {
     "name": "stdout",
     "output_type": "stream",
     "text": [
      "Model: \"model_1\"\n",
      "_________________________________________________________________\n",
      "Layer (type)                 Output Shape              Param #   \n",
      "=================================================================\n",
      "lstm_1_input (InputLayer)    [(None, 944, 1)]          0         \n",
      "_________________________________________________________________\n",
      "lstm_1 (LSTM)                (None, 100)               40800     \n",
      "=================================================================\n",
      "Total params: 40,800\n",
      "Trainable params: 40,800\n",
      "Non-trainable params: 0\n",
      "_________________________________________________________________\n"
     ]
    },
    {
     "data": {
      "text/plain": [
       "array([[-7.86356255e-02,  9.85829532e-02, -1.57830920e-02,\n",
       "        -1.58499777e-01,  1.34546593e-01,  1.02620363e-01,\n",
       "        -9.98782218e-02,  1.88008040e-01,  4.97109108e-02,\n",
       "         6.07219525e-02,  6.28596246e-02,  1.09261062e-04,\n",
       "        -2.18301564e-01,  1.53649494e-01, -1.03693165e-01,\n",
       "        -5.86194545e-02, -1.15569256e-01,  1.12326980e-01,\n",
       "         9.40390453e-02,  1.78506106e-01,  2.00396940e-01,\n",
       "        -1.65031299e-01, -3.35024409e-02,  1.27433553e-01,\n",
       "        -1.14251986e-01, -2.63434462e-02, -1.18410543e-01,\n",
       "         6.41480163e-02, -1.18682213e-01,  9.57195312e-02,\n",
       "         1.55249372e-01, -9.89123434e-02,  9.91758108e-02,\n",
       "        -1.34563744e-01,  1.16622292e-01,  9.17106420e-02,\n",
       "        -5.43991849e-02,  3.74912247e-02,  5.24580665e-03,\n",
       "         8.36235881e-02, -1.97696071e-02,  2.84254830e-02,\n",
       "         1.52771641e-02, -3.85645181e-02, -3.97090390e-02,\n",
       "         5.08261994e-02,  6.89772516e-02, -1.70756057e-01,\n",
       "        -6.59770891e-02, -8.15993920e-02, -7.65279680e-02,\n",
       "         4.47445400e-02,  1.90998241e-01,  9.13279131e-02,\n",
       "         5.58897704e-02,  7.33318478e-02, -8.56234282e-02,\n",
       "        -1.98746756e-01, -6.97591677e-02,  8.77520293e-02,\n",
       "        -7.12817954e-03, -1.10173449e-01, -8.27454478e-02,\n",
       "         9.45384130e-02, -1.03445880e-01,  7.61216879e-02,\n",
       "        -5.04338033e-02, -8.18677619e-02, -1.36318743e-01,\n",
       "        -1.87555999e-01,  9.70387086e-02,  1.13264769e-01,\n",
       "         7.46632665e-02, -2.62764730e-02,  1.94023266e-01,\n",
       "         8.27788860e-02,  4.58102897e-02, -4.27522510e-02,\n",
       "        -9.37151313e-02,  1.20146289e-01,  1.42976955e-01,\n",
       "         1.19864747e-01, -1.12051509e-01, -4.10149060e-02,\n",
       "         1.57915339e-01,  1.08667411e-01,  3.76207777e-03,\n",
       "        -1.06448205e-02,  9.00256634e-02,  5.07966354e-02,\n",
       "         2.95676529e-01,  7.10645989e-02, -7.27899075e-02,\n",
       "         5.80705702e-03,  1.42637074e-01,  6.76467642e-02,\n",
       "         1.01987459e-01, -1.04785018e-01, -4.14220467e-02,\n",
       "         1.05496280e-01]], dtype=float32)"
      ]
     },
     "metadata": {},
     "output_type": "display_data"
    }
   ],
   "source": [
    "convlayer = tf.keras.Model(inputs=model.inputs, outputs=model.layers[0].output)\n",
    "convlayer.summary()\n",
    "\n",
    "spectra = X_ttT[n, :, 0]\n",
    "specvec.append(spectra)\n",
    "spectra = tf.reshape(spectra, (1, len(spectra), 1))\n",
    "\n",
    "FTfeature_maps = convlayer.predict(spectra)\n",
    "display(FTfeature_maps)"
   ]
  },
  {
   "cell_type": "code",
   "execution_count": 12,
   "id": "756a0320",
   "metadata": {},
   "outputs": [
    {
     "data": {
      "text/plain": [
       "TensorShape([4000, 512, 1])"
      ]
     },
     "metadata": {},
     "output_type": "display_data"
    },
    {
     "data": {
      "text/plain": [
       "TensorShape([4000, 8])"
      ]
     },
     "metadata": {},
     "output_type": "display_data"
    },
    {
     "data": {
      "text/plain": [
       "TensorShape([23, 512, 1])"
      ]
     },
     "metadata": {},
     "output_type": "display_data"
    },
    {
     "data": {
      "text/plain": [
       "TensorShape([23, 8])"
      ]
     },
     "metadata": {},
     "output_type": "display_data"
    }
   ],
   "source": [
    "#Apply Welsh-Hadamard Transform to Training and Testing Data\n",
    "from sympy.discrete.transforms import fwht, ifwht\n",
    "X_tnh = np.apply_along_axis(fwht, axis=1, arr=X_tnAu)\n",
    "X_tth = np.apply_along_axis(fwht, axis=1, arr=X_tt)\n",
    "X_tnh = X_tnh.astype('float32')\n",
    "X_tth = X_tth.astype('float32')\n",
    "\n",
    "#Scale X-Data with Training Xs\n",
    "scaler = StandardScaler()\n",
    "scaler.fit(X_tnh)\n",
    "X_tnh = scaler.transform(X_tnh)\n",
    "X_tth = scaler.transform(X_tth)\n",
    "\n",
    "#Encode y-Data with Training ys\n",
    "encoder = LabelEncoder()\n",
    "encoder.fit(y_tnAu)\n",
    "y_tn_e = encoder.transform(y_tnAu)\n",
    "y_tn_p = np_utils.to_categorical(y_tn_e, num_classes = len(labels))\n",
    "y_tt_e = encoder.transform(y_tt)\n",
    "y_tt_p = np_utils.to_categorical(y_tt_e, num_classes = len(labels))\n",
    "\n",
    "#Reshape All Data to a 3D Tensor of Shape [Number of Spectra, Number of Timesteps(1), Number of Wavelengths]\n",
    "X_tn_p = X_tnh.reshape(X_tnh.shape[0], X_tnh.shape[1], 1)\n",
    "X_tt_p = X_tth.reshape(X_tth.shape[0], X_tth.shape[1], 1)\n",
    "\n",
    "y_tnT = tf.convert_to_tensor(y_tn_p)\n",
    "y_ttT = tf.convert_to_tensor(y_tt_p)\n",
    "X_tnT = tf.convert_to_tensor(X_tn_p)\n",
    "X_ttT = tf.convert_to_tensor(X_tt_p)\n",
    "\n",
    "\n",
    "display(X_tnT.shape)\n",
    "display(y_tnT.shape)\n",
    "display(X_ttT.shape)\n",
    "display(y_ttT.shape)"
   ]
  },
  {
   "cell_type": "code",
   "execution_count": 13,
   "id": "b4e029d8",
   "metadata": {},
   "outputs": [
    {
     "name": "stdout",
     "output_type": "stream",
     "text": [
      "Epoch 1/20\n",
      "64/64 [==============================] - 14s 189ms/step - loss: 1.6734 - accuracy: 0.3613 - val_loss: 1.3185 - val_accuracy: 0.4588\n",
      "Epoch 2/20\n",
      "64/64 [==============================] - 11s 176ms/step - loss: 1.2600 - accuracy: 0.4700 - val_loss: 1.2910 - val_accuracy: 0.4737\n",
      "Epoch 3/20\n",
      "64/64 [==============================] - 12s 182ms/step - loss: 1.2399 - accuracy: 0.4834 - val_loss: 1.0584 - val_accuracy: 0.4975\n",
      "Epoch 4/20\n",
      "64/64 [==============================] - 11s 172ms/step - loss: 1.1069 - accuracy: 0.5256 - val_loss: 1.0046 - val_accuracy: 0.5063\n",
      "Epoch 5/20\n",
      "64/64 [==============================] - 11s 172ms/step - loss: 1.0281 - accuracy: 0.5700 - val_loss: 0.8780 - val_accuracy: 0.6725\n",
      "Epoch 6/20\n",
      "64/64 [==============================] - 11s 169ms/step - loss: 0.9447 - accuracy: 0.6000 - val_loss: 0.9045 - val_accuracy: 0.5950\n",
      "Epoch 7/20\n",
      "64/64 [==============================] - 11s 168ms/step - loss: 0.9385 - accuracy: 0.5972 - val_loss: 0.8729 - val_accuracy: 0.6612\n",
      "Epoch 8/20\n",
      "64/64 [==============================] - 11s 173ms/step - loss: 0.8855 - accuracy: 0.6244 - val_loss: 0.7642 - val_accuracy: 0.6950\n",
      "Epoch 9/20\n",
      "64/64 [==============================] - 11s 171ms/step - loss: 0.8252 - accuracy: 0.6544 - val_loss: 0.7472 - val_accuracy: 0.6862\n",
      "Epoch 10/20\n",
      "64/64 [==============================] - 11s 167ms/step - loss: 0.8612 - accuracy: 0.6413 - val_loss: 0.7659 - val_accuracy: 0.6900\n",
      "Epoch 11/20\n",
      "64/64 [==============================] - 11s 170ms/step - loss: 0.8013 - accuracy: 0.6697 - val_loss: 0.6657 - val_accuracy: 0.7212\n",
      "Epoch 12/20\n",
      "64/64 [==============================] - 11s 170ms/step - loss: 0.7535 - accuracy: 0.6872 - val_loss: 0.6714 - val_accuracy: 0.7262\n",
      "Epoch 13/20\n",
      "64/64 [==============================] - 11s 167ms/step - loss: 0.7521 - accuracy: 0.6825 - val_loss: 0.6382 - val_accuracy: 0.7163\n",
      "Epoch 14/20\n",
      "64/64 [==============================] - 11s 171ms/step - loss: 0.7086 - accuracy: 0.6991 - val_loss: 0.6696 - val_accuracy: 0.7250\n",
      "Epoch 15/20\n",
      "64/64 [==============================] - 11s 172ms/step - loss: 0.7711 - accuracy: 0.6778 - val_loss: 0.7261 - val_accuracy: 0.7225\n",
      "Restoring model weights from the end of the best epoch.\n",
      "Epoch 00015: early stopping\n",
      "1/1 [==============================] - 1s 597ms/step - loss: 0.4852 - accuracy: 0.8261\n"
     ]
    },
    {
     "data": {
      "text/plain": [
       "0.8260869383811951"
      ]
     },
     "metadata": {},
     "output_type": "display_data"
    }
   ],
   "source": [
    "#Multi-class Classification with Keras\n",
    " \n",
    "n_timesteps, n_features, n_outputs = X_tn_p.shape[1], X_tn_p.shape[2], y_tn_p.shape[1]\n",
    "\n",
    "#Define Sequential Model - 1 Convolution Layer, 1 Dropout Layer, 1 Flatten Layer, 2 Dense Layers\n",
    "model = Sequential()\n",
    "model.add(LSTM(100 ,input_shape=(n_timesteps,n_features)))\n",
    "model.add(Dropout(0.5))\n",
    "model.add(Dense(100, activation='relu'))\n",
    "model.add(Dense(n_outputs, activation='softmax'))\n",
    "model.compile(loss='categorical_crossentropy', optimizer='adam', metrics=['accuracy'])\n",
    "\n",
    "#Implement EarlyStopping\n",
    "stopper = tf.keras.callbacks.EarlyStopping(monitor = \"val_loss\", mode = 'min',\\\n",
    "                                           patience = 2, verbose = 1, restore_best_weights = True)\n",
    "\n",
    "#Fit Model\n",
    "history_ht = model.fit(X_tnT, y_tnT, epochs=epochs, batch_size=batch_size, verbose=verbose,  validation_split=0.2, callbacks = stopper)\n",
    "\n",
    "#Evaluate Model\n",
    "_, HTaccuracy = model.evaluate(X_ttT, y_ttT, batch_size=batch_size, verbose=verbose)\n",
    "display(HTaccuracy)"
   ]
  },
  {
   "cell_type": "code",
   "execution_count": 14,
   "id": "5d0d1b2b",
   "metadata": {},
   "outputs": [
    {
     "name": "stdout",
     "output_type": "stream",
     "text": [
      "WARNING:tensorflow:5 out of the last 5 calls to <function Model.make_predict_function.<locals>.predict_function at 0x000002161C20ED30> triggered tf.function retracing. Tracing is expensive and the excessive number of tracings could be due to (1) creating @tf.function repeatedly in a loop, (2) passing tensors with different shapes, (3) passing Python objects instead of tensors. For (1), please define your @tf.function outside of the loop. For (2), @tf.function has experimental_relax_shapes=True option that relaxes argument shapes that can avoid unnecessary retracing. For (3), please refer to https://www.tensorflow.org/guide/function#controlling_retracing and https://www.tensorflow.org/api_docs/python/tf/function for  more details.\n"
     ]
    }
   ],
   "source": [
    "#Make Prediction\n",
    "HTypred = model.predict(X_ttT)\n",
    "HTypred = tf.argmax(input = HTypred, axis = 1).numpy()\n",
    "HTypred = encoder.inverse_transform(HTypred)"
   ]
  },
  {
   "cell_type": "code",
   "execution_count": 15,
   "id": "d13ca327",
   "metadata": {},
   "outputs": [
    {
     "name": "stdout",
     "output_type": "stream",
     "text": [
      "Model: \"model_2\"\n",
      "_________________________________________________________________\n",
      "Layer (type)                 Output Shape              Param #   \n",
      "=================================================================\n",
      "lstm_2_input (InputLayer)    [(None, 512, 1)]          0         \n",
      "_________________________________________________________________\n",
      "lstm_2 (LSTM)                (None, 100)               40800     \n",
      "=================================================================\n",
      "Total params: 40,800\n",
      "Trainable params: 40,800\n",
      "Non-trainable params: 0\n",
      "_________________________________________________________________\n",
      "WARNING:tensorflow:6 out of the last 6 calls to <function Model.make_predict_function.<locals>.predict_function at 0x000002161D6068B0> triggered tf.function retracing. Tracing is expensive and the excessive number of tracings could be due to (1) creating @tf.function repeatedly in a loop, (2) passing tensors with different shapes, (3) passing Python objects instead of tensors. For (1), please define your @tf.function outside of the loop. For (2), @tf.function has experimental_relax_shapes=True option that relaxes argument shapes that can avoid unnecessary retracing. For (3), please refer to https://www.tensorflow.org/guide/function#controlling_retracing and https://www.tensorflow.org/api_docs/python/tf/function for  more details.\n"
     ]
    },
    {
     "data": {
      "text/plain": [
       "array([[-0.09717066,  0.08902154, -0.01667521, -0.03627643,  0.03603891,\n",
       "        -0.02561793, -0.00366398,  0.05366231,  0.00157735,  0.10267598,\n",
       "        -0.11713631,  0.02666372, -0.29275754, -0.07786199, -0.15495808,\n",
       "         0.07274871, -0.29922098,  0.15931046, -0.21743007,  0.04378663,\n",
       "        -0.09655149, -0.07325009, -0.06755209, -0.16638984,  0.06127759,\n",
       "        -0.06345785, -0.08689641,  0.24817446, -0.04129331,  0.09244254,\n",
       "         0.03745459,  0.03712813, -0.32328504,  0.15697604,  0.13063912,\n",
       "         0.01340444,  0.07119214,  0.1949111 , -0.23906638,  0.01731734,\n",
       "        -0.00963772, -0.12803015,  0.06701889,  0.07723305,  0.12262001,\n",
       "         0.351831  ,  0.1732479 ,  0.09059933, -0.04293749,  0.01274309,\n",
       "        -0.10210141, -0.22671463, -0.08988267,  0.06942757,  0.00653752,\n",
       "         0.261548  , -0.2757031 ,  0.07649814,  0.07608598,  0.10523459,\n",
       "         0.0633341 ,  0.22741748, -0.04959073, -0.1269106 , -0.03329926,\n",
       "        -0.16211812,  0.06474384,  0.12921482, -0.03407208, -0.00787268,\n",
       "         0.12946084,  0.13962707,  0.03730827, -0.12583543,  0.15745379,\n",
       "        -0.21175013, -0.01376666,  0.02329604, -0.02576183, -0.18564022,\n",
       "        -0.05162119, -0.15959968, -0.20706971,  0.1298554 , -0.0087369 ,\n",
       "        -0.25781804,  0.15091929,  0.11185849, -0.27567765, -0.184373  ,\n",
       "         0.26810786, -0.03335138,  0.161755  , -0.22879656, -0.01284477,\n",
       "        -0.1148915 ,  0.15924546,  0.10098951,  0.22298564, -0.04803936]],\n",
       "      dtype=float32)"
      ]
     },
     "metadata": {},
     "output_type": "display_data"
    }
   ],
   "source": [
    "convlayer = tf.keras.Model(inputs=model.inputs, outputs=model.layers[0].output)\n",
    "convlayer.summary()\n",
    "\n",
    "spectra = X_ttT[n, :, 0]\n",
    "specvec.append(spectra)\n",
    "spectra = tf.reshape(spectra, (1, len(spectra), 1))\n",
    "\n",
    "HTfeature_maps = convlayer.predict(spectra)\n",
    "display(HTfeature_maps)"
   ]
  },
  {
   "cell_type": "code",
   "execution_count": 16,
   "id": "0107edb5",
   "metadata": {},
   "outputs": [
    {
     "data": {
      "text/plain": [
       "array(['10-16', '10-5', '10-16', '10-16', '10-16', '10-5', '10-16',\n",
       "       '10-5', '10-5', '10-5', '10-16', '10-16', '10-5', '10-5', '10-5',\n",
       "       '10-16', '10-16', '10-16', '10-16', '10-5', '10-16', '10-5',\n",
       "       '10-16'], dtype=object)"
      ]
     },
     "metadata": {},
     "output_type": "display_data"
    },
    {
     "data": {
      "text/plain": [
       "0.47826087474823"
      ]
     },
     "metadata": {},
     "output_type": "display_data"
    },
    {
     "data": {
      "text/plain": [
       "0.695652186870575"
      ]
     },
     "metadata": {},
     "output_type": "display_data"
    },
    {
     "data": {
      "text/plain": [
       "0.8260869383811951"
      ]
     },
     "metadata": {},
     "output_type": "display_data"
    }
   ],
   "source": [
    "from sklearn.metrics import confusion_matrix\n",
    "display(SCypred)\n",
    "CMSC = confusion_matrix(ytruth, SCypred, labels = labels)\n",
    "CMFT = confusion_matrix(ytruth, FTypred, labels = labels)\n",
    "CMHT = confusion_matrix(ytruth, HTypred, labels = labels)\n",
    "display(SCaccuracy, FTaccuracy, HTaccuracy)"
   ]
  },
  {
   "cell_type": "code",
   "execution_count": 17,
   "id": "79c1b1a0",
   "metadata": {},
   "outputs": [
    {
     "data": {
      "image/png": "[encoded data removed]",
      "text/plain": [
       "<Figure size 1080x360 with 4 Axes>"
      ]
     },
     "metadata": {
      "needs_background": "light"
     },
     "output_type": "display_data"
    }
   ],
   "source": [
    "fig, axs = plt.subplots(1, 3, sharey = True, figsize = [15, 5])\n",
    "\n",
    "plt.rcParams['xtick.bottom'] = plt.rcParams['xtick.labelbottom'] = False\n",
    "plt.rcParams['xtick.top'] = plt.rcParams['xtick.labeltop'] = True\n",
    "\n",
    "pcm = axs[0].pcolor(CMSC, edgecolors = 'k', cmap = 'gist_heat_r')\n",
    "plt.gca().invert_yaxis()\n",
    "axs[0].set_xticks(ticks = np.linspace(0.5, len(labels)-0.5, num = len(labels)), labels = labels)\n",
    "axs[0].set_yticks(ticks = np.linspace(0.5, len(labels)-0.5, num = len(labels)), labels = labels)\n",
    "axs[0].set_ylabel(\"Actual Condition\")\n",
    "axs[0].set_xlabel(\"Predicted Condition\")\n",
    "axs[0].xaxis.set_label_position('top') \n",
    "axs[0].set_title('Raw Data');\n",
    "\n",
    "axs[1].pcolor(CMFT, edgecolors = 'k', cmap = 'gist_heat_r');\n",
    "plt.gca().invert_yaxis()\n",
    "axs[1].set_xticks(ticks = np.linspace(0.5, len(labels)-0.5, num = len(labels)), labels = labels)\n",
    "axs[1].set_title('Fourier Transform');\n",
    "axs[1].set_xlabel(\"Predicted Condition\")\n",
    "axs[1].xaxis.set_label_position('top')\n",
    "\n",
    "axs[2].pcolor(CMHT, edgecolors = 'k', cmap = 'gist_heat_r')\n",
    "plt.gca().invert_yaxis()\n",
    "axs[2].set_xticks(ticks = np.linspace(0.5, len(labels)-0.5, num = len(labels)), labels = labels);\n",
    "axs[2].set_title('Walsh Hadamard Transform');\n",
    "axs[2].set_xlabel(\"Predicted Condition\")\n",
    "axs[2].xaxis.set_label_position('top')\n",
    "\n",
    "fig.colorbar(pcm, ax = axs[:], location = 'bottom', label = 'Number of Assignments');"
   ]
  },
  {
   "cell_type": "code",
   "execution_count": 18,
   "id": "d8d30a8d",
   "metadata": {},
   "outputs": [
    {
     "data": {
      "image/png": "[encoded data removed]",
      "text/plain": [
       "<Figure size 1008x432 with 2 Axes>"
      ]
     },
     "metadata": {
      "needs_background": "light"
     },
     "output_type": "display_data"
    }
   ],
   "source": [
    "hist_dict = history_sc.history\n",
    "train_loss = hist_dict['loss']\n",
    "val_loss = hist_dict['val_loss']\n",
    "train_acc = hist_dict['accuracy']\n",
    "val_acc = hist_dict['val_accuracy']\n",
    "epochs_vec = range(1, len(train_loss) + 1)\n",
    "\n",
    "\n",
    "fig, ax = plt.subplots(1, 2, figsize=(14, 6))\n",
    "#\n",
    "# Plot the model accuracy vs Epochs\n",
    "#\n",
    "ax[0].plot(epochs_vec, train_acc, 'bo')\n",
    "ax[0].plot(epochs_vec, val_acc, 'b')\n",
    "#\n",
    "# Plot the loss vs Epochs\n",
    "#\n",
    "ax[1].plot(epochs_vec, train_loss, 'bo')\n",
    "ax[1].plot(epochs_vec, val_loss, 'b')\n",
    "\n",
    "hist_dict = history_ft.history\n",
    "train_loss = hist_dict['loss']\n",
    "val_loss = hist_dict['val_loss']\n",
    "train_acc = hist_dict['accuracy']\n",
    "val_acc = hist_dict['val_accuracy']\n",
    "epochs_vec = range(1, len(train_loss) + 1)\n",
    "\n",
    "#\n",
    "# Plot the model accuracy vs Epochs\n",
    "#\n",
    "ax[0].plot(epochs_vec, train_acc, 'ko')\n",
    "ax[0].plot(epochs_vec, val_acc, 'k')\n",
    "\n",
    "#\n",
    "# Plot the loss vs Epochs\n",
    "#\n",
    "ax[1].plot(epochs_vec, train_loss, 'ko')\n",
    "ax[1].plot(epochs_vec, val_loss, 'k')\n",
    "\n",
    "hist_dict = history_ht.history\n",
    "train_loss = hist_dict['loss']\n",
    "val_loss = hist_dict['val_loss']\n",
    "train_acc = hist_dict['accuracy']\n",
    "val_acc = hist_dict['val_accuracy']\n",
    "epochs_vec = range(1, len(train_loss) + 1)\n",
    "\n",
    "#\n",
    "# Plot the model accuracy vs Epochs\n",
    "#\n",
    "ax[0].plot(epochs_vec, train_acc, 'ro')\n",
    "ax[0].plot(epochs_vec, val_acc, 'r')\n",
    "ax[0].set_title('Training & Validation Accuracy', fontsize=16)\n",
    "ax[0].set_xlabel('Epochs')\n",
    "ax[0].set_ylabel('Accuracy')\n",
    "ax[0].legend(['Scaled Training', 'Scaled Validation', 'Fourier Training', 'Fourier Validation', 'Hadamard Training', 'Hadamard Validation'])\n",
    "#\n",
    "# Plot the loss vs Epochs\n",
    "#\n",
    "ax[1].plot(epochs_vec, train_loss, 'ro')\n",
    "ax[1].plot(epochs_vec, val_loss, 'r')\n",
    "ax[1].set_title('Training & Validation Loss', fontsize=16)\n",
    "ax[1].set_xlabel('Epochs')\n",
    "ax[1].set_ylabel('Loss')\n",
    "ax[1].legend(['Scaled Training', 'Scaled Validation', 'Fourier Training', 'Fourier Validation', 'Hadamard Training', 'Hadamard Validation']);\n",
    "\n",
    "plt.savefig(\"Tables and Figures\\SVG Files\\CNN Learning Curve.svg\", format = \"svg\", bbox_inches='tight')\n",
    "plt.savefig(\"Tables and Figures\\PNG Files\\CNN Learning Curve.png\", format = \"png\", bbox_inches='tight')"
   ]
  },
  {
   "cell_type": "code",
   "execution_count": null,
   "id": "cfc768e3",
   "metadata": {},
   "outputs": [],
   "source": []
  }
 ],
 "metadata": {
  "kernelspec": {
   "display_name": "Python 3 (ipykernel)",
   "language": "python",
   "name": "python3"
  },
  "language_info": {
   "codemirror_mode": {
    "name": "ipython",
    "version": 3
   },
   "file_extension": ".py",
   "mimetype": "text/x-python",
   "name": "python",
   "nbconvert_exporter": "python",
   "pygments_lexer": "ipython3",
   "version": "3.9.12"
  }
 },
 "nbformat": 4,
 "nbformat_minor": 5
}
