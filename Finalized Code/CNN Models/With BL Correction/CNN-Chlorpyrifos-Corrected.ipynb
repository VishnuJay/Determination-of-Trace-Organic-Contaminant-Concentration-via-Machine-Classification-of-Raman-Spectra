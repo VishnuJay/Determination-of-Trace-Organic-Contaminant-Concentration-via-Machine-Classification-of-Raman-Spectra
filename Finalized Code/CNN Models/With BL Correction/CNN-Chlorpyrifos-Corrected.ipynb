{
 "cells": [
  {
   "cell_type": "code",
   "execution_count": 1,
   "id": "d5953c12",
   "metadata": {},
   "outputs": [],
   "source": [
    "import pandas as pd\n",
    "import numpy as np\n",
    "from scipy import stats as stats\n",
    "import matplotlib.pyplot as plt\n",
    "import seaborn as sb\n",
    "import KeyFunctions as me\n",
    "import tensorflow as tf\n",
    "RandState = 92\n",
    "\n",
    "from keras.models import Sequential\n",
    "from keras.layers import Dense, Dropout, Conv1D, MaxPooling1D, Flatten, MaxPooling2D\n",
    "from keras.wrappers.scikit_learn import KerasClassifier\n",
    "from keras.utils import np_utils\n",
    "from sklearn.model_selection import cross_val_score\n",
    "from sklearn.preprocessing import LabelEncoder\n",
    "from sklearn.model_selection import StratifiedKFold\n",
    "\n",
    "n = 4"
   ]
  },
  {
   "cell_type": "code",
   "execution_count": 2,
   "id": "22b201c0",
   "metadata": {},
   "outputs": [],
   "source": [
    "from sklearn.model_selection import train_test_split\n",
    "\n",
    "#Import Full Triclosan Dataset\n",
    "df, labels = me.ConstructCombinedChlorDataset()\n",
    "df = me.BaselineCorrection(me.BaselineCorrection(df))\n",
    "\n",
    "[train, test] = train_test_split(df, random_state = RandState, shuffle = True, train_size = 0.9)\n",
    "\n",
    "y_tn = train.index\n",
    "y_tt = test.index\n",
    "X_tt = test.to_numpy()\n",
    "X_tn = train.to_numpy()\n",
    "\n",
    "#Augment Data to 4000 Spectra\n",
    "X_tnAu, y_tnAu = me.AugmentData(X_tn, y_tn, 4000, df.columns.to_numpy(), False)"
   ]
  },
  {
   "cell_type": "code",
   "execution_count": 3,
   "id": "fdef8ef0",
   "metadata": {},
   "outputs": [],
   "source": [
    "#Set Training Parameters\n",
    "verbose = 1\n",
    "epochsvec = [5, 20, 50]\n",
    "batch_sizevec = [10, 50, 100]\n",
    "epochs = epochsvec[1]\n",
    "batch_size = batch_sizevec[1]"
   ]
  },
  {
   "cell_type": "code",
   "execution_count": 4,
   "id": "479b91a1",
   "metadata": {},
   "outputs": [
    {
     "data": {
      "text/plain": [
       "TensorShape([4000, 618, 1])"
      ]
     },
     "metadata": {},
     "output_type": "display_data"
    },
    {
     "data": {
      "text/plain": [
       "TensorShape([4000, 5])"
      ]
     },
     "metadata": {},
     "output_type": "display_data"
    },
    {
     "data": {
      "text/plain": [
       "TensorShape([5, 618, 1])"
      ]
     },
     "metadata": {},
     "output_type": "display_data"
    },
    {
     "data": {
      "text/plain": [
       "TensorShape([5, 5])"
      ]
     },
     "metadata": {},
     "output_type": "display_data"
    }
   ],
   "source": [
    "from sklearn.preprocessing import LabelEncoder\n",
    "from sklearn.preprocessing import StandardScaler\n",
    "\n",
    "#Scale X-Data with Training Xs\n",
    "scaler = StandardScaler()\n",
    "scaler.fit(X_tnAu)\n",
    "X_tnS = scaler.transform(X_tnAu)\n",
    "X_ttS = scaler.transform(X_tt)\n",
    "\n",
    "#Encode y-Data with Training ys\n",
    "encoder = LabelEncoder()\n",
    "encoder.fit(y_tnAu)\n",
    "y_tn_e = encoder.transform(y_tnAu)\n",
    "y_tn_p = np_utils.to_categorical(y_tn_e, num_classes = len(labels))\n",
    "y_tt_e = encoder.transform(y_tt)\n",
    "y_tt_p = np_utils.to_categorical(y_tt_e, num_classes = len(labels))\n",
    "\n",
    "\n",
    "#Reshape All Data to a 3D Tensor of Shape [Number of Spectra, Number of Timesteps(1), Number of Wavelengths]\n",
    "X_tn_p = X_tnS.reshape(X_tnS.shape[0], X_tnS.shape[1], 1)\n",
    "X_tt_p = X_ttS.reshape(X_ttS.shape[0], X_ttS.shape[1], 1)\n",
    "\n",
    "y_tnT = tf.convert_to_tensor(y_tn_p)\n",
    "y_ttT = tf.convert_to_tensor(y_tt_p)\n",
    "X_tnT = tf.convert_to_tensor(X_tn_p)\n",
    "X_ttT = tf.convert_to_tensor(X_tt_p)\n",
    "\n",
    "display(X_tnT.shape)\n",
    "display(y_tnT.shape)\n",
    "display(X_ttT.shape)\n",
    "display(y_ttT.shape)\n",
    "\n",
    "ytruth = tf.argmax(input = y_ttT, axis = 1).numpy()\n",
    "ytruth = encoder.inverse_transform(ytruth)"
   ]
  },
  {
   "cell_type": "code",
   "execution_count": 5,
   "id": "374fecab",
   "metadata": {},
   "outputs": [
    {
     "name": "stdout",
     "output_type": "stream",
     "text": [
      "Epoch 1/20\n",
      "72/72 [==============================] - 6s 62ms/step - loss: 0.1581 - accuracy: 0.9447 - val_loss: 0.0027 - val_accuracy: 1.0000\n",
      "Epoch 2/20\n",
      "72/72 [==============================] - 5s 68ms/step - loss: 2.8650e-04 - accuracy: 1.0000 - val_loss: 0.0014 - val_accuracy: 1.0000\n",
      "Epoch 3/20\n",
      "72/72 [==============================] - 4s 56ms/step - loss: 1.4340e-04 - accuracy: 1.0000 - val_loss: 9.5949e-04 - val_accuracy: 1.0000\n",
      "Epoch 4/20\n",
      "72/72 [==============================] - 4s 56ms/step - loss: 8.1203e-05 - accuracy: 1.0000 - val_loss: 7.1804e-04 - val_accuracy: 1.0000\n",
      "Epoch 5/20\n",
      "72/72 [==============================] - 5s 66ms/step - loss: 5.7122e-05 - accuracy: 1.0000 - val_loss: 5.6125e-04 - val_accuracy: 1.0000\n",
      "Epoch 6/20\n",
      "72/72 [==============================] - 5s 67ms/step - loss: 4.0062e-05 - accuracy: 1.0000 - val_loss: 4.6528e-04 - val_accuracy: 1.0000\n",
      "Epoch 7/20\n",
      "72/72 [==============================] - 4s 60ms/step - loss: 2.9465e-05 - accuracy: 1.0000 - val_loss: 3.8770e-04 - val_accuracy: 1.0000\n",
      "Epoch 8/20\n",
      "72/72 [==============================] - 4s 60ms/step - loss: 2.2571e-05 - accuracy: 1.0000 - val_loss: 3.3836e-04 - val_accuracy: 1.0000\n",
      "Epoch 9/20\n",
      "72/72 [==============================] - 5s 73ms/step - loss: 1.9707e-05 - accuracy: 1.0000 - val_loss: 2.9240e-04 - val_accuracy: 1.0000\n",
      "Epoch 10/20\n",
      "72/72 [==============================] - 4s 60ms/step - loss: 1.4702e-05 - accuracy: 1.0000 - val_loss: 2.6219e-04 - val_accuracy: 1.0000\n",
      "Epoch 11/20\n",
      "72/72 [==============================] - 4s 59ms/step - loss: 1.2755e-05 - accuracy: 1.0000 - val_loss: 2.3382e-04 - val_accuracy: 1.0000\n",
      "Epoch 12/20\n",
      "72/72 [==============================] - 5s 66ms/step - loss: 1.1176e-05 - accuracy: 1.0000 - val_loss: 2.0751e-04 - val_accuracy: 1.0000\n",
      "Epoch 13/20\n",
      "72/72 [==============================] - 5s 68ms/step - loss: 9.7718e-06 - accuracy: 1.0000 - val_loss: 1.8896e-04 - val_accuracy: 1.0000\n",
      "Epoch 14/20\n",
      "72/72 [==============================] - 4s 59ms/step - loss: 7.7606e-06 - accuracy: 1.0000 - val_loss: 1.7064e-04 - val_accuracy: 1.0000\n",
      "Epoch 15/20\n",
      "72/72 [==============================] - 5s 63ms/step - loss: 7.0080e-06 - accuracy: 1.0000 - val_loss: 1.5805e-04 - val_accuracy: 1.0000\n",
      "Epoch 16/20\n",
      "72/72 [==============================] - 5s 72ms/step - loss: 6.3828e-06 - accuracy: 1.0000 - val_loss: 1.4690e-04 - val_accuracy: 1.0000\n",
      "Epoch 17/20\n",
      "72/72 [==============================] - 4s 60ms/step - loss: 5.1896e-06 - accuracy: 1.0000 - val_loss: 1.3600e-04 - val_accuracy: 1.0000\n",
      "Epoch 18/20\n",
      "72/72 [==============================] - 4s 59ms/step - loss: 4.9880e-06 - accuracy: 1.0000 - val_loss: 1.2634e-04 - val_accuracy: 1.0000\n",
      "Epoch 19/20\n",
      "72/72 [==============================] - 5s 67ms/step - loss: 4.4158e-06 - accuracy: 1.0000 - val_loss: 1.1788e-04 - val_accuracy: 1.0000\n",
      "Epoch 20/20\n",
      "72/72 [==============================] - 5s 66ms/step - loss: 3.8951e-06 - accuracy: 1.0000 - val_loss: 1.0984e-04 - val_accuracy: 1.0000\n",
      "1/1 [==============================] - 0s 187ms/step - loss: 0.4198 - accuracy: 0.8000\n"
     ]
    },
    {
     "data": {
      "text/plain": [
       "0.800000011920929"
      ]
     },
     "metadata": {},
     "output_type": "display_data"
    }
   ],
   "source": [
    "#Multi-class Classification with Keras\n",
    " \n",
    "n_timesteps, n_features, n_outputs = X_tn_p.shape[1], X_tn_p.shape[2], y_tn_p.shape[1]\n",
    "\n",
    "#Define Sequential Model - 1 Convolution Layer, 1 Dropout Layer, 1 Flatten Layer, 2 Dense Layers\n",
    "model = Sequential()\n",
    "model.add(Conv1D(filters = 64, kernel_size = 3, activation='relu', input_shape=(n_timesteps,n_features)))\n",
    "model.add(Conv1D(filters = 64, kernel_size = 3, activation='relu'))\n",
    "model.add(Dropout(0.5))\n",
    "model.add(MaxPooling1D(pool_size=2))\n",
    "model.add(Flatten())\n",
    "model.add(Dense(100, activation='relu'))\n",
    "model.add(Dense(n_outputs, activation='softmax'))\n",
    "model.compile(loss='categorical_crossentropy', optimizer='adam', metrics=['accuracy'])\n",
    "\n",
    "#Implement EarlyStopping\n",
    "stopper = tf.keras.callbacks.EarlyStopping(monitor = \"val_loss\",patience = 3,verbose = 0, restore_best_weights = True)\n",
    "\n",
    "#Fit Model\n",
    "model.fit(X_tnT, y_tnT, epochs=epochs, batch_size=batch_size, verbose=verbose, validation_split = 0.1, callbacks = stopper)\n",
    "\n",
    "#Evaluate Model\n",
    "_, SCaccuracy = model.evaluate(X_ttT, y_ttT, batch_size=batch_size, verbose=verbose)\n",
    "display(SCaccuracy)"
   ]
  },
  {
   "cell_type": "code",
   "execution_count": 6,
   "id": "e5ccf0ab",
   "metadata": {},
   "outputs": [],
   "source": [
    "#Make Prediction\n",
    "SCypred = model.predict(X_ttT)\n",
    "SCypred = tf.argmax(input = SCypred, axis = 1).numpy()\n",
    "SCypred = encoder.inverse_transform(SCypred)\n"
   ]
  },
  {
   "cell_type": "code",
   "execution_count": 7,
   "id": "50b7e0be",
   "metadata": {},
   "outputs": [
    {
     "data": {
      "text/plain": [
       "array([[[0.04535324, 0.10738379, 0.        , ..., 0.        ,\n",
       "         0.        , 0.04164099],\n",
       "        [0.        , 0.06302233, 0.        , ..., 0.10980735,\n",
       "         0.11215509, 0.16741125],\n",
       "        [0.        , 0.02742722, 0.        , ..., 0.07651592,\n",
       "         0.07110766, 0.10858439],\n",
       "        ...,\n",
       "        [0.        , 0.1118104 , 0.        , ..., 0.07046501,\n",
       "         0.03110789, 0.16464676],\n",
       "        [0.        , 0.13199466, 0.        , ..., 0.03952168,\n",
       "         0.        , 0.1516746 ],\n",
       "        [0.        , 0.05618959, 0.        , ..., 0.10244957,\n",
       "         0.13996758, 0.16395509]]], dtype=float32)"
      ]
     },
     "metadata": {},
     "output_type": "display_data"
    }
   ],
   "source": [
    "#Extract Convolution Feature Maps\n",
    "convlayer = tf.keras.Model(inputs=model.inputs, outputs=model.layers[0].output)\n",
    "\n",
    "spectra = X_ttT[n, :, 0]\n",
    "specvec = list()\n",
    "specvec.append(spectra)\n",
    "spectra = tf.reshape(spectra, (1, len(spectra), 1))\n",
    "\n",
    "SCfeature_maps = convlayer.predict(spectra)\n",
    "display(SCfeature_maps)"
   ]
  },
  {
   "cell_type": "code",
   "execution_count": 8,
   "id": "d53fd3fd",
   "metadata": {},
   "outputs": [
    {
     "data": {
      "text/plain": [
       "TensorShape([4000, 1236, 1])"
      ]
     },
     "metadata": {},
     "output_type": "display_data"
    },
    {
     "data": {
      "text/plain": [
       "TensorShape([4000, 5])"
      ]
     },
     "metadata": {},
     "output_type": "display_data"
    },
    {
     "data": {
      "text/plain": [
       "TensorShape([5, 1236, 1])"
      ]
     },
     "metadata": {},
     "output_type": "display_data"
    },
    {
     "data": {
      "text/plain": [
       "TensorShape([5, 5])"
      ]
     },
     "metadata": {},
     "output_type": "display_data"
    }
   ],
   "source": [
    "scaler = StandardScaler()\n",
    "scaler.fit(X_tnAu)\n",
    "X_tnS= scaler.transform(X_tnAu)\n",
    "X_ttS = scaler.transform(X_tt)\n",
    "\n",
    "#Apply Fourier Transform to Training and Testing Data\n",
    "X_tnf = np.apply_along_axis(np.fft.fft, axis=1, arr=X_tnS)\n",
    "X_ttf = np.apply_along_axis(np.fft.fft, axis=1, arr=X_ttS)\n",
    "\n",
    "#Combine Real and Imaginary Part of FT in form [real, imaginary]\n",
    "X_tnf = np.append(X_tnf.real, X_tnf.imag, axis = 1)\n",
    "X_ttf = np.append(X_ttf.real, X_ttf.imag, axis = 1)\n",
    "X_tnf= X_tnf.astype('float32')\n",
    "X_ttf= X_ttf.astype('float32')\n",
    "\n",
    "#Scale X-Data with Training Xs\n",
    "#scaler = StandardScaler()\n",
    "#scaler.fit(X_tnf)\n",
    "#X_tnf = scaler.transform(X_tnf)\n",
    "#X_ttf = scaler.transform(X_ttf)\n",
    "\n",
    "#Encode y-Data with Training ys\n",
    "encoder = LabelEncoder()\n",
    "encoder.fit(y_tnAu)\n",
    "y_tn_e = encoder.transform(y_tnAu)\n",
    "y_tn_p = np_utils.to_categorical(y_tn_e, num_classes = len(labels))\n",
    "y_tt_e = encoder.transform(y_tt)\n",
    "y_tt_p = np_utils.to_categorical(y_tt_e, num_classes = len(labels))\n",
    "\n",
    "#Reshape All Data to a 3D Tensor of Shape [Number of Spectra, Number of Timesteps(1), Number of Wavelengths]\n",
    "X_tn_p = X_tnf.reshape(X_tnf.shape[0], X_tnf.shape[1], 1)\n",
    "X_tt_p = X_ttf.reshape(X_ttf.shape[0], X_ttf.shape[1], 1)\n",
    "\n",
    "y_tnT = tf.convert_to_tensor(y_tn_p)\n",
    "y_ttT = tf.convert_to_tensor(y_tt_p)\n",
    "X_tnT = tf.convert_to_tensor(X_tn_p)\n",
    "X_ttT = tf.convert_to_tensor(X_tt_p)\n",
    "\n",
    "\n",
    "display(X_tnT.shape)\n",
    "display(y_tnT.shape)\n",
    "display(X_ttT.shape)\n",
    "display(y_ttT.shape)"
   ]
  },
  {
   "cell_type": "code",
   "execution_count": 9,
   "id": "18e552db",
   "metadata": {
    "scrolled": true
   },
   "outputs": [
    {
     "name": "stdout",
     "output_type": "stream",
     "text": [
      "Epoch 1/20\n",
      "72/72 [==============================] - 10s 130ms/step - loss: 1.3985 - accuracy: 0.9039 - val_loss: 0.0051 - val_accuracy: 1.0000\n",
      "Epoch 2/20\n",
      "72/72 [==============================] - 10s 135ms/step - loss: 0.0083 - accuracy: 0.9958 - val_loss: 2.7968e-04 - val_accuracy: 1.0000\n",
      "Epoch 3/20\n",
      "72/72 [==============================] - 10s 141ms/step - loss: 1.5332e-04 - accuracy: 1.0000 - val_loss: 1.0262e-04 - val_accuracy: 1.0000\n",
      "Epoch 4/20\n",
      "72/72 [==============================] - 9s 120ms/step - loss: 6.9919e-05 - accuracy: 1.0000 - val_loss: 5.8085e-05 - val_accuracy: 1.0000\n",
      "Epoch 5/20\n",
      "72/72 [==============================] - 10s 135ms/step - loss: 4.3436e-05 - accuracy: 1.0000 - val_loss: 3.8193e-05 - val_accuracy: 1.0000\n",
      "Epoch 6/20\n",
      "72/72 [==============================] - 9s 131ms/step - loss: 3.0037e-05 - accuracy: 1.0000 - val_loss: 2.7831e-05 - val_accuracy: 1.0000\n",
      "Epoch 7/20\n",
      "72/72 [==============================] - 12s 163ms/step - loss: 2.3916e-05 - accuracy: 1.0000 - val_loss: 2.0003e-05 - val_accuracy: 1.0000\n",
      "Epoch 8/20\n",
      "72/72 [==============================] - 11s 149ms/step - loss: 1.6063e-05 - accuracy: 1.0000 - val_loss: 1.5111e-05 - val_accuracy: 1.0000\n",
      "Epoch 9/20\n",
      "72/72 [==============================] - 10s 144ms/step - loss: 1.3336e-05 - accuracy: 1.0000 - val_loss: 1.2309e-05 - val_accuracy: 1.0000\n",
      "Epoch 10/20\n",
      "72/72 [==============================] - 11s 151ms/step - loss: 1.0041e-05 - accuracy: 1.0000 - val_loss: 1.0817e-05 - val_accuracy: 1.0000\n",
      "Epoch 11/20\n",
      "72/72 [==============================] - 11s 146ms/step - loss: 9.2460e-06 - accuracy: 1.0000 - val_loss: 8.7557e-06 - val_accuracy: 1.0000\n",
      "Epoch 12/20\n",
      "72/72 [==============================] - 9s 131ms/step - loss: 7.3440e-06 - accuracy: 1.0000 - val_loss: 7.9901e-06 - val_accuracy: 1.0000\n",
      "Epoch 13/20\n",
      "72/72 [==============================] - 9s 131ms/step - loss: 7.7525e-06 - accuracy: 1.0000 - val_loss: 6.8298e-06 - val_accuracy: 1.0000\n",
      "Epoch 14/20\n",
      "72/72 [==============================] - 10s 136ms/step - loss: 6.2078e-06 - accuracy: 1.0000 - val_loss: 5.8273e-06 - val_accuracy: 1.0000\n",
      "Epoch 15/20\n",
      "72/72 [==============================] - 9s 127ms/step - loss: 5.4546e-06 - accuracy: 1.0000 - val_loss: 5.4396e-06 - val_accuracy: 1.0000\n",
      "Epoch 16/20\n",
      "72/72 [==============================] - 11s 151ms/step - loss: 4.5219e-06 - accuracy: 1.0000 - val_loss: 4.7700e-06 - val_accuracy: 1.0000\n",
      "Epoch 17/20\n",
      "72/72 [==============================] - 13s 181ms/step - loss: 4.4076e-06 - accuracy: 1.0000 - val_loss: 4.3736e-06 - val_accuracy: 1.0000\n",
      "Epoch 18/20\n",
      "72/72 [==============================] - 10s 135ms/step - loss: 3.6794e-06 - accuracy: 1.0000 - val_loss: 3.1748e-06 - val_accuracy: 1.0000\n",
      "Epoch 19/20\n",
      "72/72 [==============================] - 10s 139ms/step - loss: 3.8277e-06 - accuracy: 1.0000 - val_loss: 2.9101e-06 - val_accuracy: 1.0000\n",
      "Epoch 20/20\n",
      "72/72 [==============================] - 9s 130ms/step - loss: 2.6100e-06 - accuracy: 1.0000 - val_loss: 2.4575e-06 - val_accuracy: 1.0000\n",
      "1/1 [==============================] - 0s 211ms/step - loss: 2.6844 - accuracy: 0.6000\n"
     ]
    },
    {
     "data": {
      "text/plain": [
       "0.6000000238418579"
      ]
     },
     "metadata": {},
     "output_type": "display_data"
    }
   ],
   "source": [
    "#Multi-class Classification with Keras\n",
    " \n",
    "n_timesteps, n_features, n_outputs = X_tn_p.shape[1], X_tn_p.shape[2], y_tn_p.shape[1]\n",
    "\n",
    "#Define Sequential Model - 1 Convolution Layer, 1 Dropout Layer, 1 Flatten Layer, 2 Dense Layers\n",
    "model = Sequential()\n",
    "model.add(Conv1D(filters = 64, kernel_size = 3, activation='relu', input_shape=(n_timesteps,n_features)))\n",
    "model.add(Conv1D(filters = 64, kernel_size = 3, activation='relu'))\n",
    "model.add(Dropout(0.5))\n",
    "model.add(MaxPooling1D(pool_size=2))\n",
    "model.add(Flatten())\n",
    "model.add(Dense(100, activation='relu'))\n",
    "model.add(Dense(n_outputs, activation='softmax'))\n",
    "model.compile(loss='categorical_crossentropy', optimizer='adam', metrics=['accuracy'])\n",
    "\n",
    "#Implement EarlyStopping\n",
    "stopper = tf.keras.callbacks.EarlyStopping(monitor = \"val_loss\",patience = 3,verbose = 0, restore_best_weights = True)\n",
    "\n",
    "#Fit Model\n",
    "model.fit(X_tnT, y_tnT, epochs=epochs, batch_size=batch_size, verbose=verbose,  validation_split=0.1, callbacks = stopper)\n",
    "\n",
    "#Evaluate Model\n",
    "_, FTaccuracy = model.evaluate(X_ttT, y_ttT, batch_size=batch_size, verbose=verbose)\n",
    "display(FTaccuracy)"
   ]
  },
  {
   "cell_type": "code",
   "execution_count": 10,
   "id": "54173aea",
   "metadata": {},
   "outputs": [],
   "source": [
    "#Make Prediction\n",
    "FTypred = model.predict(X_ttT)\n",
    "FTypred = tf.argmax(input = FTypred, axis = 1).numpy()\n",
    "FTypred = encoder.inverse_transform(FTypred)"
   ]
  },
  {
   "cell_type": "code",
   "execution_count": 11,
   "id": "f0580f92",
   "metadata": {},
   "outputs": [
    {
     "name": "stdout",
     "output_type": "stream",
     "text": [
      "Model: \"model_1\"\n",
      "_________________________________________________________________\n",
      "Layer (type)                 Output Shape              Param #   \n",
      "=================================================================\n",
      "conv1d_2_input (InputLayer)  [(None, 1236, 1)]         0         \n",
      "_________________________________________________________________\n",
      "conv1d_2 (Conv1D)            (None, 1234, 64)          256       \n",
      "=================================================================\n",
      "Total params: 256\n",
      "Trainable params: 256\n",
      "Non-trainable params: 0\n",
      "_________________________________________________________________\n"
     ]
    },
    {
     "data": {
      "text/plain": [
       "array([[[18.062044  , 19.12939   ,  0.        , ..., 25.445692  ,\n",
       "         40.46593   ,  0.        ],\n",
       "        [ 6.2783422 ,  1.8490666 ,  6.6296897 , ...,  0.93620765,\n",
       "          8.068607  ,  0.        ],\n",
       "        [ 0.06889538,  0.        ,  4.2524757 , ...,  0.        ,\n",
       "          0.        ,  0.31356278],\n",
       "        ...,\n",
       "        [ 1.8941686 ,  2.978131  ,  3.1309426 , ...,  1.8395094 ,\n",
       "          3.8650048 ,  1.7599766 ],\n",
       "        [ 1.295627  ,  0.        ,  0.        , ...,  0.        ,\n",
       "          0.        ,  0.        ],\n",
       "        [ 0.        ,  5.718983  ,  0.        , ...,  3.012161  ,\n",
       "          0.        , 12.433524  ]]], dtype=float32)"
      ]
     },
     "metadata": {},
     "output_type": "display_data"
    }
   ],
   "source": [
    "convlayer = tf.keras.Model(inputs=model.inputs, outputs=model.layers[0].output)\n",
    "convlayer.summary()\n",
    "\n",
    "spectra = X_ttT[n, :, 0]\n",
    "specvec.append(spectra)\n",
    "spectra = tf.reshape(spectra, (1, len(spectra), 1))\n",
    "\n",
    "FTfeature_maps = convlayer.predict(spectra)\n",
    "display(FTfeature_maps)"
   ]
  },
  {
   "cell_type": "code",
   "execution_count": 12,
   "id": "756a0320",
   "metadata": {},
   "outputs": [
    {
     "data": {
      "text/plain": [
       "TensorShape([4000, 1024, 1])"
      ]
     },
     "metadata": {},
     "output_type": "display_data"
    },
    {
     "data": {
      "text/plain": [
       "TensorShape([4000, 5])"
      ]
     },
     "metadata": {},
     "output_type": "display_data"
    },
    {
     "data": {
      "text/plain": [
       "TensorShape([5, 1024, 1])"
      ]
     },
     "metadata": {},
     "output_type": "display_data"
    },
    {
     "data": {
      "text/plain": [
       "TensorShape([5, 5])"
      ]
     },
     "metadata": {},
     "output_type": "display_data"
    }
   ],
   "source": [
    "#Apply Welsh-Hadamard Transform to Training and Testing Data\n",
    "from sympy.discrete.transforms import fwht, ifwht\n",
    "\n",
    "#scaler = StandardScaler()\n",
    "#scaler.fit(X_tnAu)\n",
    "#X_tnAu = scaler.transform(X_tnAu)\n",
    "#X_tt = scaler.transform(X_tt)\n",
    "\n",
    "X_tnh = np.apply_along_axis(fwht, axis=1, arr=X_tnAu)\n",
    "X_tth = np.apply_along_axis(fwht, axis=1, arr=X_tt)\n",
    "X_tnh = X_tnh.astype('float32')\n",
    "X_tth = X_tth.astype('float32')\n",
    "\n",
    "#Scale X-Data with Training Xs\n",
    "scaler = StandardScaler()\n",
    "scaler.fit(X_tnh)\n",
    "X_tnh = scaler.transform(X_tnh)\n",
    "X_tth = scaler.transform(X_tth)\n",
    "\n",
    "#Encode y-Data with Training ys\n",
    "encoder = LabelEncoder()\n",
    "encoder.fit(y_tnAu)\n",
    "y_tn_e = encoder.transform(y_tnAu)\n",
    "y_tn_p = np_utils.to_categorical(y_tn_e, num_classes = len(labels))\n",
    "y_tt_e = encoder.transform(y_tt)\n",
    "y_tt_p = np_utils.to_categorical(y_tt_e, num_classes = len(labels))\n",
    "\n",
    "#Reshape All Data to a 3D Tensor of Shape [Number of Spectra, Number of Timesteps(1), Number of Wavelengths]\n",
    "X_tn_p = X_tnh.reshape(X_tnh.shape[0], X_tnh.shape[1], 1)\n",
    "X_tt_p = X_tth.reshape(X_tth.shape[0], X_tth.shape[1], 1)\n",
    "\n",
    "y_tnT = tf.convert_to_tensor(y_tn_p)\n",
    "y_ttT = tf.convert_to_tensor(y_tt_p)\n",
    "X_tnT = tf.convert_to_tensor(X_tn_p)\n",
    "X_ttT = tf.convert_to_tensor(X_tt_p)\n",
    "\n",
    "\n",
    "display(X_tnT.shape)\n",
    "display(y_tnT.shape)\n",
    "display(X_ttT.shape)\n",
    "display(y_ttT.shape)"
   ]
  },
  {
   "cell_type": "code",
   "execution_count": 13,
   "id": "b4e029d8",
   "metadata": {},
   "outputs": [
    {
     "name": "stdout",
     "output_type": "stream",
     "text": [
      "Epoch 1/20\n",
      "72/72 [==============================] - 8s 99ms/step - loss: 0.3173 - accuracy: 0.9056 - val_loss: 0.0057 - val_accuracy: 1.0000\n",
      "Epoch 2/20\n",
      "72/72 [==============================] - 9s 123ms/step - loss: 0.0014 - accuracy: 1.0000 - val_loss: 0.0015 - val_accuracy: 1.0000\n",
      "Epoch 3/20\n",
      "72/72 [==============================] - 10s 133ms/step - loss: 4.6982e-04 - accuracy: 1.0000 - val_loss: 0.0010 - val_accuracy: 1.0000\n",
      "Epoch 4/20\n",
      "72/72 [==============================] - 9s 127ms/step - loss: 2.8518e-04 - accuracy: 1.0000 - val_loss: 7.5635e-04 - val_accuracy: 1.0000\n",
      "Epoch 5/20\n",
      "72/72 [==============================] - 8s 112ms/step - loss: 1.9194e-04 - accuracy: 1.0000 - val_loss: 5.3080e-04 - val_accuracy: 1.0000\n",
      "Epoch 6/20\n",
      "72/72 [==============================] - 9s 120ms/step - loss: 1.2115e-04 - accuracy: 1.0000 - val_loss: 3.7438e-04 - val_accuracy: 1.0000\n",
      "Epoch 7/20\n",
      "72/72 [==============================] - 10s 146ms/step - loss: 1.0013e-04 - accuracy: 1.0000 - val_loss: 2.8567e-04 - val_accuracy: 1.0000\n",
      "Epoch 8/20\n",
      "72/72 [==============================] - 9s 118ms/step - loss: 8.0319e-05 - accuracy: 1.0000 - val_loss: 2.4648e-04 - val_accuracy: 1.0000\n",
      "Epoch 9/20\n",
      "72/72 [==============================] - 9s 128ms/step - loss: 5.9884e-05 - accuracy: 1.0000 - val_loss: 2.1853e-04 - val_accuracy: 1.0000\n",
      "Epoch 10/20\n",
      "72/72 [==============================] - 8s 106ms/step - loss: 4.8559e-05 - accuracy: 1.0000 - val_loss: 1.7937e-04 - val_accuracy: 1.0000\n",
      "Epoch 11/20\n",
      "72/72 [==============================] - 10s 133ms/step - loss: 3.9302e-05 - accuracy: 1.0000 - val_loss: 1.5284e-04 - val_accuracy: 1.0000\n",
      "Epoch 12/20\n",
      "72/72 [==============================] - 7s 104ms/step - loss: 3.5573e-05 - accuracy: 1.0000 - val_loss: 1.3781e-04 - val_accuracy: 1.0000\n",
      "Epoch 13/20\n",
      "72/72 [==============================] - 8s 114ms/step - loss: 2.7866e-05 - accuracy: 1.0000 - val_loss: 1.1245e-04 - val_accuracy: 1.0000\n",
      "Epoch 14/20\n",
      "72/72 [==============================] - 7s 99ms/step - loss: 2.4863e-05 - accuracy: 1.0000 - val_loss: 1.0647e-04 - val_accuracy: 1.0000\n",
      "Epoch 15/20\n",
      "72/72 [==============================] - 8s 113ms/step - loss: 2.1277e-05 - accuracy: 1.0000 - val_loss: 9.5622e-05 - val_accuracy: 1.0000\n",
      "Epoch 16/20\n",
      "72/72 [==============================] - 7s 97ms/step - loss: 1.7648e-05 - accuracy: 1.0000 - val_loss: 9.3159e-05 - val_accuracy: 1.0000\n",
      "Epoch 17/20\n",
      "72/72 [==============================] - 8s 114ms/step - loss: 1.7136e-05 - accuracy: 1.0000 - val_loss: 8.6471e-05 - val_accuracy: 1.0000\n",
      "Epoch 18/20\n",
      "72/72 [==============================] - 7s 98ms/step - loss: 1.5475e-05 - accuracy: 1.0000 - val_loss: 7.2366e-05 - val_accuracy: 1.0000\n",
      "Epoch 19/20\n",
      "72/72 [==============================] - 8s 115ms/step - loss: 1.3755e-05 - accuracy: 1.0000 - val_loss: 6.4050e-05 - val_accuracy: 1.0000\n",
      "Epoch 20/20\n",
      "72/72 [==============================] - 7s 99ms/step - loss: 1.1090e-05 - accuracy: 1.0000 - val_loss: 5.9559e-05 - val_accuracy: 1.0000\n",
      "1/1 [==============================] - 0s 208ms/step - loss: 0.8632 - accuracy: 0.8000\n"
     ]
    },
    {
     "data": {
      "text/plain": [
       "0.800000011920929"
      ]
     },
     "metadata": {},
     "output_type": "display_data"
    }
   ],
   "source": [
    "#Multi-class Classification with Keras\n",
    " \n",
    "n_timesteps, n_features, n_outputs = X_tn_p.shape[1], X_tn_p.shape[2], y_tn_p.shape[1]\n",
    "\n",
    "#Define Sequential Model - 1 Convolution Layer, 1 Dropout Layer, 1 Flatten Layer, 2 Dense Layers\n",
    "model = Sequential()\n",
    "model.add(Conv1D(filters = 64, kernel_size = 3, activation='relu', input_shape=(n_timesteps,n_features)))\n",
    "model.add(Conv1D(filters = 64, kernel_size = 3, activation='relu'))\n",
    "model.add(Dropout(0.5))\n",
    "model.add(MaxPooling1D(pool_size=2))\n",
    "model.add(Flatten())\n",
    "model.add(Dense(100, activation='relu'))\n",
    "model.add(Dense(n_outputs, activation='softmax'))\n",
    "model.compile(loss='categorical_crossentropy', optimizer='adam', metrics=['accuracy'])\n",
    "\n",
    "#Implement EarlyStopping\n",
    "stopper = tf.keras.callbacks.EarlyStopping(monitor = \"val_loss\", mode = 'min',\\\n",
    "                                           patience = 3, verbose = 1, restore_best_weights = True)\n",
    "\n",
    "#Fit Model\n",
    "model.fit(X_tnT, y_tnT, epochs=epochs, batch_size=batch_size, verbose=verbose,  validation_split=0.1, callbacks = stopper)\n",
    "\n",
    "#Evaluate Model\n",
    "_, HTaccuracy = model.evaluate(X_ttT, y_ttT, batch_size=batch_size, verbose=verbose)\n",
    "display(HTaccuracy)"
   ]
  },
  {
   "cell_type": "code",
   "execution_count": 14,
   "id": "5d0d1b2b",
   "metadata": {},
   "outputs": [
    {
     "name": "stdout",
     "output_type": "stream",
     "text": [
      "WARNING:tensorflow:5 out of the last 5 calls to <function Model.make_predict_function.<locals>.predict_function at 0x0000012F223DC430> triggered tf.function retracing. Tracing is expensive and the excessive number of tracings could be due to (1) creating @tf.function repeatedly in a loop, (2) passing tensors with different shapes, (3) passing Python objects instead of tensors. For (1), please define your @tf.function outside of the loop. For (2), @tf.function has experimental_relax_shapes=True option that relaxes argument shapes that can avoid unnecessary retracing. For (3), please refer to https://www.tensorflow.org/guide/function#controlling_retracing and https://www.tensorflow.org/api_docs/python/tf/function for  more details.\n"
     ]
    }
   ],
   "source": [
    "#Make Prediction\n",
    "HTypred = model.predict(X_ttT)\n",
    "HTypred = tf.argmax(input = HTypred, axis = 1).numpy()\n",
    "HTypred = encoder.inverse_transform(HTypred)"
   ]
  },
  {
   "cell_type": "code",
   "execution_count": 15,
   "id": "d13ca327",
   "metadata": {},
   "outputs": [
    {
     "name": "stdout",
     "output_type": "stream",
     "text": [
      "Model: \"model_2\"\n",
      "_________________________________________________________________\n",
      "Layer (type)                 Output Shape              Param #   \n",
      "=================================================================\n",
      "conv1d_4_input (InputLayer)  [(None, 1024, 1)]         0         \n",
      "_________________________________________________________________\n",
      "conv1d_4 (Conv1D)            (None, 1022, 64)          256       \n",
      "=================================================================\n",
      "Total params: 256\n",
      "Trainable params: 256\n",
      "Non-trainable params: 0\n",
      "_________________________________________________________________\n",
      "WARNING:tensorflow:6 out of the last 6 calls to <function Model.make_predict_function.<locals>.predict_function at 0x0000012F206364C0> triggered tf.function retracing. Tracing is expensive and the excessive number of tracings could be due to (1) creating @tf.function repeatedly in a loop, (2) passing tensors with different shapes, (3) passing Python objects instead of tensors. For (1), please define your @tf.function outside of the loop. For (2), @tf.function has experimental_relax_shapes=True option that relaxes argument shapes that can avoid unnecessary retracing. For (3), please refer to https://www.tensorflow.org/guide/function#controlling_retracing and https://www.tensorflow.org/api_docs/python/tf/function for  more details.\n"
     ]
    },
    {
     "data": {
      "text/plain": [
       "array([[[0.19858278, 0.04382637, 0.        , ..., 0.        ,\n",
       "         0.05381447, 0.24481274],\n",
       "        [0.        , 0.        , 0.10045599, ..., 0.05026924,\n",
       "         0.20242327, 0.05751674],\n",
       "        [0.        , 0.03427495, 0.03609918, ..., 0.05966894,\n",
       "         0.        , 0.0084716 ],\n",
       "        ...,\n",
       "        [0.06372076, 0.        , 0.        , ..., 0.        ,\n",
       "         0.03719138, 0.        ],\n",
       "        [0.13987786, 0.11960557, 0.        , ..., 0.        ,\n",
       "         0.        , 0.02868954],\n",
       "        [0.11734384, 0.        , 0.00166809, ..., 0.        ,\n",
       "         0.09316382, 0.13301285]]], dtype=float32)"
      ]
     },
     "metadata": {},
     "output_type": "display_data"
    }
   ],
   "source": [
    "convlayer = tf.keras.Model(inputs=model.inputs, outputs=model.layers[0].output)\n",
    "convlayer.summary()\n",
    "\n",
    "spectra = X_ttT[n, :, 0]\n",
    "specvec.append(spectra)\n",
    "spectra = tf.reshape(spectra, (1, len(spectra), 1))\n",
    "\n",
    "HTfeature_maps = convlayer.predict(spectra)\n",
    "display(HTfeature_maps)"
   ]
  },
  {
   "cell_type": "code",
   "execution_count": 16,
   "id": "0107edb5",
   "metadata": {},
   "outputs": [
    {
     "data": {
      "text/plain": [
       "array(['10-3', '10-7', '10-7', '10-3', '10-6'], dtype=object)"
      ]
     },
     "metadata": {},
     "output_type": "display_data"
    },
    {
     "data": {
      "text/plain": [
       "0.800000011920929"
      ]
     },
     "metadata": {},
     "output_type": "display_data"
    },
    {
     "data": {
      "text/plain": [
       "0.6000000238418579"
      ]
     },
     "metadata": {},
     "output_type": "display_data"
    },
    {
     "data": {
      "text/plain": [
       "0.800000011920929"
      ]
     },
     "metadata": {},
     "output_type": "display_data"
    }
   ],
   "source": [
    "from sklearn.metrics import confusion_matrix\n",
    "display(SCypred)\n",
    "CMSC = confusion_matrix(ytruth, SCypred, labels = labels)\n",
    "CMFT = confusion_matrix(ytruth, FTypred, labels = labels)\n",
    "CMHT = confusion_matrix(ytruth, HTypred, labels = labels)\n",
    "display(SCaccuracy, FTaccuracy, HTaccuracy)"
   ]
  },
  {
   "cell_type": "code",
   "execution_count": 17,
   "id": "79c1b1a0",
   "metadata": {},
   "outputs": [
    {
     "data": {
      "image/png": "[encoded data removed]",
      "text/plain": [
       "<Figure size 1500x500 with 4 Axes>"
      ]
     },
     "metadata": {},
     "output_type": "display_data"
    }
   ],
   "source": [
    "fig, axs = plt.subplots(1, 3, sharey = True, figsize = [15, 5])\n",
    "\n",
    "plt.rcParams['xtick.bottom'] = plt.rcParams['xtick.labelbottom'] = False\n",
    "plt.rcParams['xtick.top'] = plt.rcParams['xtick.labeltop'] = True\n",
    "\n",
    "pcm = axs[0].pcolor(CMSC, edgecolors = 'k', cmap = 'gist_heat_r')\n",
    "plt.gca().invert_yaxis()\n",
    "axs[0].set_xticks(ticks = np.linspace(0.5, len(labels)-0.5, num = len(labels)), labels = labels)\n",
    "axs[0].set_yticks(ticks = np.linspace(0.5, len(labels)-0.5, num = len(labels)), labels = labels)\n",
    "axs[0].set_ylabel(\"Actual Condition\")\n",
    "axs[0].set_xlabel(\"Predicted Condition\")\n",
    "axs[0].xaxis.set_label_position('top') \n",
    "axs[0].set_title('Raw Data');\n",
    "\n",
    "axs[1].pcolor(CMFT, edgecolors = 'k', cmap = 'gist_heat_r');\n",
    "plt.gca().invert_yaxis()\n",
    "axs[1].set_xticks(ticks = np.linspace(0.5, len(labels)-0.5, num = len(labels)), labels = labels)\n",
    "axs[1].set_title('Fourier Transform');\n",
    "axs[1].set_xlabel(\"Predicted Condition\")\n",
    "axs[1].xaxis.set_label_position('top')\n",
    "\n",
    "axs[2].pcolor(CMHT, edgecolors = 'k', cmap = 'gist_heat_r')\n",
    "plt.gca().invert_yaxis()\n",
    "axs[2].set_xticks(ticks = np.linspace(0.5, len(labels)-0.5, num = len(labels)), labels = labels);\n",
    "axs[2].set_title('Walsh Hadamard Transform');\n",
    "axs[2].set_xlabel(\"Predicted Condition\")\n",
    "axs[2].xaxis.set_label_position('top')\n",
    "\n",
    "fig.colorbar(pcm, ax = axs[:], location = 'bottom', label = 'Number of Assignments');"
   ]
  },
  {
   "cell_type": "code",
   "execution_count": null,
   "id": "d8d30a8d",
   "metadata": {},
   "outputs": [],
   "source": []
  }
 ],
 "metadata": {
  "kernelspec": {
   "display_name": "Python 3 (ipykernel)",
   "language": "python",
   "name": "python3"
  },
  "language_info": {
   "codemirror_mode": {
    "name": "ipython",
    "version": 3
   },
   "file_extension": ".py",
   "mimetype": "text/x-python",
   "name": "python",
   "nbconvert_exporter": "python",
   "pygments_lexer": "ipython3",
   "version": "3.9.12"
  }
 },
 "nbformat": 4,
 "nbformat_minor": 5
}
