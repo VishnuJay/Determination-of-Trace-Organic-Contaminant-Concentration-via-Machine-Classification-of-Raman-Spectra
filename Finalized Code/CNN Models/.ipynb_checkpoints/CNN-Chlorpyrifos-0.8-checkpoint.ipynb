{
 "cells": [
  {
   "cell_type": "code",
   "execution_count": 1,
   "id": "d5953c12",
   "metadata": {},
   "outputs": [],
   "source": [
    "import pandas as pd\n",
    "import numpy as np\n",
    "from scipy import stats as stats\n",
    "import matplotlib.pyplot as plt\n",
    "import seaborn as sb\n",
    "import KeyFunctions as me\n",
    "import tensorflow as tf\n",
    "RandState = 92\n",
    "\n",
    "from keras.models import Sequential\n",
    "from keras.layers import Dense, Dropout, Conv1D, MaxPooling1D, Flatten, MaxPooling2D\n",
    "from keras.wrappers.scikit_learn import KerasClassifier\n",
    "from keras.utils import np_utils\n",
    "from sklearn.model_selection import cross_val_score\n",
    "from sklearn.preprocessing import LabelEncoder\n",
    "from sklearn.model_selection import StratifiedKFold\n",
    "\n",
    "n = 4"
   ]
  },
  {
   "cell_type": "code",
   "execution_count": 2,
   "id": "22b201c0",
   "metadata": {},
   "outputs": [],
   "source": [
    "from sklearn.model_selection import train_test_split\n",
    "\n",
    "#Import Full Triclosan Dataset\n",
    "df, labels = me.ConstructCombinedChlorDataset()\n",
    "\n",
    "[train, test] = train_test_split(df, random_state = RandState, shuffle = True, train_size = 0.9)\n",
    "\n",
    "y_tn = train.index\n",
    "y_tt = test.index\n",
    "X_tt = test.to_numpy()\n",
    "X_tn = train.to_numpy()\n",
    "\n",
    "#Augment Data to 4000 Spectra\n",
    "X_tnAu, y_tnAu = me.AugmentData(X_tn, y_tn, 4000, df.columns.to_numpy(), False)"
   ]
  },
  {
   "cell_type": "code",
   "execution_count": 3,
   "id": "fdef8ef0",
   "metadata": {},
   "outputs": [],
   "source": [
    "#Set Training Parameters\n",
    "verbose = 1\n",
    "epochsvec = [5, 20, 50]\n",
    "batch_sizevec = [10, 50, 100]\n",
    "epochs = epochsvec[1]\n",
    "batch_size = batch_sizevec[1]"
   ]
  },
  {
   "cell_type": "code",
   "execution_count": 4,
   "id": "479b91a1",
   "metadata": {},
   "outputs": [
    {
     "data": {
      "text/plain": [
       "TensorShape([4000, 618, 1])"
      ]
     },
     "metadata": {},
     "output_type": "display_data"
    },
    {
     "data": {
      "text/plain": [
       "TensorShape([4000, 5])"
      ]
     },
     "metadata": {},
     "output_type": "display_data"
    },
    {
     "data": {
      "text/plain": [
       "TensorShape([5, 618, 1])"
      ]
     },
     "metadata": {},
     "output_type": "display_data"
    },
    {
     "data": {
      "text/plain": [
       "TensorShape([5, 5])"
      ]
     },
     "metadata": {},
     "output_type": "display_data"
    }
   ],
   "source": [
    "from sklearn.preprocessing import LabelEncoder\n",
    "from sklearn.preprocessing import StandardScaler\n",
    "\n",
    "#Scale X-Data with Training Xs\n",
    "scaler = StandardScaler()\n",
    "scaler.fit(X_tnAu)\n",
    "X_tnS = scaler.transform(X_tnAu)\n",
    "X_ttS = scaler.transform(X_tt)\n",
    "\n",
    "#Encode y-Data with Training ys\n",
    "encoder = LabelEncoder()\n",
    "encoder.fit(y_tnAu)\n",
    "y_tn_e = encoder.transform(y_tnAu)\n",
    "y_tn_p = np_utils.to_categorical(y_tn_e, num_classes = len(labels))\n",
    "y_tt_e = encoder.transform(y_tt)\n",
    "y_tt_p = np_utils.to_categorical(y_tt_e, num_classes = len(labels))\n",
    "\n",
    "\n",
    "#Reshape All Data to a 3D Tensor of Shape [Number of Spectra, Number of Timesteps(1), Number of Wavelengths]\n",
    "X_tn_p = X_tnS.reshape(X_tnS.shape[0], X_tnS.shape[1], 1)\n",
    "X_tt_p = X_ttS.reshape(X_ttS.shape[0], X_ttS.shape[1], 1)\n",
    "\n",
    "y_tnT = tf.convert_to_tensor(y_tn_p)\n",
    "y_ttT = tf.convert_to_tensor(y_tt_p)\n",
    "X_tnT = tf.convert_to_tensor(X_tn_p)\n",
    "X_ttT = tf.convert_to_tensor(X_tt_p)\n",
    "\n",
    "display(X_tnT.shape)\n",
    "display(y_tnT.shape)\n",
    "display(X_ttT.shape)\n",
    "display(y_ttT.shape)\n",
    "\n",
    "ytruth = tf.argmax(input = y_ttT, axis = 1).numpy()\n",
    "ytruth = encoder.inverse_transform(ytruth)"
   ]
  },
  {
   "cell_type": "code",
   "execution_count": 5,
   "id": "374fecab",
   "metadata": {},
   "outputs": [
    {
     "name": "stdout",
     "output_type": "stream",
     "text": [
      "Epoch 1/20\n",
      "72/72 [==============================] - 6s 75ms/step - loss: 0.1569 - accuracy: 0.9425 - val_loss: 0.0080 - val_accuracy: 1.0000\n",
      "Epoch 2/20\n",
      "72/72 [==============================] - 4s 61ms/step - loss: 6.6672e-04 - accuracy: 1.0000 - val_loss: 0.0019 - val_accuracy: 1.0000\n",
      "Epoch 3/20\n",
      "72/72 [==============================] - 4s 61ms/step - loss: 1.5412e-04 - accuracy: 1.0000 - val_loss: 0.0012 - val_accuracy: 1.0000\n",
      "Epoch 4/20\n",
      "72/72 [==============================] - 5s 75ms/step - loss: 9.3705e-05 - accuracy: 1.0000 - val_loss: 9.2565e-04 - val_accuracy: 1.0000\n",
      "Epoch 5/20\n",
      "72/72 [==============================] - 4s 62ms/step - loss: 6.4034e-05 - accuracy: 1.0000 - val_loss: 7.4811e-04 - val_accuracy: 1.0000\n",
      "Epoch 6/20\n",
      "72/72 [==============================] - 4s 58ms/step - loss: 4.9086e-05 - accuracy: 1.0000 - val_loss: 6.0329e-04 - val_accuracy: 1.0000\n",
      "Epoch 7/20\n",
      "72/72 [==============================] - 5s 63ms/step - loss: 3.8312e-05 - accuracy: 1.0000 - val_loss: 4.8641e-04 - val_accuracy: 1.0000\n",
      "Epoch 8/20\n",
      "72/72 [==============================] - 5s 65ms/step - loss: 2.6676e-05 - accuracy: 1.0000 - val_loss: 4.1455e-04 - val_accuracy: 1.0000\n",
      "Epoch 9/20\n",
      "72/72 [==============================] - 4s 56ms/step - loss: 2.2534e-05 - accuracy: 1.0000 - val_loss: 3.8917e-04 - val_accuracy: 1.0000\n",
      "Epoch 10/20\n",
      "72/72 [==============================] - 4s 56ms/step - loss: 1.9922e-05 - accuracy: 1.0000 - val_loss: 3.3562e-04 - val_accuracy: 1.0000\n",
      "Epoch 11/20\n",
      "72/72 [==============================] - 5s 70ms/step - loss: 1.4650e-05 - accuracy: 1.0000 - val_loss: 2.7695e-04 - val_accuracy: 1.0000\n",
      "Epoch 12/20\n",
      "72/72 [==============================] - 4s 59ms/step - loss: 1.3427e-05 - accuracy: 1.0000 - val_loss: 2.5863e-04 - val_accuracy: 1.0000\n",
      "Epoch 13/20\n",
      "72/72 [==============================] - 4s 55ms/step - loss: 1.1382e-05 - accuracy: 1.0000 - val_loss: 2.1950e-04 - val_accuracy: 1.0000\n",
      "Epoch 14/20\n",
      "72/72 [==============================] - 4s 58ms/step - loss: 9.3041e-06 - accuracy: 1.0000 - val_loss: 2.0247e-04 - val_accuracy: 1.0000\n",
      "Epoch 15/20\n",
      "72/72 [==============================] - 5s 69ms/step - loss: 8.1581e-06 - accuracy: 1.0000 - val_loss: 1.7604e-04 - val_accuracy: 1.0000\n",
      "Epoch 16/20\n",
      "72/72 [==============================] - 4s 57ms/step - loss: 7.1557e-06 - accuracy: 1.0000 - val_loss: 1.6935e-04 - val_accuracy: 1.0000\n",
      "Epoch 17/20\n",
      "72/72 [==============================] - 4s 56ms/step - loss: 6.1895e-06 - accuracy: 1.0000 - val_loss: 1.5959e-04 - val_accuracy: 1.0000\n",
      "Epoch 18/20\n",
      "72/72 [==============================] - 5s 63ms/step - loss: 5.3115e-06 - accuracy: 1.0000 - val_loss: 1.3235e-04 - val_accuracy: 1.0000\n",
      "Epoch 19/20\n",
      "72/72 [==============================] - 5s 65ms/step - loss: 5.2712e-06 - accuracy: 1.0000 - val_loss: 1.3866e-04 - val_accuracy: 1.0000\n",
      "Epoch 20/20\n",
      "72/72 [==============================] - 4s 57ms/step - loss: 4.6548e-06 - accuracy: 1.0000 - val_loss: 1.2701e-04 - val_accuracy: 1.0000\n",
      "1/1 [==============================] - 0s 201ms/step - loss: 4.9131 - accuracy: 0.6000\n"
     ]
    },
    {
     "data": {
      "text/plain": [
       "0.6000000238418579"
      ]
     },
     "metadata": {},
     "output_type": "display_data"
    }
   ],
   "source": [
    "#Multi-class Classification with Keras\n",
    " \n",
    "n_timesteps, n_features, n_outputs = X_tn_p.shape[1], X_tn_p.shape[2], y_tn_p.shape[1]\n",
    "\n",
    "#Define Sequential Model - 1 Convolution Layer, 1 Dropout Layer, 1 Flatten Layer, 2 Dense Layers\n",
    "model = Sequential()\n",
    "model.add(Conv1D(filters = 64, kernel_size = 3, activation='relu', input_shape=(n_timesteps,n_features)))\n",
    "model.add(Conv1D(filters = 64, kernel_size = 3, activation='relu'))\n",
    "model.add(Dropout(0.5))\n",
    "model.add(MaxPooling1D(pool_size=2))\n",
    "model.add(Flatten())\n",
    "model.add(Dense(100, activation='relu'))\n",
    "model.add(Dense(n_outputs, activation='softmax'))\n",
    "model.compile(loss='categorical_crossentropy', optimizer='adam', metrics=['accuracy'])\n",
    "\n",
    "#Implement EarlyStopping\n",
    "stopper = tf.keras.callbacks.EarlyStopping(monitor = \"val_loss\",patience = 3,verbose = 0, restore_best_weights = True)\n",
    "\n",
    "#Fit Model\n",
    "model.fit(X_tnT, y_tnT, epochs=epochs, batch_size=batch_size, verbose=verbose, validation_split = 0.1, callbacks = stopper)\n",
    "\n",
    "#Evaluate Model\n",
    "_, SCaccuracy = model.evaluate(X_ttT, y_ttT, batch_size=batch_size, verbose=verbose)\n",
    "display(SCaccuracy)"
   ]
  },
  {
   "cell_type": "code",
   "execution_count": 6,
   "id": "e5ccf0ab",
   "metadata": {},
   "outputs": [],
   "source": [
    "#Make Prediction\n",
    "SCypred = model.predict(X_ttT)\n",
    "SCypred = tf.argmax(input = SCypred, axis = 1).numpy()\n",
    "SCypred = encoder.inverse_transform(SCypred)\n"
   ]
  },
  {
   "cell_type": "code",
   "execution_count": 7,
   "id": "50b7e0be",
   "metadata": {},
   "outputs": [
    {
     "data": {
      "text/plain": [
       "array([[[0.14679216, 0.        , 0.        , ..., 0.        ,\n",
       "         0.3243278 , 0.        ],\n",
       "        [0.12221266, 0.        , 0.        , ..., 0.        ,\n",
       "         0.20698087, 0.        ],\n",
       "        [0.12640898, 0.        , 0.        , ..., 0.        ,\n",
       "         0.23359327, 0.        ],\n",
       "        ...,\n",
       "        [0.        , 0.06066804, 0.03895019, ..., 0.00554813,\n",
       "         0.        , 0.07754053],\n",
       "        [0.        , 0.08247495, 0.06083569, ..., 0.02234822,\n",
       "         0.        , 0.12417988],\n",
       "        [0.        , 0.17933649, 0.12482517, ..., 0.08111372,\n",
       "         0.        , 0.26192734]]], dtype=float32)"
      ]
     },
     "metadata": {},
     "output_type": "display_data"
    }
   ],
   "source": [
    "#Extract Convolution Feature Maps\n",
    "convlayer = tf.keras.Model(inputs=model.inputs, outputs=model.layers[0].output)\n",
    "\n",
    "spectra = X_ttT[n, :, 0]\n",
    "specvec = list()\n",
    "specvec.append(spectra)\n",
    "spectra = tf.reshape(spectra, (1, len(spectra), 1))\n",
    "\n",
    "SCfeature_maps = convlayer.predict(spectra)\n",
    "display(SCfeature_maps)"
   ]
  },
  {
   "cell_type": "code",
   "execution_count": 8,
   "id": "d53fd3fd",
   "metadata": {},
   "outputs": [
    {
     "data": {
      "text/plain": [
       "TensorShape([4000, 1236, 1])"
      ]
     },
     "metadata": {},
     "output_type": "display_data"
    },
    {
     "data": {
      "text/plain": [
       "TensorShape([4000, 5])"
      ]
     },
     "metadata": {},
     "output_type": "display_data"
    },
    {
     "data": {
      "text/plain": [
       "TensorShape([5, 1236, 1])"
      ]
     },
     "metadata": {},
     "output_type": "display_data"
    },
    {
     "data": {
      "text/plain": [
       "TensorShape([5, 5])"
      ]
     },
     "metadata": {},
     "output_type": "display_data"
    }
   ],
   "source": [
    "scaler = StandardScaler()\n",
    "scaler.fit(X_tnAu)\n",
    "X_tnS= scaler.transform(X_tnAu)\n",
    "X_ttS = scaler.transform(X_tt)\n",
    "\n",
    "#Apply Fourier Transform to Training and Testing Data\n",
    "X_tnf = np.apply_along_axis(np.fft.fft, axis=1, arr=X_tnS)\n",
    "X_ttf = np.apply_along_axis(np.fft.fft, axis=1, arr=X_ttS)\n",
    "\n",
    "#Combine Real and Imaginary Part of FT in form [real, imaginary]\n",
    "X_tnf = np.append(X_tnf.real, X_tnf.imag, axis = 1)\n",
    "X_ttf = np.append(X_ttf.real, X_ttf.imag, axis = 1)\n",
    "X_tnf= X_tnf.astype('float32')\n",
    "X_ttf= X_ttf.astype('float32')\n",
    "\n",
    "#Scale X-Data with Training Xs\n",
    "#scaler = StandardScaler()\n",
    "#scaler.fit(X_tnf)\n",
    "#X_tnf = scaler.transform(X_tnf)\n",
    "#X_ttf = scaler.transform(X_ttf)\n",
    "\n",
    "#Encode y-Data with Training ys\n",
    "encoder = LabelEncoder()\n",
    "encoder.fit(y_tnAu)\n",
    "y_tn_e = encoder.transform(y_tnAu)\n",
    "y_tn_p = np_utils.to_categorical(y_tn_e, num_classes = len(labels))\n",
    "y_tt_e = encoder.transform(y_tt)\n",
    "y_tt_p = np_utils.to_categorical(y_tt_e, num_classes = len(labels))\n",
    "\n",
    "#Reshape All Data to a 3D Tensor of Shape [Number of Spectra, Number of Timesteps(1), Number of Wavelengths]\n",
    "X_tn_p = X_tnf.reshape(X_tnf.shape[0], X_tnf.shape[1], 1)\n",
    "X_tt_p = X_ttf.reshape(X_ttf.shape[0], X_ttf.shape[1], 1)\n",
    "\n",
    "y_tnT = tf.convert_to_tensor(y_tn_p)\n",
    "y_ttT = tf.convert_to_tensor(y_tt_p)\n",
    "X_tnT = tf.convert_to_tensor(X_tn_p)\n",
    "X_ttT = tf.convert_to_tensor(X_tt_p)\n",
    "\n",
    "\n",
    "display(X_tnT.shape)\n",
    "display(y_tnT.shape)\n",
    "display(X_ttT.shape)\n",
    "display(y_ttT.shape)"
   ]
  },
  {
   "cell_type": "code",
   "execution_count": 9,
   "id": "18e552db",
   "metadata": {
    "scrolled": true
   },
   "outputs": [
    {
     "name": "stdout",
     "output_type": "stream",
     "text": [
      "Epoch 1/20\n",
      "72/72 [==============================] - 11s 136ms/step - loss: 2.4008 - accuracy: 0.8050 - val_loss: 0.0133 - val_accuracy: 1.0000\n",
      "Epoch 2/20\n",
      "72/72 [==============================] - 8s 117ms/step - loss: 0.0033 - accuracy: 1.0000 - val_loss: 0.0012 - val_accuracy: 1.0000\n",
      "Epoch 3/20\n",
      "72/72 [==============================] - 10s 132ms/step - loss: 9.8994e-04 - accuracy: 1.0000 - val_loss: 7.1518e-04 - val_accuracy: 1.0000\n",
      "Epoch 4/20\n",
      "72/72 [==============================] - 9s 119ms/step - loss: 4.7566e-04 - accuracy: 1.0000 - val_loss: 3.6671e-04 - val_accuracy: 1.0000\n",
      "Epoch 5/20\n",
      "72/72 [==============================] - 9s 127ms/step - loss: 2.8771e-04 - accuracy: 1.0000 - val_loss: 2.7902e-04 - val_accuracy: 1.0000\n",
      "Epoch 6/20\n",
      "72/72 [==============================] - 9s 123ms/step - loss: 2.0552e-04 - accuracy: 1.0000 - val_loss: 2.0735e-04 - val_accuracy: 1.0000\n",
      "Epoch 7/20\n",
      "72/72 [==============================] - 9s 122ms/step - loss: 1.5275e-04 - accuracy: 1.0000 - val_loss: 1.9659e-04 - val_accuracy: 1.0000\n",
      "Epoch 8/20\n",
      "72/72 [==============================] - 9s 129ms/step - loss: 3.6384e-04 - accuracy: 1.0000 - val_loss: 1.3399e-04 - val_accuracy: 1.0000\n",
      "Epoch 9/20\n",
      "72/72 [==============================] - 9s 119ms/step - loss: 8.1854e-05 - accuracy: 1.0000 - val_loss: 9.1536e-05 - val_accuracy: 1.0000\n",
      "Epoch 10/20\n",
      "72/72 [==============================] - 9s 131ms/step - loss: 7.0869e-05 - accuracy: 1.0000 - val_loss: 8.0566e-05 - val_accuracy: 1.0000\n",
      "Epoch 11/20\n",
      "72/72 [==============================] - 8s 116ms/step - loss: 7.0243e-05 - accuracy: 1.0000 - val_loss: 6.8786e-05 - val_accuracy: 1.0000\n",
      "Epoch 12/20\n",
      "72/72 [==============================] - 10s 141ms/step - loss: 5.0873e-05 - accuracy: 1.0000 - val_loss: 5.7313e-05 - val_accuracy: 1.0000\n",
      "Epoch 13/20\n",
      "72/72 [==============================] - 10s 135ms/step - loss: 4.3516e-05 - accuracy: 1.0000 - val_loss: 4.7901e-05 - val_accuracy: 1.0000\n",
      "Epoch 14/20\n",
      "72/72 [==============================] - 9s 125ms/step - loss: 3.4474e-05 - accuracy: 1.0000 - val_loss: 4.3058e-05 - val_accuracy: 1.0000\n",
      "Epoch 15/20\n",
      "72/72 [==============================] - 10s 135ms/step - loss: 3.1621e-05 - accuracy: 1.0000 - val_loss: 3.8693e-05 - val_accuracy: 1.0000\n",
      "Epoch 16/20\n",
      "72/72 [==============================] - 9s 121ms/step - loss: 2.7786e-05 - accuracy: 1.0000 - val_loss: 3.4004e-05 - val_accuracy: 1.0000\n",
      "Epoch 17/20\n",
      "72/72 [==============================] - 10s 133ms/step - loss: 2.0779e-05 - accuracy: 1.0000 - val_loss: 3.1263e-05 - val_accuracy: 1.0000\n",
      "Epoch 18/20\n",
      "72/72 [==============================] - 9s 123ms/step - loss: 1.9487e-05 - accuracy: 1.0000 - val_loss: 2.8706e-05 - val_accuracy: 1.0000\n",
      "Epoch 19/20\n",
      "72/72 [==============================] - 9s 129ms/step - loss: 2.3243e-05 - accuracy: 1.0000 - val_loss: 2.5295e-05 - val_accuracy: 1.0000\n",
      "Epoch 20/20\n",
      "72/72 [==============================] - 9s 128ms/step - loss: 1.7979e-05 - accuracy: 1.0000 - val_loss: 2.3555e-05 - val_accuracy: 1.0000\n",
      "1/1 [==============================] - 0s 204ms/step - loss: 5.8308 - accuracy: 0.6000\n"
     ]
    },
    {
     "data": {
      "text/plain": [
       "0.6000000238418579"
      ]
     },
     "metadata": {},
     "output_type": "display_data"
    }
   ],
   "source": [
    "#Multi-class Classification with Keras\n",
    " \n",
    "n_timesteps, n_features, n_outputs = X_tn_p.shape[1], X_tn_p.shape[2], y_tn_p.shape[1]\n",
    "\n",
    "#Define Sequential Model - 1 Convolution Layer, 1 Dropout Layer, 1 Flatten Layer, 2 Dense Layers\n",
    "model = Sequential()\n",
    "model.add(Conv1D(filters = 64, kernel_size = 3, activation='relu', input_shape=(n_timesteps,n_features)))\n",
    "model.add(Conv1D(filters = 64, kernel_size = 3, activation='relu'))\n",
    "model.add(Dropout(0.5))\n",
    "model.add(MaxPooling1D(pool_size=2))\n",
    "model.add(Flatten())\n",
    "model.add(Dense(100, activation='relu'))\n",
    "model.add(Dense(n_outputs, activation='softmax'))\n",
    "model.compile(loss='categorical_crossentropy', optimizer='adam', metrics=['accuracy'])\n",
    "\n",
    "#Implement EarlyStopping\n",
    "stopper = tf.keras.callbacks.EarlyStopping(monitor = \"val_loss\",patience = 3,verbose = 0, restore_best_weights = True)\n",
    "\n",
    "#Fit Model\n",
    "model.fit(X_tnT, y_tnT, epochs=epochs, batch_size=batch_size, verbose=verbose,  validation_split=0.1, callbacks = stopper)\n",
    "\n",
    "#Evaluate Model\n",
    "_, FTaccuracy = model.evaluate(X_ttT, y_ttT, batch_size=batch_size, verbose=verbose)\n",
    "display(FTaccuracy)"
   ]
  },
  {
   "cell_type": "code",
   "execution_count": 10,
   "id": "54173aea",
   "metadata": {},
   "outputs": [],
   "source": [
    "#Make Prediction\n",
    "FTypred = model.predict(X_ttT)\n",
    "FTypred = tf.argmax(input = FTypred, axis = 1).numpy()\n",
    "FTypred = encoder.inverse_transform(FTypred)"
   ]
  },
  {
   "cell_type": "code",
   "execution_count": 11,
   "id": "f0580f92",
   "metadata": {},
   "outputs": [
    {
     "name": "stdout",
     "output_type": "stream",
     "text": [
      "Model: \"model_1\"\n",
      "_________________________________________________________________\n",
      "Layer (type)                 Output Shape              Param #   \n",
      "=================================================================\n",
      "conv1d_2_input (InputLayer)  [(None, 1236, 1)]         0         \n",
      "_________________________________________________________________\n",
      "conv1d_2 (Conv1D)            (None, 1234, 64)          256       \n",
      "=================================================================\n",
      "Total params: 256\n",
      "Trainable params: 256\n",
      "Non-trainable params: 0\n",
      "_________________________________________________________________\n"
     ]
    },
    {
     "data": {
      "text/plain": [
       "array([[[ 0.       ,  3.7907174,  0.       , ..., 10.832205 ,\n",
       "          0.       ,  0.       ],\n",
       "        [ 6.835212 , 18.128796 ,  6.308449 , ...,  0.       ,\n",
       "          0.       ,  0.       ],\n",
       "        [10.78039  ,  6.5344467,  8.721209 , ...,  0.       ,\n",
       "          0.       ,  0.7097384],\n",
       "        ...,\n",
       "        [ 0.       , 16.830513 ,  0.       , ...,  0.       ,\n",
       "          0.       ,  0.       ],\n",
       "        [ 0.       , 22.290234 ,  0.       , ...,  0.       ,\n",
       "          0.       ,  0.       ],\n",
       "        [ 3.6150765, 17.672945 ,  6.8064966, ...,  0.       ,\n",
       "          0.       ,  0.       ]]], dtype=float32)"
      ]
     },
     "metadata": {},
     "output_type": "display_data"
    }
   ],
   "source": [
    "convlayer = tf.keras.Model(inputs=model.inputs, outputs=model.layers[0].output)\n",
    "convlayer.summary()\n",
    "\n",
    "spectra = X_ttT[n, :, 0]\n",
    "specvec.append(spectra)\n",
    "spectra = tf.reshape(spectra, (1, len(spectra), 1))\n",
    "\n",
    "FTfeature_maps = convlayer.predict(spectra)\n",
    "display(FTfeature_maps)"
   ]
  },
  {
   "cell_type": "code",
   "execution_count": 12,
   "id": "756a0320",
   "metadata": {},
   "outputs": [
    {
     "data": {
      "text/plain": [
       "TensorShape([4000, 1024, 1])"
      ]
     },
     "metadata": {},
     "output_type": "display_data"
    },
    {
     "data": {
      "text/plain": [
       "TensorShape([4000, 5])"
      ]
     },
     "metadata": {},
     "output_type": "display_data"
    },
    {
     "data": {
      "text/plain": [
       "TensorShape([5, 1024, 1])"
      ]
     },
     "metadata": {},
     "output_type": "display_data"
    },
    {
     "data": {
      "text/plain": [
       "TensorShape([5, 5])"
      ]
     },
     "metadata": {},
     "output_type": "display_data"
    }
   ],
   "source": [
    "#Apply Welsh-Hadamard Transform to Training and Testing Data\n",
    "from sympy.discrete.transforms import fwht, ifwht\n",
    "\n",
    "#scaler = StandardScaler()\n",
    "#scaler.fit(X_tnAu)\n",
    "#X_tnAu = scaler.transform(X_tnAu)\n",
    "#X_tt = scaler.transform(X_tt)\n",
    "\n",
    "X_tnh = np.apply_along_axis(fwht, axis=1, arr=X_tnAu)\n",
    "X_tth = np.apply_along_axis(fwht, axis=1, arr=X_tt)\n",
    "X_tnh = X_tnh.astype('float32')\n",
    "X_tth = X_tth.astype('float32')\n",
    "\n",
    "#Scale X-Data with Training Xs\n",
    "scaler = StandardScaler()\n",
    "scaler.fit(X_tnh)\n",
    "X_tnh = scaler.transform(X_tnh)\n",
    "X_tth = scaler.transform(X_tth)\n",
    "\n",
    "#Encode y-Data with Training ys\n",
    "encoder = LabelEncoder()\n",
    "encoder.fit(y_tnAu)\n",
    "y_tn_e = encoder.transform(y_tnAu)\n",
    "y_tn_p = np_utils.to_categorical(y_tn_e, num_classes = len(labels))\n",
    "y_tt_e = encoder.transform(y_tt)\n",
    "y_tt_p = np_utils.to_categorical(y_tt_e, num_classes = len(labels))\n",
    "\n",
    "#Reshape All Data to a 3D Tensor of Shape [Number of Spectra, Number of Timesteps(1), Number of Wavelengths]\n",
    "X_tn_p = X_tnh.reshape(X_tnh.shape[0], X_tnh.shape[1], 1)\n",
    "X_tt_p = X_tth.reshape(X_tth.shape[0], X_tth.shape[1], 1)\n",
    "\n",
    "y_tnT = tf.convert_to_tensor(y_tn_p)\n",
    "y_ttT = tf.convert_to_tensor(y_tt_p)\n",
    "X_tnT = tf.convert_to_tensor(X_tn_p)\n",
    "X_ttT = tf.convert_to_tensor(X_tt_p)\n",
    "\n",
    "\n",
    "display(X_tnT.shape)\n",
    "display(y_tnT.shape)\n",
    "display(X_ttT.shape)\n",
    "display(y_ttT.shape)"
   ]
  },
  {
   "cell_type": "code",
   "execution_count": 13,
   "id": "b4e029d8",
   "metadata": {},
   "outputs": [
    {
     "name": "stdout",
     "output_type": "stream",
     "text": [
      "Epoch 1/20\n",
      "72/72 [==============================] - 9s 115ms/step - loss: 0.2413 - accuracy: 0.9200 - val_loss: 0.0060 - val_accuracy: 1.0000\n",
      "Epoch 2/20\n",
      "72/72 [==============================] - 7s 96ms/step - loss: 0.0011 - accuracy: 1.0000 - val_loss: 0.0017 - val_accuracy: 1.0000\n",
      "Epoch 3/20\n",
      "72/72 [==============================] - 8s 111ms/step - loss: 4.3595e-04 - accuracy: 1.0000 - val_loss: 0.0012 - val_accuracy: 1.0000\n",
      "Epoch 4/20\n",
      "72/72 [==============================] - 7s 96ms/step - loss: 2.5185e-04 - accuracy: 1.0000 - val_loss: 7.0916e-04 - val_accuracy: 1.0000\n",
      "Epoch 5/20\n",
      "72/72 [==============================] - 8s 112ms/step - loss: 1.7514e-04 - accuracy: 1.0000 - val_loss: 5.4137e-04 - val_accuracy: 1.0000\n",
      "Epoch 6/20\n",
      "72/72 [==============================] - 7s 98ms/step - loss: 1.2397e-04 - accuracy: 1.0000 - val_loss: 4.5801e-04 - val_accuracy: 1.0000\n",
      "Epoch 7/20\n",
      "72/72 [==============================] - 8s 114ms/step - loss: 9.9079e-05 - accuracy: 1.0000 - val_loss: 3.8161e-04 - val_accuracy: 1.0000\n",
      "Epoch 8/20\n",
      "72/72 [==============================] - 7s 98ms/step - loss: 7.0490e-05 - accuracy: 1.0000 - val_loss: 2.8644e-04 - val_accuracy: 1.0000\n",
      "Epoch 9/20\n",
      "72/72 [==============================] - 8s 106ms/step - loss: 5.7120e-05 - accuracy: 1.0000 - val_loss: 2.5985e-04 - val_accuracy: 1.0000\n",
      "Epoch 10/20\n",
      "72/72 [==============================] - 8s 107ms/step - loss: 4.7612e-05 - accuracy: 1.0000 - val_loss: 2.2622e-04 - val_accuracy: 1.0000\n",
      "Epoch 11/20\n",
      "72/72 [==============================] - 8s 115ms/step - loss: 4.0504e-05 - accuracy: 1.0000 - val_loss: 1.8672e-04 - val_accuracy: 1.0000\n",
      "Epoch 12/20\n",
      "72/72 [==============================] - 8s 109ms/step - loss: 3.2816e-05 - accuracy: 1.0000 - val_loss: 1.8643e-04 - val_accuracy: 1.0000\n",
      "Epoch 13/20\n",
      "72/72 [==============================] - 8s 111ms/step - loss: 2.9581e-05 - accuracy: 1.0000 - val_loss: 1.6963e-04 - val_accuracy: 1.0000\n",
      "Epoch 14/20\n",
      "72/72 [==============================] - 8s 106ms/step - loss: 2.3852e-05 - accuracy: 1.0000 - val_loss: 1.3370e-04 - val_accuracy: 1.0000\n",
      "Epoch 15/20\n",
      "72/72 [==============================] - 8s 107ms/step - loss: 2.2431e-05 - accuracy: 1.0000 - val_loss: 1.2248e-04 - val_accuracy: 1.0000\n",
      "Epoch 16/20\n",
      "72/72 [==============================] - 8s 105ms/step - loss: 1.9533e-05 - accuracy: 1.0000 - val_loss: 1.0406e-04 - val_accuracy: 1.0000\n",
      "Epoch 17/20\n",
      "72/72 [==============================] - 7s 103ms/step - loss: 1.7200e-05 - accuracy: 1.0000 - val_loss: 1.1190e-04 - val_accuracy: 1.0000\n",
      "Epoch 18/20\n",
      "72/72 [==============================] - 8s 107ms/step - loss: 1.5231e-05 - accuracy: 1.0000 - val_loss: 8.8776e-05 - val_accuracy: 1.0000\n",
      "Epoch 19/20\n",
      "72/72 [==============================] - 7s 100ms/step - loss: 1.5166e-05 - accuracy: 1.0000 - val_loss: 7.3892e-05 - val_accuracy: 1.0000\n",
      "Epoch 20/20\n",
      "72/72 [==============================] - 8s 110ms/step - loss: 1.1508e-05 - accuracy: 1.0000 - val_loss: 7.9375e-05 - val_accuracy: 1.0000\n",
      "1/1 [==============================] - 0s 180ms/step - loss: 1.7914 - accuracy: 0.8000\n"
     ]
    },
    {
     "data": {
      "text/plain": [
       "0.800000011920929"
      ]
     },
     "metadata": {},
     "output_type": "display_data"
    }
   ],
   "source": [
    "#Multi-class Classification with Keras\n",
    " \n",
    "n_timesteps, n_features, n_outputs = X_tn_p.shape[1], X_tn_p.shape[2], y_tn_p.shape[1]\n",
    "\n",
    "#Define Sequential Model - 1 Convolution Layer, 1 Dropout Layer, 1 Flatten Layer, 2 Dense Layers\n",
    "model = Sequential()\n",
    "model.add(Conv1D(filters = 64, kernel_size = 3, activation='relu', input_shape=(n_timesteps,n_features)))\n",
    "model.add(Conv1D(filters = 64, kernel_size = 3, activation='relu'))\n",
    "model.add(Dropout(0.5))\n",
    "model.add(MaxPooling1D(pool_size=2))\n",
    "model.add(Flatten())\n",
    "model.add(Dense(100, activation='relu'))\n",
    "model.add(Dense(n_outputs, activation='softmax'))\n",
    "model.compile(loss='categorical_crossentropy', optimizer='adam', metrics=['accuracy'])\n",
    "\n",
    "#Implement EarlyStopping\n",
    "stopper = tf.keras.callbacks.EarlyStopping(monitor = \"val_loss\", mode = 'min',\\\n",
    "                                           patience = 3, verbose = 1, restore_best_weights = True)\n",
    "\n",
    "#Fit Model\n",
    "model.fit(X_tnT, y_tnT, epochs=epochs, batch_size=batch_size, verbose=verbose,  validation_split=0.1, callbacks = stopper)\n",
    "\n",
    "#Evaluate Model\n",
    "_, HTaccuracy = model.evaluate(X_ttT, y_ttT, batch_size=batch_size, verbose=verbose)\n",
    "display(HTaccuracy)"
   ]
  },
  {
   "cell_type": "code",
   "execution_count": 14,
   "id": "5d0d1b2b",
   "metadata": {},
   "outputs": [
    {
     "name": "stdout",
     "output_type": "stream",
     "text": [
      "WARNING:tensorflow:5 out of the last 5 calls to <function Model.make_predict_function.<locals>.predict_function at 0x000001C704B5C790> triggered tf.function retracing. Tracing is expensive and the excessive number of tracings could be due to (1) creating @tf.function repeatedly in a loop, (2) passing tensors with different shapes, (3) passing Python objects instead of tensors. For (1), please define your @tf.function outside of the loop. For (2), @tf.function has experimental_relax_shapes=True option that relaxes argument shapes that can avoid unnecessary retracing. For (3), please refer to https://www.tensorflow.org/guide/function#controlling_retracing and https://www.tensorflow.org/api_docs/python/tf/function for  more details.\n"
     ]
    }
   ],
   "source": [
    "#Make Prediction\n",
    "HTypred = model.predict(X_ttT)\n",
    "HTypred = tf.argmax(input = HTypred, axis = 1).numpy()\n",
    "HTypred = encoder.inverse_transform(HTypred)"
   ]
  },
  {
   "cell_type": "code",
   "execution_count": 15,
   "id": "d13ca327",
   "metadata": {},
   "outputs": [
    {
     "name": "stdout",
     "output_type": "stream",
     "text": [
      "Model: \"model_2\"\n",
      "_________________________________________________________________\n",
      "Layer (type)                 Output Shape              Param #   \n",
      "=================================================================\n",
      "conv1d_4_input (InputLayer)  [(None, 1024, 1)]         0         \n",
      "_________________________________________________________________\n",
      "conv1d_4 (Conv1D)            (None, 1022, 64)          256       \n",
      "=================================================================\n",
      "Total params: 256\n",
      "Trainable params: 256\n",
      "Non-trainable params: 0\n",
      "_________________________________________________________________\n",
      "WARNING:tensorflow:6 out of the last 6 calls to <function Model.make_predict_function.<locals>.predict_function at 0x000001C70BA59820> triggered tf.function retracing. Tracing is expensive and the excessive number of tracings could be due to (1) creating @tf.function repeatedly in a loop, (2) passing tensors with different shapes, (3) passing Python objects instead of tensors. For (1), please define your @tf.function outside of the loop. For (2), @tf.function has experimental_relax_shapes=True option that relaxes argument shapes that can avoid unnecessary retracing. For (3), please refer to https://www.tensorflow.org/guide/function#controlling_retracing and https://www.tensorflow.org/api_docs/python/tf/function for  more details.\n"
     ]
    },
    {
     "data": {
      "text/plain": [
       "array([[[0.        , 0.        , 0.        , ..., 0.04472811,\n",
       "         0.        , 0.        ],\n",
       "        [0.        , 0.        , 0.        , ..., 0.02769493,\n",
       "         0.        , 0.02336673],\n",
       "        [0.        , 0.        , 0.        , ..., 0.02395206,\n",
       "         0.        , 0.        ],\n",
       "        ...,\n",
       "        [0.07877819, 0.09523822, 0.18845265, ..., 0.        ,\n",
       "         0.05217698, 0.05614661],\n",
       "        [0.14158699, 0.04692553, 0.22066192, ..., 0.01565553,\n",
       "         0.1003592 , 0.12648864],\n",
       "        [0.        , 0.        , 0.        , ..., 0.09137002,\n",
       "         0.02286514, 0.        ]]], dtype=float32)"
      ]
     },
     "metadata": {},
     "output_type": "display_data"
    }
   ],
   "source": [
    "convlayer = tf.keras.Model(inputs=model.inputs, outputs=model.layers[0].output)\n",
    "convlayer.summary()\n",
    "\n",
    "spectra = X_ttT[n, :, 0]\n",
    "specvec.append(spectra)\n",
    "spectra = tf.reshape(spectra, (1, len(spectra), 1))\n",
    "\n",
    "HTfeature_maps = convlayer.predict(spectra)\n",
    "display(HTfeature_maps)"
   ]
  },
  {
   "cell_type": "code",
   "execution_count": 16,
   "id": "0107edb5",
   "metadata": {},
   "outputs": [
    {
     "data": {
      "text/plain": [
       "array(['10-4', '10-7', '10-7', '10-4', '10-5'], dtype=object)"
      ]
     },
     "metadata": {},
     "output_type": "display_data"
    },
    {
     "data": {
      "text/plain": [
       "0.6000000238418579"
      ]
     },
     "metadata": {},
     "output_type": "display_data"
    },
    {
     "data": {
      "text/plain": [
       "0.6000000238418579"
      ]
     },
     "metadata": {},
     "output_type": "display_data"
    },
    {
     "data": {
      "text/plain": [
       "0.800000011920929"
      ]
     },
     "metadata": {},
     "output_type": "display_data"
    }
   ],
   "source": [
    "from sklearn.metrics import confusion_matrix\n",
    "display(SCypred)\n",
    "CMSC = confusion_matrix(ytruth, SCypred, labels = labels)\n",
    "CMFT = confusion_matrix(ytruth, FTypred, labels = labels)\n",
    "CMHT = confusion_matrix(ytruth, HTypred, labels = labels)\n",
    "display(SCaccuracy, FTaccuracy, HTaccuracy)"
   ]
  },
  {
   "cell_type": "code",
   "execution_count": 17,
   "id": "79c1b1a0",
   "metadata": {},
   "outputs": [
    {
     "data": {
      "image/png": "[encoded data removed]",
      "text/plain": [
       "<Figure size 1500x500 with 4 Axes>"
      ]
     },
     "metadata": {},
     "output_type": "display_data"
    }
   ],
   "source": [
    "fig, axs = plt.subplots(1, 3, sharey = True, figsize = [15, 5])\n",
    "\n",
    "plt.rcParams['xtick.bottom'] = plt.rcParams['xtick.labelbottom'] = False\n",
    "plt.rcParams['xtick.top'] = plt.rcParams['xtick.labeltop'] = True\n",
    "\n",
    "pcm = axs[0].pcolor(CMSC, edgecolors = 'k', cmap = 'gist_heat_r')\n",
    "plt.gca().invert_yaxis()\n",
    "axs[0].set_xticks(ticks = np.linspace(0.5, len(labels)-0.5, num = len(labels)), labels = labels)\n",
    "axs[0].set_yticks(ticks = np.linspace(0.5, len(labels)-0.5, num = len(labels)), labels = labels)\n",
    "axs[0].set_ylabel(\"Actual Condition\")\n",
    "axs[0].set_xlabel(\"Predicted Condition\")\n",
    "axs[0].xaxis.set_label_position('top') \n",
    "axs[0].set_title('Raw Data');\n",
    "\n",
    "axs[1].pcolor(CMFT, edgecolors = 'k', cmap = 'gist_heat_r');\n",
    "plt.gca().invert_yaxis()\n",
    "axs[1].set_xticks(ticks = np.linspace(0.5, len(labels)-0.5, num = len(labels)), labels = labels)\n",
    "axs[1].set_title('Fourier Transform');\n",
    "axs[1].set_xlabel(\"Predicted Condition\")\n",
    "axs[1].xaxis.set_label_position('top')\n",
    "\n",
    "axs[2].pcolor(CMHT, edgecolors = 'k', cmap = 'gist_heat_r')\n",
    "plt.gca().invert_yaxis()\n",
    "axs[2].set_xticks(ticks = np.linspace(0.5, len(labels)-0.5, num = len(labels)), labels = labels);\n",
    "axs[2].set_title('Walsh Hadamard Transform');\n",
    "axs[2].set_xlabel(\"Predicted Condition\")\n",
    "axs[2].xaxis.set_label_position('top')\n",
    "\n",
    "fig.colorbar(pcm, ax = axs[:], location = 'bottom', label = 'Number of Assignments');"
   ]
  },
  {
   "cell_type": "code",
   "execution_count": null,
   "id": "d8d30a8d",
   "metadata": {},
   "outputs": [],
   "source": []
  }
 ],
 "metadata": {
  "kernelspec": {
   "display_name": "Python 3 (ipykernel)",
   "language": "python",
   "name": "python3"
  },
  "language_info": {
   "codemirror_mode": {
    "name": "ipython",
    "version": 3
   },
   "file_extension": ".py",
   "mimetype": "text/x-python",
   "name": "python",
   "nbconvert_exporter": "python",
   "pygments_lexer": "ipython3",
   "version": "3.9.12"
  }
 },
 "nbformat": 4,
 "nbformat_minor": 5
}
