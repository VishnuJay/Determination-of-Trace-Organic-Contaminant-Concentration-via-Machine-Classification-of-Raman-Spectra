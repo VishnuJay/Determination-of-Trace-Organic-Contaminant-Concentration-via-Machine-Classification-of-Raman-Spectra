{
 "cells": [
  {
   "cell_type": "code",
   "execution_count": 1,
   "id": "d5953c12",
   "metadata": {},
   "outputs": [],
   "source": [
    "import pandas as pd\n",
    "import numpy as np\n",
    "from scipy import stats as stats\n",
    "import matplotlib.pyplot as plt\n",
    "import seaborn as sb\n",
    "import KeyFunctions as me\n",
    "import tensorflow as tf\n",
    "RandState = 117\n",
    "\n",
    "from keras.models import Sequential\n",
    "from keras.layers import Dense, Dropout, Conv1D, MaxPooling1D, Flatten, MaxPooling2D\n",
    "from keras.wrappers.scikit_learn import KerasClassifier\n",
    "from keras.utils import np_utils\n",
    "from sklearn.model_selection import cross_val_score\n",
    "from sklearn.preprocessing import LabelEncoder\n",
    "from sklearn.model_selection import StratifiedKFold\n",
    "\n",
    "n = 4"
   ]
  },
  {
   "cell_type": "code",
   "execution_count": 2,
   "id": "22b201c0",
   "metadata": {},
   "outputs": [],
   "source": [
    "from sklearn.model_selection import train_test_split\n",
    "\n",
    "#Import Full Triclosan Dataset\n",
    "df, labels = me.ConstructCombinedTriclosanDataset()\n",
    "\n",
    "[train, test] = train_test_split(df, random_state = RandState, shuffle = True, train_size = 0.8)\n",
    "\n",
    "y_tn = train.index\n",
    "y_tt = test.index\n",
    "X_tt = test.to_numpy()\n",
    "X_tn = train.to_numpy()\n",
    "\n",
    "#Augment Data to 4000 Spectra\n",
    "X_tnAu, y_tnAu = me.AugmentData(X_tn, y_tn, 4000, df.columns.to_numpy(), False)"
   ]
  },
  {
   "cell_type": "code",
   "execution_count": 3,
   "id": "187a01c3",
   "metadata": {},
   "outputs": [
    {
     "data": {
      "text/plain": [
       "10-5    11\n",
       "10-3    10\n",
       "10-4    10\n",
       "10-7     6\n",
       "10-8     6\n",
       "10-9     6\n",
       "dtype: int64"
      ]
     },
     "execution_count": 3,
     "metadata": {},
     "output_type": "execute_result"
    }
   ],
   "source": [
    "df.index.value_counts()"
   ]
  },
  {
   "cell_type": "code",
   "execution_count": 4,
   "id": "fdef8ef0",
   "metadata": {},
   "outputs": [],
   "source": [
    "#Set Training Parameters\n",
    "verbose = 1\n",
    "epochsvec = [5, 20, 50]\n",
    "batch_sizevec = [10, 50, 100]\n",
    "epochs = epochsvec[1]\n",
    "batch_size = batch_sizevec[1]"
   ]
  },
  {
   "cell_type": "code",
   "execution_count": 5,
   "id": "479b91a1",
   "metadata": {},
   "outputs": [
    {
     "data": {
      "text/plain": [
       "TensorShape([4000, 901, 1])"
      ]
     },
     "metadata": {},
     "output_type": "display_data"
    },
    {
     "data": {
      "text/plain": [
       "TensorShape([4000, 6])"
      ]
     },
     "metadata": {},
     "output_type": "display_data"
    },
    {
     "data": {
      "text/plain": [
       "TensorShape([10, 901, 1])"
      ]
     },
     "metadata": {},
     "output_type": "display_data"
    },
    {
     "data": {
      "text/plain": [
       "TensorShape([10, 6])"
      ]
     },
     "metadata": {},
     "output_type": "display_data"
    }
   ],
   "source": [
    "from sklearn.preprocessing import LabelEncoder\n",
    "from sklearn.preprocessing import StandardScaler\n",
    "\n",
    "#Scale X-Data with Training Xs\n",
    "scaler = StandardScaler()\n",
    "scaler.fit(X_tnAu)\n",
    "X_tnS = scaler.transform(X_tnAu)\n",
    "X_ttS = scaler.transform(X_tt)\n",
    "\n",
    "#Encode y-Data with Training ys\n",
    "encoder = LabelEncoder()\n",
    "encoder.fit(y_tnAu)\n",
    "y_tn_e = encoder.transform(y_tnAu)\n",
    "y_tn_p = np_utils.to_categorical(y_tn_e, num_classes = len(labels))\n",
    "y_tt_e = encoder.transform(y_tt)\n",
    "y_tt_p = np_utils.to_categorical(y_tt_e, num_classes = len(labels))\n",
    "\n",
    "\n",
    "#Reshape All Data to a 3D Tensor of Shape [Number of Spectra, Number of Timesteps(1), Number of Wavelengths]\n",
    "X_tn_p = X_tnS.reshape(X_tnS.shape[0], X_tnS.shape[1], 1)\n",
    "X_tt_p = X_ttS.reshape(X_ttS.shape[0], X_ttS.shape[1], 1)\n",
    "\n",
    "y_tnT = tf.convert_to_tensor(y_tn_p)\n",
    "y_ttT = tf.convert_to_tensor(y_tt_p)\n",
    "X_tnT = tf.convert_to_tensor(X_tn_p)\n",
    "X_ttT = tf.convert_to_tensor(X_tt_p)\n",
    "\n",
    "display(X_tnT.shape)\n",
    "display(y_tnT.shape)\n",
    "display(X_ttT.shape)\n",
    "display(y_ttT.shape)\n",
    "\n",
    "ytruth = tf.argmax(input = y_ttT, axis = 1).numpy()\n",
    "ytruth = encoder.inverse_transform(ytruth)"
   ]
  },
  {
   "cell_type": "code",
   "execution_count": 6,
   "id": "374fecab",
   "metadata": {},
   "outputs": [
    {
     "name": "stdout",
     "output_type": "stream",
     "text": [
      "Epoch 1/20\n",
      "64/64 [==============================] - 8s 111ms/step - loss: 0.2478 - accuracy: 0.9019 - val_loss: 0.0229 - val_accuracy: 1.0000\n",
      "Epoch 2/20\n",
      "64/64 [==============================] - 6s 100ms/step - loss: 0.0038 - accuracy: 1.0000 - val_loss: 0.0058 - val_accuracy: 1.0000\n",
      "Epoch 3/20\n",
      "64/64 [==============================] - 7s 102ms/step - loss: 6.7200e-04 - accuracy: 1.0000 - val_loss: 0.0032 - val_accuracy: 1.0000\n",
      "Epoch 4/20\n",
      "64/64 [==============================] - 7s 109ms/step - loss: 3.6856e-04 - accuracy: 1.0000 - val_loss: 0.0023 - val_accuracy: 1.0000\n",
      "Epoch 5/20\n",
      "64/64 [==============================] - 6s 97ms/step - loss: 2.4519e-04 - accuracy: 1.0000 - val_loss: 0.0018 - val_accuracy: 1.0000\n",
      "Epoch 6/20\n",
      "64/64 [==============================] - 7s 107ms/step - loss: 1.6831e-04 - accuracy: 1.0000 - val_loss: 0.0014 - val_accuracy: 1.0000\n",
      "Epoch 7/20\n",
      "64/64 [==============================] - 6s 98ms/step - loss: 1.3227e-04 - accuracy: 1.0000 - val_loss: 0.0012 - val_accuracy: 1.0000\n",
      "Epoch 8/20\n",
      "64/64 [==============================] - 7s 103ms/step - loss: 1.0267e-04 - accuracy: 1.0000 - val_loss: 9.8190e-04 - val_accuracy: 1.0000\n",
      "Epoch 9/20\n",
      "64/64 [==============================] - 7s 106ms/step - loss: 7.9209e-05 - accuracy: 1.0000 - val_loss: 8.5365e-04 - val_accuracy: 1.0000\n",
      "Epoch 10/20\n",
      "64/64 [==============================] - 6s 100ms/step - loss: 6.1164e-05 - accuracy: 1.0000 - val_loss: 7.3565e-04 - val_accuracy: 1.0000\n",
      "Epoch 11/20\n",
      "64/64 [==============================] - 7s 109ms/step - loss: 5.7933e-05 - accuracy: 1.0000 - val_loss: 6.5581e-04 - val_accuracy: 1.0000\n",
      "Epoch 12/20\n",
      "64/64 [==============================] - 7s 105ms/step - loss: 4.4998e-05 - accuracy: 1.0000 - val_loss: 6.0233e-04 - val_accuracy: 1.0000\n",
      "Epoch 13/20\n",
      "64/64 [==============================] - 6s 100ms/step - loss: 3.7671e-05 - accuracy: 1.0000 - val_loss: 5.3316e-04 - val_accuracy: 1.0000\n",
      "Epoch 14/20\n",
      "64/64 [==============================] - 7s 112ms/step - loss: 3.4463e-05 - accuracy: 1.0000 - val_loss: 4.7173e-04 - val_accuracy: 1.0000\n",
      "Epoch 15/20\n",
      "64/64 [==============================] - 6s 88ms/step - loss: 2.9756e-05 - accuracy: 1.0000 - val_loss: 4.3874e-04 - val_accuracy: 1.0000\n",
      "Epoch 16/20\n",
      "64/64 [==============================] - 7s 103ms/step - loss: 2.4486e-05 - accuracy: 1.0000 - val_loss: 4.0500e-04 - val_accuracy: 1.0000\n",
      "Epoch 17/20\n",
      "64/64 [==============================] - 5s 86ms/step - loss: 2.1110e-05 - accuracy: 1.0000 - val_loss: 3.6437e-04 - val_accuracy: 1.0000\n",
      "Epoch 18/20\n",
      "64/64 [==============================] - 6s 92ms/step - loss: 1.8955e-05 - accuracy: 1.0000 - val_loss: 3.4880e-04 - val_accuracy: 1.0000\n",
      "Epoch 19/20\n",
      "64/64 [==============================] - 6s 98ms/step - loss: 1.7228e-05 - accuracy: 1.0000 - val_loss: 3.1891e-04 - val_accuracy: 1.0000\n",
      "Epoch 20/20\n",
      "64/64 [==============================] - 6s 88ms/step - loss: 1.5890e-05 - accuracy: 1.0000 - val_loss: 2.8473e-04 - val_accuracy: 1.0000\n",
      "1/1 [==============================] - 0s 199ms/step - loss: 1.5108 - accuracy: 0.8000\n"
     ]
    },
    {
     "data": {
      "text/plain": [
       "0.800000011920929"
      ]
     },
     "metadata": {},
     "output_type": "display_data"
    }
   ],
   "source": [
    "#Multi-class Classification with Keras\n",
    " \n",
    "n_timesteps, n_features, n_outputs = X_tn_p.shape[1], X_tn_p.shape[2], y_tn_p.shape[1]\n",
    "\n",
    "#Define Sequential Model - 1 Convolution Layer, 1 Dropout Layer, 1 Flatten Layer, 2 Dense Layers\n",
    "model = Sequential()\n",
    "model.add(Conv1D(filters = 64, kernel_size = 3, activation='relu', input_shape=(n_timesteps,n_features)))\n",
    "model.add(Conv1D(filters = 64, kernel_size = 3, activation='relu'))\n",
    "model.add(Dropout(0.5))\n",
    "model.add(MaxPooling1D(pool_size=2))\n",
    "model.add(Flatten())\n",
    "model.add(Dense(100, activation='relu'))\n",
    "model.add(Dense(n_outputs, activation='softmax'))\n",
    "model.compile(loss='categorical_crossentropy', optimizer='adam', metrics=['accuracy'])\n",
    "\n",
    "#Implement EarlyStopping\n",
    "stopper = tf.keras.callbacks.EarlyStopping(monitor = \"val_loss\",patience = 2,verbose = 0, restore_best_weights = True)\n",
    "\n",
    "#Fit Model\n",
    "model.fit(X_tnT, y_tnT, epochs=epochs, batch_size=batch_size, verbose=verbose, validation_split = 0.2, callbacks = stopper)\n",
    "\n",
    "#Evaluate Model\n",
    "_, SCaccuracy = model.evaluate(X_ttT, y_ttT, batch_size=batch_size, verbose=verbose)\n",
    "display(SCaccuracy)"
   ]
  },
  {
   "cell_type": "code",
   "execution_count": 7,
   "id": "e5ccf0ab",
   "metadata": {},
   "outputs": [],
   "source": [
    "#Make Prediction\n",
    "SCypred = model.predict(X_ttT)\n",
    "SCypred = tf.argmax(input = SCypred, axis = 1).numpy()\n",
    "SCypred = encoder.inverse_transform(SCypred)\n"
   ]
  },
  {
   "cell_type": "code",
   "execution_count": 8,
   "id": "50b7e0be",
   "metadata": {},
   "outputs": [
    {
     "data": {
      "text/plain": [
       "array([[[0.01162119, 0.06182145, 0.01508453, ..., 0.02208679,\n",
       "         0.07045952, 0.        ],\n",
       "        [0.00851951, 0.06763997, 0.01141587, ..., 0.02081274,\n",
       "         0.07635265, 0.        ],\n",
       "        [0.01052577, 0.06512476, 0.0134721 , ..., 0.02245227,\n",
       "         0.07302032, 0.        ],\n",
       "        ...,\n",
       "        [0.00795806, 0.03840009, 0.01076913, ..., 0.01021418,\n",
       "         0.05273132, 0.        ],\n",
       "        [0.00711856, 0.04709767, 0.00691755, ..., 0.01581293,\n",
       "         0.05527332, 0.        ],\n",
       "        [0.00041736, 0.04695138, 0.        , ..., 0.00835086,\n",
       "         0.05813583, 0.        ]]], dtype=float32)"
      ]
     },
     "metadata": {},
     "output_type": "display_data"
    }
   ],
   "source": [
    "#Extract Convolution Feature Maps\n",
    "convlayer = tf.keras.Model(inputs=model.inputs, outputs=model.layers[0].output)\n",
    "\n",
    "spectra = X_ttT[n, :, 0]\n",
    "specvec = list()\n",
    "specvec.append(spectra)\n",
    "spectra = tf.reshape(spectra, (1, len(spectra), 1))\n",
    "\n",
    "SCfeature_maps = convlayer.predict(spectra)\n",
    "display(SCfeature_maps)"
   ]
  },
  {
   "cell_type": "code",
   "execution_count": 9,
   "id": "d53fd3fd",
   "metadata": {},
   "outputs": [
    {
     "data": {
      "text/plain": [
       "TensorShape([4000, 1802, 1])"
      ]
     },
     "metadata": {},
     "output_type": "display_data"
    },
    {
     "data": {
      "text/plain": [
       "TensorShape([4000, 6])"
      ]
     },
     "metadata": {},
     "output_type": "display_data"
    },
    {
     "data": {
      "text/plain": [
       "TensorShape([10, 1802, 1])"
      ]
     },
     "metadata": {},
     "output_type": "display_data"
    },
    {
     "data": {
      "text/plain": [
       "TensorShape([10, 6])"
      ]
     },
     "metadata": {},
     "output_type": "display_data"
    }
   ],
   "source": [
    "#Apply Fourier Transform to Training and Testing Data\n",
    "X_tnf = np.apply_along_axis(np.fft.fft, axis=1, arr=X_tnAu)\n",
    "X_ttf = np.apply_along_axis(np.fft.fft, axis=1, arr=X_tt)\n",
    "\n",
    "#Combine Real and Imaginary Part of FT in form [real, imaginary]\n",
    "X_tnf = np.append(X_tnf.real, X_tnf.imag, axis = 1)\n",
    "X_ttf = np.append(X_ttf.real, X_ttf.imag, axis = 1)\n",
    "X_tnf= X_tnf.astype('float32')\n",
    "X_ttf= X_ttf.astype('float32')\n",
    "\n",
    "#Scale X-Data with Training Xs\n",
    "scaler = StandardScaler()\n",
    "scaler.fit(X_tnf)\n",
    "X_tnf = scaler.transform(X_tnf)\n",
    "X_ttf = scaler.transform(X_ttf)\n",
    "\n",
    "#Encode y-Data with Training ys\n",
    "encoder = LabelEncoder()\n",
    "encoder.fit(y_tnAu)\n",
    "y_tn_e = encoder.transform(y_tnAu)\n",
    "y_tn_p = np_utils.to_categorical(y_tn_e, num_classes = len(labels))\n",
    "y_tt_e = encoder.transform(y_tt)\n",
    "y_tt_p = np_utils.to_categorical(y_tt_e, num_classes = len(labels))\n",
    "\n",
    "#Reshape All Data to a 3D Tensor of Shape [Number of Spectra, Number of Timesteps(1), Number of Wavelengths]\n",
    "X_tn_p = X_tnf.reshape(X_tnf.shape[0], X_tnf.shape[1], 1)\n",
    "X_tt_p = X_ttf.reshape(X_ttf.shape[0], X_ttf.shape[1], 1)\n",
    "\n",
    "y_tnT = tf.convert_to_tensor(y_tn_p)\n",
    "y_ttT = tf.convert_to_tensor(y_tt_p)\n",
    "X_tnT = tf.convert_to_tensor(X_tn_p)\n",
    "X_ttT = tf.convert_to_tensor(X_tt_p)\n",
    "\n",
    "\n",
    "display(X_tnT.shape)\n",
    "display(y_tnT.shape)\n",
    "display(X_ttT.shape)\n",
    "display(y_ttT.shape)"
   ]
  },
  {
   "cell_type": "code",
   "execution_count": 10,
   "id": "18e552db",
   "metadata": {},
   "outputs": [
    {
     "name": "stdout",
     "output_type": "stream",
     "text": [
      "Epoch 1/20\n",
      "64/64 [==============================] - 14s 201ms/step - loss: 0.1897 - accuracy: 0.9406 - val_loss: 3.6553e-04 - val_accuracy: 1.0000\n",
      "Epoch 2/20\n",
      "64/64 [==============================] - 12s 190ms/step - loss: 6.0104e-05 - accuracy: 1.0000 - val_loss: 1.6455e-04 - val_accuracy: 1.0000\n",
      "Epoch 3/20\n",
      "64/64 [==============================] - 13s 205ms/step - loss: 3.0437e-05 - accuracy: 1.0000 - val_loss: 1.1674e-04 - val_accuracy: 1.0000\n",
      "Epoch 4/20\n",
      "64/64 [==============================] - 12s 185ms/step - loss: 2.0937e-05 - accuracy: 1.0000 - val_loss: 9.3927e-05 - val_accuracy: 1.0000\n",
      "Epoch 5/20\n",
      "64/64 [==============================] - 12s 187ms/step - loss: 1.6257e-05 - accuracy: 1.0000 - val_loss: 7.9672e-05 - val_accuracy: 1.0000\n",
      "Epoch 6/20\n",
      "64/64 [==============================] - 12s 191ms/step - loss: 1.3318e-05 - accuracy: 1.0000 - val_loss: 7.0030e-05 - val_accuracy: 1.0000\n",
      "Epoch 7/20\n",
      "64/64 [==============================] - 12s 191ms/step - loss: 1.1327e-05 - accuracy: 1.0000 - val_loss: 6.2587e-05 - val_accuracy: 1.0000\n",
      "Epoch 8/20\n",
      "64/64 [==============================] - 12s 183ms/step - loss: 9.6361e-06 - accuracy: 1.0000 - val_loss: 5.6768e-05 - val_accuracy: 1.0000\n",
      "Epoch 9/20\n",
      "64/64 [==============================] - 12s 190ms/step - loss: 8.7255e-06 - accuracy: 1.0000 - val_loss: 5.1590e-05 - val_accuracy: 1.0000\n",
      "Epoch 10/20\n",
      "64/64 [==============================] - 13s 209ms/step - loss: 7.7353e-06 - accuracy: 1.0000 - val_loss: 4.7329e-05 - val_accuracy: 1.0000\n",
      "Epoch 11/20\n",
      "64/64 [==============================] - 12s 193ms/step - loss: 6.9624e-06 - accuracy: 1.0000 - val_loss: 4.3551e-05 - val_accuracy: 1.0000\n",
      "Epoch 12/20\n",
      "64/64 [==============================] - 12s 187ms/step - loss: 6.2481e-06 - accuracy: 1.0000 - val_loss: 4.0471e-05 - val_accuracy: 1.0000\n",
      "Epoch 13/20\n",
      "64/64 [==============================] - 12s 181ms/step - loss: 5.7463e-06 - accuracy: 1.0000 - val_loss: 3.7587e-05 - val_accuracy: 1.0000\n",
      "Epoch 14/20\n",
      "64/64 [==============================] - 12s 195ms/step - loss: 5.2252e-06 - accuracy: 1.0000 - val_loss: 3.4944e-05 - val_accuracy: 1.0000\n",
      "Epoch 15/20\n",
      "64/64 [==============================] - 12s 194ms/step - loss: 4.8424e-06 - accuracy: 1.0000 - val_loss: 3.2696e-05 - val_accuracy: 1.0000\n",
      "Epoch 16/20\n",
      "64/64 [==============================] - 12s 188ms/step - loss: 4.5009e-06 - accuracy: 1.0000 - val_loss: 3.0625e-05 - val_accuracy: 1.0000\n",
      "Epoch 17/20\n",
      "64/64 [==============================] - 12s 180ms/step - loss: 4.1164e-06 - accuracy: 1.0000 - val_loss: 2.8661e-05 - val_accuracy: 1.0000\n",
      "Epoch 18/20\n",
      "64/64 [==============================] - 12s 194ms/step - loss: 3.8066e-06 - accuracy: 1.0000 - val_loss: 2.6952e-05 - val_accuracy: 1.0000\n",
      "Epoch 19/20\n",
      "64/64 [==============================] - 12s 195ms/step - loss: 3.5411e-06 - accuracy: 1.0000 - val_loss: 2.5408e-05 - val_accuracy: 1.0000\n",
      "Epoch 20/20\n",
      "64/64 [==============================] - 12s 194ms/step - loss: 3.3008e-06 - accuracy: 1.0000 - val_loss: 2.3891e-05 - val_accuracy: 1.0000\n",
      "1/1 [==============================] - 0s 219ms/step - loss: 2.0173 - accuracy: 0.7000\n"
     ]
    },
    {
     "data": {
      "text/plain": [
       "0.699999988079071"
      ]
     },
     "metadata": {},
     "output_type": "display_data"
    }
   ],
   "source": [
    "#Multi-class Classification with Keras\n",
    " \n",
    "n_timesteps, n_features, n_outputs = X_tn_p.shape[1], X_tn_p.shape[2], y_tn_p.shape[1]\n",
    "\n",
    "#Define Sequential Model - 1 Convolution Layer, 1 Dropout Layer, 1 Flatten Layer, 2 Dense Layers\n",
    "model = Sequential()\n",
    "model.add(Conv1D(filters = 64, kernel_size = 3, activation='relu', input_shape=(n_timesteps,n_features)))\n",
    "model.add(Conv1D(filters = 64, kernel_size = 3, activation='relu'))\n",
    "model.add(Dropout(0.5))\n",
    "model.add(MaxPooling1D(pool_size=2))\n",
    "model.add(Flatten())\n",
    "model.add(Dense(100, activation='relu'))\n",
    "model.add(Dense(n_outputs, activation='softmax'))\n",
    "model.compile(loss='categorical_crossentropy', optimizer='adam', metrics=['accuracy'])\n",
    "\n",
    "#Implement EarlyStopping\n",
    "stopper = tf.keras.callbacks.EarlyStopping(monitor = \"val_loss\",patience = 2,verbose = 0, restore_best_weights = True)\n",
    "\n",
    "#Fit Model\n",
    "model.fit(X_tnT, y_tnT, epochs=epochs, batch_size=batch_size, verbose=verbose,  validation_split=0.2, callbacks = stopper)\n",
    "\n",
    "#Evaluate Model\n",
    "_, FTaccuracy = model.evaluate(X_ttT, y_ttT, batch_size=batch_size, verbose=verbose)\n",
    "display(FTaccuracy)"
   ]
  },
  {
   "cell_type": "code",
   "execution_count": 11,
   "id": "54173aea",
   "metadata": {},
   "outputs": [],
   "source": [
    "#Make Prediction\n",
    "FTypred = model.predict(X_ttT)\n",
    "FTypred = tf.argmax(input = FTypred, axis = 1).numpy()\n",
    "FTypred = encoder.inverse_transform(FTypred)"
   ]
  },
  {
   "cell_type": "code",
   "execution_count": 12,
   "id": "f0580f92",
   "metadata": {},
   "outputs": [
    {
     "name": "stdout",
     "output_type": "stream",
     "text": [
      "Model: \"model_1\"\n",
      "_________________________________________________________________\n",
      "Layer (type)                 Output Shape              Param #   \n",
      "=================================================================\n",
      "conv1d_2_input (InputLayer)  [(None, 1802, 1)]         0         \n",
      "_________________________________________________________________\n",
      "conv1d_2 (Conv1D)            (None, 1800, 64)          256       \n",
      "=================================================================\n",
      "Total params: 256\n",
      "Trainable params: 256\n",
      "Non-trainable params: 0\n",
      "_________________________________________________________________\n"
     ]
    },
    {
     "data": {
      "text/plain": [
       "array([[[0.00432359, 0.00999665, 0.        , ..., 0.        ,\n",
       "         0.00217667, 0.        ],\n",
       "        [0.10192636, 0.        , 0.0446818 , ..., 0.03159243,\n",
       "         0.        , 0.08046811],\n",
       "        [0.10707226, 0.00042563, 0.        , ..., 0.        ,\n",
       "         0.        , 0.03258917],\n",
       "        ...,\n",
       "        [0.01382804, 0.02131067, 0.        , ..., 0.        ,\n",
       "         0.06521392, 0.        ],\n",
       "        [0.02117103, 0.        , 0.06711815, ..., 0.06715973,\n",
       "         0.        , 0.07073778],\n",
       "        [0.        , 0.01737477, 0.        , ..., 0.        ,\n",
       "         0.03701113, 0.        ]]], dtype=float32)"
      ]
     },
     "metadata": {},
     "output_type": "display_data"
    }
   ],
   "source": [
    "convlayer = tf.keras.Model(inputs=model.inputs, outputs=model.layers[0].output)\n",
    "convlayer.summary()\n",
    "\n",
    "spectra = X_ttT[n, :, 0]\n",
    "specvec.append(spectra)\n",
    "spectra = tf.reshape(spectra, (1, len(spectra), 1))\n",
    "\n",
    "FTfeature_maps = convlayer.predict(spectra)\n",
    "display(FTfeature_maps)"
   ]
  },
  {
   "cell_type": "code",
   "execution_count": 19,
   "id": "756a0320",
   "metadata": {},
   "outputs": [
    {
     "data": {
      "text/plain": [
       "TensorShape([4000, 1024, 1])"
      ]
     },
     "metadata": {},
     "output_type": "display_data"
    },
    {
     "data": {
      "text/plain": [
       "TensorShape([4000, 6])"
      ]
     },
     "metadata": {},
     "output_type": "display_data"
    },
    {
     "data": {
      "text/plain": [
       "TensorShape([10, 1024, 1])"
      ]
     },
     "metadata": {},
     "output_type": "display_data"
    },
    {
     "data": {
      "text/plain": [
       "TensorShape([10, 6])"
      ]
     },
     "metadata": {},
     "output_type": "display_data"
    }
   ],
   "source": [
    "#Apply Welsh-Hadamard Transform to Training and Testing Data\n",
    "from sympy.discrete.transforms import fwht, ifwht\n",
    "\n",
    "\n",
    "#Scale X-Data with Training Xs\n",
    "scaler = StandardScaler()\n",
    "scaler.fit(X_tnAu)\n",
    "X_tnS = scaler.transform(X_tnAu)\n",
    "X_ttS = scaler.transform(X_tt)\n",
    "\n",
    "\n",
    "X_tnh = np.apply_along_axis(fwht, axis=1, arr=X_tnS)\n",
    "X_tth = np.apply_along_axis(fwht, axis=1, arr=X_ttS)\n",
    "X_tnh = X_tnh.astype('float32')\n",
    "X_tth = X_tth.astype('float32')\n",
    "\n",
    "#Encode y-Data with Training ys\n",
    "encoder = LabelEncoder()\n",
    "encoder.fit(y_tnAu)\n",
    "y_tn_e = encoder.transform(y_tnAu)\n",
    "y_tn_p = np_utils.to_categorical(y_tn_e, num_classes = len(labels))\n",
    "y_tt_e = encoder.transform(y_tt)\n",
    "y_tt_p = np_utils.to_categorical(y_tt_e, num_classes = len(labels))\n",
    "\n",
    "#Reshape All Data to a 3D Tensor of Shape [Number of Spectra, Number of Timesteps(1), Number of Wavelengths]\n",
    "X_tn_p = X_tnh.reshape(X_tnh.shape[0], X_tnh.shape[1], 1)\n",
    "X_tt_p = X_tth.reshape(X_tth.shape[0], X_tth.shape[1], 1)\n",
    "\n",
    "y_tnT = tf.convert_to_tensor(y_tn_p)\n",
    "y_ttT = tf.convert_to_tensor(y_tt_p)\n",
    "X_tnT = tf.convert_to_tensor(X_tn_p)\n",
    "X_ttT = tf.convert_to_tensor(X_tt_p)\n",
    "\n",
    "\n",
    "display(X_tnT.shape)\n",
    "display(y_tnT.shape)\n",
    "display(X_ttT.shape)\n",
    "display(y_ttT.shape)"
   ]
  },
  {
   "cell_type": "code",
   "execution_count": 20,
   "id": "b4e029d8",
   "metadata": {},
   "outputs": [
    {
     "name": "stdout",
     "output_type": "stream",
     "text": [
      "Epoch 1/20\n",
      "64/64 [==============================] - 8s 115ms/step - loss: 0.5402 - accuracy: 0.9112 - val_loss: 0.0028 - val_accuracy: 1.0000\n",
      "Epoch 2/20\n",
      "64/64 [==============================] - 8s 119ms/step - loss: 9.8616e-04 - accuracy: 1.0000 - val_loss: 5.6226e-04 - val_accuracy: 1.0000\n",
      "Epoch 3/20\n",
      "64/64 [==============================] - 7s 108ms/step - loss: 2.5673e-04 - accuracy: 1.0000 - val_loss: 2.2449e-04 - val_accuracy: 1.0000\n",
      "Epoch 4/20\n",
      "64/64 [==============================] - 8s 121ms/step - loss: 1.1661e-04 - accuracy: 1.0000 - val_loss: 1.0412e-04 - val_accuracy: 1.0000\n",
      "Epoch 5/20\n",
      "64/64 [==============================] - 7s 105ms/step - loss: 6.9004e-05 - accuracy: 1.0000 - val_loss: 6.9787e-05 - val_accuracy: 1.0000\n",
      "Epoch 6/20\n",
      "64/64 [==============================] - 8s 124ms/step - loss: 4.4555e-05 - accuracy: 1.0000 - val_loss: 4.7383e-05 - val_accuracy: 1.0000\n",
      "Epoch 7/20\n",
      "64/64 [==============================] - 7s 103ms/step - loss: 3.2500e-05 - accuracy: 1.0000 - val_loss: 3.0059e-05 - val_accuracy: 1.0000\n",
      "Epoch 8/20\n",
      "64/64 [==============================] - 8s 119ms/step - loss: 2.2199e-05 - accuracy: 1.0000 - val_loss: 2.0324e-05 - val_accuracy: 1.0000\n",
      "Epoch 9/20\n",
      "64/64 [==============================] - 7s 108ms/step - loss: 1.7981e-05 - accuracy: 1.0000 - val_loss: 1.3996e-05 - val_accuracy: 1.0000\n",
      "Epoch 10/20\n",
      "64/64 [==============================] - 7s 112ms/step - loss: 1.1761e-05 - accuracy: 1.0000 - val_loss: 1.1140e-05 - val_accuracy: 1.0000\n",
      "Epoch 11/20\n",
      "64/64 [==============================] - 7s 108ms/step - loss: 1.0146e-05 - accuracy: 1.0000 - val_loss: 8.5186e-06 - val_accuracy: 1.0000\n",
      "Epoch 12/20\n",
      "64/64 [==============================] - 8s 121ms/step - loss: 7.4245e-06 - accuracy: 1.0000 - val_loss: 7.0306e-06 - val_accuracy: 1.0000\n",
      "Epoch 13/20\n",
      "64/64 [==============================] - 7s 113ms/step - loss: 6.9132e-06 - accuracy: 1.0000 - val_loss: 5.6519e-06 - val_accuracy: 1.0000\n",
      "Epoch 14/20\n",
      "64/64 [==============================] - 7s 110ms/step - loss: 5.8121e-06 - accuracy: 1.0000 - val_loss: 4.4913e-06 - val_accuracy: 1.0000\n",
      "Epoch 15/20\n",
      "64/64 [==============================] - 7s 115ms/step - loss: 5.0825e-06 - accuracy: 1.0000 - val_loss: 3.8525e-06 - val_accuracy: 1.0000\n",
      "Epoch 16/20\n",
      "64/64 [==============================] - 6s 97ms/step - loss: 4.3957e-06 - accuracy: 1.0000 - val_loss: 3.3007e-06 - val_accuracy: 1.0000\n",
      "Epoch 17/20\n",
      "64/64 [==============================] - 7s 113ms/step - loss: 4.1928e-06 - accuracy: 1.0000 - val_loss: 3.1887e-06 - val_accuracy: 1.0000\n",
      "Epoch 18/20\n",
      "64/64 [==============================] - 7s 101ms/step - loss: 3.0144e-06 - accuracy: 1.0000 - val_loss: 2.6145e-06 - val_accuracy: 1.0000\n",
      "Epoch 19/20\n",
      "64/64 [==============================] - 7s 105ms/step - loss: 2.8376e-06 - accuracy: 1.0000 - val_loss: 2.3325e-06 - val_accuracy: 1.0000\n",
      "Epoch 20/20\n",
      "64/64 [==============================] - 7s 108ms/step - loss: 2.1948e-06 - accuracy: 1.0000 - val_loss: 2.0192e-06 - val_accuracy: 1.0000\n",
      "1/1 [==============================] - 0s 203ms/step - loss: 1.4611 - accuracy: 0.8000\n"
     ]
    },
    {
     "data": {
      "text/plain": [
       "0.800000011920929"
      ]
     },
     "metadata": {},
     "output_type": "display_data"
    }
   ],
   "source": [
    "#Multi-class Classification with Keras\n",
    " \n",
    "n_timesteps, n_features, n_outputs = X_tn_p.shape[1], X_tn_p.shape[2], y_tn_p.shape[1]\n",
    "\n",
    "#Define Sequential Model - 1 Convolution Layer, 1 Dropout Layer, 1 Flatten Layer, 2 Dense Layers\n",
    "model = Sequential()\n",
    "model.add(Conv1D(filters = 64, kernel_size = 3, activation='relu', input_shape=(n_timesteps,n_features)))\n",
    "model.add(Conv1D(filters = 64, kernel_size = 3, activation='relu'))\n",
    "model.add(Dropout(0.5))\n",
    "model.add(MaxPooling1D(pool_size=2))\n",
    "model.add(Flatten())\n",
    "model.add(Dense(100, activation='relu'))\n",
    "model.add(Dense(n_outputs, activation='softmax'))\n",
    "model.compile(loss='categorical_crossentropy', optimizer='adam', metrics=['accuracy'])\n",
    "\n",
    "#Implement EarlyStopping\n",
    "stopper = tf.keras.callbacks.EarlyStopping(monitor = \"val_loss\", mode = 'min',\\\n",
    "                                           patience = 2, verbose = 1, restore_best_weights = True)\n",
    "\n",
    "#Fit Model\n",
    "model.fit(X_tnT, y_tnT, epochs=epochs, batch_size=batch_size, verbose=verbose,  validation_split=0.2, callbacks = stopper)\n",
    "\n",
    "#Evaluate Model\n",
    "_, HTaccuracy = model.evaluate(X_ttT, y_ttT, batch_size=batch_size, verbose=verbose)\n",
    "display(HTaccuracy)"
   ]
  },
  {
   "cell_type": "code",
   "execution_count": 15,
   "id": "5d0d1b2b",
   "metadata": {},
   "outputs": [
    {
     "name": "stdout",
     "output_type": "stream",
     "text": [
      "WARNING:tensorflow:5 out of the last 5 calls to <function Model.make_predict_function.<locals>.predict_function at 0x0000022C784F0D30> triggered tf.function retracing. Tracing is expensive and the excessive number of tracings could be due to (1) creating @tf.function repeatedly in a loop, (2) passing tensors with different shapes, (3) passing Python objects instead of tensors. For (1), please define your @tf.function outside of the loop. For (2), @tf.function has experimental_relax_shapes=True option that relaxes argument shapes that can avoid unnecessary retracing. For (3), please refer to https://www.tensorflow.org/guide/function#controlling_retracing and https://www.tensorflow.org/api_docs/python/tf/function for  more details.\n"
     ]
    }
   ],
   "source": [
    "#Make Prediction\n",
    "HTypred = model.predict(X_ttT)\n",
    "HTypred = tf.argmax(input = HTypred, axis = 1).numpy()\n",
    "HTypred = encoder.inverse_transform(HTypred)"
   ]
  },
  {
   "cell_type": "code",
   "execution_count": 16,
   "id": "d13ca327",
   "metadata": {},
   "outputs": [
    {
     "name": "stdout",
     "output_type": "stream",
     "text": [
      "Model: \"model_2\"\n",
      "_________________________________________________________________\n",
      "Layer (type)                 Output Shape              Param #   \n",
      "=================================================================\n",
      "conv1d_4_input (InputLayer)  [(None, 1024, 1)]         0         \n",
      "_________________________________________________________________\n",
      "conv1d_4 (Conv1D)            (None, 1022, 64)          256       \n",
      "=================================================================\n",
      "Total params: 256\n",
      "Trainable params: 256\n",
      "Non-trainable params: 0\n",
      "_________________________________________________________________\n",
      "WARNING:tensorflow:6 out of the last 6 calls to <function Model.make_predict_function.<locals>.predict_function at 0x0000022C582F98B0> triggered tf.function retracing. Tracing is expensive and the excessive number of tracings could be due to (1) creating @tf.function repeatedly in a loop, (2) passing tensors with different shapes, (3) passing Python objects instead of tensors. For (1), please define your @tf.function outside of the loop. For (2), @tf.function has experimental_relax_shapes=True option that relaxes argument shapes that can avoid unnecessary retracing. For (3), please refer to https://www.tensorflow.org/guide/function#controlling_retracing and https://www.tensorflow.org/api_docs/python/tf/function for  more details.\n"
     ]
    },
    {
     "data": {
      "text/plain": [
       "array([[[0.        , 0.03158442, 0.04488267, ..., 0.        ,\n",
       "         0.        , 0.        ],\n",
       "        [0.05286448, 0.01252164, 0.03668941, ..., 0.04566078,\n",
       "         0.05826485, 0.        ],\n",
       "        [0.13582982, 0.        , 0.0902283 , ..., 0.02863683,\n",
       "         0.        , 0.        ],\n",
       "        ...,\n",
       "        [0.        , 0.04996235, 0.        , ..., 0.        ,\n",
       "         0.03777586, 0.08307768],\n",
       "        [0.        , 0.06922037, 0.        , ..., 0.        ,\n",
       "         0.07246171, 0.09355597],\n",
       "        [0.        , 0.0452762 , 0.        , ..., 0.        ,\n",
       "         0.03488472, 0.10805305]]], dtype=float32)"
      ]
     },
     "metadata": {},
     "output_type": "display_data"
    }
   ],
   "source": [
    "convlayer = tf.keras.Model(inputs=model.inputs, outputs=model.layers[0].output)\n",
    "convlayer.summary()\n",
    "\n",
    "spectra = X_ttT[n, :, 0]\n",
    "specvec.append(spectra)\n",
    "spectra = tf.reshape(spectra, (1, len(spectra), 1))\n",
    "\n",
    "HTfeature_maps = convlayer.predict(spectra)\n",
    "display(HTfeature_maps)"
   ]
  },
  {
   "cell_type": "code",
   "execution_count": 21,
   "id": "0107edb5",
   "metadata": {},
   "outputs": [
    {
     "data": {
      "text/plain": [
       "array(['10-5', '10-5', '10-5', '10-5', '10-4', '10-3', '10-8', '10-4',\n",
       "       '10-3', '10-9'], dtype=object)"
      ]
     },
     "metadata": {},
     "output_type": "display_data"
    },
    {
     "data": {
      "text/plain": [
       "0.800000011920929"
      ]
     },
     "metadata": {},
     "output_type": "display_data"
    },
    {
     "data": {
      "text/plain": [
       "0.699999988079071"
      ]
     },
     "metadata": {},
     "output_type": "display_data"
    },
    {
     "data": {
      "text/plain": [
       "0.800000011920929"
      ]
     },
     "metadata": {},
     "output_type": "display_data"
    }
   ],
   "source": [
    "from sklearn.metrics import confusion_matrix\n",
    "display(SCypred)\n",
    "CMSC = confusion_matrix(ytruth, SCypred, labels = labels)\n",
    "CMFT = confusion_matrix(ytruth, FTypred, labels = labels)\n",
    "CMHT = confusion_matrix(ytruth, HTypred, labels = labels)\n",
    "display(SCaccuracy, FTaccuracy, HTaccuracy)"
   ]
  },
  {
   "cell_type": "code",
   "execution_count": 22,
   "id": "79c1b1a0",
   "metadata": {},
   "outputs": [
    {
     "data": {
      "image/png": "[encoded data removed]",
      "text/plain": [
       "<Figure size 1500x500 with 4 Axes>"
      ]
     },
     "metadata": {},
     "output_type": "display_data"
    }
   ],
   "source": [
    "fig, axs = plt.subplots(1, 3, sharey = True, figsize = [15, 5])\n",
    "\n",
    "plt.rcParams['xtick.bottom'] = plt.rcParams['xtick.labelbottom'] = False\n",
    "plt.rcParams['xtick.top'] = plt.rcParams['xtick.labeltop'] = True\n",
    "\n",
    "pcm = axs[0].pcolor(CMSC, edgecolors = 'k', cmap = 'gist_heat_r')\n",
    "plt.gca().invert_yaxis()\n",
    "axs[0].set_xticks(ticks = np.linspace(0.5, len(labels)-0.5, num = len(labels)), labels = labels)\n",
    "axs[0].set_yticks(ticks = np.linspace(0.5, len(labels)-0.5, num = len(labels)), labels = labels)\n",
    "axs[0].set_ylabel(\"Actual Condition\")\n",
    "axs[0].set_xlabel(\"Predicted Condition\")\n",
    "axs[0].xaxis.set_label_position('top') \n",
    "axs[0].set_title('Raw Data');\n",
    "\n",
    "axs[1].pcolor(CMFT, edgecolors = 'k', cmap = 'gist_heat_r');\n",
    "plt.gca().invert_yaxis()\n",
    "axs[1].set_xticks(ticks = np.linspace(0.5, len(labels)-0.5, num = len(labels)), labels = labels)\n",
    "axs[1].set_title('Fourier Transform');\n",
    "axs[1].set_xlabel(\"Predicted Condition\")\n",
    "axs[1].xaxis.set_label_position('top')\n",
    "\n",
    "axs[2].pcolor(CMHT, edgecolors = 'k', cmap = 'gist_heat_r')\n",
    "plt.gca().invert_yaxis()\n",
    "axs[2].set_xticks(ticks = np.linspace(0.5, len(labels)-0.5, num = len(labels)), labels = labels);\n",
    "axs[2].set_title('Walsh Hadamard Transform');\n",
    "axs[2].set_xlabel(\"Predicted Condition\")\n",
    "axs[2].xaxis.set_label_position('top')\n",
    "\n",
    "fig.colorbar(pcm, ax = axs[:], location = 'bottom', label = 'Number of Assignments');"
   ]
  },
  {
   "cell_type": "code",
   "execution_count": null,
   "id": "d8d30a8d",
   "metadata": {},
   "outputs": [],
   "source": []
  }
 ],
 "metadata": {
  "kernelspec": {
   "display_name": "Python 3 (ipykernel)",
   "language": "python",
   "name": "python3"
  },
  "language_info": {
   "codemirror_mode": {
    "name": "ipython",
    "version": 3
   },
   "file_extension": ".py",
   "mimetype": "text/x-python",
   "name": "python",
   "nbconvert_exporter": "python",
   "pygments_lexer": "ipython3",
   "version": "3.9.12"
  }
 },
 "nbformat": 4,
 "nbformat_minor": 5
}
